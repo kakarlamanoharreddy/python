{
 "cells": [
  {
   "cell_type": "code",
   "execution_count": 2,
   "id": "9b036fe5",
   "metadata": {},
   "outputs": [
    {
     "name": "stdout",
     "output_type": "stream",
     "text": [
      "The \"Python Notes\" by 'Durga' is very good\n",
      "The \"Python Notes\" by 'Durga' is very good\n"
     ]
    }
   ],
   "source": [
    "print(\"\"\"The \"Python Notes\" by 'Durga' is very good\"\"\")\n",
    "print('''The \"Python Notes\" by 'Durga' is very good''')"
   ]
  },
  {
   "cell_type": "code",
   "execution_count": null,
   "id": "558775c6",
   "metadata": {},
   "outputs": [],
   "source": []
  },
  {
   "cell_type": "code",
   "execution_count": null,
   "id": "714b8f3a",
   "metadata": {},
   "outputs": [],
   "source": [
    "#How to access characters of the string\n",
    "#1) By using Index\n",
    "#2) By using Slice Operator\n"
   ]
  },
  {
   "cell_type": "code",
   "execution_count": null,
   "id": "75e3b350",
   "metadata": {},
   "outputs": [],
   "source": []
  },
  {
   "cell_type": "code",
   "execution_count": 5,
   "id": "39de330b",
   "metadata": {},
   "outputs": [
    {
     "name": "stdout",
     "output_type": "stream",
     "text": [
      "Enter a some string:Manu\n",
      "The character present at +ve value is 0 and at -ve index is -4 is M\n",
      "The character present at +ve value is 1 and at -ve index is -3 is a\n",
      "The character present at +ve value is 2 and at -ve index is -2 is n\n",
      "The character present at +ve value is 3 and at -ve index is -1 is u\n"
     ]
    }
   ],
   "source": [
    "#WAP to display characters of given string index wise(Bith positive and negative)\n",
    "s=input('Enter a some string:')\n",
    "i=0\n",
    "for x in s:\n",
    "    print('The character present at +ve value is {} and at -ve index is {} is {}'.format(i,i-len(s),x))\n",
    "    i=i+1"
   ]
  }
 ],
 "metadata": {
  "kernelspec": {
   "display_name": "Python 3 (ipykernel)",
   "language": "python",
   "name": "python3"
  },
  "language_info": {
   "codemirror_mode": {
    "name": "ipython",
    "version": 3
   },
   "file_extension": ".py",
   "mimetype": "text/x-python",
   "name": "python",
   "nbconvert_exporter": "python",
   "pygments_lexer": "ipython3",
   "version": "3.11.5"
  }
 },
 "nbformat": 4,
 "nbformat_minor": 5
}
