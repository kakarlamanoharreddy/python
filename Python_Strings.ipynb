{
 "cells": [
  {
   "cell_type": "code",
   "execution_count": 2,
   "id": "4c37997a",
   "metadata": {},
   "outputs": [
    {
     "name": "stdout",
     "output_type": "stream",
     "text": [
      "The \"Python Notes\" by 'Durga' is very good\n",
      "The \"Python Notes\" by 'Durga' is very good\n"
     ]
    }
   ],
   "source": [
    "print(\"\"\"The \"Python Notes\" by 'Durga' is very good\"\"\")\n",
    "print('''The \"Python Notes\" by 'Durga' is very good''')"
   ]
  },
  {
   "cell_type": "code",
   "execution_count": null,
   "id": "03cd281a",
   "metadata": {},
   "outputs": [],
   "source": []
  },
  {
   "cell_type": "code",
   "execution_count": null,
   "id": "deab7759",
   "metadata": {},
   "outputs": [],
   "source": [
    "#How to access characters of the string\n",
    "#1) By using Index\n",
    "#2) By using Slice Operator\n"
   ]
  },
  {
   "cell_type": "code",
   "execution_count": null,
   "id": "eb8412fb",
   "metadata": {},
   "outputs": [],
   "source": []
  },
  {
   "cell_type": "code",
   "execution_count": 6,
   "id": "2055246a",
   "metadata": {},
   "outputs": [
    {
     "name": "stdout",
     "output_type": "stream",
     "text": [
      "Enter a some string:Manu\n",
      "The character present at +ve value is:0 and at -ve index is:-4 is: M\n",
      "The character present at +ve value is:1 and at -ve index is:-3 is: a\n",
      "The character present at +ve value is:2 and at -ve index is:-2 is: n\n",
      "The character present at +ve value is:3 and at -ve index is:-1 is: u\n"
     ]
    }
   ],
   "source": [
    "#WAP to display characters of given string index wise(Bith positive and negative)\n",
    "s=input('Enter a some string:')\n",
    "i=0\n",
    "for x in s:\n",
    "    print('The character present at +ve value is:{} and at -ve index is:{} is: {}'.format(i,i-len(s),x))\n",
    "    i=i+1"
   ]
  },
  {
   "cell_type": "code",
   "execution_count": null,
   "id": "4f75ca98",
   "metadata": {},
   "outputs": [],
   "source": []
  },
  {
   "cell_type": "code",
   "execution_count": 10,
   "id": "c62e3e1f",
   "metadata": {},
   "outputs": [
    {
     "name": "stdout",
     "output_type": "stream",
     "text": [
      "cdefg\n",
      "abcdefg\n",
      "cdefghijk\n",
      "abcdefghijk\n"
     ]
    }
   ],
   "source": [
    "#2) By using Slice Operator\n",
    "s='abcdefghijk'\n",
    "print(s[2:7])\n",
    "print(s[:7])\n",
    "print(s[2:])\n",
    "print(s[:])"
   ]
  },
  {
   "cell_type": "code",
   "execution_count": 15,
   "id": "fea53742",
   "metadata": {},
   "outputs": [
    {
     "name": "stdout",
     "output_type": "stream",
     "text": [
      "cdefg\n",
      "ceg\n",
      "cf\n",
      "acegik\n",
      "adgj\n"
     ]
    }
   ],
   "source": [
    "#slice operator using step operator\n",
    "#syntax    s[begin:end:step]  --Default step value is 1 \n",
    "s='abcdefghijk'\n",
    "print(s[2:7:1])  #cdefg\n",
    "print(s[2:7:2])  #ceg\n",
    "print(s[2:7:3])  #cf\n",
    "print(s[::2])  #acegik\n",
    "print(s[::3])  #adgj"
   ]
  },
  {
   "cell_type": "code",
   "execution_count": null,
   "id": "3e8d7ae9",
   "metadata": {},
   "outputs": [],
   "source": []
  },
  {
   "cell_type": "code",
   "execution_count": 18,
   "id": "741c5ea8",
   "metadata": {},
   "outputs": [
    {
     "data": {
      "text/plain": [
       "True"
      ]
     },
     "execution_count": 18,
     "metadata": {},
     "output_type": "execute_result"
    }
   ],
   "source": [
    "#Membership operators\n",
    "#in and not in\n",
    "'M' in 'Mano'\n",
    "'M' in 'Abhi'\n",
    "'M' not in 'Abhi'"
   ]
  },
  {
   "cell_type": "code",
   "execution_count": 21,
   "id": "8e21427f",
   "metadata": {},
   "outputs": [
    {
     "name": "stdout",
     "output_type": "stream",
     "text": [
      "Enter main string:Abhi\n",
      "Enter a substring:Mano\n",
      "substring not present in main string\n"
     ]
    }
   ],
   "source": [
    "s=input('Enter main string:')\n",
    "subs=input('Enter a substring:')\n",
    "if subs in s:\n",
    "    print('substring present in main string')\n",
    "else:\n",
    "    print('substring not present in main string')"
   ]
  },
  {
   "cell_type": "code",
   "execution_count": 25,
   "id": "78f25890",
   "metadata": {},
   "outputs": [
    {
     "name": "stdout",
     "output_type": "stream",
     "text": [
      "65\n"
     ]
    },
    {
     "data": {
      "text/plain": [
       "True"
      ]
     },
     "execution_count": 25,
     "metadata": {},
     "output_type": "execute_result"
    }
   ],
   "source": [
    "#Comparsion Operators\n",
    "#<,>,<=,>=,==,!=\n",
    "print(ord('A'))\n",
    "'Manohar'<'Abhi'\n",
    "'ramba'<'ramya'"
   ]
  },
  {
   "cell_type": "code",
   "execution_count": 28,
   "id": "4c6c9390",
   "metadata": {},
   "outputs": [
    {
     "name": "stdout",
     "output_type": "stream",
     "text": [
      "Enter first string:Mano\n",
      "Enter second string:Abhi\n",
      "First string is greater than second string\n"
     ]
    }
   ],
   "source": [
    "s1=input('Enter first string:')\n",
    "s2=input('Enter second string:')\n",
    "if s1==s2:\n",
    "    print('Both are same')\n",
    "elif s1<s2:\n",
    "        print('First string is lessthan second string')\n",
    "else:\n",
    "    print('First string is greater than second string')"
   ]
  },
  {
   "cell_type": "code",
   "execution_count": 34,
   "id": "c1673cbe",
   "metadata": {},
   "outputs": [
    {
     "name": "stdout",
     "output_type": "stream",
     "text": [
      "Enter your city name:  Hyderabad\n",
      "Your entered city is invalid!\n"
     ]
    }
   ],
   "source": [
    "#Removing spaces from the string\n",
    "city=input('Enter your city name:')\n",
    "if city=='Hyderabad':\n",
    "    print('Hello Hyderabadi Aadab!!!')\n",
    "elif city=='Chennai':\n",
    "    print('Hello Madarsi vanakam!!!')\n",
    "elif city=='Bangalore':\n",
    "    print('Hello Kananida Namaskara!!!')\n",
    "else:\n",
    "    print('Your entered city is invalid!')"
   ]
  },
  {
   "cell_type": "code",
   "execution_count": 42,
   "id": "89145509",
   "metadata": {},
   "outputs": [
    {
     "name": "stdout",
     "output_type": "stream",
     "text": [
      "Enter your city name:    Chennai                              \n",
      "Hello Madarsi vanakam!!!\n"
     ]
    }
   ],
   "source": [
    "#To remove spaces from the string we have 3 methods\n",
    "#strip(), lstrip(), rstrip()\n",
    "#Removing spaces from the string\n",
    "city=input('Enter your city name:')\n",
    "scity=city.strip()                    #VIMP strip() we are using to remove spaces \n",
    "if scity=='Hyderabad':\n",
    "    print('Hello Hyderabadi Aadab!!!')\n",
    "elif scity=='Chennai':\n",
    "    print('Hello Madarsi vanakam!!!')\n",
    "elif scity=='Bangalore':\n",
    "    print('Hello Kananida Namaskara!!!')\n",
    "else:\n",
    "    print('Your entered city is invalid!')\n",
    "    \n",
    "          #(OR)\n",
    "city=input('Enter your city name:').strip()\n",
    "if city=='Hyderabad':\n",
    "    print('Hello Hyderabadi Aadab!!!')\n",
    "elif city=='Chennai':\n",
    "    print('Hello Madarsi vanakam!!!')\n",
    "elif city=='Bangalore':\n",
    "    print('Hello Kananida Namaskara!!!')\n",
    "else:\n",
    "    print('Your entered city is invalid!')"
   ]
  },
  {
   "cell_type": "code",
   "execution_count": null,
   "id": "ac0c0f67",
   "metadata": {},
   "outputs": [],
   "source": []
  },
  {
   "cell_type": "code",
   "execution_count": 49,
   "id": "514a4041",
   "metadata": {},
   "outputs": [
    {
     "name": "stdout",
     "output_type": "stream",
     "text": [
      "1\n",
      "-1\n",
      "8\n",
      "6\n",
      "6\n",
      "3\n",
      "-1\n"
     ]
    }
   ],
   "source": [
    "#Finding substring\n",
    "#find(), rfind(), index(), rindex()\n",
    "\n",
    "#find()\n",
    "s='ABCDAB'\n",
    "print(s.find('B'))  #first index position it will display\n",
    "print(s.find('Z'))  #if character or string is not available simply it will display '-1'\n",
    "\n",
    "\n",
    "s='ABCDEFBFHIJL'\n",
    "print(s.find('H'))\n",
    "print(s.find('B',3,10))\n",
    "print(s.rfind('B',3,10))\n",
    "\n",
    "\n",
    "#rfind() right to left reverse of find\n",
    "s='ABCBA'\n",
    "print(s.rfind('B'))  \n",
    "print(s.rfind('z'))   #if character or string is not available simply it will display '-1'"
   ]
  },
  {
   "cell_type": "code",
   "execution_count": 55,
   "id": "0c0e1834",
   "metadata": {},
   "outputs": [
    {
     "name": "stdout",
     "output_type": "stream",
     "text": [
      "1\n",
      "3\n"
     ]
    }
   ],
   "source": [
    "#index()\n",
    "s='ABCBE'\n",
    "print(s.index('B'))\n",
    "#print(s.index('Z'))  #Error\n",
    "\n",
    "print(s.rindex('B'))\n",
    "#print(s.index('Z'))  #Error"
   ]
  },
  {
   "cell_type": "code",
   "execution_count": 56,
   "id": "be5c7604",
   "metadata": {},
   "outputs": [
    {
     "name": "stdout",
     "output_type": "stream",
     "text": [
      "Enter your mailid:Manoh@gmail\n",
      "Its valid mail id\n"
     ]
    }
   ],
   "source": [
    "#\n",
    "mail=input('Enter your mailid:')\n",
    "if mail.index('@'):\n",
    "    print('Its valid mail id')\n",
    "else:\n",
    "    print('Invalid')"
   ]
  },
  {
   "cell_type": "code",
   "execution_count": 58,
   "id": "e8381535",
   "metadata": {},
   "outputs": [
    {
     "name": "stdout",
     "output_type": "stream",
     "text": [
      "Enter your mailid:mano.gmail.com\n",
      "Mail id does not contain @ symbol, which is mandatory\n"
     ]
    }
   ],
   "source": [
    "#\n",
    "mail=input('Enter your mailid:')\n",
    "try:\n",
    "    i=mail.index('@')\n",
    "    print('Mail id contains @ symbol, which is mandatory')\n",
    "except ValueError:\n",
    "    print('Mail id does not contain @ symbol, which is mandatory')"
   ]
  },
  {
   "cell_type": "code",
   "execution_count": null,
   "id": "4649653e",
   "metadata": {},
   "outputs": [],
   "source": []
  },
  {
   "cell_type": "code",
   "execution_count": 73,
   "id": "fbd37d97",
   "metadata": {},
   "outputs": [
    {
     "name": "stdout",
     "output_type": "stream",
     "text": [
      "5\n",
      "2\n",
      "0\n",
      "1\n"
     ]
    }
   ],
   "source": [
    "#counting substring in the given string\n",
    "#count()\n",
    "s='ABBABBABA'\n",
    "print(s.count('B'))\n",
    "print(s.count('BB'))\n",
    "print(s.count('Z'))        # if not available string or character it will display 0\n",
    "\n",
    "#using range\n",
    "print(s.count('BB',2,100))"
   ]
  },
  {
   "cell_type": "code",
   "execution_count": null,
   "id": "44b09846",
   "metadata": {},
   "outputs": [],
   "source": [
    "#WAP to find index of all occurances\n",
    "# s='ABCABCABCA'\n",
    "# i=s.find('ABC')\n",
    "# print(i)\n",
    "# i=s.find('ABC',3,len(s))\n",
    "# print(i)\n",
    "# i=s.find('ABC',6,len(s))\n",
    "# print(i)\n",
    "# i=s.find('ABC',9,len(s))\n",
    "# print(i)\n",
    "\n",
    "#Method2\n",
    "s='ABCABCABCA'\n",
    "subs='ABC'\n",
    "i=s.find(subs)\n",
    "if i==-1:\n",
    "    print('Substring not found')\n",
    "while i !=-1:\n",
    "    print('{} Present at index:{}'.format(subs,i))\n",
    "    i=s.find(subs,i+len(subs),len(s))\n",
    "print('The no.of occurances',s.count(subs))"
   ]
  },
  {
   "cell_type": "code",
   "execution_count": 1,
   "id": "49ee59d4",
   "metadata": {},
   "outputs": [
    {
     "name": "stdout",
     "output_type": "stream",
     "text": [
      "Enter substring:AB\n",
      "AB Present at index:0\n",
      "AB Present at index:3\n",
      "AB Present at index:6\n",
      "The no.of occurances 3\n"
     ]
    }
   ],
   "source": [
    "#Method 3\n",
    "s='ABCABCABCA'\n",
    "subs=input('Enter substring:')\n",
    "i=s.find(subs)\n",
    "if i==-1:\n",
    "    print('Substring not found')\n",
    "c=0\n",
    "while i !=-1:\n",
    "    c=c+1\n",
    "    print('{} Present at index:{}'.format(subs,i))\n",
    "    i=s.find(subs,i+len(subs),len(s))\n",
    "print('The no.of occurances',c)"
   ]
  },
  {
   "cell_type": "code",
   "execution_count": null,
   "id": "956b48dc",
   "metadata": {},
   "outputs": [],
   "source": []
  },
  {
   "cell_type": "code",
   "execution_count": 9,
   "id": "be76356b",
   "metadata": {},
   "outputs": [
    {
     "name": "stdout",
     "output_type": "stream",
     "text": [
      "ABABABA\n",
      "BBBBBBB\n",
      "2644616960176\n",
      "2644616960688\n",
      "*****************\n",
      "ManoharReddy\n",
      "The length of spaces is: 2\n",
      "The length of spaces is: 2\n"
     ]
    }
   ],
   "source": [
    "#replacing a string with another string\n",
    "#s.replace(oldstring,newstring)\n",
    "s='ABABABA'\n",
    "s1=s.replace('A','B')\n",
    "print(s)\n",
    "print(s1)\n",
    "print(id(s))\n",
    "print(id(s1))\n",
    "print(\"*****************\")\n",
    "s=' Manohar Reddy'\n",
    "s1=s.replace(' ','')\n",
    "print(s1)\n",
    "print('The length of spaces is:',len(s)-len(s1))    #Finding spaces without count functions\n",
    "print('The length of spaces is:',s.count(' '))      #using count method to finding spaces"
   ]
  },
  {
   "cell_type": "code",
   "execution_count": 6,
   "id": "4c000253",
   "metadata": {},
   "outputs": [
    {
     "name": "stdout",
     "output_type": "stream",
     "text": [
      "Learning Python is Very Easy\n"
     ]
    }
   ],
   "source": [
    "s='Learning Python is Very Difficult'\n",
    "s1=s.replace('Difficult',\"Easy\")        #Case sensitive\n",
    "print(s1)"
   ]
  },
  {
   "cell_type": "code",
   "execution_count": null,
   "id": "4dfa4d01",
   "metadata": {},
   "outputs": [],
   "source": []
  },
  {
   "cell_type": "code",
   "execution_count": 10,
   "id": "92b4b4bc",
   "metadata": {},
   "outputs": [
    {
     "name": "stdout",
     "output_type": "stream",
     "text": [
      "Before replacement address of 2644616958832\n",
      "After replacement address of 2644616965744\n"
     ]
    }
   ],
   "source": [
    "s='ABABAB'\n",
    "print('Before replacement address of',id(s))\n",
    "s=s.replace('A','B')\n",
    "print('After replacement address of',id(s))"
   ]
  },
  {
   "cell_type": "code",
   "execution_count": null,
   "id": "c9121bdf",
   "metadata": {},
   "outputs": [],
   "source": []
  },
  {
   "cell_type": "code",
   "execution_count": 18,
   "id": "40f39198",
   "metadata": {},
   "outputs": [
    {
     "name": "stdout",
     "output_type": "stream",
     "text": [
      "['Manohar', 'Reddy', 'Kakarla']\n",
      "************\n",
      "Manohar\n",
      "Reddy\n",
      "Kakarla\n",
      "************\n",
      "05\n",
      "04\n",
      "2019\n"
     ]
    }
   ],
   "source": [
    "#Spltting of string\n",
    "s='Manohar Reddy Kakarla'\n",
    "l=s.split()\n",
    "print(l)\n",
    "print(\"************\")\n",
    "for x in l:\n",
    "    print(x)\n",
    "print(\"************\")    \n",
    "d='05-04-2019' \n",
    "l=d.split('-')        #Spliting with - operator\n",
    "for x in l:\n",
    "    print(x)"
   ]
  },
  {
   "cell_type": "code",
   "execution_count": null,
   "id": "5fa3af2f",
   "metadata": {},
   "outputs": [],
   "source": []
  },
  {
   "cell_type": "code",
   "execution_count": 31,
   "id": "dd592ca6",
   "metadata": {},
   "outputs": [
    {
     "name": "stdout",
     "output_type": "stream",
     "text": [
      "Manohar Reddy Kakarla\n",
      "ManoharReddyKakarla\n",
      "Manohar-Reddy-Kakarla\n",
      "Manohar:Reddy:Kakarla\n",
      "*******************\n",
      "05-04-2019\n",
      "05/04/2019\n"
     ]
    }
   ],
   "source": [
    "#Joining of strings\n",
    "l=['Manohar','Reddy','Kakarla']\n",
    "s=' '.join(l)\n",
    "print(s)\n",
    "s=''.join(l)\n",
    "print(s)\n",
    "s='-'.join(l)\n",
    "print(s)\n",
    "s=':'.join(l)\n",
    "print(s)\n",
    "print(\"*******************\")\n",
    "l=['05','04','2019']\n",
    "s='-'.join(l)\n",
    "print(s)\n",
    "s='/'.join(l)\n",
    "print(s)"
   ]
  },
  {
   "cell_type": "code",
   "execution_count": null,
   "id": "205a25f0",
   "metadata": {},
   "outputs": [],
   "source": []
  },
  {
   "cell_type": "code",
   "execution_count": 36,
   "id": "b94d5319",
   "metadata": {},
   "outputs": [
    {
     "name": "stdout",
     "output_type": "stream",
     "text": [
      "MANOAHR REDDY KAKARLA\n",
      "manoahr reddy kakarla\n",
      "mANOAHR rEDDY kAKARLA\n",
      "Manoahr Reddy Kakarla\n",
      "Manoahr reddy kakarla\n"
     ]
    }
   ],
   "source": [
    "#Changing case of letters of the string\n",
    "#Upper(), lower(),swapcase(), title(), capitalize()\n",
    "\n",
    "\n",
    "#upper() examples \n",
    "s='Manoahr Reddy Kakarla'\n",
    "print(s.upper())\n",
    "print(s.lower())\n",
    "print(s.swapcase())\n",
    "print(s.title())\n",
    "print(s.capitalize())\n",
    "\n",
    "# d=input('Enter a string:').upper()\n",
    "# print(d)"
   ]
  },
  {
   "cell_type": "code",
   "execution_count": null,
   "id": "11d3ecd8",
   "metadata": {},
   "outputs": [],
   "source": [
    "#WAP to check whether the given 2 strings are equal or not by ignoring case?\n",
    "s1=input('Enter first string:').lower()\n",
    "s2=input('Enter second string:').lower()\n",
    "if s1==s2:\n",
    "    print('Both string are equal')\n",
    "else:\n",
    "    print('String are not equal')"
   ]
  },
  {
   "cell_type": "code",
   "execution_count": null,
   "id": "12c3ccc3",
   "metadata": {},
   "outputs": [],
   "source": []
  },
  {
   "cell_type": "code",
   "execution_count": 47,
   "id": "fdbd5605",
   "metadata": {},
   "outputs": [
    {
     "name": "stdout",
     "output_type": "stream",
     "text": [
      "Enter username:Manohar\n",
      "Enter password:pravali\n",
      "Valid user\n"
     ]
    }
   ],
   "source": [
    "#WAP to check whether provided username and password are vaild or not? Username is not case sensitive but password should be case sensitive\n",
    "#Eg: Gmail username and password\n",
    "username=input('Enter username:').lower()\n",
    "password=input('Enter password:')\n",
    "if username=='manohar' and password=='pravali':\n",
    "    print('Valid user')\n",
    "else:\n",
    "    print('Invalid details')"
   ]
  },
  {
   "cell_type": "code",
   "execution_count": 54,
   "id": "f05478db",
   "metadata": {},
   "outputs": [
    {
     "name": "stdout",
     "output_type": "stream",
     "text": [
      "Enter a some string:manohar REDDy\n",
      "Manohar reddY\n"
     ]
    }
   ],
   "source": [
    "#WAP to convert first and last characters are upper case and remaining all characters should be lower case for all the given string\n",
    "name=input('Enter a some string:')\n",
    "output=name[0].upper()+name[1:len(name)-1].lower()+name[-1].upper()\n",
    "print(output)\n"
   ]
  },
  {
   "cell_type": "code",
   "execution_count": null,
   "id": "dee40c75",
   "metadata": {},
   "outputs": [],
   "source": []
  },
  {
   "cell_type": "code",
   "execution_count": null,
   "id": "c1305a71",
   "metadata": {},
   "outputs": [],
   "source": [
    "#Checking starting and ending part of the string\n"
   ]
  },
  {
   "cell_type": "code",
   "execution_count": null,
   "id": "b642713e",
   "metadata": {},
   "outputs": [],
   "source": []
  },
  {
   "cell_type": "code",
   "execution_count": null,
   "id": "7b436b80",
   "metadata": {},
   "outputs": [],
   "source": []
  },
  {
   "cell_type": "code",
   "execution_count": null,
   "id": "0d82ae9f",
   "metadata": {},
   "outputs": [],
   "source": []
  },
  {
   "cell_type": "code",
   "execution_count": null,
   "id": "3363f7a2",
   "metadata": {},
   "outputs": [],
   "source": []
  },
  {
   "cell_type": "code",
   "execution_count": null,
   "id": "52ef38da",
   "metadata": {},
   "outputs": [],
   "source": []
  },
  {
   "cell_type": "code",
   "execution_count": null,
   "id": "1cd5bcfb",
   "metadata": {},
   "outputs": [],
   "source": [
    "f_name='Manohar'\n",
    "l_name='Reddy'\n",
    "age=20\n",
    "city='Nellore'\n",
    "print(f\" 'My name is {f_name} {l_name} and my age is {age} and i am from {city}'\")"
   ]
  },
  {
   "cell_type": "code",
   "execution_count": null,
   "id": "5c47f60c",
   "metadata": {},
   "outputs": [],
   "source": [
    "s=[1,2,3,4,{'A','B','C','D'}]\n",
    "s[4]\n",
    "#s.insert[4],[0]"
   ]
  },
  {
   "cell_type": "code",
   "execution_count": null,
   "id": "93293f62",
   "metadata": {},
   "outputs": [],
   "source": []
  },
  {
   "cell_type": "code",
   "execution_count": null,
   "id": "e09a9d29",
   "metadata": {},
   "outputs": [],
   "source": []
  },
  {
   "cell_type": "code",
   "execution_count": null,
   "id": "d316ab68",
   "metadata": {},
   "outputs": [],
   "source": []
  },
  {
   "cell_type": "code",
   "execution_count": null,
   "id": "c07414c3",
   "metadata": {},
   "outputs": [],
   "source": []
  },
  {
   "cell_type": "code",
   "execution_count": null,
   "id": "a37a7cc2",
   "metadata": {},
   "outputs": [],
   "source": []
  }
 ],
 "metadata": {
  "kernelspec": {
   "display_name": "Python 3 (ipykernel)",
   "language": "python",
   "name": "python3"
  },
  "language_info": {
   "codemirror_mode": {
    "name": "ipython",
    "version": 3
   },
   "file_extension": ".py",
   "mimetype": "text/x-python",
   "name": "python",
   "nbconvert_exporter": "python",
   "pygments_lexer": "ipython3",
   "version": "3.11.5"
  }
 },
 "nbformat": 4,
 "nbformat_minor": 5
}
