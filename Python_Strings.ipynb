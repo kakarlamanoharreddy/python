{
 "cells": [
  {
   "cell_type": "code",
   "execution_count": 2,
   "id": "4c37997a",
   "metadata": {},
   "outputs": [
    {
     "name": "stdout",
     "output_type": "stream",
     "text": [
      "The \"Python Notes\" by 'Durga' is very good\n",
      "The \"Python Notes\" by 'Durga' is very good\n"
     ]
    }
   ],
   "source": [
    "print(\"\"\"The \"Python Notes\" by 'Durga' is very good\"\"\")\n",
    "print('''The \"Python Notes\" by 'Durga' is very good''')"
   ]
  },
  {
   "cell_type": "code",
   "execution_count": null,
   "id": "03cd281a",
   "metadata": {},
   "outputs": [],
   "source": []
  },
  {
   "cell_type": "code",
   "execution_count": null,
   "id": "deab7759",
   "metadata": {},
   "outputs": [],
   "source": [
    "#How to access characters of the string\n",
    "#1) By using Index\n",
    "#2) By using Slice Operator\n"
   ]
  },
  {
   "cell_type": "code",
   "execution_count": null,
   "id": "eb8412fb",
   "metadata": {},
   "outputs": [],
   "source": []
  },
  {
   "cell_type": "code",
   "execution_count": 6,
   "id": "2055246a",
   "metadata": {},
   "outputs": [
    {
     "name": "stdout",
     "output_type": "stream",
     "text": [
      "Enter a some string:Manu\n",
      "The character present at +ve value is:0 and at -ve index is:-4 is: M\n",
      "The character present at +ve value is:1 and at -ve index is:-3 is: a\n",
      "The character present at +ve value is:2 and at -ve index is:-2 is: n\n",
      "The character present at +ve value is:3 and at -ve index is:-1 is: u\n"
     ]
    }
   ],
   "source": [
    "#WAP to display characters of given string index wise(Bith positive and negative)\n",
    "s=input('Enter a some string:')\n",
    "i=0\n",
    "for x in s:\n",
    "    print('The character present at +ve value is:{} and at -ve index is:{} is: {}'.format(i,i-len(s),x))\n",
    "    i=i+1"
   ]
  },
  {
   "cell_type": "code",
   "execution_count": null,
   "id": "4f75ca98",
   "metadata": {},
   "outputs": [],
   "source": []
  },
  {
   "cell_type": "code",
   "execution_count": 10,
   "id": "c62e3e1f",
   "metadata": {},
   "outputs": [
    {
     "name": "stdout",
     "output_type": "stream",
     "text": [
      "cdefg\n",
      "abcdefg\n",
      "cdefghijk\n",
      "abcdefghijk\n"
     ]
    }
   ],
   "source": [
    "#2) By using Slice Operator\n",
    "s='abcdefghijk'\n",
    "print(s[2:7])\n",
    "print(s[:7])\n",
    "print(s[2:])\n",
    "print(s[:])"
   ]
  },
  {
   "cell_type": "code",
   "execution_count": 15,
   "id": "fea53742",
   "metadata": {},
   "outputs": [
    {
     "name": "stdout",
     "output_type": "stream",
     "text": [
      "cdefg\n",
      "ceg\n",
      "cf\n",
      "acegik\n",
      "adgj\n"
     ]
    }
   ],
   "source": [
    "#slice operator using step operator\n",
    "#syntax    s[begin:end:step]  --Default step value is 1 \n",
    "s='abcdefghijk'\n",
    "print(s[2:7:1])  #cdefg\n",
    "print(s[2:7:2])  #ceg\n",
    "print(s[2:7:3])  #cf\n",
    "print(s[::2])  #acegik\n",
    "print(s[::3])  #adgj"
   ]
  },
  {
   "cell_type": "code",
   "execution_count": null,
   "id": "bb847a82",
   "metadata": {},
   "outputs": [],
   "source": []
  },
  {
   "cell_type": "code",
   "execution_count": 18,
   "id": "a120fa50",
   "metadata": {},
   "outputs": [
    {
     "data": {
      "text/plain": [
       "True"
      ]
     },
     "execution_count": 18,
     "metadata": {},
     "output_type": "execute_result"
    }
   ],
   "source": [
    "#Membership operators\n",
    "#in and not in\n",
    "'M' in 'Mano'\n",
    "'M' in 'Abhi'\n",
    "'M' not in 'Abhi'"
   ]
  },
  {
   "cell_type": "code",
   "execution_count": 21,
   "id": "d550cb5c",
   "metadata": {},
   "outputs": [
    {
     "name": "stdout",
     "output_type": "stream",
     "text": [
      "Enter main string:Abhi\n",
      "Enter a substring:Mano\n",
      "substring not present in main string\n"
     ]
    }
   ],
   "source": [
    "s=input('Enter main string:')\n",
    "subs=input('Enter a substring:')\n",
    "if subs in s:\n",
    "    print('substring present in main string')\n",
    "else:\n",
    "    print('substring not present in main string')"
   ]
  },
  {
   "cell_type": "code",
   "execution_count": 25,
   "id": "2821b2cc",
   "metadata": {},
   "outputs": [
    {
     "name": "stdout",
     "output_type": "stream",
     "text": [
      "65\n"
     ]
    },
    {
     "data": {
      "text/plain": [
       "True"
      ]
     },
     "execution_count": 25,
     "metadata": {},
     "output_type": "execute_result"
    }
   ],
   "source": [
    "#Comparsion Operators\n",
    "#<,>,<=,>=,==,!=\n",
    "print(ord('A'))\n",
    "'Manohar'<'Abhi'\n",
    "'ramba'<'ramya'"
   ]
  },
  {
   "cell_type": "code",
   "execution_count": 28,
   "id": "3af7dea5",
   "metadata": {},
   "outputs": [
    {
     "name": "stdout",
     "output_type": "stream",
     "text": [
      "Enter first string:Mano\n",
      "Enter second string:Abhi\n",
      "First string is greater than second string\n"
     ]
    }
   ],
   "source": [
    "s1=input('Enter first string:')\n",
    "s2=input('Enter second string:')\n",
    "if s1==s2:\n",
    "    print('Both are same')\n",
    "elif s1<s2:\n",
    "        print('First string is lessthan second string')\n",
    "else:\n",
    "    print('First string is greater than second string')"
   ]
  },
  {
   "cell_type": "code",
   "execution_count": 34,
   "id": "b51c5d30",
   "metadata": {},
   "outputs": [
    {
     "name": "stdout",
     "output_type": "stream",
     "text": [
      "Enter your city name:  Hyderabad\n",
      "Your entered city is invalid!\n"
     ]
    }
   ],
   "source": [
    "#Removing spaces from the string\n",
    "city=input('Enter your city name:')\n",
    "if city=='Hyderabad':\n",
    "    print('Hello Hyderabadi Aadab!!!')\n",
    "elif city=='Chennai':\n",
    "    print('Hello Madarsi vanakam!!!')\n",
    "elif city=='Bangalore':\n",
    "    print('Hello Kananida Namaskara!!!')\n",
    "else:\n",
    "    print('Your entered city is invalid!')"
   ]
  },
  {
   "cell_type": "code",
   "execution_count": 42,
   "id": "19ce8e06",
   "metadata": {},
   "outputs": [
    {
     "name": "stdout",
     "output_type": "stream",
     "text": [
      "Enter your city name:    Chennai                              \n",
      "Hello Madarsi vanakam!!!\n"
     ]
    }
   ],
   "source": [
    "#To remove spaces from the string we have 3 methods\n",
    "#strip(), lstrip(), rstrip()\n",
    "#Removing spaces from the string\n",
    "# city=input('Enter your city name:')\n",
    "# scity=city.strip()                    #VIMP strip() we are using to remove spaces \n",
    "# if scity=='Hyderabad':\n",
    "#     print('Hello Hyderabadi Aadab!!!')\n",
    "# elif scity=='Chennai':\n",
    "#     print('Hello Madarsi vanakam!!!')\n",
    "# elif scity=='Bangalore':\n",
    "#     print('Hello Kananida Namaskara!!!')\n",
    "# else:\n",
    "#     print('Your entered city is invalid!')\n",
    "    \n",
    "          #(OR)\n",
    "city=input('Enter your city name:').strip()\n",
    "if city=='Hyderabad':\n",
    "    print('Hello Hyderabadi Aadab!!!')\n",
    "elif city=='Chennai':\n",
    "    print('Hello Madarsi vanakam!!!')\n",
    "elif city=='Bangalore':\n",
    "    print('Hello Kananida Namaskara!!!')\n",
    "else:\n",
    "    print('Your entered city is invalid!')"
   ]
  },
  {
   "cell_type": "code",
   "execution_count": null,
   "id": "4573b2db",
   "metadata": {},
   "outputs": [],
   "source": []
  },
  {
   "cell_type": "code",
   "execution_count": null,
   "id": "9c6f8237",
   "metadata": {},
   "outputs": [],
   "source": [
    "#Finding substring\n",
    "#find(), rfind(), index(), rindex()\n"
   ]
  },
  {
   "cell_type": "code",
   "execution_count": null,
   "id": "b5e44408",
   "metadata": {},
   "outputs": [],
   "source": []
  },
  {
   "cell_type": "code",
   "execution_count": null,
   "id": "88f88589",
   "metadata": {},
   "outputs": [],
   "source": []
  },
  {
   "cell_type": "code",
   "execution_count": null,
   "id": "5dbafee9",
   "metadata": {},
   "outputs": [],
   "source": []
  },
  {
   "cell_type": "code",
   "execution_count": null,
   "id": "f3ad6153",
   "metadata": {},
   "outputs": [],
   "source": []
  },
  {
   "cell_type": "code",
   "execution_count": null,
   "id": "5ed01b61",
   "metadata": {},
   "outputs": [],
   "source": []
  },
  {
   "cell_type": "code",
   "execution_count": null,
   "id": "e8d007ae",
   "metadata": {},
   "outputs": [],
   "source": []
  },
  {
   "cell_type": "code",
   "execution_count": 3,
   "id": "6bb50695",
   "metadata": {},
   "outputs": [
    {
     "name": "stdout",
     "output_type": "stream",
     "text": [
      " 'My name is Manohar Reddy and my age is 20 and i am from Nellore'\n"
     ]
    }
   ],
   "source": [
    "f_name='Manohar'\n",
    "l_name='Reddy'\n",
    "age=20\n",
    "city='Nellore'\n",
    "print(f\" 'My name is {f_name} {l_name} and my age is {age} and i am from {city}'\")"
   ]
  },
  {
   "cell_type": "code",
   "execution_count": 15,
   "id": "db0cc493",
   "metadata": {},
   "outputs": [
    {
     "data": {
      "text/plain": [
       "{'A', 'B', 'C', 'D'}"
      ]
     },
     "execution_count": 15,
     "metadata": {},
     "output_type": "execute_result"
    }
   ],
   "source": [
    "s=[1,2,3,4,{'A','B','C','D'}]\n",
    "s[4]\n",
    "#s.insert[4],[0]"
   ]
  },
  {
   "cell_type": "code",
   "execution_count": null,
   "id": "8df60dcd",
   "metadata": {},
   "outputs": [],
   "source": []
  },
  {
   "cell_type": "code",
   "execution_count": null,
   "id": "80f08512",
   "metadata": {},
   "outputs": [],
   "source": []
  },
  {
   "cell_type": "code",
   "execution_count": null,
   "id": "d460677f",
   "metadata": {},
   "outputs": [],
   "source": []
  }
 ],
 "metadata": {
  "kernelspec": {
   "display_name": "Python 3 (ipykernel)",
   "language": "python",
   "name": "python3"
  },
  "language_info": {
   "codemirror_mode": {
    "name": "ipython",
    "version": 3
   },
   "file_extension": ".py",
   "mimetype": "text/x-python",
   "name": "python",
   "nbconvert_exporter": "python",
   "pygments_lexer": "ipython3",
   "version": "3.11.5"
  }
 },
 "nbformat": 4,
 "nbformat_minor": 5
}
