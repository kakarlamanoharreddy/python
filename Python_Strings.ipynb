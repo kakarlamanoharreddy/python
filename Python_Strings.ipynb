{
 "cells": [
  {
   "cell_type": "code",
   "execution_count": 2,
   "id": "4c37997a",
   "metadata": {},
   "outputs": [
    {
     "name": "stdout",
     "output_type": "stream",
     "text": [
      "The \"Python Notes\" by 'Durga' is very good\n",
      "The \"Python Notes\" by 'Durga' is very good\n"
     ]
    }
   ],
   "source": [
    "print(\"\"\"The \"Python Notes\" by 'Durga' is very good\"\"\")\n",
    "print('''The \"Python Notes\" by 'Durga' is very good''')"
   ]
  },
  {
   "cell_type": "code",
   "execution_count": null,
   "id": "03cd281a",
   "metadata": {},
   "outputs": [],
   "source": []
  },
  {
   "cell_type": "code",
   "execution_count": null,
   "id": "deab7759",
   "metadata": {},
   "outputs": [],
   "source": [
    "#How to access characters of the string\n",
    "#1) By using Index\n",
    "#2) By using Slice Operator\n"
   ]
  },
  {
   "cell_type": "code",
   "execution_count": null,
   "id": "eb8412fb",
   "metadata": {},
   "outputs": [],
   "source": []
  },
  {
   "cell_type": "code",
   "execution_count": 6,
   "id": "2055246a",
   "metadata": {},
   "outputs": [
    {
     "name": "stdout",
     "output_type": "stream",
     "text": [
      "Enter a some string:Manu\n",
      "The character present at +ve value is:0 and at -ve index is:-4 is: M\n",
      "The character present at +ve value is:1 and at -ve index is:-3 is: a\n",
      "The character present at +ve value is:2 and at -ve index is:-2 is: n\n",
      "The character present at +ve value is:3 and at -ve index is:-1 is: u\n"
     ]
    }
   ],
   "source": [
    "#WAP to display characters of given string index wise(Bith positive and negative)\n",
    "s=input('Enter a some string:')\n",
    "i=0\n",
    "for x in s:\n",
    "    print('The character present at +ve value is:{} and at -ve index is:{} is: {}'.format(i,i-len(s),x))\n",
    "    i=i+1"
   ]
  },
  {
   "cell_type": "code",
   "execution_count": null,
   "id": "4f75ca98",
   "metadata": {},
   "outputs": [],
   "source": []
  },
  {
   "cell_type": "code",
   "execution_count": 10,
   "id": "c62e3e1f",
   "metadata": {},
   "outputs": [
    {
     "name": "stdout",
     "output_type": "stream",
     "text": [
      "cdefg\n",
      "abcdefg\n",
      "cdefghijk\n",
      "abcdefghijk\n"
     ]
    }
   ],
   "source": [
    "#2) By using Slice Operator\n",
    "s='abcdefghijk'\n",
    "print(s[2:7])\n",
    "print(s[:7])\n",
    "print(s[2:])\n",
    "print(s[:])"
   ]
  },
  {
   "cell_type": "code",
   "execution_count": 15,
   "id": "fea53742",
   "metadata": {},
   "outputs": [
    {
     "name": "stdout",
     "output_type": "stream",
     "text": [
      "cdefg\n",
      "ceg\n",
      "cf\n",
      "acegik\n",
      "adgj\n"
     ]
    }
   ],
   "source": [
    "#slice operator using step operator\n",
    "#syntax    s[begin:end:step]  --Default step value is 1 \n",
    "s='abcdefghijk'\n",
    "print(s[2:7:1])  #cdefg\n",
    "print(s[2:7:2])  #ceg\n",
    "print(s[2:7:3])  #cf\n",
    "print(s[::2])  #acegik\n",
    "print(s[::3])  #adgj"
   ]
  },
  {
   "cell_type": "code",
   "execution_count": null,
   "id": "d6eb6bf7",
   "metadata": {},
   "outputs": [],
   "source": []
  },
  {
   "cell_type": "code",
   "execution_count": null,
   "id": "e85affda",
   "metadata": {},
   "outputs": [],
   "source": [
    "#Mathematical Operators for string"
   ]
  },
  {
   "cell_type": "code",
   "execution_count": null,
   "id": "31480a20",
   "metadata": {},
   "outputs": [],
   "source": []
  },
  {
   "cell_type": "code",
   "execution_count": null,
   "id": "9ab1c11f",
   "metadata": {},
   "outputs": [],
   "source": []
  },
  {
   "cell_type": "code",
   "execution_count": null,
   "id": "80bed853",
   "metadata": {},
   "outputs": [],
   "source": []
  },
  {
   "cell_type": "code",
   "execution_count": null,
   "id": "598cbb1a",
   "metadata": {},
   "outputs": [],
   "source": []
  },
  {
   "cell_type": "code",
   "execution_count": null,
   "id": "f517ffef",
   "metadata": {},
   "outputs": [],
   "source": []
  },
  {
   "cell_type": "code",
   "execution_count": null,
   "id": "6c27a9bc",
   "metadata": {},
   "outputs": [],
   "source": []
  },
  {
   "cell_type": "code",
   "execution_count": null,
   "id": "62bc80c9",
   "metadata": {},
   "outputs": [],
   "source": []
  },
  {
   "cell_type": "code",
   "execution_count": null,
   "id": "1b1dba97",
   "metadata": {},
   "outputs": [],
   "source": []
  },
  {
   "cell_type": "code",
   "execution_count": 3,
   "id": "2ebbec4f",
   "metadata": {},
   "outputs": [
    {
     "name": "stdout",
     "output_type": "stream",
     "text": [
      " 'My name is Manohar Reddy and my age is 20 and i am from Nellore'\n"
     ]
    }
   ],
   "source": [
    "f_name='Manohar'\n",
    "l_name='Reddy'\n",
    "age=20\n",
    "city='Nellore'\n",
    "print(f\" 'My name is {f_name} {l_name} and my age is {age} and i am from {city}'\")"
   ]
  },
  {
   "cell_type": "code",
   "execution_count": 15,
   "id": "9585bc90",
   "metadata": {},
   "outputs": [
    {
     "data": {
      "text/plain": [
       "{'A', 'B', 'C', 'D'}"
      ]
     },
     "execution_count": 15,
     "metadata": {},
     "output_type": "execute_result"
    }
   ],
   "source": [
    "s=[1,2,3,4,{'A','B','C','D'}]\n",
    "s[4]\n",
    "#s.insert[4],[0]"
   ]
  },
  {
   "cell_type": "code",
   "execution_count": null,
   "id": "c43db1b0",
   "metadata": {},
   "outputs": [],
   "source": []
  },
  {
   "cell_type": "code",
   "execution_count": null,
   "id": "d32c2bd7",
   "metadata": {},
   "outputs": [],
   "source": []
  },
  {
   "cell_type": "code",
   "execution_count": null,
   "id": "493fc8c4",
   "metadata": {},
   "outputs": [],
   "source": []
  }
 ],
 "metadata": {
  "kernelspec": {
   "display_name": "Python 3 (ipykernel)",
   "language": "python",
   "name": "python3"
  },
  "language_info": {
   "codemirror_mode": {
    "name": "ipython",
    "version": 3
   },
   "file_extension": ".py",
   "mimetype": "text/x-python",
   "name": "python",
   "nbconvert_exporter": "python",
   "pygments_lexer": "ipython3",
   "version": "3.11.5"
  }
 },
 "nbformat": 4,
 "nbformat_minor": 5
}
