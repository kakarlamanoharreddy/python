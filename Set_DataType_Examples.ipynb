{
 "cells": [
  {
   "cell_type": "code",
   "execution_count": 15,
   "id": "deba2973",
   "metadata": {},
   "outputs": [
    {
     "name": "stdout",
     "output_type": "stream",
     "text": [
      "<class 'set'>\n",
      "{10, 20, 'M', 'Z'}\n"
     ]
    }
   ],
   "source": [
    "s=set()\n",
    "s.add(10)\n",
    "s.add('M')\n",
    "s.add('Z')\n",
    "s.add(20)\n",
    "s.add(10)\n",
    "print(type(s))\n",
    "print(s)\n",
    "print(s[0])        #Error index concept is not applicable\n",
    "print(s[1:3])      #Error index concept is not applicable"
   ]
  },
  {
   "cell_type": "code",
   "execution_count": null,
   "id": "ea06ce19",
   "metadata": {},
   "outputs": [],
   "source": []
  },
  {
   "cell_type": "code",
   "execution_count": 23,
   "id": "c2673cc9",
   "metadata": {},
   "outputs": [
    {
     "name": "stdout",
     "output_type": "stream",
     "text": [
      "<class 'set'>\n",
      "{10, 20}\n",
      "{10, 20, 30}\n",
      "{0, 100, 70, 40, 10, 80, 50, 20, 90, 60, 30}\n",
      "{'a', 'r', 'e', 'd', 'M', 'y', 'R', 'h', ' ', 'o', 'n'}\n",
      "Enter a set values:{\"Manohar\"}\n",
      "{'Manohar'}\n"
     ]
    }
   ],
   "source": [
    "#creation of set objects\n",
    "#1)Empty set    2)Regular method    3)Using set() function    4)Dynamic method\n",
    "\n",
    "\n",
    "#1)Empty set\n",
    "s=set()\n",
    "print(type(s))\n",
    "\n",
    "#2)If we know the data already:  Regular Method\n",
    "s={10,20,40,30}\n",
    "\n",
    "#3) using set() function\n",
    "l=[10,20,20]\n",
    "s=set(l)\n",
    "print(s)\n",
    "\n",
    "t=(10,20,30)\n",
    "s=set(t)\n",
    "print(s)\n",
    "\n",
    "s=set(range(0,101,10))\n",
    "print(s)\n",
    "\n",
    "\n",
    "s='Manohar Reddy'\n",
    "s1=set(s)\n",
    "print(s1)            #Duplicate values removed\n",
    "\n",
    "\n",
    "#4)Dynamic method\n",
    "s=eval(input('Enter a set values:'))\n",
    "print(s)"
   ]
  },
  {
   "cell_type": "code",
   "execution_count": null,
   "id": "5714f2b0",
   "metadata": {},
   "outputs": [],
   "source": []
  },
  {
   "cell_type": "code",
   "execution_count": 28,
   "id": "534d6c71",
   "metadata": {},
   "outputs": [
    {
     "name": "stdout",
     "output_type": "stream",
     "text": [
      "True\n",
      "True\n",
      "***********************\n",
      "False\n",
      "False\n",
      "False\n",
      "False\n",
      "***********************\n",
      "True\n",
      "False\n",
      "True\n"
     ]
    }
   ],
   "source": [
    "#Mathematical Operators for set\n",
    "#1)Relational Operators    2)Assignment Operators     3)Membership operators\n",
    "\n",
    "#1)Relational Opetors\n",
    "s={10,20,30}\n",
    "s1={30,20,10}\n",
    "print(s==s1)\n",
    "print(s1==s)\n",
    "\n",
    "print(\"***********************\")\n",
    "\n",
    "#2)Assignment operators\n",
    "s={10,20,30}\n",
    "s1={40,50,10}\n",
    "print(s<s1)\n",
    "print(s<=s1)\n",
    "print(s>s1)\n",
    "print(s<=s1)\n",
    "\n",
    "print(\"***********************\")\n",
    "#3)membership operators\n",
    "s={10,20,30}\n",
    "print(10 in s)\n",
    "print(100 in s)\n",
    "print(100 not in s)"
   ]
  },
  {
   "cell_type": "code",
   "execution_count": null,
   "id": "0942df48",
   "metadata": {},
   "outputs": [],
   "source": []
  },
  {
   "cell_type": "code",
   "execution_count": 38,
   "id": "f22a3128",
   "metadata": {},
   "outputs": [
    {
     "name": "stdout",
     "output_type": "stream",
     "text": [
      "4\n",
      "{40, 10, 50, 20, 60, 30}\n",
      "{1, 2, 3, 4, 5, 'a', 'n', 'r', 10, 'M', 'h', 20, 'o', 30}\n"
     ]
    }
   ],
   "source": [
    "#Important Methods and functions in set: \n",
    "#1)len(), 2)add() 3)update()\n",
    "\n",
    "#1)len()\n",
    "s={10,20,30,(10,20)}\n",
    "print(len(s))\n",
    "\n",
    "#2) add()\n",
    "s={10,20,30,40}\n",
    "s.add(50)\n",
    "s.add(60)\n",
    "print(s)\n",
    "\n",
    "#3)update()\n",
    "#To add multiple items to the set . ALl objects should be iterable objects like #list,#set,#tuple,#string\n",
    "s={10,20}\n",
    "l=[10,20,30]\n",
    "s.update(l)\n",
    "s.update(range(1,6),'Manohar')\n",
    "print(s)"
   ]
  },
  {
   "cell_type": "code",
   "execution_count": 50,
   "id": "22070c69",
   "metadata": {},
   "outputs": [
    {
     "name": "stdout",
     "output_type": "stream",
     "text": [
      "{50, 20, 40, 10}\n",
      "{50, 20, 40, 10}\n",
      "***************************************\n",
      "{50, 20, 40, 10}\n",
      "{50, 20, 40, 10}\n",
      "****************************************\n",
      "40\n",
      "10\n",
      "20\n",
      "30\n",
      "set()\n",
      "****************************************\n",
      "set()\n"
     ]
    }
   ],
   "source": [
    "#Important Methods and functions in set: \n",
    "#1)remove()    2)discard()   3)pop()    4)clear()\n",
    "\n",
    "\n",
    "#1)remove()\n",
    "s={10,20,30,40,50}\n",
    "s.remove(30)\n",
    "print(s)\n",
    "#s.remove(100)       #key error we will get because the set value is not present\n",
    "print(s)\n",
    "\n",
    "print(\"***************************************\")\n",
    "#2)discard\n",
    "#to overcome above error we can use discard()\n",
    "s={10,20,30,40,50}\n",
    "s.discard(30)\n",
    "print(s)\n",
    "s.discard(100)       #key error we will get because the set value is not present\n",
    "print(s)\n",
    "\n",
    "print(\"****************************************\")\n",
    "\n",
    "#pop()\n",
    "s={10,20,30,40}\n",
    "print(s.pop())\n",
    "print(s.pop())\n",
    "print(s.pop())\n",
    "print(s.pop())\n",
    "print(s)\n",
    "#print(s.pop())\n",
    "\n",
    "print(\"****************************************\")\n",
    "\n",
    "#4)clear()\n",
    "s={10,20,30,0}\n",
    "s.clear()\n",
    "print(s)"
   ]
  },
  {
   "cell_type": "code",
   "execution_count": null,
   "id": "e1561742",
   "metadata": {},
   "outputs": [],
   "source": []
  },
  {
   "cell_type": "code",
   "execution_count": 62,
   "id": "66a5999a",
   "metadata": {},
   "outputs": [
    {
     "name": "stdout",
     "output_type": "stream",
     "text": [
      "{40, 10, 50, 20, 60, 30}\n",
      "{40, 10, 50, 20, 60, 30}\n",
      "***************************************\n",
      "The intersection values is: {40, 30}\n",
      "The intersection values is: {40, 30}\n",
      "**************************************\n",
      "The difference values present is s1 is: {10, 20}\n",
      "The difference values present is s1 is: {10, 20}\n",
      "**************************************\n",
      "The symmetric difference values is: {10, 50, 20, 60}\n",
      "The symmetric difference values is: {10, 50, 20, 60}\n"
     ]
    }
   ],
   "source": [
    "#Set specific methods for mathematical operators\n",
    "#1)union()    2)intersection()    3)difference()    4)symmetric_difference()\n",
    "\n",
    "\n",
    "#1)union()\n",
    "#Method 1\n",
    "s1={10,20,30,40}\n",
    "s2={30,40,50,60}\n",
    "s3=s1.union(s2)      #or s3=s1|s2\n",
    "print(s3)\n",
    "\n",
    "#Method 2:\n",
    "s1={10,20,30,40}\n",
    "s2={30,40,50,60}\n",
    "s3=s1|s2\n",
    "print(s3)\n",
    "\n",
    "print(\"***************************************\")\n",
    "\n",
    "#2)intersection()\n",
    "#Method 1\n",
    "s1={10,20,30,40}\n",
    "s2={30,40,50,60}\n",
    "s3=s1.intersection(s2)\n",
    "print('The intersection values is:',s3)\n",
    "\n",
    "#Method 2\n",
    "s1={10,20,30,40}\n",
    "s2={30,40,50,60}\n",
    "s3=s1&s2\n",
    "print('The intersection values is:',s3)\n",
    "\n",
    "print(\"**************************************\")\n",
    "\n",
    "#3)difference()\n",
    "#method 1\n",
    "s1={10,20,30,40}\n",
    "s2={30,40,50,60}\n",
    "s3=s1.difference(s2)\n",
    "print('The difference values present is s1 is:',s3)\n",
    "\n",
    "#method 2\n",
    "s1={10,20,30,40}\n",
    "s2={30,40,50,60}\n",
    "s3=s1-s2\n",
    "print('The difference values present is s1 is:',s3)\n",
    "\n",
    "\n",
    "print(\"**************************************\")\n",
    "\n",
    "#4)symmetric difference()\n",
    "#Method 1\n",
    "s1={10,20,30,40}\n",
    "s2={30,40,50,60}\n",
    "s3=s1.symmetric_difference(s2)\n",
    "print('The symmetric difference values is:',s3)\n",
    "\n",
    "#Method 2\n",
    "s1={10,20,30,40}\n",
    "s2={30,40,50,60}\n",
    "s3=s1^s2\n",
    "print('The symmetric difference values is:',s3)"
   ]
  },
  {
   "cell_type": "code",
   "execution_count": null,
   "id": "b102e9a7",
   "metadata": {},
   "outputs": [],
   "source": []
  },
  {
   "cell_type": "code",
   "execution_count": 64,
   "id": "a9141d3b",
   "metadata": {},
   "outputs": [
    {
     "name": "stdout",
     "output_type": "stream",
     "text": [
      "{20, 30}\n",
      "{20, 30}\n",
      "*************************\n",
      "{20, 30}\n",
      "{10, 20, 30}\n"
     ]
    }
   ],
   "source": [
    "#Aliasing & Cloning and comprehension of set\n",
    "\n",
    "\n",
    "#Aliasing\n",
    "s={10,20,30}\n",
    "s1=s\n",
    "s.pop()\n",
    "print(s)\n",
    "print(s1)\n",
    "\n",
    "print(\"*************************\")\n",
    "\n",
    "#cloning()\n",
    "s={10,20,30}\n",
    "s1=s.copy()\n",
    "s.pop()\n",
    "print(s)\n",
    "print(s1)"
   ]
  },
  {
   "cell_type": "code",
   "execution_count": null,
   "id": "43b6832b",
   "metadata": {},
   "outputs": [],
   "source": []
  },
  {
   "cell_type": "code",
   "execution_count": 66,
   "id": "382ed484",
   "metadata": {},
   "outputs": [
    {
     "name": "stdout",
     "output_type": "stream",
     "text": [
      "{1, 4, 9, 16, 25}\n",
      "{32, 2, 4, 8, 16}\n"
     ]
    }
   ],
   "source": [
    "#set comprehension\n",
    "#square value for range\n",
    "s={x*x for x in range(1,6)}\n",
    "print(s)\n",
    "\n",
    "#eg1:\n",
    "s={2**x for x in range(1,6)}\n",
    "print(s)"
   ]
  },
  {
   "cell_type": "code",
   "execution_count": null,
   "id": "dc7c91ea",
   "metadata": {},
   "outputs": [],
   "source": []
  },
  {
   "cell_type": "code",
   "execution_count": 77,
   "id": "8f1e26bd",
   "metadata": {},
   "outputs": [
    {
     "name": "stdout",
     "output_type": "stream",
     "text": [
      "{100, 10, 50, 20, 60, 30}\n",
      "[100, 10, 50, 20, 60, 30]\n",
      "[10, 20, 30]\n"
     ]
    }
   ],
   "source": [
    "#Practice pragrams of set\n",
    "\n",
    "\n",
    "#WAP to eliminate the duplicates present in the list\n",
    "#Method 1\n",
    "l=[10,10,20,10,20,30,100,50,50,60]\n",
    "s=set(l)\n",
    "s1=list(s)\n",
    "print(s)\n",
    "print(s1)\n",
    "\n",
    "\n",
    "#Method 2\n",
    "l=[10,10,20,10,20,30]\n",
    "l1=[]\n",
    "for x in l:\n",
    "    if x not in l1:\n",
    "        l1.append(x)\n",
    "print(l1)"
   ]
  },
  {
   "cell_type": "code",
   "execution_count": null,
   "id": "181c0f30",
   "metadata": {},
   "outputs": [],
   "source": []
  },
  {
   "cell_type": "code",
   "execution_count": 91,
   "id": "c60871c4",
   "metadata": {},
   "outputs": [
    {
     "name": "stdout",
     "output_type": "stream",
     "text": [
      "Enter any word to search for vowels:durgasoftware\n",
      "The difference vowels present in durgasoftware are {'o', 'e', 'u', 'a'}:\n"
     ]
    }
   ],
   "source": [
    "#WAP to print different vowels present in the given word\n",
    "word=input('Enter any word to search for vowels:')\n",
    "s=set(word)\n",
    "v={'a','e','i','o','u'}\n",
    "result=s&v\n",
    "\n",
    "print('The difference vowels present in {} are {}:'.format(word,result))"
   ]
  },
  {
   "cell_type": "code",
   "execution_count": null,
   "id": "50ed841e",
   "metadata": {},
   "outputs": [],
   "source": []
  }
 ],
 "metadata": {
  "kernelspec": {
   "display_name": "Python 3 (ipykernel)",
   "language": "python",
   "name": "python3"
  },
  "language_info": {
   "codemirror_mode": {
    "name": "ipython",
    "version": 3
   },
   "file_extension": ".py",
   "mimetype": "text/x-python",
   "name": "python",
   "nbconvert_exporter": "python",
   "pygments_lexer": "ipython3",
   "version": "3.11.5"
  }
 },
 "nbformat": 4,
 "nbformat_minor": 5
}
