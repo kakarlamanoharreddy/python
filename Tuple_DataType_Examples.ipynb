{
 "cells": [
  {
   "cell_type": "code",
   "execution_count": null,
   "id": "f279098b",
   "metadata": {},
   "outputs": [],
   "source": [
    "#Tuple Main points\n",
    "#1) Order is applicable or preserved\n",
    "#2)Duplicates are allowed\n",
    "#3)Hetrogenous Elements are allowed(int,string,list,tuple etc..)\n",
    "#4)Indexing and slicing are allowed\n",
    "#5) It is Imuteable( Once we add content in tuple we can't edit)\n",
    "#6) Representa as ( ) but it's optional"
   ]
  },
  {
   "cell_type": "code",
   "execution_count": 5,
   "id": "f40bad39",
   "metadata": {},
   "outputs": [
    {
     "name": "stdout",
     "output_type": "stream",
     "text": [
      "<class 'tuple'>\n",
      "<class 'tuple'>\n",
      "(10, 'Manohar', 10, 30, [40, 50])\n",
      "(10, 'Manohar', 20, 30, [40, 50])\n",
      "10\n",
      "[40, 50]\n",
      "('Manohar', 10, 30)\n"
     ]
    }
   ],
   "source": [
    "t=(10,'Manohar',10,30,[40,50])\n",
    "t1=10,'Manohar',20,30,[40,50]\n",
    "print(type(t))\n",
    "print(type(t1))\n",
    "print(t)\n",
    "print(t1)\n",
    "print(t[0])\n",
    "print(t[-1])\n",
    "print(t[1:4])"
   ]
  },
  {
   "cell_type": "code",
   "execution_count": 7,
   "id": "13fd23a7",
   "metadata": {},
   "outputs": [
    {
     "ename": "TypeError",
     "evalue": "'tuple' object does not support item assignment",
     "output_type": "error",
     "traceback": [
      "\u001b[1;31m---------------------------------------------------------------------------\u001b[0m",
      "\u001b[1;31mTypeError\u001b[0m                                 Traceback (most recent call last)",
      "Cell \u001b[1;32mIn[7], line 3\u001b[0m\n\u001b[0;32m      1\u001b[0m \u001b[38;5;66;03m#Eg:\u001b[39;00m\n\u001b[0;32m      2\u001b[0m t\u001b[38;5;241m=\u001b[39m(\u001b[38;5;241m10\u001b[39m,\u001b[38;5;241m20\u001b[39m,\u001b[38;5;241m30\u001b[39m,\u001b[38;5;241m40\u001b[39m)\n\u001b[1;32m----> 3\u001b[0m t[\u001b[38;5;241m0\u001b[39m]\u001b[38;5;241m=\u001b[39m\u001b[38;5;241m77\u001b[39m\n\u001b[0;32m      4\u001b[0m \u001b[38;5;28mprint\u001b[39m(t)\n",
      "\u001b[1;31mTypeError\u001b[0m: 'tuple' object does not support item assignment"
     ]
    }
   ],
   "source": [
    "#Eg:\n",
    "t=(10,20,30,40)\n",
    "t[0]=77        #error because its imuteable\n",
    "print(t)"
   ]
  },
  {
   "cell_type": "code",
   "execution_count": 10,
   "id": "baf9c19f",
   "metadata": {},
   "outputs": [
    {
     "name": "stdout",
     "output_type": "stream",
     "text": [
      "<class 'int'>\n",
      "<class 'tuple'>\n",
      "10\n",
      "(10, 20, 'Manohar')\n",
      "*****************************\n",
      "<class 'tuple'>\n",
      "(10,)\n"
     ]
    }
   ],
   "source": [
    "#Single value tuple:\n",
    "#If we are assiging a single value in tuple it won't consider as tuple it will consider as int below the example\n",
    "\n",
    "t=(10)               #it will consider as int\n",
    "t1=(10,20,'Manohar')\n",
    "print(type(t))          #int\n",
    "print(type(t1))         #tuple\n",
    "print(t)                #10\n",
    "print(t1)               #(10,20,'Manohar')\n",
    "\n",
    "\n",
    "print(\"*****************************\")\n",
    "#if you want to pass single value in tuple we have follow below syntax or method\n",
    "t=(10,)\n",
    "print(type(t))\n",
    "print(t)"
   ]
  },
  {
   "cell_type": "code",
   "execution_count": 19,
   "id": "7bfda00a",
   "metadata": {},
   "outputs": [
    {
     "name": "stdout",
     "output_type": "stream",
     "text": [
      "(10, 20, 30, [40, 50])\n",
      "********************************************\n",
      "(1, 3, 5, 7, 9)\n",
      "********************************************\n",
      "('M', 'a', 'n', 'o', 'h', 'a', 'r')\n",
      "********************************************\n",
      "M\n",
      "a\n",
      "n\n",
      "o\n",
      "h\n",
      "a\n",
      "r\n",
      "********************************************\n",
      "Enter tuple values:10,20\n",
      "(10, 20)\n"
     ]
    }
   ],
   "source": [
    "#Creation of tuple object\n",
    "\n",
    "\n",
    "#Empty tuple\n",
    "t=()\n",
    "\n",
    "#single valued tuple\n",
    "t=(10,)\n",
    "t=10,\n",
    "\n",
    "#Multivalued tuple\n",
    "t=(10,20,30)\n",
    "t=10,20,30\n",
    "t=(10,20,30,)\n",
    "t=10,20,30,\n",
    "\n",
    "\n",
    "#By using tuple function\n",
    "#Eg1:\n",
    "l=[10,20,30,[40,50]]\n",
    "t=tuple(l)\n",
    "print(t)\n",
    "\n",
    "print(\"********************************************\")\n",
    "\n",
    "#eg2:  By using range and numbers\n",
    "t=tuple(range(1,11,2))\n",
    "print(t)\n",
    "\n",
    "print(\"********************************************\")\n",
    "\n",
    "#eg3:\n",
    "t=tuple('Manohar')\n",
    "print(t)\n",
    "\n",
    "print(\"********************************************\")\n",
    "\n",
    "#eg4:\n",
    "t=tuple('Manohar')\n",
    "for ch in t:\n",
    "    print(ch)\n",
    "\n",
    "print(\"********************************************\")\n",
    "    \n",
    "#with Dynamic or user from keyboard\n",
    "t=eval(input('Enter tuple values:'))\n",
    "print(t)"
   ]
  },
  {
   "cell_type": "code",
   "execution_count": 23,
   "id": "06f2e3dc",
   "metadata": {
    "scrolled": true
   },
   "outputs": [
    {
     "name": "stdout",
     "output_type": "stream",
     "text": [
      "10\n",
      "60\n",
      "(30, 40, 50)\n",
      "(10, 30, 50, 70)\n"
     ]
    }
   ],
   "source": [
    "#Accessing Elements of tuple by using index or slice operator\n",
    "\n",
    "#By using index:\n",
    "t=(10,20,30,40,50,60)\n",
    "print(t[0])             #10\n",
    "print(t[-1])            #60\n",
    "#print(t[100])           #out of range index error\n",
    "\n",
    "\n",
    "#By using slice Operator:\n",
    "t=(10,20,30,40,50,60,70,80)\n",
    "print(t[2:5])  #(30,40,50)\n",
    "print(t[::2])  #(10,30,50,70)"
   ]
  },
  {
   "cell_type": "code",
   "execution_count": 25,
   "id": "5dd4fb08",
   "metadata": {},
   "outputs": [
    {
     "name": "stdout",
     "output_type": "stream",
     "text": [
      "(10, 20, 30, 30, 40, 50)\n"
     ]
    },
    {
     "ename": "TypeError",
     "evalue": "can only concatenate tuple (not \"int\") to tuple",
     "output_type": "error",
     "traceback": [
      "\u001b[1;31m---------------------------------------------------------------------------\u001b[0m",
      "\u001b[1;31mTypeError\u001b[0m                                 Traceback (most recent call last)",
      "Cell \u001b[1;32mIn[25], line 11\u001b[0m\n\u001b[0;32m      9\u001b[0m t2\u001b[38;5;241m=\u001b[39mt\u001b[38;5;241m+\u001b[39mt1\n\u001b[0;32m     10\u001b[0m \u001b[38;5;28mprint\u001b[39m(t2)\n\u001b[1;32m---> 11\u001b[0m t3\u001b[38;5;241m=\u001b[39mt2\u001b[38;5;241m+\u001b[39m(\u001b[38;5;241m10\u001b[39m)\n\u001b[0;32m     12\u001b[0m \u001b[38;5;28mprint\u001b[39m(t3)\n",
      "\u001b[1;31mTypeError\u001b[0m: can only concatenate tuple (not \"int\") to tuple"
     ]
    }
   ],
   "source": [
    "#Mathematical Operators for tuple\n",
    "#1)Concatentation Operator        2)Repetition operator\n",
    "\n",
    "\n",
    "\n",
    "#1) Concatentation Operator\n",
    "t=(10,20,30)\n",
    "t1=(30,40,50)\n",
    "t2=t+t1\n",
    "print(t2)\n",
    "t3=t2+(10)      #Error we can't concat with int or string etc.. except tuple\n",
    "print(t3)"
   ]
  },
  {
   "cell_type": "code",
   "execution_count": 31,
   "id": "e330a2b0",
   "metadata": {},
   "outputs": [
    {
     "name": "stdout",
     "output_type": "stream",
     "text": [
      "(10, 20, 30, 10, 20, 30)\n",
      "****************************\n",
      "(10, 20, 30, 40, 10, 20, 30, 40, 10, 20, 30, 40)\n"
     ]
    }
   ],
   "source": [
    "#Repetition Operator\n",
    "t=(10,20,30)\n",
    "t1=t*2\n",
    "print(t1)\n",
    "print(\"****************************\")\n",
    "\n",
    "#eg:\n",
    "t1=(10,20)\n",
    "t2=(30,40)\n",
    "t3=t1+t2    #(10,20,30,40)\n",
    "t4=t3*3     #(10,20,30,40,10,20,30,40,10,20,30,40) \n",
    "print(t4)   #(10,20,30,40,10,20,30,40,10,20,30,40)"
   ]
  },
  {
   "cell_type": "code",
   "execution_count": 42,
   "id": "0a970c61",
   "metadata": {},
   "outputs": [
    {
     "name": "stdout",
     "output_type": "stream",
     "text": [
      "True\n",
      "False\n",
      "False\n",
      "True\n",
      "***************************************\n",
      "True\n",
      "False\n",
      "True\n",
      "True\n",
      "***************************************\n",
      "True\n",
      "False\n",
      "False\n",
      "False\n",
      "True\n"
     ]
    }
   ],
   "source": [
    "#Equality and Relational and Membership Operators for tuple:\n",
    "\n",
    "\n",
    "#Equality Operators:\n",
    "# ==,  !=\n",
    "\n",
    "t1=('Cat','Dog','Rat')\n",
    "t2=('Cat','Dog','Rat')\n",
    "t3=('CAT','DOG','RAT')\n",
    "t4=('Rat','Dog','Cat')\n",
    "print(t1==t2)  #True\n",
    "print(t1==t3)  #False\n",
    "print(t1==t4)  #False\n",
    "print(t1!=t3)  #True\n",
    "\n",
    "print(\"***************************************\")\n",
    "\n",
    "#Relational Operators:\n",
    "# <,<=,>,>=\n",
    "t1=(10,20,30)\n",
    "t2=(30,40,50)\n",
    "print(t1<t2)  #True\n",
    "print(t1>t2)  #False\n",
    "\n",
    "t1=(10,20,30)\n",
    "t2=(10,5,70)\n",
    "print(t1>t2)  #True\n",
    "\n",
    "\n",
    "t1=(10,20,30)\n",
    "t2=(10,20,30,100,40,50)\n",
    "print(t1<t2)  #True\n",
    "\n",
    "print(\"***************************************\")\n",
    "\n",
    "#Membership operators:\n",
    "# in, not in\n",
    "t1=(10,20,30)\n",
    "t2=(40,50,60)\n",
    "print(10 in t1)  #True\n",
    "print(40 in t1)  #False\n",
    "print(60 in t1)  #False\n",
    "print(100 in t1) #False\n",
    "print(100 not in t1)  #True"
   ]
  },
  {
   "cell_type": "code",
   "execution_count": null,
   "id": "c9f51e66",
   "metadata": {},
   "outputs": [],
   "source": []
  },
  {
   "cell_type": "code",
   "execution_count": 51,
   "id": "11c6c60d",
   "metadata": {},
   "outputs": [
    {
     "name": "stdout",
     "output_type": "stream",
     "text": [
      "3\n",
      "**************\n",
      "2\n",
      "0\n",
      "**************\n",
      "1\n"
     ]
    },
    {
     "ename": "ValueError",
     "evalue": "tuple.index(x): x not in tuple",
     "output_type": "error",
     "traceback": [
      "\u001b[1;31m---------------------------------------------------------------------------\u001b[0m",
      "\u001b[1;31mValueError\u001b[0m                                Traceback (most recent call last)",
      "Cell \u001b[1;32mIn[51], line 25\u001b[0m\n\u001b[0;32m     23\u001b[0m t\u001b[38;5;241m=\u001b[39m(\u001b[38;5;241m1\u001b[39m,\u001b[38;5;241m10\u001b[39m,\u001b[38;5;241m20\u001b[39m,\u001b[38;5;241m30\u001b[39m,\u001b[38;5;241m10\u001b[39m)\n\u001b[0;32m     24\u001b[0m \u001b[38;5;28mprint\u001b[39m(t\u001b[38;5;241m.\u001b[39mindex(\u001b[38;5;241m10\u001b[39m))  \u001b[38;5;66;03m#1\u001b[39;00m\n\u001b[1;32m---> 25\u001b[0m \u001b[38;5;28mprint\u001b[39m(t\u001b[38;5;241m.\u001b[39mindex(\u001b[38;5;241m40\u001b[39m))\n",
      "\u001b[1;31mValueError\u001b[0m: tuple.index(x): x not in tuple"
     ]
    }
   ],
   "source": [
    "#Important methods and functions in tuple\n",
    "#1) len()   2) count()   3)index()\n",
    "\n",
    "#1) len()\n",
    "#it returns no of characters to the tuple\n",
    "\n",
    "t=(10,20,30)\n",
    "print(len(t))   #3\n",
    "\n",
    "print(\"**************\")\n",
    "\n",
    "#count()\n",
    "#To know no of occurance of specified element in tuple we use count()\n",
    "\n",
    "t=(10,0,20,30,10,5,0,20)\n",
    "print(t.count(0))  #2\n",
    "print(t.count(7))  #0\n",
    "\n",
    "print(\"**************\")\n",
    "\n",
    "#3) index()\n",
    "#Returns index of first occurances of specified element\n",
    "t=(1,10,20,30,10)\n",
    "print(t.index(10))  #1\n",
    "print(t.index(40))  #element is not availble so we will get error"
   ]
  },
  {
   "cell_type": "code",
   "execution_count": null,
   "id": "1aa1db1a",
   "metadata": {},
   "outputs": [],
   "source": []
  },
  {
   "cell_type": "code",
   "execution_count": 58,
   "id": "c2f4e4fa",
   "metadata": {},
   "outputs": [
    {
     "name": "stdout",
     "output_type": "stream",
     "text": [
      "Original tuple is: (10, 20, 30)\n",
      "Reverse tuple is: (30, 20, 10)\n"
     ]
    }
   ],
   "source": [
    "#Reversing and sorting elements of tuple:\n",
    "\n",
    "#reversed()\n",
    "t=(10,20,30)\n",
    "t1=reversed(t)\n",
    "t2=tuple(t1)\n",
    "print('Original tuple is:',t)\n",
    "print('Reverse tuple is:',t2)"
   ]
  },
  {
   "cell_type": "code",
   "execution_count": 65,
   "id": "4a8c7236",
   "metadata": {},
   "outputs": [
    {
     "name": "stdout",
     "output_type": "stream",
     "text": [
      "The orginal tuple is: (10, 20, 5, 10, 1, 0, 4)\n",
      "The sorted order is: (0, 1, 4, 5, 10, 10, 20)\n",
      "\n",
      "**********************************\n",
      "\n",
      "The orginal tuple is: (10, 20, 5, 10, 1, 0, 4)\n",
      "The sorted decending order is: (20, 10, 10, 5, 4, 1, 0)\n"
     ]
    }
   ],
   "source": [
    "#Sorting elements of tuple\n",
    "#sorted()\n",
    "\n",
    "t=(10,20,5,10,1,0,4)\n",
    "t1=sorted(t)\n",
    "t2=tuple(t1)\n",
    "print('The orginal tuple is:',t)\n",
    "print('The sorted order is:',t2)\n",
    "print(\"\\n**********************************\\n\")\n",
    "#decending perform of tuple \n",
    "t=(10,20,5,10,1,0,4)\n",
    "t1=sorted(t,reverse=True)\n",
    "t2=tuple(t1)\n",
    "print('The orginal tuple is:',t)\n",
    "print('The sorted decending order is:',t2)"
   ]
  },
  {
   "cell_type": "code",
   "execution_count": 67,
   "id": "ed27b252",
   "metadata": {},
   "outputs": [
    {
     "name": "stdout",
     "output_type": "stream",
     "text": [
      "maximum value is: 100\n",
      "minimum value is: 0\n"
     ]
    }
   ],
   "source": [
    "#max() and min() functions of tuple\n",
    "t=(10,20,100,0,50)\n",
    "print('maximum value is:',max(t))\n",
    "print('minimum value is:',min(t))"
   ]
  },
  {
   "cell_type": "code",
   "execution_count": null,
   "id": "154a8a82",
   "metadata": {},
   "outputs": [],
   "source": []
  },
  {
   "cell_type": "code",
   "execution_count": null,
   "id": "abde2de9",
   "metadata": {},
   "outputs": [],
   "source": [
    "#tuple Packing and unpacking\n"
   ]
  },
  {
   "cell_type": "code",
   "execution_count": null,
   "id": "9cff4e2f",
   "metadata": {},
   "outputs": [],
   "source": []
  },
  {
   "cell_type": "code",
   "execution_count": null,
   "id": "5e0597cd",
   "metadata": {},
   "outputs": [],
   "source": []
  },
  {
   "cell_type": "code",
   "execution_count": null,
   "id": "ed14df67",
   "metadata": {},
   "outputs": [],
   "source": []
  },
  {
   "cell_type": "code",
   "execution_count": null,
   "id": "26d01fa8",
   "metadata": {},
   "outputs": [],
   "source": []
  },
  {
   "cell_type": "code",
   "execution_count": null,
   "id": "cea03f44",
   "metadata": {},
   "outputs": [],
   "source": []
  },
  {
   "cell_type": "code",
   "execution_count": null,
   "id": "1ebe122f",
   "metadata": {},
   "outputs": [],
   "source": []
  },
  {
   "cell_type": "code",
   "execution_count": null,
   "id": "65b5b199",
   "metadata": {},
   "outputs": [],
   "source": []
  },
  {
   "cell_type": "code",
   "execution_count": null,
   "id": "d0642065",
   "metadata": {},
   "outputs": [],
   "source": []
  },
  {
   "cell_type": "code",
   "execution_count": null,
   "id": "dda419f8",
   "metadata": {},
   "outputs": [],
   "source": []
  },
  {
   "cell_type": "code",
   "execution_count": null,
   "id": "2781d15d",
   "metadata": {},
   "outputs": [],
   "source": []
  },
  {
   "cell_type": "code",
   "execution_count": null,
   "id": "a030ffc7",
   "metadata": {},
   "outputs": [],
   "source": []
  },
  {
   "cell_type": "code",
   "execution_count": null,
   "id": "b6f32428",
   "metadata": {},
   "outputs": [],
   "source": []
  },
  {
   "cell_type": "code",
   "execution_count": null,
   "id": "3f655020",
   "metadata": {},
   "outputs": [],
   "source": []
  },
  {
   "cell_type": "code",
   "execution_count": null,
   "id": "de78ad04",
   "metadata": {},
   "outputs": [],
   "source": []
  }
 ],
 "metadata": {
  "kernelspec": {
   "display_name": "Python 3 (ipykernel)",
   "language": "python",
   "name": "python3"
  },
  "language_info": {
   "codemirror_mode": {
    "name": "ipython",
    "version": 3
   },
   "file_extension": ".py",
   "mimetype": "text/x-python",
   "name": "python",
   "nbconvert_exporter": "python",
   "pygments_lexer": "ipython3",
   "version": "3.11.5"
  }
 },
 "nbformat": 4,
 "nbformat_minor": 5
}
