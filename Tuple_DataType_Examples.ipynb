{
 "cells": [
  {
   "cell_type": "code",
   "execution_count": null,
   "id": "d477161a",
   "metadata": {},
   "outputs": [],
   "source": [
    "#Tuple Main points\n",
    "#1) Order is applicable or preserved\n",
    "#2)Duplicates are allowed\n",
    "#3)Hetrogenous Elements are allowed(int,string,list,tuple etc..)\n",
    "#4)Indexing and slicing are allowed\n",
    "#5) It is Imuteable( Once we add content in tuple we can't edit)\n",
    "#6) Representa as ( ) but it's optional"
   ]
  },
  {
   "cell_type": "code",
   "execution_count": 5,
   "id": "56755be1",
   "metadata": {},
   "outputs": [
    {
     "name": "stdout",
     "output_type": "stream",
     "text": [
      "<class 'tuple'>\n",
      "<class 'tuple'>\n",
      "(10, 'Manohar', 10, 30, [40, 50])\n",
      "(10, 'Manohar', 20, 30, [40, 50])\n",
      "10\n",
      "[40, 50]\n",
      "('Manohar', 10, 30)\n"
     ]
    }
   ],
   "source": [
    "t=(10,'Manohar',10,30,[40,50])\n",
    "t1=10,'Manohar',20,30,[40,50]\n",
    "print(type(t))\n",
    "print(type(t1))\n",
    "print(t)\n",
    "print(t1)\n",
    "print(t[0])\n",
    "print(t[-1])\n",
    "print(t[1:4])"
   ]
  },
  {
   "cell_type": "code",
   "execution_count": 7,
   "id": "93f886ad",
   "metadata": {},
   "outputs": [
    {
     "ename": "TypeError",
     "evalue": "'tuple' object does not support item assignment",
     "output_type": "error",
     "traceback": [
      "\u001b[1;31m---------------------------------------------------------------------------\u001b[0m",
      "\u001b[1;31mTypeError\u001b[0m                                 Traceback (most recent call last)",
      "Cell \u001b[1;32mIn[7], line 3\u001b[0m\n\u001b[0;32m      1\u001b[0m \u001b[38;5;66;03m#Eg:\u001b[39;00m\n\u001b[0;32m      2\u001b[0m t\u001b[38;5;241m=\u001b[39m(\u001b[38;5;241m10\u001b[39m,\u001b[38;5;241m20\u001b[39m,\u001b[38;5;241m30\u001b[39m,\u001b[38;5;241m40\u001b[39m)\n\u001b[1;32m----> 3\u001b[0m t[\u001b[38;5;241m0\u001b[39m]\u001b[38;5;241m=\u001b[39m\u001b[38;5;241m77\u001b[39m\n\u001b[0;32m      4\u001b[0m \u001b[38;5;28mprint\u001b[39m(t)\n",
      "\u001b[1;31mTypeError\u001b[0m: 'tuple' object does not support item assignment"
     ]
    }
   ],
   "source": [
    "#Eg:\n",
    "t=(10,20,30,40)\n",
    "t[0]=77        #error because its imuteable\n",
    "print(t)"
   ]
  },
  {
   "cell_type": "code",
   "execution_count": 10,
   "id": "9a052f1e",
   "metadata": {},
   "outputs": [
    {
     "name": "stdout",
     "output_type": "stream",
     "text": [
      "<class 'int'>\n",
      "<class 'tuple'>\n",
      "10\n",
      "(10, 20, 'Manohar')\n",
      "*****************************\n",
      "<class 'tuple'>\n",
      "(10,)\n"
     ]
    }
   ],
   "source": [
    "#Single value tuple:\n",
    "#If we are assiging a single value in tuple it won't consider as tuple it will consider as int below the example\n",
    "\n",
    "t=(10)               #it will consider as int\n",
    "t1=(10,20,'Manohar')\n",
    "print(type(t))          #int\n",
    "print(type(t1))         #tuple\n",
    "print(t)                #10\n",
    "print(t1)               #(10,20,'Manohar')\n",
    "\n",
    "\n",
    "print(\"*****************************\")\n",
    "#if you want to pass single value in tuple we have follow below syntax or method\n",
    "t=(10,)\n",
    "print(type(t))\n",
    "print(t)"
   ]
  },
  {
   "cell_type": "code",
   "execution_count": 19,
   "id": "4d1377db",
   "metadata": {},
   "outputs": [
    {
     "name": "stdout",
     "output_type": "stream",
     "text": [
      "(10, 20, 30, [40, 50])\n",
      "********************************************\n",
      "(1, 3, 5, 7, 9)\n",
      "********************************************\n",
      "('M', 'a', 'n', 'o', 'h', 'a', 'r')\n",
      "********************************************\n",
      "M\n",
      "a\n",
      "n\n",
      "o\n",
      "h\n",
      "a\n",
      "r\n",
      "********************************************\n",
      "Enter tuple values:10,20\n",
      "(10, 20)\n"
     ]
    }
   ],
   "source": [
    "#Creation of tuple object\n",
    "\n",
    "\n",
    "#Empty tuple\n",
    "t=()\n",
    "\n",
    "#single valued tuple\n",
    "t=(10,)\n",
    "t=10,\n",
    "\n",
    "#Multivalued tuple\n",
    "t=(10,20,30)\n",
    "t=10,20,30\n",
    "t=(10,20,30,)\n",
    "t=10,20,30,\n",
    "\n",
    "\n",
    "#By using tuple function\n",
    "#Eg1:\n",
    "l=[10,20,30,[40,50]]\n",
    "t=tuple(l)\n",
    "print(t)\n",
    "\n",
    "print(\"********************************************\")\n",
    "\n",
    "#eg2:  By using range and numbers\n",
    "t=tuple(range(1,11,2))\n",
    "print(t)\n",
    "\n",
    "print(\"********************************************\")\n",
    "\n",
    "#eg3:\n",
    "t=tuple('Manohar')\n",
    "print(t)\n",
    "\n",
    "print(\"********************************************\")\n",
    "\n",
    "#eg4:\n",
    "t=tuple('Manohar')\n",
    "for ch in t:\n",
    "    print(ch)\n",
    "\n",
    "print(\"********************************************\")\n",
    "    \n",
    "#with Dynamic or user from keyboard\n",
    "t=eval(input('Enter tuple values:'))\n",
    "print(t)"
   ]
  },
  {
   "cell_type": "code",
   "execution_count": 23,
   "id": "c9f84bfa",
   "metadata": {
    "scrolled": true
   },
   "outputs": [
    {
     "name": "stdout",
     "output_type": "stream",
     "text": [
      "10\n",
      "60\n",
      "(30, 40, 50)\n",
      "(10, 30, 50, 70)\n"
     ]
    }
   ],
   "source": [
    "#Accessing Elements of tuple by using index or slice operator\n",
    "\n",
    "#By using index:\n",
    "t=(10,20,30,40,50,60)\n",
    "print(t[0])             #10\n",
    "print(t[-1])            #60\n",
    "#print(t[100])           #out of range index error\n",
    "\n",
    "\n",
    "#By using slice Operator:\n",
    "t=(10,20,30,40,50,60,70,80)\n",
    "print(t[2:5])  #(30,40,50)\n",
    "print(t[::2])  #(10,30,50,70)"
   ]
  },
  {
   "cell_type": "code",
   "execution_count": 25,
   "id": "15efe869",
   "metadata": {},
   "outputs": [
    {
     "name": "stdout",
     "output_type": "stream",
     "text": [
      "(10, 20, 30, 30, 40, 50)\n"
     ]
    },
    {
     "ename": "TypeError",
     "evalue": "can only concatenate tuple (not \"int\") to tuple",
     "output_type": "error",
     "traceback": [
      "\u001b[1;31m---------------------------------------------------------------------------\u001b[0m",
      "\u001b[1;31mTypeError\u001b[0m                                 Traceback (most recent call last)",
      "Cell \u001b[1;32mIn[25], line 11\u001b[0m\n\u001b[0;32m      9\u001b[0m t2\u001b[38;5;241m=\u001b[39mt\u001b[38;5;241m+\u001b[39mt1\n\u001b[0;32m     10\u001b[0m \u001b[38;5;28mprint\u001b[39m(t2)\n\u001b[1;32m---> 11\u001b[0m t3\u001b[38;5;241m=\u001b[39mt2\u001b[38;5;241m+\u001b[39m(\u001b[38;5;241m10\u001b[39m)\n\u001b[0;32m     12\u001b[0m \u001b[38;5;28mprint\u001b[39m(t3)\n",
      "\u001b[1;31mTypeError\u001b[0m: can only concatenate tuple (not \"int\") to tuple"
     ]
    }
   ],
   "source": [
    "#Mathematical Operators for tuple\n",
    "#1)Concatentation Operator        2)Repetition operator\n",
    "\n",
    "\n",
    "\n",
    "#1) Concatentation Operator\n",
    "t=(10,20,30)\n",
    "t1=(30,40,50)\n",
    "t2=t+t1\n",
    "print(t2)\n",
    "t3=t2+(10)      #Error we can't concat with int or string etc.. except tuple\n",
    "print(t3)"
   ]
  },
  {
   "cell_type": "code",
   "execution_count": 28,
   "id": "a449f15e",
   "metadata": {},
   "outputs": [
    {
     "name": "stdout",
     "output_type": "stream",
     "text": [
      "(10, 20, 30, 10, 20, 30)\n"
     ]
    }
   ],
   "source": [
    "#Repetition Operator\n",
    "t=(10,20,30)\n",
    "t1=t*2\n",
    "print(t1)"
   ]
  },
  {
   "cell_type": "code",
   "execution_count": null,
   "id": "3de3f58e",
   "metadata": {},
   "outputs": [],
   "source": []
  },
  {
   "cell_type": "code",
   "execution_count": null,
   "id": "c4b0124d",
   "metadata": {},
   "outputs": [],
   "source": []
  },
  {
   "cell_type": "code",
   "execution_count": null,
   "id": "785c1a8f",
   "metadata": {},
   "outputs": [],
   "source": []
  },
  {
   "cell_type": "code",
   "execution_count": null,
   "id": "9ca915de",
   "metadata": {},
   "outputs": [],
   "source": []
  },
  {
   "cell_type": "code",
   "execution_count": null,
   "id": "64a5c6fc",
   "metadata": {},
   "outputs": [],
   "source": []
  },
  {
   "cell_type": "code",
   "execution_count": null,
   "id": "4a5f614a",
   "metadata": {},
   "outputs": [],
   "source": []
  },
  {
   "cell_type": "code",
   "execution_count": null,
   "id": "3ebff518",
   "metadata": {},
   "outputs": [],
   "source": []
  },
  {
   "cell_type": "code",
   "execution_count": null,
   "id": "6f810856",
   "metadata": {},
   "outputs": [],
   "source": []
  },
  {
   "cell_type": "code",
   "execution_count": null,
   "id": "851bf399",
   "metadata": {},
   "outputs": [],
   "source": []
  },
  {
   "cell_type": "code",
   "execution_count": null,
   "id": "c75f046d",
   "metadata": {},
   "outputs": [],
   "source": []
  },
  {
   "cell_type": "code",
   "execution_count": null,
   "id": "30a3cb23",
   "metadata": {},
   "outputs": [],
   "source": []
  },
  {
   "cell_type": "code",
   "execution_count": null,
   "id": "c9b7c36c",
   "metadata": {},
   "outputs": [],
   "source": []
  },
  {
   "cell_type": "code",
   "execution_count": null,
   "id": "ed2b381d",
   "metadata": {},
   "outputs": [],
   "source": []
  },
  {
   "cell_type": "code",
   "execution_count": null,
   "id": "e62382e2",
   "metadata": {},
   "outputs": [],
   "source": []
  },
  {
   "cell_type": "code",
   "execution_count": null,
   "id": "e9680276",
   "metadata": {},
   "outputs": [],
   "source": []
  },
  {
   "cell_type": "code",
   "execution_count": null,
   "id": "2a7ddeb5",
   "metadata": {},
   "outputs": [],
   "source": []
  },
  {
   "cell_type": "code",
   "execution_count": null,
   "id": "1cfad69b",
   "metadata": {},
   "outputs": [],
   "source": []
  },
  {
   "cell_type": "code",
   "execution_count": null,
   "id": "7b75f328",
   "metadata": {},
   "outputs": [],
   "source": []
  },
  {
   "cell_type": "code",
   "execution_count": null,
   "id": "16b5a1f1",
   "metadata": {},
   "outputs": [],
   "source": []
  },
  {
   "cell_type": "code",
   "execution_count": null,
   "id": "c9b57a73",
   "metadata": {},
   "outputs": [],
   "source": []
  },
  {
   "cell_type": "code",
   "execution_count": null,
   "id": "78f3f995",
   "metadata": {},
   "outputs": [],
   "source": []
  },
  {
   "cell_type": "code",
   "execution_count": null,
   "id": "6fe9ff91",
   "metadata": {},
   "outputs": [],
   "source": []
  },
  {
   "cell_type": "code",
   "execution_count": null,
   "id": "b12e41f5",
   "metadata": {},
   "outputs": [],
   "source": []
  }
 ],
 "metadata": {
  "kernelspec": {
   "display_name": "Python 3 (ipykernel)",
   "language": "python",
   "name": "python3"
  },
  "language_info": {
   "codemirror_mode": {
    "name": "ipython",
    "version": 3
   },
   "file_extension": ".py",
   "mimetype": "text/x-python",
   "name": "python",
   "nbconvert_exporter": "python",
   "pygments_lexer": "ipython3",
   "version": "3.11.5"
  }
 },
 "nbformat": 4,
 "nbformat_minor": 5
}
