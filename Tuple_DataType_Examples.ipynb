{
 "cells": [
  {
   "cell_type": "code",
   "execution_count": null,
   "id": "611efdd2",
   "metadata": {},
   "outputs": [],
   "source": [
    "#Tuple Main points\n",
    "#1) Order is applicable or preserved\n",
    "#2)Duplicates are allowed\n",
    "#3)Hetrogenous Elements are allowed(int,string,list,tuple etc..)\n",
    "#4)Indexing and slicing are allowed\n",
    "#5) It is Imuteable( Once we add content in tuple we can't edit)\n",
    "#6) Representa as ( ) but it's optional"
   ]
  },
  {
   "cell_type": "code",
   "execution_count": 5,
   "id": "18093ce6",
   "metadata": {},
   "outputs": [
    {
     "name": "stdout",
     "output_type": "stream",
     "text": [
      "<class 'tuple'>\n",
      "<class 'tuple'>\n",
      "(10, 'Manohar', 10, 30, [40, 50])\n",
      "(10, 'Manohar', 20, 30, [40, 50])\n",
      "10\n",
      "[40, 50]\n",
      "('Manohar', 10, 30)\n"
     ]
    }
   ],
   "source": [
    "t=(10,'Manohar',10,30,[40,50])\n",
    "t1=10,'Manohar',20,30,[40,50]\n",
    "print(type(t))\n",
    "print(type(t1))\n",
    "print(t)\n",
    "print(t1)\n",
    "print(t[0])\n",
    "print(t[-1])\n",
    "print(t[1:4])"
   ]
  },
  {
   "cell_type": "code",
   "execution_count": 7,
   "id": "fcbf27e5",
   "metadata": {},
   "outputs": [
    {
     "ename": "TypeError",
     "evalue": "'tuple' object does not support item assignment",
     "output_type": "error",
     "traceback": [
      "\u001b[1;31m---------------------------------------------------------------------------\u001b[0m",
      "\u001b[1;31mTypeError\u001b[0m                                 Traceback (most recent call last)",
      "Cell \u001b[1;32mIn[7], line 3\u001b[0m\n\u001b[0;32m      1\u001b[0m \u001b[38;5;66;03m#Eg:\u001b[39;00m\n\u001b[0;32m      2\u001b[0m t\u001b[38;5;241m=\u001b[39m(\u001b[38;5;241m10\u001b[39m,\u001b[38;5;241m20\u001b[39m,\u001b[38;5;241m30\u001b[39m,\u001b[38;5;241m40\u001b[39m)\n\u001b[1;32m----> 3\u001b[0m t[\u001b[38;5;241m0\u001b[39m]\u001b[38;5;241m=\u001b[39m\u001b[38;5;241m77\u001b[39m\n\u001b[0;32m      4\u001b[0m \u001b[38;5;28mprint\u001b[39m(t)\n",
      "\u001b[1;31mTypeError\u001b[0m: 'tuple' object does not support item assignment"
     ]
    }
   ],
   "source": [
    "#Eg:\n",
    "t=(10,20,30,40)\n",
    "t[0]=77        #error because its imuteable\n",
    "print(t)"
   ]
  },
  {
   "cell_type": "code",
   "execution_count": 10,
   "id": "083bdc95",
   "metadata": {},
   "outputs": [
    {
     "name": "stdout",
     "output_type": "stream",
     "text": [
      "<class 'int'>\n",
      "<class 'tuple'>\n",
      "10\n",
      "(10, 20, 'Manohar')\n",
      "*****************************\n",
      "<class 'tuple'>\n",
      "(10,)\n"
     ]
    }
   ],
   "source": [
    "#Single value tuple:\n",
    "#If we are assiging a single value in tuple it won't consider as tuple it will consider as int below the example\n",
    "\n",
    "t=(10)               #it will consider as int\n",
    "t1=(10,20,'Manohar')\n",
    "print(type(t))          #int\n",
    "print(type(t1))         #tuple\n",
    "print(t)                #10\n",
    "print(t1)               #(10,20,'Manohar')\n",
    "\n",
    "\n",
    "print(\"*****************************\")\n",
    "#if you want to pass single value in tuple we have follow below syntax or method\n",
    "t=(10,)\n",
    "print(type(t))\n",
    "print(t)"
   ]
  },
  {
   "cell_type": "code",
   "execution_count": 19,
   "id": "fc0f48dc",
   "metadata": {},
   "outputs": [
    {
     "name": "stdout",
     "output_type": "stream",
     "text": [
      "(10, 20, 30, [40, 50])\n",
      "********************************************\n",
      "(1, 3, 5, 7, 9)\n",
      "********************************************\n",
      "('M', 'a', 'n', 'o', 'h', 'a', 'r')\n",
      "********************************************\n",
      "M\n",
      "a\n",
      "n\n",
      "o\n",
      "h\n",
      "a\n",
      "r\n",
      "********************************************\n",
      "Enter tuple values:10,20\n",
      "(10, 20)\n"
     ]
    }
   ],
   "source": [
    "#Creation of tuple object\n",
    "\n",
    "\n",
    "#Empty tuple\n",
    "t=()\n",
    "\n",
    "#single valued tuple\n",
    "t=(10,)\n",
    "t=10,\n",
    "\n",
    "#Multivalued tuple\n",
    "t=(10,20,30)\n",
    "t=10,20,30\n",
    "t=(10,20,30,)\n",
    "t=10,20,30,\n",
    "\n",
    "\n",
    "#By using tuple function\n",
    "#Eg1:\n",
    "l=[10,20,30,[40,50]]\n",
    "t=tuple(l)\n",
    "print(t)\n",
    "\n",
    "print(\"********************************************\")\n",
    "\n",
    "#eg2:  By using range and numbers\n",
    "t=tuple(range(1,11,2))\n",
    "print(t)\n",
    "\n",
    "print(\"********************************************\")\n",
    "\n",
    "#eg3:\n",
    "t=tuple('Manohar')\n",
    "print(t)\n",
    "\n",
    "print(\"********************************************\")\n",
    "\n",
    "#eg4:\n",
    "t=tuple('Manohar')\n",
    "for ch in t:\n",
    "    print(ch)\n",
    "\n",
    "print(\"********************************************\")\n",
    "    \n",
    "#with Dynamic or user from keyboard\n",
    "t=eval(input('Enter tuple values:'))\n",
    "print(t)"
   ]
  },
  {
   "cell_type": "code",
   "execution_count": 23,
   "id": "b31b4701",
   "metadata": {
    "scrolled": true
   },
   "outputs": [
    {
     "name": "stdout",
     "output_type": "stream",
     "text": [
      "10\n",
      "60\n",
      "(30, 40, 50)\n",
      "(10, 30, 50, 70)\n"
     ]
    }
   ],
   "source": [
    "#Accessing Elements of tuple by using index or slice operator\n",
    "\n",
    "#By using index:\n",
    "t=(10,20,30,40,50,60)\n",
    "print(t[0])             #10\n",
    "print(t[-1])            #60\n",
    "#print(t[100])           #out of range index error\n",
    "\n",
    "\n",
    "#By using slice Operator:\n",
    "t=(10,20,30,40,50,60,70,80)\n",
    "print(t[2:5])  #(30,40,50)\n",
    "print(t[::2])  #(10,30,50,70)"
   ]
  },
  {
   "cell_type": "code",
   "execution_count": 25,
   "id": "3e61a17f",
   "metadata": {},
   "outputs": [
    {
     "name": "stdout",
     "output_type": "stream",
     "text": [
      "(10, 20, 30, 30, 40, 50)\n"
     ]
    },
    {
     "ename": "TypeError",
     "evalue": "can only concatenate tuple (not \"int\") to tuple",
     "output_type": "error",
     "traceback": [
      "\u001b[1;31m---------------------------------------------------------------------------\u001b[0m",
      "\u001b[1;31mTypeError\u001b[0m                                 Traceback (most recent call last)",
      "Cell \u001b[1;32mIn[25], line 11\u001b[0m\n\u001b[0;32m      9\u001b[0m t2\u001b[38;5;241m=\u001b[39mt\u001b[38;5;241m+\u001b[39mt1\n\u001b[0;32m     10\u001b[0m \u001b[38;5;28mprint\u001b[39m(t2)\n\u001b[1;32m---> 11\u001b[0m t3\u001b[38;5;241m=\u001b[39mt2\u001b[38;5;241m+\u001b[39m(\u001b[38;5;241m10\u001b[39m)\n\u001b[0;32m     12\u001b[0m \u001b[38;5;28mprint\u001b[39m(t3)\n",
      "\u001b[1;31mTypeError\u001b[0m: can only concatenate tuple (not \"int\") to tuple"
     ]
    }
   ],
   "source": [
    "#Mathematical Operators for tuple\n",
    "#1)Concatentation Operator        2)Repetition operator\n",
    "\n",
    "\n",
    "\n",
    "#1) Concatentation Operator\n",
    "t=(10,20,30)\n",
    "t1=(30,40,50)\n",
    "t2=t+t1\n",
    "print(t2)\n",
    "t3=t2+(10)      #Error we can't concat with int or string etc.. except tuple\n",
    "print(t3)"
   ]
  },
  {
   "cell_type": "code",
   "execution_count": 31,
   "id": "f961a53d",
   "metadata": {},
   "outputs": [
    {
     "name": "stdout",
     "output_type": "stream",
     "text": [
      "(10, 20, 30, 10, 20, 30)\n",
      "****************************\n",
      "(10, 20, 30, 40, 10, 20, 30, 40, 10, 20, 30, 40)\n"
     ]
    }
   ],
   "source": [
    "#Repetition Operator\n",
    "t=(10,20,30)\n",
    "t1=t*2\n",
    "print(t1)\n",
    "print(\"****************************\")\n",
    "\n",
    "#eg:\n",
    "t1=(10,20)\n",
    "t2=(30,40)\n",
    "t3=t1+t2    #(10,20,30,40)\n",
    "t4=t3*3     #(10,20,30,40,10,20,30,40,10,20,30,40) \n",
    "print(t4)   #(10,20,30,40,10,20,30,40,10,20,30,40)"
   ]
  },
  {
   "cell_type": "code",
   "execution_count": 42,
   "id": "3ff95352",
   "metadata": {},
   "outputs": [
    {
     "name": "stdout",
     "output_type": "stream",
     "text": [
      "True\n",
      "False\n",
      "False\n",
      "True\n",
      "***************************************\n",
      "True\n",
      "False\n",
      "True\n",
      "True\n",
      "***************************************\n",
      "True\n",
      "False\n",
      "False\n",
      "False\n",
      "True\n"
     ]
    }
   ],
   "source": [
    "#Equality and Relational and Membership Operators for tuple:\n",
    "\n",
    "\n",
    "#Equality Operators:\n",
    "# ==,  !=\n",
    "\n",
    "t1=('Cat','Dog','Rat')\n",
    "t2=('Cat','Dog','Rat')\n",
    "t3=('CAT','DOG','RAT')\n",
    "t4=('Rat','Dog','Cat')\n",
    "print(t1==t2)  #True\n",
    "print(t1==t3)  #False\n",
    "print(t1==t4)  #False\n",
    "print(t1!=t3)  #True\n",
    "\n",
    "print(\"***************************************\")\n",
    "\n",
    "#Relational Operators:\n",
    "# <,<=,>,>=\n",
    "t1=(10,20,30)\n",
    "t2=(30,40,50)\n",
    "print(t1<t2)  #True\n",
    "print(t1>t2)  #False\n",
    "\n",
    "t1=(10,20,30)\n",
    "t2=(10,5,70)\n",
    "print(t1>t2)  #True\n",
    "\n",
    "\n",
    "t1=(10,20,30)\n",
    "t2=(10,20,30,100,40,50)\n",
    "print(t1<t2)  #True\n",
    "\n",
    "print(\"***************************************\")\n",
    "\n",
    "#Membership operators:\n",
    "# in, not in\n",
    "t1=(10,20,30)\n",
    "t2=(40,50,60)\n",
    "print(10 in t1)  #True\n",
    "print(40 in t1)  #False\n",
    "print(60 in t1)  #False\n",
    "print(100 in t1) #False\n",
    "print(100 not in t1)  #True"
   ]
  },
  {
   "cell_type": "code",
   "execution_count": null,
   "id": "f9145d5f",
   "metadata": {},
   "outputs": [],
   "source": []
  },
  {
   "cell_type": "code",
   "execution_count": 51,
   "id": "9afaf053",
   "metadata": {},
   "outputs": [
    {
     "name": "stdout",
     "output_type": "stream",
     "text": [
      "3\n",
      "**************\n",
      "2\n",
      "0\n",
      "**************\n",
      "1\n"
     ]
    },
    {
     "ename": "ValueError",
     "evalue": "tuple.index(x): x not in tuple",
     "output_type": "error",
     "traceback": [
      "\u001b[1;31m---------------------------------------------------------------------------\u001b[0m",
      "\u001b[1;31mValueError\u001b[0m                                Traceback (most recent call last)",
      "Cell \u001b[1;32mIn[51], line 25\u001b[0m\n\u001b[0;32m     23\u001b[0m t\u001b[38;5;241m=\u001b[39m(\u001b[38;5;241m1\u001b[39m,\u001b[38;5;241m10\u001b[39m,\u001b[38;5;241m20\u001b[39m,\u001b[38;5;241m30\u001b[39m,\u001b[38;5;241m10\u001b[39m)\n\u001b[0;32m     24\u001b[0m \u001b[38;5;28mprint\u001b[39m(t\u001b[38;5;241m.\u001b[39mindex(\u001b[38;5;241m10\u001b[39m))  \u001b[38;5;66;03m#1\u001b[39;00m\n\u001b[1;32m---> 25\u001b[0m \u001b[38;5;28mprint\u001b[39m(t\u001b[38;5;241m.\u001b[39mindex(\u001b[38;5;241m40\u001b[39m))\n",
      "\u001b[1;31mValueError\u001b[0m: tuple.index(x): x not in tuple"
     ]
    }
   ],
   "source": [
    "#Important methods and functions in tuple\n",
    "#1) len()   2) count()   3)index()\n",
    "\n",
    "#1) len()\n",
    "#it returns no of characters to the tuple\n",
    "\n",
    "t=(10,20,30)\n",
    "print(len(t))   #3\n",
    "\n",
    "print(\"**************\")\n",
    "\n",
    "#count()\n",
    "#To know no of occurance of specified element in tuple we use count()\n",
    "\n",
    "t=(10,0,20,30,10,5,0,20)\n",
    "print(t.count(0))  #2\n",
    "print(t.count(7))  #0\n",
    "\n",
    "print(\"**************\")\n",
    "\n",
    "#3) index()\n",
    "#Returns index of first occurances of specified element\n",
    "t=(1,10,20,30,10)\n",
    "print(t.index(10))  #1\n",
    "print(t.index(40))  #element is not availble so we will get error"
   ]
  },
  {
   "cell_type": "code",
   "execution_count": null,
   "id": "9292b37f",
   "metadata": {},
   "outputs": [],
   "source": []
  },
  {
   "cell_type": "code",
   "execution_count": 58,
   "id": "f65a5c10",
   "metadata": {},
   "outputs": [
    {
     "name": "stdout",
     "output_type": "stream",
     "text": [
      "Original tuple is: (10, 20, 30)\n",
      "Reverse tuple is: (30, 20, 10)\n"
     ]
    }
   ],
   "source": [
    "#Reversing and sorting elements of tuple:\n",
    "\n",
    "#reversed()\n",
    "t=(10,20,30)\n",
    "t1=reversed(t)\n",
    "t2=tuple(t1)\n",
    "print('Original tuple is:',t)\n",
    "print('Reverse tuple is:',t2)"
   ]
  },
  {
   "cell_type": "code",
   "execution_count": 65,
   "id": "6b60c4ad",
   "metadata": {},
   "outputs": [
    {
     "name": "stdout",
     "output_type": "stream",
     "text": [
      "The orginal tuple is: (10, 20, 5, 10, 1, 0, 4)\n",
      "The sorted order is: (0, 1, 4, 5, 10, 10, 20)\n",
      "\n",
      "**********************************\n",
      "\n",
      "The orginal tuple is: (10, 20, 5, 10, 1, 0, 4)\n",
      "The sorted decending order is: (20, 10, 10, 5, 4, 1, 0)\n"
     ]
    }
   ],
   "source": [
    "#Sorting elements of tuple\n",
    "#sorted()\n",
    "\n",
    "t=(10,20,5,10,1,0,4)\n",
    "t1=sorted(t)\n",
    "t2=tuple(t1)\n",
    "print('The orginal tuple is:',t)\n",
    "print('The sorted order is:',t2)\n",
    "print(\"\\n**********************************\\n\")\n",
    "#decending perform of tuple \n",
    "t=(10,20,5,10,1,0,4)\n",
    "t1=sorted(t,reverse=True)\n",
    "t2=tuple(t1)\n",
    "print('The orginal tuple is:',t)\n",
    "print('The sorted decending order is:',t2)"
   ]
  },
  {
   "cell_type": "code",
   "execution_count": 67,
   "id": "159024fa",
   "metadata": {},
   "outputs": [
    {
     "name": "stdout",
     "output_type": "stream",
     "text": [
      "maximum value is: 100\n",
      "minimum value is: 0\n"
     ]
    }
   ],
   "source": [
    "#max() and min() functions of tuple\n",
    "t=(10,20,100,0,50)\n",
    "print('maximum value is:',max(t))\n",
    "print('minimum value is:',min(t))"
   ]
  },
  {
   "cell_type": "code",
   "execution_count": null,
   "id": "11cb8cf1",
   "metadata": {},
   "outputs": [],
   "source": []
  },
  {
   "cell_type": "code",
   "execution_count": 73,
   "id": "766e42d9",
   "metadata": {},
   "outputs": [
    {
     "name": "stdout",
     "output_type": "stream",
     "text": [
      "(10, 20, [30, 40], 40)\n",
      "10 20 [30, 40, 50] 60\n",
      "10\n",
      "[20, [30, 40, 50], 60]\n"
     ]
    }
   ],
   "source": [
    "#tuple Packing and unpacking\n",
    "\n",
    "\n",
    "#tuple packing:\n",
    "a=10\n",
    "b=20\n",
    "c=[30,40]\n",
    "d=40\n",
    "t=a,b,c,d #or t=(a,b,c,d)\n",
    "print(t)\n",
    "\n",
    "#tuple unpacking\n",
    "t=(10,20,[30,40,50],60)\n",
    "a,b,c,d=t\n",
    "print(a,b,c,d)\n",
    "#a,b=t             #Value error\n",
    "a,*b=t\n",
    "print(a)\n",
    "print(b)"
   ]
  },
  {
   "cell_type": "code",
   "execution_count": null,
   "id": "69a4a974",
   "metadata": {},
   "outputs": [],
   "source": []
  },
  {
   "cell_type": "code",
   "execution_count": 76,
   "id": "33f162b5",
   "metadata": {},
   "outputs": [
    {
     "name": "stdout",
     "output_type": "stream",
     "text": [
      "<class 'generator'>\n",
      "(1, 2, 3, 4, 5)\n"
     ]
    }
   ],
   "source": [
    "#Tuple Comprehension method\n",
    "\n",
    "t=(x for x in range(1,6))\n",
    "print(type(t))             #generator object\n",
    "\n",
    "\n",
    "t=(x for x in range(1,6))\n",
    "t1=tuple(t)\n",
    "print(t1)"
   ]
  },
  {
   "cell_type": "code",
   "execution_count": null,
   "id": "96f83ece",
   "metadata": {},
   "outputs": [],
   "source": []
  },
  {
   "cell_type": "code",
   "execution_count": 79,
   "id": "088d54ca",
   "metadata": {},
   "outputs": [
    {
     "ename": "TypeError",
     "evalue": "unhashable type: 'list'",
     "output_type": "error",
     "traceback": [
      "\u001b[1;31m---------------------------------------------------------------------------\u001b[0m",
      "\u001b[1;31mTypeError\u001b[0m                                 Traceback (most recent call last)",
      "Cell \u001b[1;32mIn[79], line 1\u001b[0m\n\u001b[1;32m----> 1\u001b[0m s\u001b[38;5;241m=\u001b[39m{\u001b[38;5;241m10\u001b[39m,\u001b[38;5;241m20\u001b[39m,[\u001b[38;5;241m30\u001b[39m,\u001b[38;5;241m40\u001b[39m]}\n\u001b[0;32m      2\u001b[0m \u001b[38;5;28mprint\u001b[39m(s)\n",
      "\u001b[1;31mTypeError\u001b[0m: unhashable type: 'list'"
     ]
    }
   ],
   "source": [
    "s={10,20,[30,40]}\n",
    "print(s)"
   ]
  },
  {
   "cell_type": "code",
   "execution_count": 89,
   "id": "cc01e14f",
   "metadata": {},
   "outputs": [
    {
     "name": "stdout",
     "output_type": "stream",
     "text": [
      "False\n",
      "True\n",
      "2901567856376258855\n"
     ]
    }
   ],
   "source": [
    "#List vs tuple\n",
    "import collections\n",
    "l=[10,2,30]\n",
    "t=(10,0,20)\n",
    "print(isinstance(l,collections.abc.Hashable))\n",
    "print(isinstance(t,collections.abc.Hashable))\n",
    "print(hash(t))            #some random number we will get\n",
    "#print(hash(l))           #Error"
   ]
  },
  {
   "cell_type": "code",
   "execution_count": 98,
   "id": "ca14e39d",
   "metadata": {},
   "outputs": [
    {
     "name": "stdout",
     "output_type": "stream",
     "text": [
      "{10, 20, (10, 20, 30)}\n",
      "{(10, 20, 30): 'A'}\n"
     ]
    }
   ],
   "source": [
    "#set we are trying to add list we are getting error below is the example\n",
    "s={10,20}\n",
    "l=[10,20,30]\n",
    "t=(10,20,30)\n",
    "s.add(t)     #{10,20,(10,20,30)}\n",
    "print(s)\n",
    "#s.add(l)     #we will get error\n",
    "\n",
    "\n",
    "#dict we are trying to add list we are getting error below is the example\n",
    "d={}\n",
    "l=[10,20,30]\n",
    "t=(10,20,30)\n",
    "d[t]='A'\n",
    "print(d)\n",
    "#d[l]='A'    # error unhashable type: 'list'"
   ]
  },
  {
   "cell_type": "code",
   "execution_count": 94,
   "id": "05cd2b56",
   "metadata": {},
   "outputs": [
    {
     "name": "stdout",
     "output_type": "stream",
     "text": [
      "(10, 20, [30, 40])\n"
     ]
    }
   ],
   "source": [
    "t=(10,20,[30,40])\n",
    "print(t)"
   ]
  },
  {
   "cell_type": "code",
   "execution_count": null,
   "id": "16432df4",
   "metadata": {},
   "outputs": [],
   "source": []
  },
  {
   "cell_type": "code",
   "execution_count": 1,
   "id": "47a8d397",
   "metadata": {},
   "outputs": [
    {
     "name": "stdout",
     "output_type": "stream",
     "text": [
      "Enter Tuple of numbers:10,20\n",
      "The sum: 30\n",
      "The Average: 15.0\n"
     ]
    }
   ],
   "source": [
    "#WAP to take tuple of numbers from the keyboard and print sum and average\n",
    "t1=eval(input('Enter a first number:'))\n",
    "sum=0\n",
    "for x in t1:\n",
    "    sum=sum+x\n",
    "print('The sum is:',sum)\n",
    "print('The average:',sum/len(t))\n",
    "\n",
    "#         (or)\n",
    "#Method 2\n",
    "t=eval(input('Enter Tuple of numbers:'))\n",
    "print('The sum:',sum(t))\n",
    "print('The Average:',sum(t)/len(t))"
   ]
  },
  {
   "cell_type": "code",
   "execution_count": null,
   "id": "069f328d",
   "metadata": {},
   "outputs": [],
   "source": []
  }
 ],
 "metadata": {
  "kernelspec": {
   "display_name": "Python 3 (ipykernel)",
   "language": "python",
   "name": "python3"
  },
  "language_info": {
   "codemirror_mode": {
    "name": "ipython",
    "version": 3
   },
   "file_extension": ".py",
   "mimetype": "text/x-python",
   "name": "python",
   "nbconvert_exporter": "python",
   "pygments_lexer": "ipython3",
   "version": "3.11.5"
  }
 },
 "nbformat": 4,
 "nbformat_minor": 5
}
