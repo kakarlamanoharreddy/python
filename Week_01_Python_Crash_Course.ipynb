{
  "nbformat": 4,
  "nbformat_minor": 0,
  "metadata": {
    "colab": {
      "provenance": [],
      "authorship_tag": "ABX9TyMWP+X5fhd+fejuCv8VM2+j",
      "include_colab_link": true
    },
    "kernelspec": {
      "name": "python3",
      "display_name": "Python 3"
    },
    "language_info": {
      "name": "python"
    }
  },
  "cells": [
    {
      "cell_type": "markdown",
      "metadata": {
        "id": "view-in-github",
        "colab_type": "text"
      },
      "source": [
        "<a href=\"https://colab.research.google.com/github/iamchenchu/Peer-Learning-USD/blob/main/Week_01_Python_Crash_Course.ipynb\" target=\"_parent\"><img src=\"https://colab.research.google.com/assets/colab-badge.svg\" alt=\"Open In Colab\"/></a>"
      ]
    },
    {
      "cell_type": "markdown",
      "source": [
        "#### Topics Discussed 2nd March Saturday\n",
        "  1. What is programming language\n",
        "  2. Python advantages\n",
        "  3. Memory Representation\n",
        "  4. Data types : Integers, Float, Bool, None\n",
        "  5. Data Structures\n",
        "    1. List : Covered topic and it's methods\n",
        "    2. Tuple\n",
        "    3. Set\n",
        "    4. Dictionary\n",
        "    "
      ],
      "metadata": {
        "id": "4wWT44_GTBW1"
      }
    },
    {
      "cell_type": "markdown",
      "source": [
        "#### Programming Language :    \n",
        "    the language we use to communicate with any  PC/Lapop/System is called programming language.\n",
        "    Example : Python, Java, C, C++, Java Scripts etc\n",
        "\n",
        "#### Will System understand the programming language :   NO\n",
        "    Our system can not understand any programming language other than binary language, But the best thing is that every programming language will have a translator (Interpretor and Compiler) which converts the programming language into binary language before running the code.\n",
        "\n",
        "#### Interpretor and compiler :\n",
        "  Execution:\n",
        "\n",
        "     1.  Compiler: Converts the whole program to machine code at once, then\n",
        "         executes it.\n",
        "         Interpreter: Executes the program line-by-line without converting it to machine code first.\n",
        "      2. Speed:\n",
        "         Compiler: Execution is fast after compilation.\n",
        "         Interpreter: Execution is slower, as it happens line-by-line.\n",
        "      3. Error Reporting:\n",
        "         Compiler: Reports all errors after compilation, before execution.\n",
        "         Interpreter: Reports errors one by one as it executes.\n",
        "      4. Memory Usage:\n",
        "\n",
        "      5. Compiler: Might use more memory to store the compiled code.\n",
        "         Interpreter: Generally uses less memory during execution.\n",
        "\n"
      ],
      "metadata": {
        "id": "oWpNJkwm5Dlz"
      }
    },
    {
      "cell_type": "markdown",
      "source": [
        "#### About python\n",
        "\n",
        "  1. Python build by Guido Van Russom\n",
        "  2. Python is easy to read, understand and learn\n",
        "  3. Python is a hight level language\n",
        "  4. Python is Free and Open Sourse language\n",
        "  5. Python is portable language\n",
        "  6. Python used for ML/AI, Webdevlopment, Gaming etc\n"
      ],
      "metadata": {
        "id": "1ZcVoaOeSQtl"
      }
    },
    {
      "cell_type": "markdown",
      "source": [
        "#### Variables\n",
        "  Variables are containers for storing data values.\n",
        "\n",
        "  `x = 10`  # x is a variable and 10 is the value of a variable\n",
        "\n",
        "  `name = \"RajaRam\"` # name is variable, RajaRam is the value of a variable\n",
        "\n",
        "\n",
        "\n",
        "\n",
        "#### Basic Data Types in Python:\n",
        "\n",
        "\n",
        "    1. Integers (int): Represents whole numbers, positive or negative, without decimals. `Example: 5, -3.`\n",
        "    2. Floating-point numbers (float): Represents real numbers with decimal points. `Example: 3.14, -0.001.`\n",
        "    3. Booleans (bool): Represents two values: True or False. Useful for conditional expressions.\n",
        "\n",
        "    4. Strings (str): Represents sequences of characters enclosed in quotes. Strings are immutable, meaning they cannot be changed after they are created.\n",
        "      `Example: \"Hello, World!\".`\n",
        "    5. None : if we don't have any value to assign to the container/variable then we could assign `None` which means nothing."
      ],
      "metadata": {
        "id": "DzBtc6duS8mF"
      }
    },
    {
      "cell_type": "code",
      "source": [
        "# below are some identifiers or viariables of Human example\n",
        "name = \"Rajendra Veralli\"\n",
        "Height =  6\n",
        "salary = 100.5\n",
        "color = \"Light Color\"\n",
        "age = 26\n",
        "city = \"Karim nagar\"\n",
        "eye_color =  \"Black\"\n",
        "address = None # Case sensitive\n",
        "\n",
        "print(name, Height, age) # in case if u will see round brackets anywhere in the python, it's a function\n",
        "print(type(Height))\n",
        "print(type(salary))\n",
        "print(type(city))"
      ],
      "metadata": {
        "id": "qssltHYnACCQ",
        "colab": {
          "base_uri": "https://localhost:8080/"
        },
        "outputId": "aa98a88b-caa4-42f2-843c-a8280b970b54"
      },
      "execution_count": 2,
      "outputs": [
        {
          "output_type": "stream",
          "name": "stdout",
          "text": [
            "Rajendra Veralli 6 26\n",
            "<class 'int'>\n",
            "<class 'float'>\n",
            "<class 'str'>\n"
          ]
        }
      ]
    },
    {
      "cell_type": "markdown",
      "source": [
        "#### Functions :     \n",
        "We have 2 types of functions in python\n",
        "  1. Built-in Functions : print(), type(), sort()\n",
        "      * Every function will have the specific functionality\n",
        "          * `print() :` this function returns the value of varibale of which we pass as a parameter\n",
        "          * `type() :` this function return the type of data of varibale of which we pass as a parameter\n",
        "  2. User defined functions : the functions we create for our requirements, which we will learn very soon"
      ],
      "metadata": {
        "id": "Fjl6PYisXf7F"
      }
    },
    {
      "cell_type": "code",
      "source": [
        "# String and it's methods\n",
        "\"\"\"I am creating a string and I will try to explore all the possible methods or I will access elements of the\n",
        "shfhebf\n",
        "Fjhfjhf\n",
        "ajfhegfkef\n",
        "ajfhgefh\"\"\"\n",
        "\n",
        "name = 'Chenchu'\n",
        "name1 = \"Chenchu\"\n",
        "print(name )\n"
      ],
      "metadata": {
        "colab": {
          "base_uri": "https://localhost:8080/"
        },
        "id": "WjsYkS2t50cp",
        "outputId": "92aa27ac-de3a-4a07-f2d5-a1c6fb67f3b4"
      },
      "execution_count": 3,
      "outputs": [
        {
          "output_type": "stream",
          "name": "stdout",
          "text": [
            "Chenchu\n"
          ]
        }
      ]
    },
    {
      "cell_type": "code",
      "source": [
        "# String and accessing it's elements\n",
        "\n",
        "name  = \"NAJABAJAJAJARA\"\n",
        "print(name[-2])\n",
        "print(name[3])\n",
        "print(name[:4]) # Slicing, 0, 1, 2, 3\n",
        "print(name.count('A'))\n",
        "print(name.count(\"J\"))   # inbuilt method count(\"element\") it returns the number of occurances in the string\n",
        "\n"
      ],
      "metadata": {
        "colab": {
          "base_uri": "https://localhost:8080/"
        },
        "id": "RygWnzYk8vqQ",
        "outputId": "6b3fb7d6-358f-4fac-c9e7-da78c748b1dc"
      },
      "execution_count": 4,
      "outputs": [
        {
          "output_type": "stream",
          "name": "stdout",
          "text": [
            "R\n",
            "A\n",
            "NAJA\n",
            "7\n",
            "4\n"
          ]
        }
      ]
    },
    {
      "cell_type": "code",
      "source": [
        "first_name = \"Triveni\"\n",
        "last_name = \"Madamanchi\"\n",
        "\n",
        "print(first_name,last_name, end='---->>>>>>>>>>') # print(*args, sep=\" \", end ='\\n')\n",
        "print(first_name, last_name, sep =\"?????????\")"
      ],
      "metadata": {
        "colab": {
          "base_uri": "https://localhost:8080/"
        },
        "id": "Du-m4naF-ynN",
        "outputId": "c766e2df-f031-4533-8308-5dd6bcebd18e"
      },
      "execution_count": 5,
      "outputs": [
        {
          "output_type": "stream",
          "name": "stdout",
          "text": [
            "Triveni Madamanchi---->>>>>>>>>>Triveni?????????Madamanchi\n"
          ]
        }
      ]
    },
    {
      "cell_type": "markdown",
      "source": [
        "# Data Structures in python\n",
        "  `1. List`\n",
        "\n",
        "    * Characteristics: Mutable, ordered collection of items.\n",
        "    * Creation: my_list = [1, 2, 3] or using the list() constructor.\n",
        "    * Common Operations:\n",
        "        * Adding items: append(), extend(), insert()\n",
        "        * Removing items: remove(), pop(), clear()\n",
        "        * Other: sort(), reverse(), count(), index()\n",
        "        \n",
        "  `2. Tuple`\n",
        "\n",
        "    * Characteristics: Immutable, ordered.\n",
        "    * Creation: my_tuple = (1, 2, 3) or using the tuple() constructor.\n",
        "    * Common Operations:\n",
        "         * Accessing elements: via indexing my_tuple[0]\n",
        "         * Counting: count()\n",
        "         * Finding index: index()\n",
        "         * Note: Cannot change elements due to immutability.\n",
        "\n",
        "  `3. Set`\n",
        "\n",
        "    * Characteristics: Mutable, unordered, unique elements.\n",
        "    * Creation: my_set = {1, 2, 3} or using the set() constructor.\n",
        "    * Common Operations:\n",
        "         * Adding items: add()\n",
        "         * Removing items: remove(), discard(), pop(), clear()\n",
        "         * Set operations: union(), intersection(), difference(), symmetric_difference()\n",
        "    \n",
        "  \n",
        "  `4. Dictionary`\n",
        "  \n",
        "    * Characteristics: Mutable, unordered (ordered as of Python 3.7), key-value pairs.\n",
        "    * Creation: my_dict = {'key': 'value'} or using the dict() constructor.\n",
        "    * Common Operations:\n",
        "         * Adding/updating items: my_dict['key'] = 'value'\n",
        "         * Removing items: pop(), popitem(), clear()\n",
        "         * Accessing: keys(), values(), items()"
      ],
      "metadata": {
        "id": "aRR9x1WyUcCc"
      }
    },
    {
      "cell_type": "markdown",
      "source": [
        "#### Important List methods\n",
        "\n",
        "    1. `append(x):` Adds an item (x) to the end of the list.\n",
        "    2. `extend(iterable):` Extends the list by appending all the items from the iterable.\n",
        "    3. `insert(i, x):` Inserts an item (x) at a given position (i).\n",
        "    4. `remove(x):` Removes the first item from the list whose value is x. An error is raised if there is no such item.\n",
        "    5. `pop([i]):` Removes the item at the given position in the list, and returns it. If no index is specified, pop() removes and returns the last item in the list.\n",
        "    6. `clear():` Removes all items from the list. Equivalent to del a[:].\n",
        "    7. `index(x[, start[, end]]):` Returns the zero-based index in the list of the first item whose value is x. Raises a ValueError if there is no such item.\n",
        "    8. `count(x):` Returns the number of times x appears in the list.\n",
        "    9. `sort(key=None, reverse=False):` Sorts the items of the list in place (the arguments can be used for sort customization).\n",
        "    10. `reverse():` Reverses the elements of the list in place.\n",
        "    11. `copy():` Returns a shallow copy of the list. Equivalent to a[:]."
      ],
      "metadata": {
        "id": "0OKJ0jisT57-"
      }
    },
    {
      "cell_type": "code",
      "source": [
        "names_list = {\"Varsha Reddy\", \"Ananth\", \"Siva Priya\", \"Sai Teja\", \"Manohar Kakarla\", \"Sreelatha\", \"Karthik Renati\", \"Akshay Reddy\", \"Deepika\", \"Maha\", \"Sharanya\", \"Triveni Madamanchi\", \"Krishna Battula\", \"Raghu Vamshi Kodali\", \"Aravind Katta\"}\n",
        "\n",
        "usd = {\n",
        "    \"cse\" : {20, 10},\n",
        "    \"arts\" : {15, 11}\n",
        "}\n",
        "\n",
        "print(names_list)"
      ],
      "metadata": {
        "id": "5Wwbmf6NCy34",
        "colab": {
          "base_uri": "https://localhost:8080/"
        },
        "outputId": "49567dda-c54e-45b9-a774-824959a94dea"
      },
      "execution_count": 6,
      "outputs": [
        {
          "output_type": "stream",
          "name": "stdout",
          "text": [
            "{'Raghu Vamshi Kodali', 'Ananth', 'Krishna Battula', 'Sreelatha', 'Karthik Renati', 'Sharanya', 'Sai Teja', 'Siva Priya', 'Aravind Katta', 'Manohar Kakarla', 'Akshay Reddy', 'Deepika', 'Maha', 'Varsha Reddy', 'Triveni Madamanchi'}\n"
          ]
        }
      ]
    },
    {
      "cell_type": "code",
      "source": [
        "names = [\"Varsha Reddy\", \"Ananth\", \"Siva Priya\", \"Sai Teja\", \"Manohar Kakarla\", \"Sreelatha\"]\n",
        "print(names)"
      ],
      "metadata": {
        "colab": {
          "base_uri": "https://localhost:8080/"
        },
        "id": "F-J8ASBCDNNH",
        "outputId": "73bd1b29-1c2b-4bce-bec0-929b857e2837"
      },
      "execution_count": 7,
      "outputs": [
        {
          "output_type": "stream",
          "name": "stdout",
          "text": [
            "['Varsha Reddy', 'Ananth', 'Siva Priya', 'Sai Teja', 'Manohar Kakarla', 'Sreelatha']\n"
          ]
        }
      ]
    },
    {
      "cell_type": "code",
      "source": [
        "tuple_names = (\"Varsha Reddy\", \"Ananth\", \"Siva Priya\", \"Sai Teja\", \"Manohar Kakarla\", \"Sreelatha\", \"Sreelatha\")\n",
        "set_names = {\"Varsha Reddy\", \"Ananth\", \"Siva Priya\", \"Sai Teja\", \"Manohar Kakarla\", \"Sreelatha\", \"Sreelatha\"}\n",
        "print(tuple_names)\n",
        "print(set_names)"
      ],
      "metadata": {
        "colab": {
          "base_uri": "https://localhost:8080/"
        },
        "id": "dPnNoBSDDU9-",
        "outputId": "7eee14e3-8481-4e22-9a7a-1783290c772f"
      },
      "execution_count": 8,
      "outputs": [
        {
          "output_type": "stream",
          "name": "stdout",
          "text": [
            "('Varsha Reddy', 'Ananth', 'Siva Priya', 'Sai Teja', 'Manohar Kakarla', 'Sreelatha', 'Sreelatha')\n",
            "{'Manohar Kakarla', 'Sreelatha', 'Sai Teja', 'Varsha Reddy', 'Siva Priya', 'Ananth'}\n"
          ]
        }
      ]
    },
    {
      "cell_type": "code",
      "source": [
        "## Lists\n",
        "chenchu_tution = [\"Varsha Reddy\", \"Ananth\", \"Siva Priya\", \"Sai Teja\", \"Manohar Kakarla\", \"Sreelatha\"]\n",
        "print(chenchu_tution[-1])\n",
        "chenchu_tution.append(\"Eswar\")\n",
        "print(chenchu_tution)\n",
        "chenchu_tution.insert(3, \"Veralli\")\n",
        "print(names_list)\n",
        "\n",
        "ram_tution = [\"Sai Teja\", \"Manohar Kakarla\", \"Sreelatha\", \"Karthik Renati\", \"Akshay Reddy\"]\n",
        "chenchu_tution.extend(ram_tution)\n",
        "print(chenchu_tution)\n",
        "\n",
        "# To find the length of String, list, tuple..... we use inbuit function called len()\n",
        "print(len(chenchu_tution))\n",
        "print(len(ram_tution))\n",
        "name = \"Rajaram\"\n",
        "print(len(name))\n",
        "\n",
        "chenchu_tution.sort(reverse = True)     #function/ method overriding\n",
        "print(chenchu_tution)\n",
        "\n",
        "chenchu_tution.pop()\n",
        "del chenchu_tution\n",
        "\n",
        "\n"
      ],
      "metadata": {
        "colab": {
          "base_uri": "https://localhost:8080/"
        },
        "id": "o3hk57G2DkIr",
        "outputId": "5087cce7-c4e3-47dd-8bfa-d8e77e6f308b"
      },
      "execution_count": 9,
      "outputs": [
        {
          "output_type": "stream",
          "name": "stdout",
          "text": [
            "Sreelatha\n",
            "['Varsha Reddy', 'Ananth', 'Siva Priya', 'Sai Teja', 'Manohar Kakarla', 'Sreelatha', 'Eswar']\n",
            "{'Raghu Vamshi Kodali', 'Ananth', 'Krishna Battula', 'Sreelatha', 'Karthik Renati', 'Sharanya', 'Sai Teja', 'Siva Priya', 'Aravind Katta', 'Manohar Kakarla', 'Akshay Reddy', 'Deepika', 'Maha', 'Varsha Reddy', 'Triveni Madamanchi'}\n",
            "['Varsha Reddy', 'Ananth', 'Siva Priya', 'Veralli', 'Sai Teja', 'Manohar Kakarla', 'Sreelatha', 'Eswar', 'Sai Teja', 'Manohar Kakarla', 'Sreelatha', 'Karthik Renati', 'Akshay Reddy']\n",
            "13\n",
            "5\n",
            "7\n",
            "['Veralli', 'Varsha Reddy', 'Sreelatha', 'Sreelatha', 'Siva Priya', 'Sai Teja', 'Sai Teja', 'Manohar Kakarla', 'Manohar Kakarla', 'Karthik Renati', 'Eswar', 'Ananth', 'Akshay Reddy']\n"
          ]
        }
      ]
    },
    {
      "cell_type": "markdown",
      "source": [
        "# Expected Topics to be covered on 3rd March Sunday\n",
        "  1. Lists in more detail\n",
        "  2. Tuple and methods\n",
        "  3. Set and methods\n",
        "  4. Dictionary and methods\n",
        "  5. Concatenation\n",
        "  6. Type casting\n",
        "  7. Operators in python\n",
        "      * Arithmetic operators\n",
        "      * Assignment operators\n",
        "      * Comparison operators\n",
        "      * Logical operators\n",
        "      * Identity operators\n",
        "      * Membership operators\n",
        "      * Bitwise operators\n"
      ],
      "metadata": {
        "id": "LFxN46RJYXqc"
      }
    },
    {
      "cell_type": "code",
      "source": [
        "# Concatenation\n",
        "\n",
        "f_name = \"Manohar\"\n",
        "l_name = \"Reddy\"\n",
        "age = 20\n",
        "city = \"Nellore\"\n",
        "marks = 90\n",
        "\n",
        "print(f_name, l_name, age) #\n",
        "\n",
        "print(f_name +\" \"+l_name) # Concatenation\n",
        "print(f'My name is \"{f_name}\" {l_name}. I am from {city}. My age is {age}. I got {marks} marks.') # F String formatting\n",
        "\n",
        "\n"
      ],
      "metadata": {
        "id": "bL4M0YsK312K",
        "colab": {
          "base_uri": "https://localhost:8080/"
        },
        "outputId": "fcfc8df3-40a8-420c-8694-92f079eed230"
      },
      "execution_count": 10,
      "outputs": [
        {
          "output_type": "stream",
          "name": "stdout",
          "text": [
            "Manohar Reddy 20\n",
            "Manohar Reddy\n",
            "My name is \"Manohar\" Reddy. I am from Nellore. My age is 20. I got 90 marks.\n"
          ]
        }
      ]
    },
    {
      "cell_type": "code",
      "source": [
        "# Type casting\n",
        "\n",
        "a = 10\n",
        "print(type(a))\n",
        "\n",
        "a = float(a)\n",
        "print(type(a))\n",
        "\n",
        "c = 14.5\n",
        "print(type(c))\n",
        "print(int(c)) # I am asking to print for one time\n",
        "print(type(c))\n",
        "c = int(c)\n",
        "print(type(c))\n",
        "\n",
        "d = 300\n",
        "print(bool(d))\n",
        "\n",
        "# Data Structures casting\n",
        "\n",
        "list1 = [3, 2, 5, 4]\n",
        "print(type(list1))\n",
        "\n",
        "tuple1 = tuple(list1)\n",
        "print(tuple1)\n",
        "\n",
        "set1 = set(tuple1)\n",
        "set2 = set(list1)\n",
        "print(set1)\n",
        "print(set2)\n",
        "\n",
        "marks = (20, 10, 25, 30)\n",
        "print(type(marks)) # type() -> returns the type of data\n",
        "marks = list(marks)\n",
        "print(type(marks))"
      ],
      "metadata": {
        "colab": {
          "base_uri": "https://localhost:8080/"
        },
        "id": "2kArybon-DRI",
        "outputId": "bf5a1b2a-8020-49a6-d6c2-5c40b1f2da65"
      },
      "execution_count": 11,
      "outputs": [
        {
          "output_type": "stream",
          "name": "stdout",
          "text": [
            "<class 'int'>\n",
            "<class 'float'>\n",
            "<class 'float'>\n",
            "14\n",
            "<class 'float'>\n",
            "<class 'int'>\n",
            "True\n",
            "<class 'list'>\n",
            "(3, 2, 5, 4)\n",
            "{2, 3, 4, 5}\n",
            "{2, 3, 4, 5}\n",
            "<class 'tuple'>\n",
            "<class 'list'>\n"
          ]
        }
      ]
    },
    {
      "cell_type": "code",
      "source": [
        "# we can also make dictionaries from 2 different data structures\n",
        "# could be list and tuples, list and sets, tuples and sets or lists\n",
        "\n",
        "names = [\"rama\", \"krishna\", \"mahohar\",\"eswar\"]\n",
        "ages = {20, 30, 30, 50}\n",
        "\n",
        "dictionary = dict(zip(names, ages))\n",
        "print(dictionary)"
      ],
      "metadata": {
        "colab": {
          "base_uri": "https://localhost:8080/"
        },
        "id": "lZXasXd_AJOL",
        "outputId": "1de0dd66-03f9-4f9c-f211-b93ac70627b8"
      },
      "execution_count": 12,
      "outputs": [
        {
          "output_type": "stream",
          "name": "stdout",
          "text": [
            "{'rama': 50, 'krishna': 20, 'mahohar': 30}\n"
          ]
        }
      ]
    },
    {
      "cell_type": "code",
      "source": [
        "\n",
        "dictin1 = {\n",
        "    \"names\" : [\"rama\", \"krishna\", \"mahohar\",\"eswar\"],\n",
        "    \"ages\" : {20, 30, 30, 50}\n",
        "}\n",
        "\n",
        "print(dictin1)"
      ],
      "metadata": {
        "colab": {
          "base_uri": "https://localhost:8080/"
        },
        "id": "6u1W6ETKDH95",
        "outputId": "5d14c231-05a5-4e61-e594-70f7721bfb6f"
      },
      "execution_count": 13,
      "outputs": [
        {
          "output_type": "stream",
          "name": "stdout",
          "text": [
            "{'names': ['rama', 'krishna', 'mahohar', 'eswar'], 'ages': {50, 20, 30}}\n"
          ]
        }
      ]
    },
    {
      "cell_type": "code",
      "source": [
        "# set, tuple, list, diction -> in all of these data structures we can create nested ds\n",
        "\n",
        "names = [\"ram\", \"B\", \"C\", (\"d\", \"e\", \"f\")] # nested list\n",
        "print(names[0])\n",
        "print(names[-1][-1])\n",
        "\n",
        "\n",
        "names1 = [\"ram\", \"B\", \"C\", {\"d\", \"e\", \"f\"}] # nested list\n",
        "print()\n"
      ],
      "metadata": {
        "colab": {
          "base_uri": "https://localhost:8080/"
        },
        "id": "xhhNt4_uD6l_",
        "outputId": "08224f50-d46b-4506-8797-0e56ab9b5d19"
      },
      "execution_count": 14,
      "outputs": [
        {
          "output_type": "stream",
          "name": "stdout",
          "text": [
            "ram\n",
            "f\n",
            "\n"
          ]
        }
      ]
    },
    {
      "cell_type": "code",
      "source": [
        "# List\n",
        "list1 = [50, 60, 70, 'x', 'y', 'z', True, False]\n",
        "\n",
        "list1.append(\"A\")\n",
        "print(list1)\n",
        "\n",
        "list1.insert(3, 'S') # giving position and value\n",
        "print(list1)\n",
        "print(list1[3])\n",
        "list1.insert(1, [1,2,3])\n",
        "print(list1)\n",
        "list1[1].append(7)\n",
        "print(list1)\n",
        "\n",
        "list1[1].insert(1, 4)\n",
        "list1[1].insert(0, 500)\n",
        "print(list1)\n",
        "\n",
        "\n",
        "\n",
        "\n",
        "# list1.remove(70) # Giving Value to remove\n",
        "# print(list1)\n",
        "\n",
        "# list1.pop(3) # Gives position to remove\n",
        "# print(list1)\n"
      ],
      "metadata": {
        "colab": {
          "base_uri": "https://localhost:8080/"
        },
        "id": "OlPV2dYBFVxJ",
        "outputId": "bd6b8469-478a-4061-dfbe-72aa230a2d8a"
      },
      "execution_count": 15,
      "outputs": [
        {
          "output_type": "stream",
          "name": "stdout",
          "text": [
            "[50, 60, 70, 'x', 'y', 'z', True, False, 'A']\n",
            "[50, 60, 70, 'S', 'x', 'y', 'z', True, False, 'A']\n",
            "S\n",
            "[50, [1, 2, 3], 60, 70, 'S', 'x', 'y', 'z', True, False, 'A']\n",
            "[50, [1, 2, 3, 7], 60, 70, 'S', 'x', 'y', 'z', True, False, 'A']\n",
            "[50, [500, 1, 4, 2, 3, 7], 60, 70, 'S', 'x', 'y', 'z', True, False, 'A']\n"
          ]
        }
      ]
    },
    {
      "cell_type": "code",
      "source": [
        "list2 = [50, 60, 70, 'x', 500, 'z']\n",
        "\n",
        "list2.insert(list2[4], 'Z1')\n",
        "print(list2)\n",
        "print(len(list2))\n",
        "\n",
        "\n",
        "list2.clear() # It clears all the elements and return an empty list\n",
        "print(list2)\n",
        "\n",
        "list3 = list2.copy() # It copies all the elements from list2 to list3\n",
        "print(list3)\n",
        "\n",
        "\n",
        "\n",
        "\n",
        "\n",
        "\n",
        "\n",
        "\n"
      ],
      "metadata": {
        "colab": {
          "base_uri": "https://localhost:8080/"
        },
        "id": "uBKKPDstHiIS",
        "outputId": "1c3ca319-6cdb-41ad-d1d2-49e1a0d72ffe"
      },
      "execution_count": 16,
      "outputs": [
        {
          "output_type": "stream",
          "name": "stdout",
          "text": [
            "[50, 60, 70, 'x', 500, 'z', 'Z1']\n",
            "7\n",
            "[]\n",
            "[]\n"
          ]
        }
      ]
    },
    {
      "cell_type": "code",
      "source": [
        "list4 = [50, 60, 70, 40, 50, 30]\n",
        "\n",
        "print(list4.sort()) # When we execute this sort() method, it modifies the list and won't return the new list, so if we want the list to\n",
        "# be returned we have to print it explicitly\n",
        "print(list4)\n",
        "\n",
        "list4.reverse()\n",
        "print(list4)\n",
        "\n"
      ],
      "metadata": {
        "colab": {
          "base_uri": "https://localhost:8080/"
        },
        "id": "n8B8x6gLK9VE",
        "outputId": "cc18c2e4-c48c-4b5b-8445-45d31ae5ee21"
      },
      "execution_count": 17,
      "outputs": [
        {
          "output_type": "stream",
          "name": "stdout",
          "text": [
            "None\n",
            "[30, 40, 50, 50, 60, 70]\n",
            "[70, 60, 50, 50, 40, 30]\n"
          ]
        }
      ]
    },
    {
      "cell_type": "code",
      "source": [
        "list7 = [50, 60, 70, 40, 50, 30]\n",
        "list7.sort(reverse=True)\n",
        "print(list7)\n",
        "print(list7[2])\n"
      ],
      "metadata": {
        "colab": {
          "base_uri": "https://localhost:8080/"
        },
        "id": "Pfsm0Sa4N6s1",
        "outputId": "df64c2b8-851e-4e16-b9c5-0972eb4535df"
      },
      "execution_count": 18,
      "outputs": [
        {
          "output_type": "stream",
          "name": "stdout",
          "text": [
            "[70, 60, 50, 50, 40, 30]\n",
            "50\n"
          ]
        }
      ]
    },
    {
      "cell_type": "code",
      "source": [
        "list7 = [50, 60, 70, 40, 50, 30]\n",
        "print(list7[2])\n",
        "print(list7.index(30))\n",
        "print(list7.count(50))\n"
      ],
      "metadata": {
        "colab": {
          "base_uri": "https://localhost:8080/"
        },
        "id": "ZBM7XeoHPbhD",
        "outputId": "2fc1a159-4162-4d11-d7a1-d09b8d76bf52"
      },
      "execution_count": 19,
      "outputs": [
        {
          "output_type": "stream",
          "name": "stdout",
          "text": [
            "70\n",
            "5\n",
            "2\n"
          ]
        }
      ]
    },
    {
      "cell_type": "code",
      "source": [
        "# Tuples\n",
        "\n",
        "\n",
        "tuple1 = (60, 50, 70, 40, 50, 30) # ordered, immutable, accepts duplicates\n",
        "print(tuple1)\n",
        "\n",
        "tuple2 = tuple1[1: 4]\n",
        "print(tuple2)\n",
        "\n",
        "# index(), count()\n",
        "print(tuple1.index(50))\n",
        "print(tuple1.count(50))\n",
        "list8 = []\n",
        "\n",
        "for index, x in enumerate(tuple1):\n",
        "  if x == 50:\n",
        "    list8.append(x)\n",
        "\n",
        "print(len(list8))\n",
        "print(list8)\n",
        "\n"
      ],
      "metadata": {
        "colab": {
          "base_uri": "https://localhost:8080/"
        },
        "id": "xPTgXIpDQQ8A",
        "outputId": "12f0f40f-cd69-4da8-9c19-7f731e48cb98"
      },
      "execution_count": 20,
      "outputs": [
        {
          "output_type": "stream",
          "name": "stdout",
          "text": [
            "(60, 50, 70, 40, 50, 30)\n",
            "(50, 70, 40)\n",
            "1\n",
            "2\n",
            "2\n",
            "[50, 50]\n"
          ]
        }
      ]
    },
    {
      "cell_type": "code",
      "source": [
        "# Tuples\n",
        "\n",
        "t = (27, 12, 29, 13, 19, 18, 20, 24, 20, 84, 93, 82, 94, 95, 12)\n",
        "\n",
        "print(t.count(12)) # count the 12 occurance in the tuple t\n",
        "\n",
        "print(t.index(19)) # will return the first index of 19\n",
        "\n",
        "for i in t:\n",
        "    print(i, end=' ') # this iterates the entire tuple t\n",
        "\n",
        "t1 = (1, 2, 4, 6)\n",
        "t2 = (12, 19, 20, 31)\n",
        "\n",
        "t3 = t1 + t2 # creating the t3 tuple from tuple t1 and tuple t2\n",
        "print('\\n',t3)  # printing the tuple t3\n",
        "\n",
        "print(18 in t) # will return True if the 18 present in the tuple t\n",
        "print(100 not in t) # will return True if the 100 don't exist in the tuple t\n",
        "\n",
        "print(t[5:10]) # it prints the tuple sliced part from index 5 to 9\n",
        "\n",
        "print(len(t)) # it returns the length of tuple"
      ],
      "metadata": {
        "id": "Cm9Us4NIiUol"
      },
      "execution_count": null,
      "outputs": []
    },
    {
      "cell_type": "code",
      "source": [
        "# Sets\n",
        "\n",
        "num = {1, 2, 3, 4, 5}\n",
        "\n",
        "# adding element\n",
        "num.add(10)\n",
        "print(num)\n",
        "\n",
        "# Remove\n",
        "num.remove(5)\n",
        "print(num)\n",
        "\n",
        "num2 = {1, 14}\n",
        "\n",
        "n = num.union(num2)\n",
        "print(n)\n",
        "\n",
        "n1 = num.intersection(num2)\n",
        "print(n1)\n",
        "\n",
        "\n",
        "\n"
      ],
      "metadata": {
        "colab": {
          "base_uri": "https://localhost:8080/"
        },
        "id": "tiQURSSrRSd8",
        "outputId": "24e968d7-1840-42fa-a6fa-7f52c26540ea"
      },
      "execution_count": 21,
      "outputs": [
        {
          "output_type": "stream",
          "name": "stdout",
          "text": [
            "{1, 2, 3, 4, 5, 10}\n",
            "{1, 2, 3, 4, 10}\n",
            "{1, 2, 3, 4, 10, 14}\n",
            "{1}\n"
          ]
        }
      ]
    },
    {
      "cell_type": "code",
      "source": [
        "n10 = {1,2,4,5,6,11,12}\n",
        "n11 = {1,2,4}\n",
        "\n",
        "n12 = n10.difference(n11)\n",
        "print(n12)\n",
        "\n"
      ],
      "metadata": {
        "colab": {
          "base_uri": "https://localhost:8080/"
        },
        "id": "08CkUOteVRDY",
        "outputId": "91c2cc9b-f591-4740-9947-fa9fc34ba398"
      },
      "execution_count": 22,
      "outputs": [
        {
          "output_type": "stream",
          "name": "stdout",
          "text": [
            "{11, 12, 5, 6}\n"
          ]
        }
      ]
    },
    {
      "cell_type": "code",
      "source": [],
      "metadata": {
        "id": "YVBti5tXWadn"
      },
      "execution_count": 22,
      "outputs": []
    }
  ]
}