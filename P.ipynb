{
 "cells": [
  {
   "cell_type": "code",
   "execution_count": 18,
   "id": "405dad93",
   "metadata": {},
   "outputs": [
    {
     "name": "stdout",
     "output_type": "stream",
     "text": [
      "Enter a number:5\n",
      "* * * * * "
     ]
    }
   ],
   "source": [
    "#Pattern Programs\n",
    "#WAP to print based on keyboard values print all stars\n",
    "n=int(input('Enter a number:'))\n",
    "for i in range(n):\n",
    "    print('*',end=' ')"
   ]
  },
  {
   "cell_type": "code",
   "execution_count": null,
   "id": "5baaf559",
   "metadata": {},
   "outputs": [],
   "source": []
  },
  {
   "cell_type": "code",
   "execution_count": 29,
   "id": "dc773c84",
   "metadata": {},
   "outputs": [
    {
     "name": "stdout",
     "output_type": "stream",
     "text": [
      "Enter a number:10\n",
      "* * * * * * * * * * \n",
      "* * * * * * * * * * \n",
      "* * * * * * * * * * \n",
      "* * * * * * * * * * \n",
      "* * * * * * * * * * \n",
      "* * * * * * * * * * \n",
      "* * * * * * * * * * \n",
      "* * * * * * * * * * \n",
      "* * * * * * * * * * \n",
      "* * * * * * * * * * \n"
     ]
    }
   ],
   "source": [
    "#WAP to print square pattern with * symbols\n",
    "n=int(input('Enter a number:'))\n",
    "for i in range(n):\n",
    "    print('* ' *n)"
   ]
  },
  {
   "cell_type": "code",
   "execution_count": null,
   "id": "4f6ec330",
   "metadata": {},
   "outputs": [],
   "source": []
  },
  {
   "cell_type": "code",
   "execution_count": 49,
   "id": "0c1ecada",
   "metadata": {},
   "outputs": [
    {
     "name": "stdout",
     "output_type": "stream",
     "text": [
      "Enter no.of rows:5\n",
      "1 1 1 1 1 \n",
      "2 2 2 2 2 \n",
      "3 3 3 3 3 \n",
      "4 4 4 4 4 \n",
      "5 5 5 5 5 \n"
     ]
    }
   ],
   "source": [
    "#WAP to print square pattern with provided fixed digit in every row?\n",
    "n=int(input('Enter no.of rows:'))\n",
    "for i in range(n):\n",
    "    print((str(i+1)+' ')*n)"
   ]
  },
  {
   "cell_type": "code",
   "execution_count": null,
   "id": "d7d38b3e",
   "metadata": {},
   "outputs": [],
   "source": []
  },
  {
   "cell_type": "code",
   "execution_count": 51,
   "id": "49a966dd",
   "metadata": {},
   "outputs": [
    {
     "name": "stdout",
     "output_type": "stream",
     "text": [
      "Enter a alphabet:3\n",
      "A A A \n",
      "B B B \n",
      "C C C \n"
     ]
    }
   ],
   "source": [
    "#To print square pattern with alphabet symbols\n",
    "n=int(input('Enter a alphabet:'))\n",
    "for i in range(n):\n",
    "    print((chr(65+i)+' ')*n)"
   ]
  },
  {
   "cell_type": "code",
   "execution_count": null,
   "id": "6a7fc77a",
   "metadata": {},
   "outputs": [],
   "source": []
  },
  {
   "cell_type": "code",
   "execution_count": 57,
   "id": "8d59fd58",
   "metadata": {},
   "outputs": [
    {
     "name": "stdout",
     "output_type": "stream",
     "text": [
      "Enter no.of rows:5\n",
      "* \n",
      "* * \n",
      "* * * \n",
      "* * * * \n",
      "* * * * * \n"
     ]
    }
   ],
   "source": [
    "#To print angle traingle pattern with * symbols\n",
    "n=int(input('Enter no.of rows:'))\n",
    "for i in range (n):\n",
    "    for j in range(i+1):\n",
    "        print('*',end=' ')\n",
    "    print()"
   ]
  },
  {
   "cell_type": "code",
   "execution_count": null,
   "id": "385160b5",
   "metadata": {},
   "outputs": [],
   "source": []
  },
  {
   "cell_type": "code",
   "execution_count": 65,
   "id": "5167249e",
   "metadata": {},
   "outputs": [
    {
     "name": "stdout",
     "output_type": "stream",
     "text": [
      "Enter no.of rows:5\n",
      "* * * * * \n",
      "* * * * \n",
      "* * * \n",
      "* * \n",
      "* \n"
     ]
    }
   ],
   "source": [
    "#To print inverted right angle triangle pattern with * symbols\n",
    "n=int(input('Enter no.of rows:'))\n",
    "for i in range(n):\n",
    "    print('* ' * (n-i))"
   ]
  },
  {
   "cell_type": "code",
   "execution_count": null,
   "id": "d197baef",
   "metadata": {},
   "outputs": [],
   "source": [
    "#to print pyramid pattern with * symbols\n",
    "n=int(input('Enter no.of rows:'))\n",
    "for i in range(n):\n",
    "    print(' '*(n-i-1)+'* '*(i+1))"
   ]
  },
  {
   "cell_type": "code",
   "execution_count": null,
   "id": "7501fef0",
   "metadata": {},
   "outputs": [],
   "source": []
  },
  {
   "cell_type": "code",
   "execution_count": null,
   "id": "69eafe86",
   "metadata": {},
   "outputs": [],
   "source": []
  },
  {
   "cell_type": "code",
   "execution_count": null,
   "id": "bb0bccff",
   "metadata": {},
   "outputs": [],
   "source": []
  },
  {
   "cell_type": "code",
   "execution_count": null,
   "id": "4ad04525",
   "metadata": {},
   "outputs": [],
   "source": []
  }
 ],
 "metadata": {
  "kernelspec": {
   "display_name": "Python 3 (ipykernel)",
   "language": "python",
   "name": "python3"
  },
  "language_info": {
   "codemirror_mode": {
    "name": "ipython",
    "version": 3
   },
   "file_extension": ".py",
   "mimetype": "text/x-python",
   "name": "python",
   "nbconvert_exporter": "python",
   "pygments_lexer": "ipython3",
   "version": "3.11.5"
  }
 },
 "nbformat": 4,
 "nbformat_minor": 5
}
