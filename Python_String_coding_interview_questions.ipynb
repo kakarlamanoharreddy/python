{
 "cells": [
  {
   "cell_type": "code",
   "execution_count": 15,
   "id": "0353d970",
   "metadata": {},
   "outputs": [
    {
     "name": "stdout",
     "output_type": "stream",
     "text": [
      "Enter a string:abhi\n",
      "reverse string is ihba\n"
     ]
    }
   ],
   "source": [
    "#WAP to reversing given string\n",
    "s=input('Enter a string:')\n",
    "s1=s[::-1]\n",
    "print('reverse string is:',s1)\n"
   ]
  },
  {
   "cell_type": "code",
   "execution_count": 19,
   "id": "3b73cf88",
   "metadata": {},
   "outputs": [
    {
     "name": "stdout",
     "output_type": "stream",
     "text": [
      "Enter a string:abhi\n",
      "ihba\n"
     ]
    }
   ],
   "source": [
    "#Method 2 using reversed() function\n",
    "s=input('Enter a string:')\n",
    "s1=reversed(s)\n",
    "output=''.join(s1)\n",
    "print(output)"
   ]
  },
  {
   "cell_type": "code",
   "execution_count": 21,
   "id": "3fb05d57",
   "metadata": {},
   "outputs": [
    {
     "name": "stdout",
     "output_type": "stream",
     "text": [
      "Enter a string:mango\n",
      "ognam\n"
     ]
    }
   ],
   "source": [
    "#Method 3\n",
    "s=input('Enter a string:')\n",
    "output=''\n",
    "i=len(s)-1\n",
    "while i>=0:\n",
    "    output=output+s[i]\n",
    "    i=i-1\n",
    "print(output)"
   ]
  },
  {
   "cell_type": "code",
   "execution_count": 5,
   "id": "4c1910c5",
   "metadata": {},
   "outputs": [
    {
     "name": "stdout",
     "output_type": "stream",
     "text": [
      "Enter a string:abhinav reddy kakarla\n",
      "kakarlareddyabhinav\n"
     ]
    }
   ],
   "source": [
    "#WAP to reverse order of words\n",
    "s=input('Enter a string:')\n",
    "#s='Manohar reddy kakarla'\n",
    "l=s.split()\n",
    "l1=reversed(l)\n",
    "l2=''.join(l1)\n",
    "print(l2)"
   ]
  },
  {
   "cell_type": "code",
   "execution_count": 8,
   "id": "a8ca7642",
   "metadata": {},
   "outputs": [
    {
     "name": "stdout",
     "output_type": "stream",
     "text": [
      "Enter a string:Manohar Reddy Kakarla\n",
      "Kakarla Reddy Manohar\n"
     ]
    }
   ],
   "source": [
    "#Method 2\n",
    "#WAP to reverse order of words\n",
    "s=input('Enter a string:')\n",
    "#s='Manohar reddy kakarla'\n",
    "l=s.split()\n",
    "l1=l[::-1]\n",
    "l2=' '.join(l1)\n",
    "print(l2)"
   ]
  },
  {
   "cell_type": "code",
   "execution_count": null,
   "id": "5c9ad0a0",
   "metadata": {},
   "outputs": [],
   "source": []
  },
  {
   "cell_type": "code",
   "execution_count": 14,
   "id": "95faf1b5",
   "metadata": {},
   "outputs": [
    {
     "name": "stdout",
     "output_type": "stream",
     "text": [
      "Enter any string:Manohar Reddy Kakarla\n",
      "rahonaM yddeR alrakaK\n"
     ]
    }
   ],
   "source": [
    "#WAP to reverse internal content of each word?\n",
    "s=input('Enter any string:')\n",
    "l=s.split()\n",
    "l1=[]\n",
    "for word in l:\n",
    "    l1.append(word[::-1])\n",
    "#print(l1)\n",
    "l2=' '.join(l1)\n",
    "print(l2)\n"
   ]
  },
  {
   "cell_type": "code",
   "execution_count": 24,
   "id": "a1358b8f",
   "metadata": {},
   "outputs": [
    {
     "name": "stdout",
     "output_type": "stream",
     "text": [
      "one owt three ruof five xis\n"
     ]
    }
   ],
   "source": [
    "#WAP to reverse internal content of every 2nd word present in given string\n",
    "\n",
    "s='one two three four five six'\n",
    "l=s.split()\n",
    "#print(l)\n",
    "i=0\n",
    "l1=[]\n",
    "while i<len(l):\n",
    "    if i%2 == 0:\n",
    "        l1.append(l[i])\n",
    "    else:\n",
    "        l1.append(l[i][::-1])\n",
    "    i=i+1\n",
    "l2=' '.join(l1)\n",
    "print(l2)"
   ]
  },
  {
   "cell_type": "code",
   "execution_count": null,
   "id": "13d3d728",
   "metadata": {},
   "outputs": [],
   "source": []
  },
  {
   "cell_type": "code",
   "execution_count": 28,
   "id": "890a2ff9",
   "metadata": {},
   "outputs": [
    {
     "name": "stdout",
     "output_type": "stream",
     "text": [
      "The characters present at even index\n",
      "M\n",
      "n\n",
      "h\n",
      "r\n",
      "The characters present at odd index\n",
      "a\n",
      "o\n",
      "a\n"
     ]
    }
   ],
   "source": [
    "#WAP to print characters present at even and odd index seperately for given string\n",
    "s='Manohar'\n",
    "i=0\n",
    "print('The characters present at even index')\n",
    "while i<len(s):\n",
    "    print(s[i])\n",
    "    i=i+2\n",
    "i=1\n",
    "print('The characters present at odd index')\n",
    "while i<len(s):\n",
    "    print(s[i])\n",
    "    i=i+2"
   ]
  },
  {
   "cell_type": "code",
   "execution_count": 34,
   "id": "b421ae55",
   "metadata": {},
   "outputs": [
    {
     "name": "stdout",
     "output_type": "stream",
     "text": [
      "The characters present at even index Mnhr\n",
      "The characters present at odd index aoa\n"
     ]
    }
   ],
   "source": [
    "#Method 2:\n",
    "s='Manohar'\n",
    "s1=s[0::2]\n",
    "s2=s[1::2]\n",
    "print('The characters present at even index:',s1)\n",
    "print('The characters present at odd index:',s2)"
   ]
  },
  {
   "cell_type": "code",
   "execution_count": null,
   "id": "8daada1a",
   "metadata": {},
   "outputs": [],
   "source": []
  },
  {
   "cell_type": "code",
   "execution_count": null,
   "id": "72af7ff5",
   "metadata": {},
   "outputs": [],
   "source": [
    "#WAP to merge characters of 2 strings by taking characters alternatively\n"
   ]
  },
  {
   "cell_type": "code",
   "execution_count": null,
   "id": "3155aa89",
   "metadata": {},
   "outputs": [],
   "source": []
  },
  {
   "cell_type": "code",
   "execution_count": null,
   "id": "5e794499",
   "metadata": {},
   "outputs": [],
   "source": []
  },
  {
   "cell_type": "code",
   "execution_count": null,
   "id": "9b34e674",
   "metadata": {},
   "outputs": [],
   "source": []
  },
  {
   "cell_type": "code",
   "execution_count": null,
   "id": "946dc83d",
   "metadata": {},
   "outputs": [],
   "source": []
  },
  {
   "cell_type": "code",
   "execution_count": null,
   "id": "720aa7f5",
   "metadata": {},
   "outputs": [],
   "source": []
  },
  {
   "cell_type": "code",
   "execution_count": null,
   "id": "c7054db9",
   "metadata": {},
   "outputs": [],
   "source": []
  }
 ],
 "metadata": {
  "kernelspec": {
   "display_name": "Python 3 (ipykernel)",
   "language": "python",
   "name": "python3"
  },
  "language_info": {
   "codemirror_mode": {
    "name": "ipython",
    "version": 3
   },
   "file_extension": ".py",
   "mimetype": "text/x-python",
   "name": "python",
   "nbconvert_exporter": "python",
   "pygments_lexer": "ipython3",
   "version": "3.11.5"
  }
 },
 "nbformat": 4,
 "nbformat_minor": 5
}
