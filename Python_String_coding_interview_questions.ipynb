{
 "cells": [
  {
   "cell_type": "code",
   "execution_count": 15,
   "id": "5f6ddac5",
   "metadata": {},
   "outputs": [
    {
     "name": "stdout",
     "output_type": "stream",
     "text": [
      "Enter a string:abhi\n",
      "reverse string is ihba\n"
     ]
    }
   ],
   "source": [
    "#WAP to reversing given string\n",
    "s=input('Enter a string:')\n",
    "s1=s[::-1]\n",
    "print('reverse string is:',s1)\n"
   ]
  },
  {
   "cell_type": "code",
   "execution_count": 19,
   "id": "8caa736b",
   "metadata": {},
   "outputs": [
    {
     "name": "stdout",
     "output_type": "stream",
     "text": [
      "Enter a string:abhi\n",
      "ihba\n"
     ]
    }
   ],
   "source": [
    "#Method 2 using reversed() function\n",
    "s=input('Enter a string:')\n",
    "s1=reversed(s)\n",
    "output=''.join(s1)\n",
    "print(output)\n",
    "# for ch in s1:\n",
    "#     print('reversed string is',ch)"
   ]
  },
  {
   "cell_type": "code",
   "execution_count": 20,
   "id": "187ccd83",
   "metadata": {},
   "outputs": [
    {
     "name": "stdout",
     "output_type": "stream",
     "text": [
      "Enter a string:durga\n",
      "agrud\n"
     ]
    }
   ],
   "source": [
    "#Method 3\n",
    "s=input('Enter a string:')\n",
    "output=''\n",
    "i=len(s)-1\n",
    "while i>=0:\n",
    "    output=output+s[i]\n",
    "    i=i-1\n",
    "print(output)"
   ]
  },
  {
   "cell_type": "code",
   "execution_count": null,
   "id": "b84f817c",
   "metadata": {},
   "outputs": [],
   "source": []
  }
 ],
 "metadata": {
  "kernelspec": {
   "display_name": "Python 3 (ipykernel)",
   "language": "python",
   "name": "python3"
  },
  "language_info": {
   "codemirror_mode": {
    "name": "ipython",
    "version": 3
   },
   "file_extension": ".py",
   "mimetype": "text/x-python",
   "name": "python",
   "nbconvert_exporter": "python",
   "pygments_lexer": "ipython3",
   "version": "3.11.5"
  }
 },
 "nbformat": 4,
 "nbformat_minor": 5
}
