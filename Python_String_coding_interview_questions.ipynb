{
 "cells": [
  {
   "cell_type": "code",
   "execution_count": 15,
   "id": "0353d970",
   "metadata": {},
   "outputs": [
    {
     "name": "stdout",
     "output_type": "stream",
     "text": [
      "Enter a string:abhi\n",
      "reverse string is ihba\n"
     ]
    }
   ],
   "source": [
    "#WAP to reversing given string\n",
    "s=input('Enter a string:')\n",
    "s1=s[::-1]\n",
    "print('reverse string is:',s1)\n"
   ]
  },
  {
   "cell_type": "code",
   "execution_count": 19,
   "id": "3b73cf88",
   "metadata": {},
   "outputs": [
    {
     "name": "stdout",
     "output_type": "stream",
     "text": [
      "Enter a string:abhi\n",
      "ihba\n"
     ]
    }
   ],
   "source": [
    "#Method 2 using reversed() function\n",
    "s=input('Enter a string:')\n",
    "s1=reversed(s)\n",
    "output=''.join(s1)\n",
    "print(output)"
   ]
  },
  {
   "cell_type": "code",
   "execution_count": 21,
   "id": "3fb05d57",
   "metadata": {},
   "outputs": [
    {
     "name": "stdout",
     "output_type": "stream",
     "text": [
      "Enter a string:mango\n",
      "ognam\n"
     ]
    }
   ],
   "source": [
    "#Method 3\n",
    "s=input('Enter a string:')\n",
    "output=''\n",
    "i=len(s)-1\n",
    "while i>=0:\n",
    "    output=output+s[i]\n",
    "    i=i-1\n",
    "print(output)"
   ]
  },
  {
   "cell_type": "code",
   "execution_count": 5,
   "id": "4c1910c5",
   "metadata": {},
   "outputs": [
    {
     "name": "stdout",
     "output_type": "stream",
     "text": [
      "Enter a string:abhinav reddy kakarla\n",
      "kakarlareddyabhinav\n"
     ]
    }
   ],
   "source": [
    "#WAP to reverse order of words\n",
    "s=input('Enter a string:')\n",
    "#s='Manohar reddy kakarla'\n",
    "l=s.split()\n",
    "l1=reversed(l)\n",
    "l2=''.join(l1)\n",
    "print(l2)"
   ]
  },
  {
   "cell_type": "code",
   "execution_count": 8,
   "id": "e5b3c064",
   "metadata": {},
   "outputs": [
    {
     "name": "stdout",
     "output_type": "stream",
     "text": [
      "Enter a string:Manohar Reddy Kakarla\n",
      "Kakarla Reddy Manohar\n"
     ]
    }
   ],
   "source": [
    "#Method 2\n",
    "#WAP to reverse order of words\n",
    "s=input('Enter a string:')\n",
    "#s='Manohar reddy kakarla'\n",
    "l=s.split()\n",
    "l1=l[::-1]\n",
    "l2=' '.join(l1)\n",
    "print(l2)"
   ]
  },
  {
   "cell_type": "code",
   "execution_count": null,
   "id": "d2b49936",
   "metadata": {},
   "outputs": [],
   "source": []
  },
  {
   "cell_type": "code",
   "execution_count": 14,
   "id": "0c1d3e97",
   "metadata": {},
   "outputs": [
    {
     "name": "stdout",
     "output_type": "stream",
     "text": [
      "Enter any string:Manohar Reddy Kakarla\n",
      "rahonaM yddeR alrakaK\n"
     ]
    }
   ],
   "source": [
    "#WAP to reverse internal content of each word?\n",
    "s=input('Enter any string:')\n",
    "l=s.split()\n",
    "l1=[]\n",
    "for word in l:\n",
    "    l1.append(word[::-1])\n",
    "#print(l1)\n",
    "l2=' '.join(l1)\n",
    "print(l2)\n"
   ]
  },
  {
   "cell_type": "code",
   "execution_count": 24,
   "id": "7fcb4000",
   "metadata": {},
   "outputs": [
    {
     "name": "stdout",
     "output_type": "stream",
     "text": [
      "one owt three ruof five xis\n"
     ]
    }
   ],
   "source": [
    "#WAP to reverse internal content of every 2nd word present in given string\n",
    "\n",
    "s='one two three four five six'\n",
    "l=s.split()\n",
    "#print(l)\n",
    "i=0\n",
    "l1=[]\n",
    "while i<len(l):\n",
    "    if i%2 == 0:\n",
    "        l1.append(l[i])\n",
    "    else:\n",
    "        l1.append(l[i][::-1])\n",
    "    i=i+1\n",
    "l2=' '.join(l1)\n",
    "print(l2)"
   ]
  },
  {
   "cell_type": "code",
   "execution_count": null,
   "id": "e58682d4",
   "metadata": {},
   "outputs": [],
   "source": []
  },
  {
   "cell_type": "code",
   "execution_count": 28,
   "id": "f49ab3ea",
   "metadata": {},
   "outputs": [
    {
     "name": "stdout",
     "output_type": "stream",
     "text": [
      "The characters present at even index\n",
      "M\n",
      "n\n",
      "h\n",
      "r\n",
      "The characters present at odd index\n",
      "a\n",
      "o\n",
      "a\n"
     ]
    }
   ],
   "source": [
    "#WAP to print characters present at even and odd index seperately for given string\n",
    "s='Manohar'\n",
    "i=0\n",
    "print('The characters present at even index')\n",
    "while i<len(s):\n",
    "    print(s[i])\n",
    "    i=i+2\n",
    "i=1\n",
    "print('The characters present at odd index')\n",
    "while i<len(s):\n",
    "    print(s[i])\n",
    "    i=i+2"
   ]
  },
  {
   "cell_type": "code",
   "execution_count": 34,
   "id": "30484644",
   "metadata": {},
   "outputs": [
    {
     "name": "stdout",
     "output_type": "stream",
     "text": [
      "The characters present at even index Mnhr\n",
      "The characters present at odd index aoa\n"
     ]
    }
   ],
   "source": [
    "#Method 2:\n",
    "s='Manohar'\n",
    "s1=s[0::2]\n",
    "s2=s[1::2]\n",
    "print('The characters present at even index:',s1)\n",
    "print('The characters present at odd index:',s2)"
   ]
  },
  {
   "cell_type": "code",
   "execution_count": null,
   "id": "92a40cde",
   "metadata": {},
   "outputs": [],
   "source": []
  },
  {
   "cell_type": "code",
   "execution_count": 39,
   "id": "419f79d7",
   "metadata": {},
   "outputs": [
    {
     "name": "stdout",
     "output_type": "stream",
     "text": [
      "Ambahnio\n"
     ]
    }
   ],
   "source": [
    "#WAP to merge characters of 2 strings by taking characters alternatively\n",
    "#If 2 strings length same it will work otherwise it will fail\n",
    "s1='Abhi'\n",
    "s2='mano'\n",
    "i,j=0,0\n",
    "output=''\n",
    "while i<len(s1) or j<len(s2):\n",
    "    output=output+s1[i]+s2[j]\n",
    "    i=i+1\n",
    "    j=j+1\n",
    "print(output)"
   ]
  },
  {
   "cell_type": "code",
   "execution_count": 43,
   "id": "366230d2",
   "metadata": {},
   "outputs": [
    {
     "name": "stdout",
     "output_type": "stream",
     "text": [
      "Ambahnionav\n"
     ]
    }
   ],
   "source": [
    "#WAP to merge characters of 2 strings by taking characters alternatively\n",
    "s1='Abhinav'\n",
    "s2='mano'\n",
    "i,j=0,0\n",
    "output=''\n",
    "while i<len(s1) or j<len(s2):\n",
    "    if i<len(s1):\n",
    "        output=output+s1[i]\n",
    "        i=i+1\n",
    "    if j<len(s2):\n",
    "        output=output+s2[j]\n",
    "        j=j+1\n",
    "print(output)"
   ]
  },
  {
   "cell_type": "code",
   "execution_count": null,
   "id": "d86876fb",
   "metadata": {},
   "outputs": [],
   "source": []
  },
  {
   "cell_type": "code",
   "execution_count": 49,
   "id": "3781fe78",
   "metadata": {},
   "outputs": [
    {
     "name": "stdout",
     "output_type": "stream",
     "text": [
      "ABD134\n"
     ]
    }
   ],
   "source": [
    "#WAP to sort characters of the string first alphabetsymbols followed by digits\n",
    "s='B4A1D3'\n",
    "alphabets=[]\n",
    "digits=[]\n",
    "for ch in s:\n",
    "    if ch.isalpha():\n",
    "        alphabets.append(ch)\n",
    "    else:\n",
    "        digits.append(ch)\n",
    "output=''.join(sorted(alphabets)+sorted(digits))\n",
    "#s3=''.join(output)\n",
    "print(output)\n",
    "\n",
    "\n",
    "#Method 2\n",
    "\n",
    "s='B4A1D3'\n",
    "alphabets=[]\n",
    "digits=[]\n",
    "for ch in s:\n",
    "    if ch.isalpha():\n",
    "        alphabets.append(ch)\n",
    "    else:\n",
    "        digits.append(ch)\n",
    "output=sorted(alphabets)+sorted(digits)\n",
    "s3=''.join(output)\n",
    "print(output)\n"
   ]
  },
  {
   "cell_type": "code",
   "execution_count": null,
   "id": "cf519991",
   "metadata": {},
   "outputs": [],
   "source": []
  },
  {
   "cell_type": "code",
   "execution_count": 56,
   "id": "3008d7b1",
   "metadata": {},
   "outputs": [
    {
     "name": "stdout",
     "output_type": "stream",
     "text": [
      "abcd\n"
     ]
    }
   ],
   "source": [
    "#WAP for the requirment input is a4b3c2 and excepted output is aaaabbbcc\n",
    "s='a1b1c1d1'\n",
    "output=''\n",
    "for ch in s:\n",
    "    if ch.isalpha():\n",
    "        x=ch \n",
    "    else:\n",
    "        d=int(ch)\n",
    "        output=output+(x*d)\n",
    "print(output)"
   ]
  },
  {
   "cell_type": "code",
   "execution_count": 5,
   "id": "56cd43c9",
   "metadata": {},
   "outputs": [
    {
     "name": "stdout",
     "output_type": "stream",
     "text": [
      "aaabbbbzz\n"
     ]
    }
   ],
   "source": [
    "#WAP for the requirment input is a3z2b4 and excepted output is aaabbbbzz\n",
    "#input a3z2b4\n",
    "#Excepted output  aaabbbbzz\n",
    "\n",
    "s='a3z2b4'\n",
    "l=''\n",
    "for ch in s:\n",
    "    if ch.isalpha():\n",
    "        x=ch\n",
    "    else:\n",
    "        d=int(ch)\n",
    "        l=l+x*d\n",
    "    output=''.join(sorted(l))\n",
    "print(output)"
   ]
  },
  {
   "cell_type": "code",
   "execution_count": 3,
   "id": "4d587cfa",
   "metadata": {},
   "outputs": [
    {
     "name": "stdout",
     "output_type": "stream",
     "text": [
      "4a3b2c1z\n"
     ]
    }
   ],
   "source": [
    "#WAP for the requirment input is aaaabbbccz and excepted output is 4a3bc21z\n",
    "#input aaaabbbccz\n",
    "#Excepted output 4a3bc21z\n",
    "s='aaaabbbccz'\n",
    "previous=s[0]\n",
    "c=1\n",
    "i=1\n",
    "output=''\n",
    "while i<len(s):\n",
    "    if s[i]==previous:\n",
    "        c=c+1\n",
    "    else:\n",
    "        output=output+str(c)+previous\n",
    "        previous=s[i]\n",
    "        c=1\n",
    "    if i==len(s)-1:\n",
    "        output=output+str(c)+previous\n",
    "    i=i+1\n",
    "print(output)"
   ]
  },
  {
   "cell_type": "code",
   "execution_count": 8,
   "id": "e202d7e3",
   "metadata": {},
   "outputs": [
    {
     "name": "stdout",
     "output_type": "stream",
     "text": [
      "97\n",
      "A\n",
      "\u0004\n"
     ]
    }
   ],
   "source": [
    "print(ord('a'))\n",
    "print(chr(65))\n",
    "print(chr(4))"
   ]
  },
  {
   "cell_type": "code",
   "execution_count": 16,
   "id": "3b0ee689",
   "metadata": {},
   "outputs": [
    {
     "name": "stdout",
     "output_type": "stream",
     "text": [
      "aeknbd\n"
     ]
    }
   ],
   "source": [
    "#WAP for the following requirment\n",
    "#input=a4k3b2\n",
    "#Excepted output=aeknbd\n",
    "#Program\n",
    "s='a4k3b2'\n",
    "output=''\n",
    "for ch in s:\n",
    "    if ch.isalpha():\n",
    "        output=output+ch\n",
    "        x=ch\n",
    "    else:\n",
    "        d=int(ch)\n",
    "        newc=chr(ord(x)+d)\n",
    "        output=output+newc\n",
    "print(output)"
   ]
  },
  {
   "cell_type": "code",
   "execution_count": null,
   "id": "4679a8b7",
   "metadata": {},
   "outputs": [],
   "source": []
  }
 ],
 "metadata": {
  "kernelspec": {
   "display_name": "Python 3 (ipykernel)",
   "language": "python",
   "name": "python3"
  },
  "language_info": {
   "codemirror_mode": {
    "name": "ipython",
    "version": 3
   },
   "file_extension": ".py",
   "mimetype": "text/x-python",
   "name": "python",
   "nbconvert_exporter": "python",
   "pygments_lexer": "ipython3",
   "version": "3.11.5"
  }
 },
 "nbformat": 4,
 "nbformat_minor": 5
}
