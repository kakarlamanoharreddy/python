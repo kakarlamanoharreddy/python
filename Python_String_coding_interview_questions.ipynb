{
 "cells": [
  {
   "cell_type": "code",
   "execution_count": 15,
   "id": "0353d970",
   "metadata": {},
   "outputs": [
    {
     "name": "stdout",
     "output_type": "stream",
     "text": [
      "Enter a string:abhi\n",
      "reverse string is ihba\n"
     ]
    }
   ],
   "source": [
    "#WAP to reversing given string\n",
    "s=input('Enter a string:')\n",
    "s1=s[::-1]\n",
    "print('reverse string is:',s1)\n"
   ]
  },
  {
   "cell_type": "code",
   "execution_count": 19,
   "id": "3b73cf88",
   "metadata": {},
   "outputs": [
    {
     "name": "stdout",
     "output_type": "stream",
     "text": [
      "Enter a string:abhi\n",
      "ihba\n"
     ]
    }
   ],
   "source": [
    "#Method 2 using reversed() function\n",
    "s=input('Enter a string:')\n",
    "s1=reversed(s)\n",
    "output=''.join(s1)\n",
    "print(output)"
   ]
  },
  {
   "cell_type": "code",
   "execution_count": 21,
   "id": "3fb05d57",
   "metadata": {},
   "outputs": [
    {
     "name": "stdout",
     "output_type": "stream",
     "text": [
      "Enter a string:mango\n",
      "ognam\n"
     ]
    }
   ],
   "source": [
    "#Method 3\n",
    "s=input('Enter a string:')\n",
    "output=''\n",
    "i=len(s)-1\n",
    "while i>=0:\n",
    "    output=output+s[i]\n",
    "    i=i-1\n",
    "print(output)"
   ]
  },
  {
   "cell_type": "code",
   "execution_count": 5,
   "id": "4c1910c5",
   "metadata": {},
   "outputs": [
    {
     "name": "stdout",
     "output_type": "stream",
     "text": [
      "Enter a string:abhinav reddy kakarla\n",
      "kakarlareddyabhinav\n"
     ]
    }
   ],
   "source": [
    "#WAP to reverse order of words\n",
    "s=input('Enter a string:')\n",
    "#s='Manohar reddy kakarla'\n",
    "l=s.split()\n",
    "l1=reversed(l)\n",
    "l2=''.join(l1)\n",
    "print(l2)"
   ]
  },
  {
   "cell_type": "code",
   "execution_count": 8,
   "id": "865526e3",
   "metadata": {},
   "outputs": [
    {
     "name": "stdout",
     "output_type": "stream",
     "text": [
      "Enter a string:Manohar Reddy Kakarla\n",
      "Kakarla Reddy Manohar\n"
     ]
    }
   ],
   "source": [
    "#Method 2\n",
    "#WAP to reverse order of words\n",
    "s=input('Enter a string:')\n",
    "#s='Manohar reddy kakarla'\n",
    "l=s.split()\n",
    "l1=l[::-1]\n",
    "l2=' '.join(l1)\n",
    "print(l2)"
   ]
  },
  {
   "cell_type": "code",
   "execution_count": null,
   "id": "9893aa06",
   "metadata": {},
   "outputs": [],
   "source": []
  },
  {
   "cell_type": "code",
   "execution_count": 14,
   "id": "1ee0918e",
   "metadata": {},
   "outputs": [
    {
     "name": "stdout",
     "output_type": "stream",
     "text": [
      "Enter any string:Manohar Reddy Kakarla\n",
      "rahonaM yddeR alrakaK\n"
     ]
    }
   ],
   "source": [
    "#WAP to reverse internal content of each word?\n",
    "s=input('Enter any string:')\n",
    "l=s.split()\n",
    "l1=[]\n",
    "for word in l:\n",
    "    l1.append(word[::-1])\n",
    "#print(l1)\n",
    "l2=' '.join(l1)\n",
    "print(l2)\n"
   ]
  },
  {
   "cell_type": "code",
   "execution_count": 24,
   "id": "a2043bd6",
   "metadata": {},
   "outputs": [
    {
     "name": "stdout",
     "output_type": "stream",
     "text": [
      "one owt three ruof five xis\n"
     ]
    }
   ],
   "source": [
    "#WAP to reverse internal content of every 2nd word present in given string\n",
    "\n",
    "s='one two three four five six'\n",
    "l=s.split()\n",
    "#print(l)\n",
    "i=0\n",
    "l1=[]\n",
    "while i<len(l):\n",
    "    if i%2 == 0:\n",
    "        l1.append(l[i])\n",
    "    else:\n",
    "        l1.append(l[i][::-1])\n",
    "    i=i+1\n",
    "l2=' '.join(l1)\n",
    "print(l2)"
   ]
  },
  {
   "cell_type": "code",
   "execution_count": null,
   "id": "aa84d3fc",
   "metadata": {},
   "outputs": [],
   "source": []
  },
  {
   "cell_type": "code",
   "execution_count": 28,
   "id": "dcb18dee",
   "metadata": {},
   "outputs": [
    {
     "name": "stdout",
     "output_type": "stream",
     "text": [
      "The characters present at even index\n",
      "M\n",
      "n\n",
      "h\n",
      "r\n",
      "The characters present at odd index\n",
      "a\n",
      "o\n",
      "a\n"
     ]
    }
   ],
   "source": [
    "#WAP to print characters present at even and odd index seperately for given string\n",
    "s='Manohar'\n",
    "i=0\n",
    "print('The characters present at even index')\n",
    "while i<len(s):\n",
    "    print(s[i])\n",
    "    i=i+2\n",
    "i=1\n",
    "print('The characters present at odd index')\n",
    "while i<len(s):\n",
    "    print(s[i])\n",
    "    i=i+2"
   ]
  },
  {
   "cell_type": "code",
   "execution_count": 34,
   "id": "95b4c34d",
   "metadata": {},
   "outputs": [
    {
     "name": "stdout",
     "output_type": "stream",
     "text": [
      "The characters present at even index Mnhr\n",
      "The characters present at odd index aoa\n"
     ]
    }
   ],
   "source": [
    "#Method 2:\n",
    "s='Manohar'\n",
    "s1=s[0::2]\n",
    "s2=s[1::2]\n",
    "print('The characters present at even index:',s1)\n",
    "print('The characters present at odd index:',s2)"
   ]
  },
  {
   "cell_type": "code",
   "execution_count": null,
   "id": "c4e4ad2c",
   "metadata": {},
   "outputs": [],
   "source": []
  },
  {
   "cell_type": "code",
   "execution_count": 39,
   "id": "6f4d1efa",
   "metadata": {},
   "outputs": [
    {
     "name": "stdout",
     "output_type": "stream",
     "text": [
      "Ambahnio\n"
     ]
    }
   ],
   "source": [
    "#WAP to merge characters of 2 strings by taking characters alternatively\n",
    "#If 2 strings length same it will work otherwise it will fail\n",
    "s1='Abhi'\n",
    "s2='mano'\n",
    "i,j=0,0\n",
    "output=''\n",
    "while i<len(s1) or j<len(s2):\n",
    "    output=output+s1[i]+s2[j]\n",
    "    i=i+1\n",
    "    j=j+1\n",
    "print(output)"
   ]
  },
  {
   "cell_type": "code",
   "execution_count": 43,
   "id": "96f6df2a",
   "metadata": {},
   "outputs": [
    {
     "name": "stdout",
     "output_type": "stream",
     "text": [
      "Ambahnionav\n"
     ]
    }
   ],
   "source": [
    "#WAP to merge characters of 2 strings by taking characters alternatively\n",
    "s1='Abhinav'\n",
    "s2='mano'\n",
    "i,j=0,0\n",
    "output=''\n",
    "while i<len(s1) or j<len(s2):\n",
    "    if i<len(s1):\n",
    "        output=output+s1[i]\n",
    "        i=i+1\n",
    "    if j<len(s2):\n",
    "        output=output+s2[j]\n",
    "        j=j+1\n",
    "print(output)"
   ]
  },
  {
   "cell_type": "code",
   "execution_count": null,
   "id": "a5e06774",
   "metadata": {},
   "outputs": [],
   "source": []
  },
  {
   "cell_type": "code",
   "execution_count": 49,
   "id": "69065bd3",
   "metadata": {},
   "outputs": [
    {
     "name": "stdout",
     "output_type": "stream",
     "text": [
      "ABD134\n"
     ]
    }
   ],
   "source": [
    "#WAP to sort characters of the string first alphabetsymbols followed by digits\n",
    "s='B4A1D3'\n",
    "alphabets=[]\n",
    "digits=[]\n",
    "for ch in s:\n",
    "    if ch.isalpha():\n",
    "        alphabets.append(ch)\n",
    "    else:\n",
    "        digits.append(ch)\n",
    "output=''.join(sorted(alphabets)+sorted(digits))\n",
    "#s3=''.join(output)\n",
    "print(output)\n",
    "\n",
    "\n",
    "#Method 2\n",
    "\n",
    "s='B4A1D3'\n",
    "alphabets=[]\n",
    "digits=[]\n",
    "for ch in s:\n",
    "    if ch.isalpha():\n",
    "        alphabets.append(ch)\n",
    "    else:\n",
    "        digits.append(ch)\n",
    "output=sorted(alphabets)+sorted(digits)\n",
    "s3=''.join(output)\n",
    "print(output)\n",
    "\n",
    "\n",
    "\n",
    "\n",
    "# print(''.join(s))\n",
    "# print(sorted(s))"
   ]
  },
  {
   "cell_type": "code",
   "execution_count": null,
   "id": "7e8865e0",
   "metadata": {},
   "outputs": [],
   "source": []
  },
  {
   "cell_type": "code",
   "execution_count": null,
   "id": "d81bd1fd",
   "metadata": {},
   "outputs": [],
   "source": []
  },
  {
   "cell_type": "code",
   "execution_count": null,
   "id": "9fead555",
   "metadata": {},
   "outputs": [],
   "source": []
  }
 ],
 "metadata": {
  "kernelspec": {
   "display_name": "Python 3 (ipykernel)",
   "language": "python",
   "name": "python3"
  },
  "language_info": {
   "codemirror_mode": {
    "name": "ipython",
    "version": 3
   },
   "file_extension": ".py",
   "mimetype": "text/x-python",
   "name": "python",
   "nbconvert_exporter": "python",
   "pygments_lexer": "ipython3",
   "version": "3.11.5"
  }
 },
 "nbformat": 4,
 "nbformat_minor": 5
}
