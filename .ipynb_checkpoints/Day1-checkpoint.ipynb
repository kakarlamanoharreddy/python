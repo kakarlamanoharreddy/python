{
 "cells": [
  {
   "cell_type": "code",
   "execution_count": 2,
   "id": "ab8847a7",
   "metadata": {},
   "outputs": [
    {
     "name": "stdout",
     "output_type": "stream",
     "text": [
      "<class 'str'>\n",
      "<class 'int'>\n"
     ]
    }
   ],
   "source": [
    "a='11dffaa11'\n",
    "print(type(a))\n",
    "a=10\n",
    "print(type(a))"
   ]
  },
  {
   "cell_type": "code",
   "execution_count": 18,
   "id": "b8e37fe3",
   "metadata": {},
   "outputs": [
    {
     "name": "stdout",
     "output_type": "stream",
     "text": [
      "117874\n"
     ]
    }
   ],
   "source": [
    "from random import randint\n",
    "print(randint(0,9),randint(0,9),randint(0,9),randint(0,9),randint(0,9),randint(0,9),sep='')"
   ]
  },
  {
   "cell_type": "code",
   "execution_count": 19,
   "id": "cec953c5",
   "metadata": {},
   "outputs": [
    {
     "name": "stdout",
     "output_type": "stream",
     "text": [
      "664139\n",
      "606352\n",
      "815513\n",
      "213421\n",
      "194372\n",
      "607506\n",
      "116025\n",
      "919877\n",
      "254087\n",
      "450630\n"
     ]
    }
   ],
   "source": [
    "#For 10 OTP's\n",
    "from random import randint\n",
    "for i in range(10):\n",
    "    print(randint(0,9),randint(0,9),randint(0,9),randint(0,9),randint(0,9),randint(0,9),sep='')"
   ]
  },
  {
   "cell_type": "code",
   "execution_count": 2,
   "id": "f175d991",
   "metadata": {},
   "outputs": [
    {
     "name": "stdout",
     "output_type": "stream",
     "text": [
      "Enter a some number1\n",
      "Welcome to USA\n"
     ]
    }
   ],
   "source": [
    "#Practice Activity\n",
    "n=int(input(\"Enter a some number\"))\n",
    "for i in range(n):\n",
    "    print(\"Welcome to USA\")"
   ]
  },
  {
   "cell_type": "code",
   "execution_count": 5,
   "id": "98a21c5d",
   "metadata": {},
   "outputs": [
    {
     "name": "stdout",
     "output_type": "stream",
     "text": [
      "Enter a first number:5\n",
      "Enter a second number5\n",
      "The sum of 2 numbers is: 10\n",
      "The product of 2 number is 25\n"
     ]
    }
   ],
   "source": [
    "#Read 2 numbers from the keyboard and print sum and product of 2 numbers\n",
    "a=int(input(\"Enter a first number:\"))\n",
    "b=int(input(\"Enter a second number\"))\n",
    "print(\"The sum of 2 numbers is:\", a+b)\n",
    "print(\"The product of 2 number is\", a*b)"
   ]
  },
  {
   "cell_type": "code",
   "execution_count": 1,
   "id": "a5019447",
   "metadata": {},
   "outputs": [
    {
     "data": {
      "text/plain": [
       "['False',\n",
       " 'None',\n",
       " 'True',\n",
       " 'and',\n",
       " 'as',\n",
       " 'assert',\n",
       " 'async',\n",
       " 'await',\n",
       " 'break',\n",
       " 'class',\n",
       " 'continue',\n",
       " 'def',\n",
       " 'del',\n",
       " 'elif',\n",
       " 'else',\n",
       " 'except',\n",
       " 'finally',\n",
       " 'for',\n",
       " 'from',\n",
       " 'global',\n",
       " 'if',\n",
       " 'import',\n",
       " 'in',\n",
       " 'is',\n",
       " 'lambda',\n",
       " 'nonlocal',\n",
       " 'not',\n",
       " 'or',\n",
       " 'pass',\n",
       " 'raise',\n",
       " 'return',\n",
       " 'try',\n",
       " 'while',\n",
       " 'with',\n",
       " 'yield']"
      ]
     },
     "execution_count": 1,
     "metadata": {},
     "output_type": "execute_result"
    }
   ],
   "source": [
    "#How to find python reserve words\n",
    "import keyword\n",
    "keyword.kwlist"
   ]
  },
  {
   "cell_type": "code",
   "execution_count": 4,
   "id": "99f77bce",
   "metadata": {},
   "outputs": [
    {
     "name": "stdout",
     "output_type": "stream",
     "text": [
      "10\n"
     ]
    }
   ],
   "source": [
    "#How to identify datatype\n",
    "a=10\n",
    "type(a)\n",
    "id(a)\n",
    "print(a)"
   ]
  },
  {
   "cell_type": "code",
   "execution_count": 11,
   "id": "0ec3549c",
   "metadata": {},
   "outputs": [
    {
     "name": "stdout",
     "output_type": "stream",
     "text": [
      "15\n"
     ]
    }
   ],
   "source": [
    "#Decimal Number range(0 to 9)\n",
    "a= 0B1111\n",
    "print(a)\n",
    "a= 0b1111\n",
    "print(a)"
   ]
  },
  {
   "cell_type": "code",
   "execution_count": 14,
   "id": "c42039db",
   "metadata": {},
   "outputs": [
    {
     "name": "stdout",
     "output_type": "stream",
     "text": [
      "83\n"
     ]
    }
   ],
   "source": [
    "#Octal Number range(0 to 7)\n",
    "a=0O123\n",
    "print(a)\n",
    "a=0o123\n",
    "print(a)"
   ]
  },
  {
   "cell_type": "code",
   "execution_count": 17,
   "id": "5180656c",
   "metadata": {},
   "outputs": [
    {
     "name": "stdout",
     "output_type": "stream",
     "text": [
      "16\n",
      "64206\n"
     ]
    }
   ],
   "source": [
    "#Hexa Decimal range(0 to 9),(A to F),A=10,B=11,C=12,D=13,E=14,F=15)\n",
    "a=0X10\n",
    "print(a)\n",
    "a=0xFace\n",
    "print(a)"
   ]
  }
 ],
 "metadata": {
  "kernelspec": {
   "display_name": "Python 3 (ipykernel)",
   "language": "python",
   "name": "python3"
  },
  "language_info": {
   "codemirror_mode": {
    "name": "ipython",
    "version": 3
   },
   "file_extension": ".py",
   "mimetype": "text/x-python",
   "name": "python",
   "nbconvert_exporter": "python",
   "pygments_lexer": "ipython3",
   "version": "3.11.5"
  }
 },
 "nbformat": 4,
 "nbformat_minor": 5
}
