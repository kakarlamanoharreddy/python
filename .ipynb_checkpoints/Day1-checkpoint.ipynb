{
 "cells": [
  {
   "cell_type": "code",
   "execution_count": 2,
   "id": "ab8847a7",
   "metadata": {},
   "outputs": [
    {
     "name": "stdout",
     "output_type": "stream",
     "text": [
      "<class 'str'>\n",
      "<class 'int'>\n"
     ]
    }
   ],
   "source": [
    "a='11dffaa11'\n",
    "print(type(a))\n",
    "a=10\n",
    "print(type(a))"
   ]
  },
  {
   "cell_type": "code",
   "execution_count": 18,
   "id": "b8e37fe3",
   "metadata": {},
   "outputs": [
    {
     "name": "stdout",
     "output_type": "stream",
     "text": [
      "117874\n"
     ]
    }
   ],
   "source": [
    "from random import randint\n",
    "print(randint(0,9),randint(0,9),randint(0,9),randint(0,9),randint(0,9),randint(0,9),sep='')"
   ]
  },
  {
   "cell_type": "code",
   "execution_count": 19,
   "id": "cec953c5",
   "metadata": {},
   "outputs": [
    {
     "name": "stdout",
     "output_type": "stream",
     "text": [
      "664139\n",
      "606352\n",
      "815513\n",
      "213421\n",
      "194372\n",
      "607506\n",
      "116025\n",
      "919877\n",
      "254087\n",
      "450630\n"
     ]
    }
   ],
   "source": [
    "#For 10 OTP's\n",
    "from random import randint\n",
    "for i in range(10):\n",
    "    print(randint(0,9),randint(0,9),randint(0,9),randint(0,9),randint(0,9),randint(0,9),sep='')"
   ]
  },
  {
   "cell_type": "code",
   "execution_count": 2,
   "id": "f175d991",
   "metadata": {},
   "outputs": [
    {
     "name": "stdout",
     "output_type": "stream",
     "text": [
      "Enter a some number1\n",
      "Welcome to USA\n"
     ]
    }
   ],
   "source": [
    "#Practice Activity\n",
    "n=int(input(\"Enter a some number\"))\n",
    "for i in range(n):\n",
    "    print(\"Welcome to USA\")"
   ]
  },
  {
   "cell_type": "code",
   "execution_count": 5,
   "id": "98a21c5d",
   "metadata": {},
   "outputs": [
    {
     "name": "stdout",
     "output_type": "stream",
     "text": [
      "Enter a first number:5\n",
      "Enter a second number5\n",
      "The sum of 2 numbers is: 10\n",
      "The product of 2 number is 25\n"
     ]
    }
   ],
   "source": [
    "#Read 2 numbers from the keyboard and print sum and product of 2 numbers\n",
    "a=int(input(\"Enter a first number:\"))\n",
    "b=int(input(\"Enter a second number\"))\n",
    "print(\"The sum of 2 numbers is:\", a+b)\n",
    "print(\"The product of 2 number is\", a*b)"
   ]
  },
  {
   "cell_type": "code",
   "execution_count": 1,
   "id": "a5019447",
   "metadata": {},
   "outputs": [
    {
     "data": {
      "text/plain": [
       "['False',\n",
       " 'None',\n",
       " 'True',\n",
       " 'and',\n",
       " 'as',\n",
       " 'assert',\n",
       " 'async',\n",
       " 'await',\n",
       " 'break',\n",
       " 'class',\n",
       " 'continue',\n",
       " 'def',\n",
       " 'del',\n",
       " 'elif',\n",
       " 'else',\n",
       " 'except',\n",
       " 'finally',\n",
       " 'for',\n",
       " 'from',\n",
       " 'global',\n",
       " 'if',\n",
       " 'import',\n",
       " 'in',\n",
       " 'is',\n",
       " 'lambda',\n",
       " 'nonlocal',\n",
       " 'not',\n",
       " 'or',\n",
       " 'pass',\n",
       " 'raise',\n",
       " 'return',\n",
       " 'try',\n",
       " 'while',\n",
       " 'with',\n",
       " 'yield']"
      ]
     },
     "execution_count": 1,
     "metadata": {},
     "output_type": "execute_result"
    }
   ],
   "source": [
    "#How to find python reserve words\n",
    "import keyword\n",
    "keyword.kwlist"
   ]
  },
  {
   "cell_type": "code",
   "execution_count": 4,
   "id": "9f7b2378",
   "metadata": {},
   "outputs": [
    {
     "name": "stdout",
     "output_type": "stream",
     "text": [
      "10\n"
     ]
    }
   ],
   "source": [
    "#How to identify datatype\n",
    "a=10\n",
    "type(a)\n",
    "id(a)\n",
    "print(a)"
   ]
  },
  {
   "cell_type": "code",
   "execution_count": 11,
   "id": "cf093019",
   "metadata": {},
   "outputs": [
    {
     "name": "stdout",
     "output_type": "stream",
     "text": [
      "15\n"
     ]
    }
   ],
   "source": [
    "#Decimal Number range(0 to 9)\n",
    "a= 0B1111\n",
    "print(a)\n",
    "a= 0b1111\n",
    "print(a)"
   ]
  },
  {
   "cell_type": "code",
   "execution_count": 14,
   "id": "2a5e8f1c",
   "metadata": {},
   "outputs": [
    {
     "name": "stdout",
     "output_type": "stream",
     "text": [
      "83\n"
     ]
    }
   ],
   "source": [
    "#Octal Number range(0 to 7)\n",
    "a=0O123\n",
    "print(a)\n",
    "a=0o123\n",
    "print(a)"
   ]
  },
  {
   "cell_type": "code",
   "execution_count": 17,
   "id": "c7c8e69d",
   "metadata": {},
   "outputs": [
    {
     "name": "stdout",
     "output_type": "stream",
     "text": [
      "16\n",
      "64206\n"
     ]
    }
   ],
   "source": [
    "#Hexa Decimal range(0 to 9),(A to F),A=10,B=11,C=12,D=13,E=14,F=15)\n",
    "a=0X10\n",
    "print(a)\n",
    "a=0xFace\n",
    "print(a)"
   ]
  },
  {
   "cell_type": "code",
   "execution_count": 23,
   "id": "86e65b24",
   "metadata": {},
   "outputs": [
    {
     "data": {
      "text/plain": [
       "'0b1010011'"
      ]
     },
     "execution_count": 23,
     "metadata": {},
     "output_type": "execute_result"
    }
   ],
   "source": [
    "bin(15)"
   ]
  },
  {
   "cell_type": "code",
   "execution_count": 24,
   "id": "6bc43e28",
   "metadata": {},
   "outputs": [
    {
     "data": {
      "text/plain": [
       "'0b1010011'"
      ]
     },
     "execution_count": 24,
     "metadata": {},
     "output_type": "execute_result"
    }
   ],
   "source": [
    "bin(0o123)"
   ]
  },
  {
   "cell_type": "code",
   "execution_count": 25,
   "id": "3612c01b",
   "metadata": {},
   "outputs": [
    {
     "data": {
      "text/plain": [
       "'0b1011111011101111'"
      ]
     },
     "execution_count": 25,
     "metadata": {},
     "output_type": "execute_result"
    }
   ],
   "source": [
    "bin(0Xbeef)"
   ]
  },
  {
   "cell_type": "code",
   "execution_count": 30,
   "id": "e0f394da",
   "metadata": {},
   "outputs": [
    {
     "name": "stdout",
     "output_type": "stream",
     "text": [
      "120000.0\n"
     ]
    }
   ],
   "source": [
    "#Float Datatype\n",
    "f=1.2E5\n",
    "print(f)"
   ]
  },
  {
   "cell_type": "code",
   "execution_count": 32,
   "id": "3af56e9e",
   "metadata": {},
   "outputs": [
    {
     "name": "stdout",
     "output_type": "stream",
     "text": [
      "(10+20j)\n",
      "<class 'complex'>\n"
     ]
    }
   ],
   "source": [
    "#Complex Datatype\n",
    "x= 10+20J\n",
    "print(x)\n",
    "print(type(x))"
   ]
  },
  {
   "cell_type": "code",
   "execution_count": 37,
   "id": "380e1c35",
   "metadata": {},
   "outputs": [
    {
     "name": "stdout",
     "output_type": "stream",
     "text": [
      "10.0\n",
      "20.0\n",
      "(40+60j)\n"
     ]
    }
   ],
   "source": [
    "x=10+20J\n",
    "y=30+40J\n",
    "print(x.real)\n",
    "print(x.imag)\n",
    "print(x+y)"
   ]
  },
  {
   "cell_type": "code",
   "execution_count": 40,
   "id": "26b497fa",
   "metadata": {},
   "outputs": [
    {
     "name": "stdout",
     "output_type": "stream",
     "text": [
      "<class 'bool'>\n"
     ]
    }
   ],
   "source": [
    "#Boolean Datatype\n",
    "a=True\n",
    "print(type(a))"
   ]
  },
  {
   "cell_type": "code",
   "execution_count": 41,
   "id": "918a32b0",
   "metadata": {},
   "outputs": [
    {
     "name": "stdout",
     "output_type": "stream",
     "text": [
      "<class 'bool'>\n",
      "False\n"
     ]
    }
   ],
   "source": [
    "a=10\n",
    "b=20\n",
    "c=a>b\n",
    "print(type(c))\n",
    "print(c)"
   ]
  },
  {
   "cell_type": "code",
   "execution_count": 44,
   "id": "09452799",
   "metadata": {},
   "outputs": [
    {
     "name": "stdout",
     "output_type": "stream",
     "text": [
      "2\n",
      "1\n",
      "0\n"
     ]
    }
   ],
   "source": [
    "print(True + True)\n",
    "print(True-False)\n",
    "print(True*False)"
   ]
  },
  {
   "cell_type": "code",
   "execution_count": 60,
   "id": "236ce15b",
   "metadata": {},
   "outputs": [
    {
     "name": "stdout",
     "output_type": "stream",
     "text": [
      "'xyz'\n",
      "Manohar\n",
      "  Reddy\n",
      "   Kakarla\n",
      "Manohar\n",
      "        Reddy\n",
      "            Kakarla\n",
      "Manohar\n",
      "        Reddy\n",
      "            Kakarla\n"
     ]
    }
   ],
   "source": [
    "a=\"'xyz'\"\n",
    "b='Manohar\\n  Reddy\\n   Kakarla'\n",
    "c=\"\"\"Manohar\n",
    "        Reddy\n",
    "            Kakarla\"\"\"\n",
    "d='''Manohar\n",
    "        Reddy\n",
    "            Kakarla'''\n",
    "print(a)\n",
    "print(b)\n",
    "print(c)\n",
    "print(d)"
   ]
  },
  {
   "cell_type": "code",
   "execution_count": null,
   "id": "7ee1cc0d",
   "metadata": {},
   "outputs": [],
   "source": []
  },
  {
   "cell_type": "code",
   "execution_count": null,
   "id": "946e607a",
   "metadata": {},
   "outputs": [],
   "source": []
  },
  {
   "cell_type": "code",
   "execution_count": null,
   "id": "79f9f5cc",
   "metadata": {},
   "outputs": [],
   "source": []
  },
  {
   "cell_type": "code",
   "execution_count": null,
   "id": "aa128ea5",
   "metadata": {},
   "outputs": [],
   "source": []
  }
 ],
 "metadata": {
  "kernelspec": {
   "display_name": "Python 3 (ipykernel)",
   "language": "python",
   "name": "python3"
  },
  "language_info": {
   "codemirror_mode": {
    "name": "ipython",
    "version": 3
   },
   "file_extension": ".py",
   "mimetype": "text/x-python",
   "name": "python",
   "nbconvert_exporter": "python",
   "pygments_lexer": "ipython3",
   "version": "3.11.5"
  }
 },
 "nbformat": 4,
 "nbformat_minor": 5
}
