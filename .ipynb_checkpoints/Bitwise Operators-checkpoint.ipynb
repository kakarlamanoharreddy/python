{
 "cells": [
  {
   "cell_type": "code",
   "execution_count": 13,
   "id": "fcfde2f2",
   "metadata": {},
   "outputs": [
    {
     "name": "stdout",
     "output_type": "stream",
     "text": [
      "0\n",
      "False\n",
      "False\n"
     ]
    }
   ],
   "source": [
    "#Bitwise Operators (These applicable only int and bool datatype only)\n",
    "#\"&\" Bitwise and\n",
    "#\"|\" Bitwise OR\n",
    "#\"^\" Bitwise X-OR\n",
    "#\"~\" Bitwise Complex Operator\n",
    "#\"<<\" Bitwise Left-Shift Operator\n",
    "#\">>\" Bitwise Right-Shift Operator\n",
    "print(10 & 20)  \n",
    "#print(10.5 & 10)  #Type error \n",
    "#print('Manohar' & \"Reddy\") #Type Error\n",
    "print(True & False)\n",
    "print(False & True)\n",
    "#print(\"**************************\")\n"
   ]
  },
  {
   "cell_type": "code",
   "execution_count": 11,
   "id": "e21eacc9",
   "metadata": {},
   "outputs": [
    {
     "name": "stdout",
     "output_type": "stream",
     "text": [
      "4\n",
      "5\n",
      "1\n"
     ]
    }
   ],
   "source": [
    "#Bitwise 'and', 'or', 'X-OR' Operator Examples\n",
    "print(4 & 5)\n",
    "print(4 | 5)\n",
    "print(4 ^ 5)"
   ]
  },
  {
   "cell_type": "code",
   "execution_count": 9,
   "id": "a2606f68",
   "metadata": {},
   "outputs": [
    {
     "name": "stdout",
     "output_type": "stream",
     "text": [
      "-5\n",
      "-6\n",
      "3\n",
      "40\n",
      "80\n",
      "*******************\n",
      "2\n",
      "0\n"
     ]
    }
   ],
   "source": [
    "#Bitwise Complement Operator(~)\n",
    "print(~4)\n",
    "print(~5)\n",
    "print(~-4)\n",
    "\n",
    "#Shift Operators\n",
    "#\"<<\" Left Shift Operator\n",
    "print(10<<2)\n",
    "print(10<<3)\n",
    "\n",
    "print(\"*******************\")\n",
    "#\">>\" Right Shift Operator\"\n",
    "print(10>>2)\n",
    "print(1>>2)"
   ]
  },
  {
   "cell_type": "code",
   "execution_count": 15,
   "id": "13b59d3a",
   "metadata": {},
   "outputs": [
    {
     "ename": "SyntaxError",
     "evalue": "invalid syntax (3765810497.py, line 16)",
     "output_type": "error",
     "traceback": [
      "\u001b[1;36m  Cell \u001b[1;32mIn[15], line 16\u001b[1;36m\u001b[0m\n\u001b[1;33m    x= x++\u001b[0m\n\u001b[1;37m          ^\u001b[0m\n\u001b[1;31mSyntaxError\u001b[0m\u001b[1;31m:\u001b[0m invalid syntax\n"
     ]
    }
   ],
   "source": [
    "#Assignment Operator\n",
    "x=10\n",
    "x+=20\n",
    "print(x)\n",
    "\n",
    "x=10\n",
    "x&=5\n",
    "print(x)\n",
    "\n",
    "x=10\n",
    "x**=2     #x=x**2   ,  x=(10)2 =100\n",
    "print(x)\n",
    "\n",
    "\n",
    "x=10\n",
    "x++\n",
    "print(x)   #Error\n",
    "\n",
    "x=10\n",
    "x--\n",
    "print(x)  #Error"
   ]
  },
  {
   "cell_type": "code",
   "execution_count": 18,
   "id": "09a7ccd5",
   "metadata": {},
   "outputs": [
    {
     "name": "stdout",
     "output_type": "stream",
     "text": [
      "10\n",
      "10\n",
      "10\n",
      "-10\n",
      "10\n",
      "-10\n"
     ]
    }
   ],
   "source": [
    "x=10\n",
    "print(+x)\n",
    "print(++x)\n",
    "print(+++++++++x)\n",
    "print(-x)\n",
    "print(--x)\n",
    "print(---------x)"
   ]
  },
  {
   "cell_type": "code",
   "execution_count": null,
   "id": "ccd54ff2",
   "metadata": {},
   "outputs": [],
   "source": []
  },
  {
   "cell_type": "code",
   "execution_count": 22,
   "id": "f16f9a0c",
   "metadata": {},
   "outputs": [
    {
     "name": "stdout",
     "output_type": "stream",
     "text": [
      "40\n"
     ]
    }
   ],
   "source": [
    "#Ternary Operator\n",
    "a=10\n",
    "b=20\n",
    "c=30 if a>b else 40\n",
    "print(c)"
   ]
  },
  {
   "cell_type": "code",
   "execution_count": 35,
   "id": "776d01f7",
   "metadata": {},
   "outputs": [
    {
     "name": "stdout",
     "output_type": "stream",
     "text": [
      "Enter first value:10\n",
      "Enter second value:10\n",
      "The minimum value is: 10\n"
     ]
    }
   ],
   "source": [
    "#Write a python programm to read two int values from the keyboard and print minimum value\n",
    "a=int(input(\"Enter first value:\"))\n",
    "b=int(input(\"Enter second value:\"))\n",
    "c= a if a<b else b\n",
    "print(\"The minimum value is:\",c)"
   ]
  },
  {
   "cell_type": "code",
   "execution_count": 46,
   "id": "4da39510",
   "metadata": {},
   "outputs": [
    {
     "name": "stdout",
     "output_type": "stream",
     "text": [
      "Enter first value:5\n",
      "Enter second value:35\n",
      "Enter third value:30\n",
      "The minumum number is: 5\n"
     ]
    }
   ],
   "source": [
    "#Nested of tentary Operator\n",
    "# Finding a minimum value based on 3 values\n",
    "a=int(input(\"Enter first value:\"))\n",
    "b=int(input(\"Enter second value:\"))\n",
    "c=int(input(\"Enter third value:\"))\n",
    "d= a if a<b and a<c else b if b<c else c\n",
    "#d= a if a<b<c else b if b<c else c     # Some cases will not work\n",
    "print(\"The minumum number is:\",d)"
   ]
  },
  {
   "cell_type": "code",
   "execution_count": 49,
   "id": "968ed78b",
   "metadata": {},
   "outputs": [
    {
     "name": "stdout",
     "output_type": "stream",
     "text": [
      "Enter first value:20\n",
      "Enter second value:10\n",
      "The minimum value is: 20\n"
     ]
    }
   ],
   "source": [
    "#Write a python programm to read two int values from the keyboard and print maximum value\n",
    "a=int(input(\"Enter first value:\"))\n",
    "b=int(input(\"Enter second value:\"))\n",
    "c= a if a>b else b\n",
    "print(\"The maximum value is:\",c)"
   ]
  },
  {
   "cell_type": "code",
   "execution_count": 47,
   "id": "32a7ce5e",
   "metadata": {},
   "outputs": [
    {
     "name": "stdout",
     "output_type": "stream",
     "text": [
      "Enter first value:10\n",
      "Enter second value:20\n",
      "Enter third value:30\n",
      "The minumum number is: 30\n"
     ]
    }
   ],
   "source": [
    "#Nested of tentary Operator\n",
    "# Finding a maximum value based on 3 values\n",
    "a=int(input(\"Enter first value:\"))\n",
    "b=int(input(\"Enter second value:\"))\n",
    "c=int(input(\"Enter third value:\"))\n",
    "d= a if a>b and a>c else b if b>c else c\n",
    "#d= a if a>b>c else b if b>c else c     # Some cases will not work\n",
    "print(\"The maximum number is:\",d)"
   ]
  },
  {
   "cell_type": "code",
   "execution_count": 58,
   "id": "184568de",
   "metadata": {},
   "outputs": [
    {
     "name": "stdout",
     "output_type": "stream",
     "text": [
      "Enter a first value:10\n",
      "Enter a second value:20\n",
      "The Given number is: First Number is Smaller than second number\n"
     ]
    }
   ],
   "source": [
    "#WAP based on below conditions satisfy\n",
    "#a & b\n",
    "# Both number are equal\n",
    "# First Number is smaller than second number\n",
    "# First Number is Greater than second number\n",
    "a=int(input(\"Enter a first value:\"))\n",
    "b=int(input(\"Enter a second value:\"))\n",
    "c=\"Both Numbers are Equal\" if a==b else \"First Number is Smaller than second number\" if a<b else \"First Number is Bigger than First value\"\n",
    "print(\"The Given number is:\",c)"
   ]
  },
  {
   "cell_type": "code",
   "execution_count": null,
   "id": "059ec716",
   "metadata": {},
   "outputs": [],
   "source": []
  },
  {
   "cell_type": "code",
   "execution_count": 6,
   "id": "b680ed62",
   "metadata": {},
   "outputs": [
    {
     "name": "stdout",
     "output_type": "stream",
     "text": [
      "True\n",
      "False\n",
      "******************\n",
      "True\n",
      "False\n",
      "******************\n",
      "1878444162688\n",
      "1878444162176\n",
      "False\n",
      "True\n",
      "True\n"
     ]
    }
   ],
   "source": [
    "#Special Operators\n",
    "# 1) Identity Operators\n",
    "# 2) Membership Operators\n",
    "\n",
    "\n",
    "# 1) Identity Operators\n",
    "a=10\n",
    "b=10\n",
    "print(a is b)\n",
    "print(a is not b)\n",
    "print(\"******************\")\n",
    "a='Manohar'\n",
    "b='Manohar'\n",
    "print(a is b)\n",
    "print(a is not b)\n",
    "print(\"******************\")\n",
    "l1=[10,20,30,40]\n",
    "l2=[10,20,30,40]\n",
    "print(id(l1))\n",
    "print(id(l2))\n",
    "print(l1 is l2)\n",
    "print(l1 is not l2)\n",
    "print(l1==l2)"
   ]
  },
  {
   "cell_type": "code",
   "execution_count": 15,
   "id": "fc66d1b0",
   "metadata": {},
   "outputs": [
    {
     "name": "stdout",
     "output_type": "stream",
     "text": [
      "True\n",
      "False\n",
      "True\n",
      "False\n",
      "False\n",
      "True\n",
      "****************\n",
      "True\n",
      "False\n",
      "True\n"
     ]
    }
   ],
   "source": [
    "#Membership Operator\n",
    "s='Abhinav is a very good boy'\n",
    "print('A' in s)  #True\n",
    "print('z' in s)  #True\n",
    "print('Abhi' in s)  #True\n",
    "print('oooooooo' in s) # False\n",
    "print('abhi' in s)  # Because its case sensitive\n",
    "print('abhi' not in s)  #True\n",
    "print(\"****************\")\n",
    "l1=['sunny','bunny','chinny','vinny']\n",
    "print('sunny' in l1)\n",
    "print('pinny' in l1)\n",
    "print('pinny' not in l1)"
   ]
  },
  {
   "cell_type": "code",
   "execution_count": null,
   "id": "a24ab909",
   "metadata": {},
   "outputs": [],
   "source": []
  },
  {
   "cell_type": "code",
   "execution_count": 20,
   "id": "eebebe9d",
   "metadata": {},
   "outputs": [
    {
     "name": "stdout",
     "output_type": "stream",
     "text": [
      "16\n",
      "36\n",
      "***********\n",
      "100.0\n",
      "100.0\n",
      "70.0\n",
      "15.0\n"
     ]
    }
   ],
   "source": [
    "#Operator Precedence\n",
    "print(10+2*3)      #Here * is more priority + than operator\n",
    "print((10+2)*3)    #Here () is more priority * than operator\n",
    "print(\"***********\")\n",
    "a=30\n",
    "b=20\n",
    "c=10\n",
    "d=5\n",
    "print((a+b)*c/d)\n",
    "print((a+b)*(c/d))\n",
    "print(a+(b*c)/d)\n",
    "print(3/2*4+3+(10/5)**3-2)"
   ]
  },
  {
   "cell_type": "code",
   "execution_count": null,
   "id": "2fccf152",
   "metadata": {},
   "outputs": [],
   "source": []
  },
  {
   "cell_type": "code",
   "execution_count": null,
   "id": "a5471916",
   "metadata": {},
   "outputs": [],
   "source": [
    "#Python Module\n",
    "#Mathematical Functions From Math Module\n",
    "a=888\n",
    "b=999\n",
    "def add(x,y):\n",
    "    print('Performing a addition operation')\n",
    "    print('The sum value is:',x+y)\n",
    "def product(x,y):\n",
    "    print('Performing a multiplication operation')\n",
    "    print('The product value is:',x*y)"
   ]
  },
  {
   "cell_type": "code",
   "execution_count": 36,
   "id": "521f6530",
   "metadata": {},
   "outputs": [
    {
     "name": "stdout",
     "output_type": "stream",
     "text": [
      "Performing a addition operation\n",
      "The sum value is: 30\n",
      "None\n",
      "Performing a multiplication operation\n",
      "The product value is: 200\n",
      "None\n"
     ]
    }
   ],
   "source": [
    "#Reuse above programm\n",
    "#import dmath\n",
    "print(dmath.add(10,20))\n",
    "print(dmath.product(10,20))"
   ]
  },
  {
   "cell_type": "code",
   "execution_count": null,
   "id": "320953f0",
   "metadata": {},
   "outputs": [],
   "source": []
  },
  {
   "cell_type": "code",
   "execution_count": 40,
   "id": "7f4ac85c",
   "metadata": {},
   "outputs": [
    {
     "name": "stdout",
     "output_type": "stream",
     "text": [
      "f1 new function\n"
     ]
    }
   ],
   "source": [
    "# If we have 2 functions in same value but you will call latest value it will fetch\n",
    "#from math1 import *\n",
    "#from math2 import *\n",
    "def f1():\n",
    "    print('f1 old function')\n",
    "def f1():\n",
    "    print('f1 new function')\n",
    "f1()"
   ]
  },
  {
   "cell_type": "code",
   "execution_count": 45,
   "id": "73e9947f",
   "metadata": {},
   "outputs": [
    {
     "name": "stdout",
     "output_type": "stream",
     "text": [
      "Enter radius number:5\n",
      "('Area of circle is:', 78.53981633974483)\n",
      "('Area of circle is:', 78.53981633974483)\n"
     ]
    }
   ],
   "source": [
    "#Important functions present in math\n",
    "# Find area of circle for the given radius\n",
    "from math import *\n",
    "r=int(input('Enter radius number:'))\n",
    "radius = ('Area of circle is:', pi * r**2)\n",
    "radius1 = ('Area of circle is:',pi*pow(r,2))\n",
    "print(radius)\n",
    "print(radius1)"
   ]
  },
  {
   "cell_type": "code",
   "execution_count": 62,
   "id": "04afbc7f",
   "metadata": {},
   "outputs": [
    {
     "name": "stdout",
     "output_type": "stream",
     "text": [
      "4.0\n",
      "3.141592653589793\n",
      "2.718281828459045\n",
      "3\n",
      "4\n",
      "9.0\n",
      "***********************************************************************************************************************\n",
      "6.0\n",
      "9.0\n",
      "3.141592653589793\n",
      "2.718281828459045\n",
      "***********************************************************************************************************************\n",
      "['BPF', 'LOG4', 'NV_MAGICCONST', 'RECIP_BPF', 'Random', 'SG_MAGICCONST', 'SystemRandom', 'TWOPI', '_ONE', '_Sequence', '_Set', '__all__', '__builtins__', '__cached__', '__doc__', '__file__', '__loader__', '__name__', '__package__', '__spec__', '_accumulate', '_acos', '_bisect', '_ceil', '_cos', '_e', '_exp', '_floor', '_index', '_inst', '_isfinite', '_log', '_os', '_pi', '_random', '_repeat', '_sha512', '_sin', '_sqrt', '_test', '_test_generator', '_urandom', '_warn', 'betavariate', 'choice', 'choices', 'expovariate', 'gammavariate', 'gauss', 'getrandbits', 'getstate', 'lognormvariate', 'normalvariate', 'paretovariate', 'randbytes', 'randint', 'random', 'randrange', 'sample', 'seed', 'setstate', 'shuffle', 'triangular', 'uniform', 'vonmisesvariate', 'weibullvariate']\n"
     ]
    }
   ],
   "source": [
    "#Checking math modules\n",
    "#Below the various functions and modules available in math module\n",
    "import math\n",
    "        #(or)\n",
    "import math as m\n",
    "#print(dir(math))\n",
    "print(math.sqrt(16))  # print(m.sqrt(16))\n",
    "print(math.pi)  # print(m.pi)\n",
    "print(math.e)  # print(m.e)\n",
    "print(math.floor(3.9999))  # print(m.floor(3.999999))\n",
    "print(math.ceil(3.99999990))  # print(m.ceil(3.999999))\n",
    "print(math.pow(3,2))  # print(m.pow(3,2))\n",
    "print(\"***********************************************************************************************************************\")\n",
    "from math import *\n",
    "print(sqrt(36))\n",
    "print(pow(3,2))\n",
    "print(pi)\n",
    "print(e)\n",
    "print(\"***********************************************************************************************************************\")\n",
    "\n",
    "#Below various functions and modules available in random module\n",
    "import random\n",
    "print(dir(random))"
   ]
  },
  {
   "cell_type": "code",
   "execution_count": null,
   "id": "6551ad66",
   "metadata": {},
   "outputs": [],
   "source": []
  },
  {
   "cell_type": "code",
   "execution_count": null,
   "id": "cb514f2b",
   "metadata": {},
   "outputs": [],
   "source": []
  },
  {
   "cell_type": "code",
   "execution_count": null,
   "id": "480c3f0f",
   "metadata": {},
   "outputs": [],
   "source": []
  }
 ],
 "metadata": {
  "kernelspec": {
   "display_name": "Python 3 (ipykernel)",
   "language": "python",
   "name": "python3"
  },
  "language_info": {
   "codemirror_mode": {
    "name": "ipython",
    "version": 3
   },
   "file_extension": ".py",
   "mimetype": "text/x-python",
   "name": "python",
   "nbconvert_exporter": "python",
   "pygments_lexer": "ipython3",
   "version": "3.11.5"
  }
 },
 "nbformat": 4,
 "nbformat_minor": 5
}
