{
 "cells": [
  {
   "cell_type": "code",
   "execution_count": 13,
   "id": "fcfde2f2",
   "metadata": {},
   "outputs": [
    {
     "name": "stdout",
     "output_type": "stream",
     "text": [
      "0\n",
      "False\n",
      "False\n"
     ]
    }
   ],
   "source": [
    "#Bitwise Operators (These applicable only int and bool datatype only)\n",
    "#\"&\" Bitwise and\n",
    "#\"|\" Bitwise OR\n",
    "#\"^\" Bitwise X-OR\n",
    "#\"~\" Bitwise Complex Operator\n",
    "#\"<<\" Bitwise Left-Shift Operator\n",
    "#\">>\" Bitwise Right-Shift Operator\n",
    "print(10 & 20)  \n",
    "#print(10.5 & 10)  #Type error \n",
    "#print('Manohar' & \"Reddy\") #Type Error\n",
    "print(True & False)\n",
    "print(False & True)\n",
    "#print(\"**************************\")\n"
   ]
  },
  {
   "cell_type": "code",
   "execution_count": 11,
   "id": "e21eacc9",
   "metadata": {},
   "outputs": [
    {
     "name": "stdout",
     "output_type": "stream",
     "text": [
      "4\n",
      "5\n",
      "1\n"
     ]
    }
   ],
   "source": [
    "#Bitwise 'and', 'or', 'X-OR' Operator Examples\n",
    "print(4 & 5)\n",
    "print(4 | 5)\n",
    "print(4 ^ 5)"
   ]
  },
  {
   "cell_type": "code",
   "execution_count": 9,
   "id": "a2606f68",
   "metadata": {},
   "outputs": [
    {
     "name": "stdout",
     "output_type": "stream",
     "text": [
      "-5\n",
      "-6\n",
      "3\n",
      "40\n",
      "80\n",
      "*******************\n",
      "2\n",
      "0\n"
     ]
    }
   ],
   "source": [
    "#Bitwise Complement Operator(~)\n",
    "print(~4)\n",
    "print(~5)\n",
    "print(~-4)\n",
    "\n",
    "#Shift Operators\n",
    "#\"<<\" Left Shift Operator\n",
    "print(10<<2)\n",
    "print(10<<3)\n",
    "\n",
    "print(\"*******************\")\n",
    "#\">>\" Right Shift Operator\"\n",
    "print(10>>2)\n",
    "print(1>>2)"
   ]
  },
  {
   "cell_type": "code",
   "execution_count": 15,
   "id": "13b59d3a",
   "metadata": {},
   "outputs": [
    {
     "ename": "SyntaxError",
     "evalue": "invalid syntax (3765810497.py, line 16)",
     "output_type": "error",
     "traceback": [
      "\u001b[1;36m  Cell \u001b[1;32mIn[15], line 16\u001b[1;36m\u001b[0m\n\u001b[1;33m    x= x++\u001b[0m\n\u001b[1;37m          ^\u001b[0m\n\u001b[1;31mSyntaxError\u001b[0m\u001b[1;31m:\u001b[0m invalid syntax\n"
     ]
    }
   ],
   "source": [
    "#Assignment Operator\n",
    "x=10\n",
    "x+=20\n",
    "print(x)\n",
    "\n",
    "x=10\n",
    "x&=5\n",
    "print(x)\n",
    "\n",
    "x=10\n",
    "x**=2     #x=x**2   ,  x=(10)2 =100\n",
    "print(x)\n",
    "\n",
    "\n",
    "x=10\n",
    "x++\n",
    "print(x)   #Error\n",
    "\n",
    "x=10\n",
    "x--\n",
    "print(x)  #Error"
   ]
  },
  {
   "cell_type": "code",
   "execution_count": null,
   "id": "09a7ccd5",
   "metadata": {},
   "outputs": [],
   "source": []
  }
 ],
 "metadata": {
  "kernelspec": {
   "display_name": "Python 3 (ipykernel)",
   "language": "python",
   "name": "python3"
  },
  "language_info": {
   "codemirror_mode": {
    "name": "ipython",
    "version": 3
   },
   "file_extension": ".py",
   "mimetype": "text/x-python",
   "name": "python",
   "nbconvert_exporter": "python",
   "pygments_lexer": "ipython3",
   "version": "3.11.5"
  }
 },
 "nbformat": 4,
 "nbformat_minor": 5
}
