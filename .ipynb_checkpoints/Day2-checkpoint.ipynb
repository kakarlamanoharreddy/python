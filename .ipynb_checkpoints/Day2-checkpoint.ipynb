{
 "cells": [
  {
   "cell_type": "code",
   "execution_count": 2,
   "id": "183f39cf",
   "metadata": {},
   "outputs": [
    {
     "name": "stdout",
     "output_type": "stream",
     "text": [
      "manohar reddy\n"
     ]
    }
   ],
   "source": [
    "#String Operator using Arthimetic Operators\n",
    "\n",
    "s='manohar'+' '+'reddy'\n",
    "print(s)"
   ]
  },
  {
   "cell_type": "code",
   "execution_count": 6,
   "id": "5b6d0aa2",
   "metadata": {},
   "outputs": [],
   "source": [
    "s='manohar' + 10\n",
    "print(s)   #--We will get type error we can't convert string and int"
   ]
  },
  {
   "cell_type": "code",
   "execution_count": 7,
   "id": "1bdc399b",
   "metadata": {},
   "outputs": [
    {
     "name": "stdout",
     "output_type": "stream",
     "text": [
      "ManoharManoharManohar\n"
     ]
    }
   ],
   "source": [
    "#  \"*\" Operator\n",
    "s='Manohar'*3\n",
    "print(s)"
   ]
  },
  {
   "cell_type": "code",
   "execution_count": 8,
   "id": "d70b6a79",
   "metadata": {},
   "outputs": [
    {
     "name": "stdout",
     "output_type": "stream",
     "text": [
      "ManoharManoharManohar\n"
     ]
    }
   ],
   "source": [
    "s=3*'Manohar'\n",
    "print(s)"
   ]
  },
  {
   "cell_type": "code",
   "execution_count": 12,
   "id": "f62e21d8",
   "metadata": {},
   "outputs": [
    {
     "name": "stdout",
     "output_type": "stream",
     "text": [
      "*************\n",
      "Manohar Reddy\n",
      "*************\n"
     ]
    }
   ],
   "source": [
    "print('*************')\n",
    "print('Manohar Reddy')\n",
    "print('*************')"
   ]
  },
  {
   "cell_type": "code",
   "execution_count": 3,
   "id": "dee75899",
   "metadata": {},
   "outputs": [
    {
     "data": {
      "text/plain": [
       "10.0"
      ]
     },
     "execution_count": 3,
     "metadata": {},
     "output_type": "execute_result"
    }
   ],
   "source": [
    "#Type Casting  --To convert from other data type to int  \n",
    "#a) int() \n",
    "#Float to int\n",
    "float(int(10.989))"
   ]
  },
  {
   "cell_type": "code",
   "execution_count": 19,
   "id": "9739c484",
   "metadata": {},
   "outputs": [
    {
     "ename": "TypeError",
     "evalue": "int() argument must be a string, a bytes-like object or a real number, not 'complex'",
     "output_type": "error",
     "traceback": [
      "\u001b[1;31m---------------------------------------------------------------------------\u001b[0m",
      "\u001b[1;31mTypeError\u001b[0m                                 Traceback (most recent call last)",
      "Cell \u001b[1;32mIn[19], line 1\u001b[0m\n\u001b[1;32m----> 1\u001b[0m \u001b[38;5;28mint\u001b[39m(\u001b[38;5;241m10\u001b[39m\u001b[38;5;241m+\u001b[39m\u001b[38;5;241m20\u001b[39mj)\n",
      "\u001b[1;31mTypeError\u001b[0m: int() argument must be a string, a bytes-like object or a real number, not 'complex'"
     ]
    }
   ],
   "source": [
    "int(10+20j)"
   ]
  },
  {
   "cell_type": "code",
   "execution_count": 21,
   "id": "e19c0869",
   "metadata": {},
   "outputs": [
    {
     "data": {
      "text/plain": [
       "0"
      ]
     },
     "execution_count": 21,
     "metadata": {},
     "output_type": "execute_result"
    }
   ],
   "source": [
    "#Bool to int\n",
    "int(True)\n",
    "int(False)"
   ]
  },
  {
   "cell_type": "code",
   "execution_count": 27,
   "id": "2fd80af2",
   "metadata": {},
   "outputs": [
    {
     "data": {
      "text/plain": [
       "20"
      ]
     },
     "execution_count": 27,
     "metadata": {},
     "output_type": "execute_result"
    }
   ],
   "source": [
    "#String to int\n",
    "#string internally contains only integrated values & Base 10\n",
    "int('20')\n",
    "#int('10.5')  #It will through error"
   ]
  },
  {
   "cell_type": "code",
   "execution_count": null,
   "id": "65e7c4fd",
   "metadata": {},
   "outputs": [],
   "source": []
  },
  {
   "cell_type": "code",
   "execution_count": 4,
   "id": "60fe7bc9",
   "metadata": {},
   "outputs": [
    {
     "data": {
      "text/plain": [
       "15.0"
      ]
     },
     "execution_count": 4,
     "metadata": {},
     "output_type": "execute_result"
    }
   ],
   "source": [
    "#Float Datatype Method\n",
    "#Other Datatype to float Datatype\n",
    "#Float to int\n",
    "float(15)\n",
    "\n",
    "#We can't convert float to complex or complex to float"
   ]
  },
  {
   "cell_type": "code",
   "execution_count": 6,
   "id": "5de03488",
   "metadata": {},
   "outputs": [
    {
     "data": {
      "text/plain": [
       "0.0"
      ]
     },
     "execution_count": 6,
     "metadata": {},
     "output_type": "execute_result"
    }
   ],
   "source": [
    "#Float to Boolean\n",
    "float(True)\n",
    "float(False)"
   ]
  },
  {
   "cell_type": "code",
   "execution_count": 8,
   "id": "2621019d",
   "metadata": {},
   "outputs": [
    {
     "data": {
      "text/plain": [
       "10.6"
      ]
     },
     "execution_count": 8,
     "metadata": {},
     "output_type": "execute_result"
    }
   ],
   "source": [
    "#Float to string\n",
    "float(\"10\")\n",
    "float(\"10.6\")"
   ]
  },
  {
   "cell_type": "code",
   "execution_count": null,
   "id": "9a9ad7f5",
   "metadata": {},
   "outputs": [],
   "source": []
  },
  {
   "cell_type": "code",
   "execution_count": null,
   "id": "55d44530",
   "metadata": {},
   "outputs": [],
   "source": []
  },
  {
   "cell_type": "code",
   "execution_count": null,
   "id": "3c8a62a7",
   "metadata": {},
   "outputs": [],
   "source": []
  },
  {
   "cell_type": "code",
   "execution_count": null,
   "id": "6b03694a",
   "metadata": {},
   "outputs": [],
   "source": []
  }
 ],
 "metadata": {
  "kernelspec": {
   "display_name": "Python 3 (ipykernel)",
   "language": "python",
   "name": "python3"
  },
  "language_info": {
   "codemirror_mode": {
    "name": "ipython",
    "version": 3
   },
   "file_extension": ".py",
   "mimetype": "text/x-python",
   "name": "python",
   "nbconvert_exporter": "python",
   "pygments_lexer": "ipython3",
   "version": "3.11.5"
  }
 },
 "nbformat": 4,
 "nbformat_minor": 5
}
