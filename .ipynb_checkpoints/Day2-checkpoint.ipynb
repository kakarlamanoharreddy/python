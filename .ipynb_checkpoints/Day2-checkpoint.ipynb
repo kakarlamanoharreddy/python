{
 "cells": [
  {
   "cell_type": "code",
   "execution_count": 2,
   "id": "183f39cf",
   "metadata": {},
   "outputs": [
    {
     "name": "stdout",
     "output_type": "stream",
     "text": [
      "manohar reddy\n"
     ]
    }
   ],
   "source": [
    "#String Operator using Arthimetic Operators\n",
    "\n",
    "s='manohar'+' '+'reddy'\n",
    "print(s)"
   ]
  },
  {
   "cell_type": "code",
   "execution_count": 6,
   "id": "5b6d0aa2",
   "metadata": {},
   "outputs": [],
   "source": [
    "s='manohar' + 10\n",
    "print(s)   #--We will get type error we can't convert string and int"
   ]
  },
  {
   "cell_type": "code",
   "execution_count": 7,
   "id": "1bdc399b",
   "metadata": {},
   "outputs": [
    {
     "name": "stdout",
     "output_type": "stream",
     "text": [
      "ManoharManoharManohar\n"
     ]
    }
   ],
   "source": [
    "#  \"*\" Operator\n",
    "s='Manohar'*3\n",
    "print(s)"
   ]
  },
  {
   "cell_type": "code",
   "execution_count": 8,
   "id": "d70b6a79",
   "metadata": {},
   "outputs": [
    {
     "name": "stdout",
     "output_type": "stream",
     "text": [
      "ManoharManoharManohar\n"
     ]
    }
   ],
   "source": [
    "s=3*'Manohar'\n",
    "print(s)"
   ]
  },
  {
   "cell_type": "code",
   "execution_count": 12,
   "id": "f62e21d8",
   "metadata": {},
   "outputs": [
    {
     "name": "stdout",
     "output_type": "stream",
     "text": [
      "*************\n",
      "Manohar Reddy\n",
      "*************\n"
     ]
    }
   ],
   "source": [
    "print('*************')\n",
    "print('Manohar Reddy')\n",
    "print('*************')"
   ]
  },
  {
   "cell_type": "code",
   "execution_count": 3,
   "id": "dee75899",
   "metadata": {},
   "outputs": [
    {
     "data": {
      "text/plain": [
       "10.0"
      ]
     },
     "execution_count": 3,
     "metadata": {},
     "output_type": "execute_result"
    }
   ],
   "source": [
    "#Type Casting  --To convert from other data type to int  \n",
    "#a) int() \n",
    "#Float to int\n",
    "float(int(10.989))"
   ]
  },
  {
   "cell_type": "code",
   "execution_count": 19,
   "id": "9739c484",
   "metadata": {},
   "outputs": [
    {
     "ename": "TypeError",
     "evalue": "int() argument must be a string, a bytes-like object or a real number, not 'complex'",
     "output_type": "error",
     "traceback": [
      "\u001b[1;31m---------------------------------------------------------------------------\u001b[0m",
      "\u001b[1;31mTypeError\u001b[0m                                 Traceback (most recent call last)",
      "Cell \u001b[1;32mIn[19], line 1\u001b[0m\n\u001b[1;32m----> 1\u001b[0m \u001b[38;5;28mint\u001b[39m(\u001b[38;5;241m10\u001b[39m\u001b[38;5;241m+\u001b[39m\u001b[38;5;241m20\u001b[39mj)\n",
      "\u001b[1;31mTypeError\u001b[0m: int() argument must be a string, a bytes-like object or a real number, not 'complex'"
     ]
    }
   ],
   "source": [
    "int(10+20j)"
   ]
  },
  {
   "cell_type": "code",
   "execution_count": 21,
   "id": "e19c0869",
   "metadata": {},
   "outputs": [
    {
     "data": {
      "text/plain": [
       "0"
      ]
     },
     "execution_count": 21,
     "metadata": {},
     "output_type": "execute_result"
    }
   ],
   "source": [
    "#Bool to int\n",
    "int(True)\n",
    "int(False)"
   ]
  },
  {
   "cell_type": "code",
   "execution_count": 27,
   "id": "2fd80af2",
   "metadata": {},
   "outputs": [
    {
     "data": {
      "text/plain": [
       "20"
      ]
     },
     "execution_count": 27,
     "metadata": {},
     "output_type": "execute_result"
    }
   ],
   "source": [
    "#String to int\n",
    "#string internally contains only integrated values & Base 10\n",
    "int('20')\n",
    "#int('10.5')  #It will through error"
   ]
  },
  {
   "cell_type": "code",
   "execution_count": null,
   "id": "65e7c4fd",
   "metadata": {},
   "outputs": [],
   "source": []
  },
  {
   "cell_type": "code",
   "execution_count": 4,
   "id": "60fe7bc9",
   "metadata": {},
   "outputs": [
    {
     "data": {
      "text/plain": [
       "15.0"
      ]
     },
     "execution_count": 4,
     "metadata": {},
     "output_type": "execute_result"
    }
   ],
   "source": [
    "#Float Datatype Method\n",
    "#Other Datatype to float Datatype\n",
    "#Float to int\n",
    "float(15)\n",
    "\n",
    "#We can't convert float to complex or complex to float"
   ]
  },
  {
   "cell_type": "code",
   "execution_count": 6,
   "id": "2b1a56c8",
   "metadata": {},
   "outputs": [
    {
     "data": {
      "text/plain": [
       "0.0"
      ]
     },
     "execution_count": 6,
     "metadata": {},
     "output_type": "execute_result"
    }
   ],
   "source": [
    "#Float to Boolean\n",
    "float(True)\n",
    "float(False)"
   ]
  },
  {
   "cell_type": "code",
   "execution_count": 8,
   "id": "d090427b",
   "metadata": {},
   "outputs": [
    {
     "data": {
      "text/plain": [
       "10.6"
      ]
     },
     "execution_count": 8,
     "metadata": {},
     "output_type": "execute_result"
    }
   ],
   "source": [
    "#Float to string\n",
    "float(\"10\")\n",
    "float(\"10.6\")"
   ]
  },
  {
   "cell_type": "code",
   "execution_count": null,
   "id": "7faebdea",
   "metadata": {},
   "outputs": [],
   "source": []
  },
  {
   "cell_type": "code",
   "execution_count": 24,
   "id": "af6be9f8",
   "metadata": {},
   "outputs": [
    {
     "ename": "TypeError",
     "evalue": "complex() can't take second arg if first is a string",
     "output_type": "error",
     "traceback": [
      "\u001b[1;31m---------------------------------------------------------------------------\u001b[0m",
      "\u001b[1;31mTypeError\u001b[0m                                 Traceback (most recent call last)",
      "Cell \u001b[1;32mIn[24], line 16\u001b[0m\n\u001b[0;32m     14\u001b[0m \u001b[38;5;28mcomplex\u001b[39m(\u001b[38;5;28;01mTrue\u001b[39;00m,\u001b[38;5;28;01mFalse\u001b[39;00m)\n\u001b[0;32m     15\u001b[0m \u001b[38;5;28mcomplex\u001b[39m(\u001b[38;5;28;01mFalse\u001b[39;00m,\u001b[38;5;28;01mTrue\u001b[39;00m)\n\u001b[1;32m---> 16\u001b[0m \u001b[38;5;28mcomplex\u001b[39m(\u001b[38;5;124m\"\u001b[39m\u001b[38;5;124m10\u001b[39m\u001b[38;5;124m\"\u001b[39m,\u001b[38;5;124m\"\u001b[39m\u001b[38;5;124m20\u001b[39m\u001b[38;5;124m\"\u001b[39m)   \u001b[38;5;66;03m#If you want to pass real part string and imaginary part can't take string\u001b[39;00m\n\u001b[0;32m     17\u001b[0m \u001b[38;5;28mcomplex\u001b[39m(\u001b[38;5;124m\"\u001b[39m\u001b[38;5;124m10\u001b[39m\u001b[38;5;124m\"\u001b[39m,\u001b[38;5;241m20\u001b[39m)\n\u001b[0;32m     18\u001b[0m \u001b[38;5;28mcomplex\u001b[39m(\u001b[38;5;241m10\u001b[39m,\u001b[38;5;124m\"\u001b[39m\u001b[38;5;124m20\u001b[39m\u001b[38;5;124m\"\u001b[39m)\n",
      "\u001b[1;31mTypeError\u001b[0m: complex() can't take second arg if first is a string"
     ]
    }
   ],
   "source": [
    "#Other type to complex datatype\n",
    "#Complex to int datatype\n",
    "#Form 1 Method:\n",
    "complex(110)\n",
    "complex(10.6)\n",
    "complex(True)\n",
    "complex(False)\n",
    "complex(\"10\")\n",
    "complex(\"10.5\")\n",
    "\n",
    "#Form 2 Method:\n",
    "complex(10,10)\n",
    "complex(10.5,20.5)\n",
    "complex(True,False)\n",
    "complex(False,True)\n",
    "complex(\"10\",\"20\")    #If you want to pass real part string and imaginary part can't take string\n",
    "complex(\"10\",20)      #If you want to pass real part string and imaginary part can't take string\n",
    "complex(10,\"20\")      #If you want to pass real part string and imaginary part can't take string"
   ]
  },
  {
   "cell_type": "code",
   "execution_count": 14,
   "id": "c1a704c4",
   "metadata": {},
   "outputs": [
    {
     "data": {
      "text/plain": [
       "False"
      ]
     },
     "execution_count": 14,
     "metadata": {},
     "output_type": "execute_result"
    }
   ],
   "source": [
    "#Datatype Conversion Bool to other datatypes\n",
    "#Bool to int\n",
    "bool(10)\n",
    "bool(0)\n",
    "bool(10.00)\n",
    "bool(\"10.0\")\n",
    "bool(10+20j)\n",
    "bool(1J)\n",
    "bool('True')\n",
    "bool('False')\n",
    "bool('yes')\n",
    "bool('No')\n",
    "bool('')   #--Empty string always show false remaining all are true conditions"
   ]
  },
  {
   "cell_type": "code",
   "execution_count": null,
   "id": "7ef02847",
   "metadata": {},
   "outputs": [],
   "source": []
  },
  {
   "cell_type": "code",
   "execution_count": 19,
   "id": "18351585",
   "metadata": {},
   "outputs": [
    {
     "data": {
      "text/plain": [
       "'False'"
      ]
     },
     "execution_count": 19,
     "metadata": {},
     "output_type": "execute_result"
    }
   ],
   "source": [
    "#Datatype Conversion str to other datatypes\n",
    "#str to int\n",
    "str(0)\n",
    "str(10.0)\n",
    "str(10+20J)\n",
    "str(True)\n",
    "str(False)"
   ]
  },
  {
   "cell_type": "code",
   "execution_count": null,
   "id": "4488851d",
   "metadata": {},
   "outputs": [],
   "source": []
  },
  {
   "cell_type": "code",
   "execution_count": 21,
   "id": "f02b3df6",
   "metadata": {},
   "outputs": [
    {
     "name": "stdout",
     "output_type": "stream",
     "text": [
      "140718247875656\n",
      "140718247875688\n"
     ]
    }
   ],
   "source": [
    "#Fundamental Datatypes vs Immuteable\n",
    "x=10\n",
    "print(id(x))\n",
    "x=x+1\n",
    "print(id(x))"
   ]
  },
  {
   "cell_type": "code",
   "execution_count": 23,
   "id": "55ad1b7e",
   "metadata": {},
   "outputs": [
    {
     "name": "stdout",
     "output_type": "stream",
     "text": [
      "140718247875656\n",
      "140718247875656\n",
      "10\n",
      "11\n",
      "140718247875656\n",
      "140718247875688\n"
     ]
    }
   ],
   "source": [
    "x=10\n",
    "y=x\n",
    "print(id(x))\n",
    "print(id(y))\n",
    "y=y+1\n",
    "print(x)\n",
    "print(y)\n",
    "print(id(x))\n",
    "print(id(y))"
   ]
  },
  {
   "cell_type": "code",
   "execution_count": 45,
   "id": "80649d0f",
   "metadata": {},
   "outputs": [
    {
     "name": "stdout",
     "output_type": "stream",
     "text": [
      "True\n",
      "True\n",
      "True\n",
      "False\n"
     ]
    }
   ],
   "source": [
    "a=10\n",
    "b=10\n",
    "c=10\n",
    "print(a is b is c)\n",
    "a=True\n",
    "b=True\n",
    "print(a is b)\n",
    "c='Manohar'\n",
    "d='Manohar'\n",
    "print(c is d)\n",
    "x=1000.12\n",
    "y=1000.12\n",
    "print(x is y)"
   ]
  },
  {
   "cell_type": "code",
   "execution_count": 50,
   "id": "82a000e1",
   "metadata": {},
   "outputs": [
    {
     "name": "stdout",
     "output_type": "stream",
     "text": [
      "1620254168432\n",
      "1620254170160\n",
      "False\n",
      "False\n"
     ]
    }
   ],
   "source": [
    "a=10.0\n",
    "b=10.0\n",
    "print(id(a))\n",
    "print(id(b))\n",
    "print(a is b)\n",
    "a=10+20J\n",
    "b=10+20J\n",
    "print(a is b)"
   ]
  },
  {
   "cell_type": "code",
   "execution_count": 51,
   "id": "9e3413a8",
   "metadata": {},
   "outputs": [
    {
     "name": "stdout",
     "output_type": "stream",
     "text": [
      "[10, 20, 30]\n",
      "1620255642560\n",
      "[7777, 20, 30]\n",
      "1620255642560\n"
     ]
    }
   ],
   "source": [
    "l=[10,20,30]\n",
    "print(l)\n",
    "print(id(l))\n",
    "l[0]=7777\n",
    "print(l)\n",
    "print(id(l))"
   ]
  },
  {
   "cell_type": "code",
   "execution_count": 58,
   "id": "13e06db4",
   "metadata": {},
   "outputs": [
    {
     "name": "stdout",
     "output_type": "stream",
     "text": [
      "[10, 20, 30, 40]\n",
      "[10, 20, 30, 40]\n",
      "[7777, 20, 30, 40]\n",
      "[7777, 20, 30, 40]\n",
      "[7777, 8888, 30, 40]\n",
      "[7777, 8888, 30, 40]\n"
     ]
    }
   ],
   "source": [
    "l1=[10,20,30,40]\n",
    "l2=l1\n",
    "print(l1)\n",
    "print(l2)\n",
    "l1[0]=7777\n",
    "print(l1)\n",
    "print(l2)\n",
    "l2[1]=8888\n",
    "print(l1)\n",
    "print(l2)"
   ]
  },
  {
   "cell_type": "code",
   "execution_count": null,
   "id": "4b0e20d7",
   "metadata": {},
   "outputs": [],
   "source": []
  },
  {
   "cell_type": "code",
   "execution_count": null,
   "id": "c4a4c269",
   "metadata": {},
   "outputs": [],
   "source": []
  },
  {
   "cell_type": "code",
   "execution_count": null,
   "id": "4e116d27",
   "metadata": {},
   "outputs": [],
   "source": []
  },
  {
   "cell_type": "code",
   "execution_count": 49,
   "id": "05550664",
   "metadata": {},
   "outputs": [
    {
     "name": "stdout",
     "output_type": "stream",
     "text": [
      "Enter a name:Manohar\n",
      "Enter a Father Name:Sreenivasulu reddy\n",
      "Enter a Mother Name:Joythi\n",
      "Enter a valid Address:1-132\n",
      "House No:10\n",
      "Click on submit buttonOkay\n"
     ]
    }
   ],
   "source": [
    "#Voter Registration Application Developing\n",
    "Name = input(\"Enter a name:\")\n",
    "Father_name = input(\"Enter a Father Name:\")\n",
    "Mother_name = input(\"Enter a Mother Name:\")\n",
    "Address= input(\"Enter a valid Address:\")\n",
    "H_no= input(\"House No:\")\n",
    "Submit= input(\"Click on submit button: \")"
   ]
  },
  {
   "cell_type": "code",
   "execution_count": null,
   "id": "c45f56cb",
   "metadata": {},
   "outputs": [],
   "source": []
  },
  {
   "cell_type": "code",
   "execution_count": 70,
   "id": "f089e163",
   "metadata": {},
   "outputs": [
    {
     "name": "stdout",
     "output_type": "stream",
     "text": [
      "[10, 'Manohar', True, 10, 30]\n",
      "<class 'list'>\n",
      "10\n",
      "30\n",
      "['Manohar', True, 10]\n",
      "[10, 20, 30]\n",
      "[10, 20, 30, 40]\n",
      "[9999, 20, 30, 40]\n"
     ]
    }
   ],
   "source": [
    "# List Datatypes\n",
    "#Collection Related Data type\n",
    "\n",
    "l=[10,'Manohar',True,10,30]\n",
    "print(l)                        #The same order is shown as we provided\n",
    "print(type(l))\n",
    "print(l[0])\n",
    "print(l[-1])\n",
    "print(l[1:4])\n",
    "\n",
    "\n",
    "d=[]  #Creating a empty list\n",
    "d.append(10),d.append(20),d.append(30),d.append(40)      #Append values in list\n",
    "d.remove(40)                                             #Removing value in list\n",
    "print(d)\n",
    "\n",
    "\n",
    "c=[10,20,30,40]\n",
    "print(c)\n",
    "c[0]=9999\n",
    "print(c)"
   ]
  },
  {
   "cell_type": "code",
   "execution_count": null,
   "id": "b9951632",
   "metadata": {},
   "outputs": [],
   "source": []
  },
  {
   "cell_type": "code",
   "execution_count": 79,
   "id": "51b2827d",
   "metadata": {},
   "outputs": [
    {
     "name": "stdout",
     "output_type": "stream",
     "text": [
      "<class 'tuple'>\n",
      "(10, 20, 30, 'Manohar', 40)\n",
      "10\n",
      "30\n",
      "(30, 'Manohar')\n",
      "<class 'tuple'>\n"
     ]
    }
   ],
   "source": [
    "#Tuple Datatype\n",
    "k=(10,20,30,'Manohar',40)\n",
    "print(type(k))\n",
    "print(k)\n",
    "print(k[0])\n",
    "print(k[-3])\n",
    "print(k[2:4])\n",
    "#k[0]=1000          #--It's readable(Immuteable) only we can't edit\n",
    "#k.append(50)        #--It won't support add value or delete value\n",
    "#k.remove(50)        #--It won't support add value or delete value\n",
    "\n",
    "\n",
    "x=()\n",
    "print(type(x))"
   ]
  },
  {
   "cell_type": "code",
   "execution_count": 83,
   "id": "8297c5f5",
   "metadata": {},
   "outputs": [
    {
     "name": "stdout",
     "output_type": "stream",
     "text": [
      "<class 'tuple'>\n",
      "<class 'int'>\n",
      "<class 'tuple'>\n",
      "<class 'tuple'>\n"
     ]
    }
   ],
   "source": [
    "z=()\n",
    "print(type(z))\n",
    "z=(10)\n",
    "print(type(z))   #Int type\n",
    "z=(10,) \n",
    "print(type(z))  #Tuple Datatype"
   ]
  },
  {
   "cell_type": "code",
   "execution_count": null,
   "id": "ec267071",
   "metadata": {},
   "outputs": [],
   "source": []
  },
  {
   "cell_type": "code",
   "execution_count": 97,
   "id": "e29198ff",
   "metadata": {},
   "outputs": [
    {
     "name": "stdout",
     "output_type": "stream",
     "text": [
      "{40, 10, 20, 30}\n",
      "<class 'set'>\n",
      "{40, 50, 20, 30}\n",
      "<class 'dict'>\n",
      "<class 'set'>\n",
      "set()\n"
     ]
    }
   ],
   "source": [
    "#Set Datatype\n",
    "\n",
    "s={10,10,20,20,30,40,10}\n",
    "print(s)                    #Duplicate data is excluding(removing)\n",
    "print(type(s))\n",
    "#print(s[0])   #Index concept is not available\n",
    "#print(s[1:4]) #Slice concept is not available\n",
    "s.add(50)     #Adding value in set operator\n",
    "s.remove(10)  #Removing value in set\n",
    "print(s)\n",
    "\n",
    "\n",
    "s={}\n",
    "print(type(s))      #Empty set will be considered as dict\n",
    "\n",
    "\n",
    "s=set()\n",
    "print(type(s))\n",
    "print(s)"
   ]
  },
  {
   "cell_type": "code",
   "execution_count": null,
   "id": "72e7046a",
   "metadata": {},
   "outputs": [],
   "source": []
  },
  {
   "cell_type": "code",
   "execution_count": 103,
   "id": "979211ca",
   "metadata": {},
   "outputs": [
    {
     "name": "stdout",
     "output_type": "stream",
     "text": [
      "<class 'frozenset'>\n",
      "frozenset({50, 20, 70, 10, 60})\n",
      "frozenset({10, 20, 30})\n"
     ]
    }
   ],
   "source": [
    "#Frozenset Datatype\n",
    "s={10,20,50,60,70}\n",
    "fs=frozenset(s)\n",
    "print(type(fs))\n",
    "print(fs)\n",
    "#fs.app(10)       --It's immutable so we can't add and remove values\n",
    "fs1=frozenset({10,20,30})\n",
    "print(fs1)"
   ]
  },
  {
   "cell_type": "code",
   "execution_count": null,
   "id": "247c948f",
   "metadata": {},
   "outputs": [],
   "source": []
  },
  {
   "cell_type": "code",
   "execution_count": 12,
   "id": "b6f8bbc6",
   "metadata": {},
   "outputs": [
    {
     "name": "stdout",
     "output_type": "stream",
     "text": [
      "<class 'dict'>\n",
      "{100: 'Manohar', 200: 'Pravallika', 300: 'Abhi'}\n",
      "{100: 'Abhi', 200: 'Chinna', 300: 400}\n"
     ]
    }
   ],
   "source": [
    "#Dict Datatype\n",
    "d={100:'Manohar',200:'Pravallika',300:\"Abhi\"}\n",
    "print(type(d))\n",
    "print(d)\n",
    "\n",
    "h={}\n",
    "h[100]='Abhi'\n",
    "h[200]='Chinna'\n",
    "h[300]=30\n",
    "h[300]=400\n",
    "print(h)"
   ]
  },
  {
   "cell_type": "code",
   "execution_count": null,
   "id": "1259d2fc",
   "metadata": {},
   "outputs": [],
   "source": []
  },
  {
   "cell_type": "code",
   "execution_count": 16,
   "id": "ac034e8d",
   "metadata": {},
   "outputs": [
    {
     "name": "stdout",
     "output_type": "stream",
     "text": [
      "0\n",
      "1\n",
      "2\n",
      "3\n",
      "4\n",
      "5\n",
      "6\n",
      "7\n",
      "8\n",
      "9\n",
      "range(0, 10)\n",
      "<class 'range'>\n",
      "***************\n",
      "1\n",
      "3\n",
      "5\n",
      "7\n",
      "9\n",
      "***************\n",
      "-1\n",
      "-4\n",
      "-7\n",
      "***************\n",
      "20\n",
      "15\n",
      "10\n",
      "5\n"
     ]
    }
   ],
   "source": [
    "#Range Datatype\n",
    "r=range(10)\n",
    "for x in r:\n",
    "    print(x)\n",
    "print(r)\n",
    "print(type(r))\n",
    "print(\"***************\")\n",
    "r=range(1,10,2)\n",
    "for x in r:\n",
    "    print(x)\n",
    "print(\"***************\")\n",
    "r=range(-1,-10,-3)\n",
    "for x in r:\n",
    "    print(x)\n",
    "print(\"***************\")\n",
    "r=range(20,1,-5)\n",
    "for x in r:\n",
    "    print(x)"
   ]
  },
  {
   "cell_type": "code",
   "execution_count": 24,
   "id": "af13c263",
   "metadata": {},
   "outputs": [
    {
     "name": "stdout",
     "output_type": "stream",
     "text": [
      "10\n",
      "19\n",
      "*************\n",
      "11\n",
      "12\n",
      "13\n",
      "14\n",
      "15\n",
      "16\n",
      "17\n",
      "18\n",
      "19\n"
     ]
    }
   ],
   "source": [
    "#index/Slice using range datatype\n",
    "r=range(10,20)\n",
    "print(r[0])\n",
    "print(r[-1])\n",
    "print(\"*************\")\n",
    "r1=r[1:14]\n",
    "for y in r1:\n",
    "    print(y)"
   ]
  },
  {
   "cell_type": "code",
   "execution_count": null,
   "id": "744ec12f",
   "metadata": {},
   "outputs": [],
   "source": []
  },
  {
   "cell_type": "code",
   "execution_count": 33,
   "id": "e72735fb",
   "metadata": {},
   "outputs": [
    {
     "name": "stdout",
     "output_type": "stream",
     "text": [
      "10\n",
      "20\n",
      "30\n"
     ]
    }
   ],
   "source": [
    "#byte & bytearray datatype\n",
    "l=[10,20,30]\n",
    "#l=(10,20,30)\n",
    "#l={10,20,30,40}\n",
    "b=bytes(l)\n",
    "for x in b:\n",
    "    print(x)"
   ]
  },
  {
   "cell_type": "code",
   "execution_count": 42,
   "id": "7dc3b14a",
   "metadata": {},
   "outputs": [
    {
     "name": "stdout",
     "output_type": "stream",
     "text": [
      "10\n"
     ]
    },
    {
     "ename": "ValueError",
     "evalue": "bytes must be in range(0, 256)",
     "output_type": "error",
     "traceback": [
      "\u001b[1;31m---------------------------------------------------------------------------\u001b[0m",
      "\u001b[1;31mValueError\u001b[0m                                Traceback (most recent call last)",
      "Cell \u001b[1;32mIn[42], line 6\u001b[0m\n\u001b[0;32m      4\u001b[0m \u001b[38;5;66;03m#print(b[1:5])\u001b[39;00m\n\u001b[0;32m      5\u001b[0m l\u001b[38;5;241m=\u001b[39m[\u001b[38;5;241m10\u001b[39m,\u001b[38;5;241m20\u001b[39m,\u001b[38;5;241m300\u001b[39m]\n\u001b[1;32m----> 6\u001b[0m b\u001b[38;5;241m=\u001b[39m\u001b[38;5;28mbytes\u001b[39m(l)\n",
      "\u001b[1;31mValueError\u001b[0m: bytes must be in range(0, 256)"
     ]
    }
   ],
   "source": [
    "l=[10,20,200,40,50,60,70,80,90,100,110,120]\n",
    "b=bytes(l)\n",
    "print(b[0])   #index is working\n",
    "#print(b[1:5])\n",
    "l=[10,20,300]\n",
    "b=bytes(l)    #Only allowed 0 to 255 "
   ]
  },
  {
   "cell_type": "code",
   "execution_count": 45,
   "id": "f2a3a90c",
   "metadata": {},
   "outputs": [
    {
     "name": "stdout",
     "output_type": "stream",
     "text": [
      "77\n",
      "20\n",
      "30\n"
     ]
    }
   ],
   "source": [
    "#byte & bytearray datatype\n",
    "l=[10,20,30]\n",
    "#l=(10,20,30)\n",
    "#l={10,20,30,40}\n",
    "b=bytearray(l)\n",
    "b[0]=77\n",
    "# print(b[0])\n",
    "# print(b[-1])\n",
    "for x in b:\n",
    "    print(x)"
   ]
  },
  {
   "cell_type": "code",
   "execution_count": null,
   "id": "14e7a871",
   "metadata": {},
   "outputs": [],
   "source": []
  },
  {
   "cell_type": "code",
   "execution_count": 52,
   "id": "702d3e00",
   "metadata": {},
   "outputs": [
    {
     "name": "stdout",
     "output_type": "stream",
     "text": [
      "<class 'NoneType'>\n",
      "140707794938608\n",
      "****************\n",
      "10\n",
      "****************\n",
      "Hello\n",
      "None\n"
     ]
    }
   ],
   "source": [
    "#None Datatype\n",
    "a=None\n",
    "print(type(a))\n",
    "print(id(a))\n",
    "print(\"****************\")\n",
    "def f1():\n",
    "    return 10\n",
    "x=f1()\n",
    "print(x)\n",
    "print(\"****************\")\n",
    "def f1():\n",
    "    print(\"Hello\")\n",
    "x=f1()\n",
    "print(x)           #No value is present so none will display"
   ]
  },
  {
   "cell_type": "code",
   "execution_count": null,
   "id": "9a86b0e8",
   "metadata": {},
   "outputs": [],
   "source": []
  },
  {
   "cell_type": "code",
   "execution_count": null,
   "id": "847fddc6",
   "metadata": {},
   "outputs": [],
   "source": []
  }
 ],
 "metadata": {
  "kernelspec": {
   "display_name": "Python 3 (ipykernel)",
   "language": "python",
   "name": "python3"
  },
  "language_info": {
   "codemirror_mode": {
    "name": "ipython",
    "version": 3
   },
   "file_extension": ".py",
   "mimetype": "text/x-python",
   "name": "python",
   "nbconvert_exporter": "python",
   "pygments_lexer": "ipython3",
   "version": "3.11.5"
  }
 },
 "nbformat": 4,
 "nbformat_minor": 5
}
