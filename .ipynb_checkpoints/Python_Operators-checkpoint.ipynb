{
 "cells": [
  {
   "cell_type": "code",
   "execution_count": 11,
   "id": "4768e6b1",
   "metadata": {},
   "outputs": [
    {
     "name": "stdout",
     "output_type": "stream",
     "text": [
      "13\n",
      "7\n",
      "30\n",
      "1\n",
      "******************\n",
      "5.0\n",
      "3.3333333333333335\n",
      "******************\n",
      "3.3333333333333335\n",
      "3.3333333333333335\n",
      "3\n",
      "3.0\n",
      "*******Assignment*********\n",
      "10.0\n",
      "10.25\n",
      "10\n",
      "10.0\n",
      "7\n",
      "7.0\n"
     ]
    }
   ],
   "source": [
    "#Python Operators\n",
    "#[+,-,*,/,%,//,**]   Addition, Subtraction, Multiplication,Division,Module,Floor Division,Expontial/Power Operator\n",
    "a=10\n",
    "b=3\n",
    "print(a+b)\n",
    "print(a-b)\n",
    "print(a*b)\n",
    "print(a%b)\n",
    "print(\"******************\")\n",
    "#\"/\" Division Operator always show floating value\n",
    "print(10/2)\n",
    "print(10/3)\n",
    "print(\"******************\")\n",
    "#\"//\" Floor division operator always show int values (Based on requirement it will change)\n",
    "# int + int = int\n",
    "# int + float = float\n",
    "# float + int = float\n",
    "# float + float = float\n",
    "print(10/3)\n",
    "print(10.0/3)\n",
    "print(10//3)\n",
    "print(10.0//3)\n",
    "\n",
    "\n",
    "print(\"*******Assignment*********\")\n",
    "print(20/2)   #10.0\n",
    "print(20.5/2) #10.25\n",
    "print(20//2)  #10\n",
    "print(20.5//2) # 10.0\n",
    "print(15//2) #15\n",
    "print(15.0//2) #15.0"
   ]
  },
  {
   "cell_type": "code",
   "execution_count": 13,
   "id": "612701c1",
   "metadata": {},
   "outputs": [
    {
     "name": "stdout",
     "output_type": "stream",
     "text": [
      "100\n",
      "27\n"
     ]
    }
   ],
   "source": [
    "# \"**\" Exponentional/Power operator\n",
    "print(10**2)\n",
    "print(3**3)"
   ]
  },
  {
   "cell_type": "code",
   "execution_count": 24,
   "id": "14948889",
   "metadata": {},
   "outputs": [
    {
     "name": "stdout",
     "output_type": "stream",
     "text": [
      "Mano10\n",
      "Mano10\n",
      "Mano 10\n"
     ]
    }
   ],
   "source": [
    "#\"+\" Operator using string datatype\n",
    "#print('Mano'+10)  # We can concate only 2 string\n",
    "print('Mano'+'10')\n",
    "print('Mano'+str(10))\n",
    "print('Mano'+' '+str(10))"
   ]
  },
  {
   "cell_type": "code",
   "execution_count": 30,
   "id": "ed74b583",
   "metadata": {},
   "outputs": [
    {
     "name": "stdout",
     "output_type": "stream",
     "text": [
      "ManoManoMano\n",
      "ManoManoMano\n",
      "ManoharManoharManohar\n"
     ]
    }
   ],
   "source": [
    "#\"*\" Operator using string\n",
    "print('Mano'*3) \n",
    "print(3*'Mano')\n",
    "#print('Manohar'*'Reddy')  #Error because both are strings. Atleast one value numeric digit is required\n",
    "#print('Manohar'*'3') #Error because both are strings. Atleast one value numeric digit is required\n",
    "print('Manohar'*int('3'))"
   ]
  },
  {
   "cell_type": "code",
   "execution_count": null,
   "id": "7ee44c56",
   "metadata": {},
   "outputs": [],
   "source": []
  },
  {
   "cell_type": "code",
   "execution_count": 32,
   "id": "9da1d72e",
   "metadata": {},
   "outputs": [
    {
     "ename": "ZeroDivisionError",
     "evalue": "integer modulo by zero",
     "output_type": "error",
     "traceback": [
      "\u001b[1;31m---------------------------------------------------------------------------\u001b[0m",
      "\u001b[1;31mZeroDivisionError\u001b[0m                         Traceback (most recent call last)",
      "Cell \u001b[1;32mIn[32], line 5\u001b[0m\n\u001b[0;32m      1\u001b[0m \u001b[38;5;66;03m# print(10/0)\u001b[39;00m\n\u001b[0;32m      2\u001b[0m \u001b[38;5;66;03m# print(10.0/0)\u001b[39;00m\n\u001b[0;32m      3\u001b[0m \u001b[38;5;66;03m# print(10//0)\u001b[39;00m\n\u001b[0;32m      4\u001b[0m \u001b[38;5;66;03m# print(10.0//0)\u001b[39;00m\n\u001b[1;32m----> 5\u001b[0m \u001b[38;5;28mprint\u001b[39m(\u001b[38;5;241m10\u001b[39m\u001b[38;5;241m%\u001b[39m\u001b[38;5;241m0\u001b[39m)\n",
      "\u001b[1;31mZeroDivisionError\u001b[0m: integer modulo by zero"
     ]
    }
   ],
   "source": [
    "# Any value division or module it will through zero error\n",
    "print(10/0)\n",
    "print(10.0/0)\n",
    "print(10//0)\n",
    "print(10.0//0)\n",
    "print(10%0)"
   ]
  },
  {
   "cell_type": "code",
   "execution_count": 33,
   "id": "7fed43ce",
   "metadata": {},
   "outputs": [
    {
     "name": "stdout",
     "output_type": "stream",
     "text": [
      "Manoahr\n",
      "\n"
     ]
    }
   ],
   "source": [
    "#\"*\" using bool values\n",
    "print('Manoahr'*True)\n",
    "print('Manohar'*False) #Empty value because False value is always '0'"
   ]
  },
  {
   "cell_type": "code",
   "execution_count": null,
   "id": "30a2c0e7",
   "metadata": {},
   "outputs": [],
   "source": []
  },
  {
   "cell_type": "code",
   "execution_count": 34,
   "id": "881cef65",
   "metadata": {},
   "outputs": [
    {
     "name": "stdout",
     "output_type": "stream",
     "text": [
      "True\n",
      "True\n",
      "False\n",
      "False\n"
     ]
    }
   ],
   "source": [
    "#Relational Operators\n",
    "# < , <= , > ,>=\n",
    "a=10\n",
    "b=20\n",
    "print(a<b)\n",
    "print(a<=b)\n",
    "print(a>b)\n",
    "print(a>=b)"
   ]
  },
  {
   "cell_type": "code",
   "execution_count": 40,
   "id": "f733a712",
   "metadata": {},
   "outputs": [
    {
     "name": "stdout",
     "output_type": "stream",
     "text": [
      "97\n",
      "A\n"
     ]
    }
   ],
   "source": [
    "#to find unicode values below 2 functions is useful\n",
    "print(ord('a'))  #To find unicode values for the given string\n",
    "print(chr(65))   #To find given character for a unicode value"
   ]
  },
  {
   "cell_type": "code",
   "execution_count": 45,
   "id": "25dce3a7",
   "metadata": {},
   "outputs": [
    {
     "name": "stdout",
     "output_type": "stream",
     "text": [
      "True\n",
      "True\n",
      "False\n",
      "False\n",
      "***********************\n",
      "False\n",
      "True\n",
      "False\n",
      "True\n",
      "***********************\n",
      "False\n",
      "False\n",
      "True\n",
      "True\n",
      "***********************\n",
      "False\n",
      "False\n",
      "True\n",
      "True\n"
     ]
    }
   ],
   "source": [
    "#Relational Operators using str\n",
    "s1='durga'\n",
    "s2='sunny'\n",
    "print(s1<s2)\n",
    "print(s1<=s2)\n",
    "print(s1>s2)\n",
    "print(s1>=s2)\n",
    "print(\"***********************\")\n",
    "s1='manohar'\n",
    "s2='manohar'\n",
    "print(s1<s2)\n",
    "print(s1<=s2)\n",
    "print(s1>s2)\n",
    "print(s1>=s2)\n",
    "print(\"***********************\")\n",
    "s1='manohar'\n",
    "s2='Manohar'\n",
    "print(s1<s2)\n",
    "print(s1<=s2)\n",
    "print(s1>s2)\n",
    "print(s1>=s2)\n",
    "print(\"***********************\")\n",
    "s1='Manohar'\n",
    "s2='Mahi'\n",
    "print(s1<s2)\n",
    "print(s1<=s2)\n",
    "print(s1>s2)\n",
    "print(s1>=s2)"
   ]
  },
  {
   "cell_type": "code",
   "execution_count": 49,
   "id": "343dfc06",
   "metadata": {},
   "outputs": [
    {
     "name": "stdout",
     "output_type": "stream",
     "text": [
      "True\n",
      "True\n",
      "False\n",
      "False\n"
     ]
    }
   ],
   "source": [
    "#Relational Operators using Bool Values\n",
    "print(True>False)\n",
    "print(True>=False)\n",
    "print(True<False)\n",
    "print(True<=False)"
   ]
  },
  {
   "cell_type": "code",
   "execution_count": 53,
   "id": "ca26c54e",
   "metadata": {},
   "outputs": [
    {
     "name": "stdout",
     "output_type": "stream",
     "text": [
      "a is not greater than \n"
     ]
    }
   ],
   "source": [
    "#Sampling programm\n",
    "a=10\n",
    "b=20\n",
    "if a>b:\n",
    "    print(\"a is greater than b\")\n",
    "else:\n",
    "    print(\"a is not greater than \")"
   ]
  },
  {
   "cell_type": "code",
   "execution_count": 54,
   "id": "40c50948",
   "metadata": {},
   "outputs": [
    {
     "name": "stdout",
     "output_type": "stream",
     "text": [
      "True\n",
      "True\n",
      "True\n",
      "False\n"
     ]
    }
   ],
   "source": [
    "#Chain method using relational operator\n",
    "print(10<20)\n",
    "print(10<20<30)\n",
    "print(10<20<30<40)\n",
    "print(10<20<30<40>50)"
   ]
  },
  {
   "cell_type": "code",
   "execution_count": null,
   "id": "1c60094f",
   "metadata": {},
   "outputs": [],
   "source": []
  },
  {
   "cell_type": "code",
   "execution_count": 66,
   "id": "f3752106",
   "metadata": {},
   "outputs": [
    {
     "name": "stdout",
     "output_type": "stream",
     "text": [
      "False\n",
      "True\n",
      "True\n",
      "True\n",
      "True\n",
      "False\n",
      "False\n",
      "False\n",
      "True\n"
     ]
    }
   ],
   "source": [
    "#Equality Operators\n",
    "print(10==20)\n",
    "print(10!=20)\n",
    "print(1==True)\n",
    "print(10==10.0)\n",
    "print('Manohar'=='Manohar')\n",
    "print(10=='Manohar')   # We won't get any error\n",
    "print(10=='10')        # We won't get any error\n",
    "print(10==20==30==40)  # Chain method is applicable\n",
    "print(10==10==10==10)  # Chain method is applicable"
   ]
  },
  {
   "cell_type": "code",
   "execution_count": 4,
   "id": "05fce96e",
   "metadata": {},
   "outputs": [
    {
     "name": "stdout",
     "output_type": "stream",
     "text": [
      "2556223258752\n",
      "2556223259136\n",
      "False\n",
      "True\n",
      "True\n",
      "True\n"
     ]
    }
   ],
   "source": [
    "#Difference between \"==\" and \"is\" operator:\n",
    "# \"==\" Operator is equal to content comparsion \n",
    "# \"is\" Operator is meant for reference operator\n",
    "l1=[10,20,30]\n",
    "l2=[10,20,30]\n",
    "print(id(l1))\n",
    "print(id(l2))\n",
    "print(l1 is l2)\n",
    "print(l1 == l2)\n",
    "l3=l1\n",
    "print(l3 is l1)\n",
    "print(l1 is l3)"
   ]
  },
  {
   "cell_type": "code",
   "execution_count": null,
   "id": "48af0e2b",
   "metadata": {},
   "outputs": [],
   "source": []
  },
  {
   "cell_type": "code",
   "execution_count": 9,
   "id": "824762cd",
   "metadata": {},
   "outputs": [
    {
     "name": "stdout",
     "output_type": "stream",
     "text": [
      "True\n",
      "False\n",
      "False\n",
      "False\n",
      "********************\n",
      "True\n",
      "True\n",
      "True\n",
      "False\n",
      "********************\n",
      "False\n",
      "True\n"
     ]
    }
   ],
   "source": [
    "#Logical Operators\n",
    "# and , or , not\n",
    "# and operator using boolean types\n",
    "# only one case condition will satisfy\n",
    "print(True and True)   #Returns if both aruguments are True then True else False\n",
    "print(True and False)\n",
    "print(False and True)\n",
    "print(False and False)\n",
    "\n",
    "print(\"********************\")\n",
    "# or operator using boolean types\n",
    "# only one case condition will satisfy \n",
    "print(True or True)   #Returns True if any argument is True else False\n",
    "print(True or False)\n",
    "print(False or True)\n",
    "print(False or False)\n",
    "print(\"********************\")\n",
    "# not operator using boolean types\n",
    "# It is complement or quite opposite True and False\n",
    "print(not True)\n",
    "print(not False)"
   ]
  },
  {
   "cell_type": "code",
   "execution_count": 12,
   "id": "ca16a14d",
   "metadata": {},
   "outputs": [
    {
     "name": "stdout",
     "output_type": "stream",
     "text": [
      "Enter username:durga\n",
      "Enter passcode:sunny\n",
      "Valid user\n"
     ]
    }
   ],
   "source": [
    "# Validating the valid user or not\n",
    "username=input('Enter username:')\n",
    "password=input('Enter passcode:')\n",
    "if username=='durga' and password=='sunny':\n",
    "    print('Valid user')\n",
    "else:\n",
    "    print('Invalid user') "
   ]
  },
  {
   "cell_type": "code",
   "execution_count": 18,
   "id": "c7944a54",
   "metadata": {},
   "outputs": [
    {
     "name": "stdout",
     "output_type": "stream",
     "text": [
      "20\n",
      "0\n",
      "\n",
      "Reddy\n",
      "0\n"
     ]
    }
   ],
   "source": [
    "#Logical Operators for Non-Boolean types\n",
    "# and using logical operators\n",
    "print(10 and 20)\n",
    "print(0 and 20)\n",
    "print('' and 20)\n",
    "print('Manohar' and 'Reddy')\n",
    "print(int() and 20)"
   ]
  },
  {
   "cell_type": "code",
   "execution_count": 22,
   "id": "76bdfbd2",
   "metadata": {},
   "outputs": [
    {
     "name": "stdout",
     "output_type": "stream",
     "text": [
      "10\n",
      "20\n",
      "20\n",
      "Manohar\n",
      "20\n",
      "20\n",
      "20\n",
      "30\n"
     ]
    }
   ],
   "source": [
    "#Logical Operators for Non-Boolean types\n",
    "# or using logical operators\n",
    "print(10 or 20)\n",
    "print(0 or 20)\n",
    "print('' or 20)\n",
    "print('Manohar' or 'Reddy')\n",
    "print(int() or 20)\n",
    "print([] or 20)\n",
    "print(() or 20)\n",
    "print({} or 30)"
   ]
  },
  {
   "cell_type": "code",
   "execution_count": null,
   "id": "6e5a5785",
   "metadata": {},
   "outputs": [],
   "source": []
  },
  {
   "cell_type": "code",
   "execution_count": 23,
   "id": "0b2475d8",
   "metadata": {},
   "outputs": [
    {
     "name": "stdout",
     "output_type": "stream",
     "text": [
      "False\n",
      "True\n",
      "True\n",
      "False\n"
     ]
    }
   ],
   "source": [
    "#Logical Operators for Non-Boolean types\n",
    "# not using logical operators\n",
    "# The result is always show in boolean values\n",
    "print(not 'Manohar')\n",
    "print(not '')\n",
    "print(not 0)\n",
    "print(not 10)"
   ]
  },
  {
   "cell_type": "code",
   "execution_count": null,
   "id": "b961d7ec",
   "metadata": {},
   "outputs": [],
   "source": []
  }
 ],
 "metadata": {
  "kernelspec": {
   "display_name": "Python 3 (ipykernel)",
   "language": "python",
   "name": "python3"
  },
  "language_info": {
   "codemirror_mode": {
    "name": "ipython",
    "version": 3
   },
   "file_extension": ".py",
   "mimetype": "text/x-python",
   "name": "python",
   "nbconvert_exporter": "python",
   "pygments_lexer": "ipython3",
   "version": "3.11.5"
  }
 },
 "nbformat": 4,
 "nbformat_minor": 5
}
