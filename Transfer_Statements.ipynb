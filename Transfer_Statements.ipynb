{
 "cells": [
  {
   "cell_type": "code",
   "execution_count": 1,
   "id": "ad857654",
   "metadata": {},
   "outputs": [
    {
     "name": "stdout",
     "output_type": "stream",
     "text": [
      "0\n",
      "1\n",
      "2\n",
      "3\n",
      "4\n",
      "5\n",
      "6\n",
      "Processing is enough, break the loop\n",
      "Outside of loop\n"
     ]
    }
   ],
   "source": [
    "#break statement example\n",
    "for i in range(10):\n",
    "    if i==7:\n",
    "        print('Processing is enough, break the loop')\n",
    "        break\n",
    "    print(i)\n",
    "print('Outside of loop')"
   ]
  },
  {
   "cell_type": "code",
   "execution_count": null,
   "id": "5f81dc11",
   "metadata": {},
   "outputs": [],
   "source": []
  },
  {
   "cell_type": "code",
   "execution_count": 3,
   "id": "5e3e33fb",
   "metadata": {},
   "outputs": [
    {
     "name": "stdout",
     "output_type": "stream",
     "text": [
      "Enter a number:8\n",
      "0\n",
      "1\n",
      "2\n",
      "3\n",
      "4\n",
      "5\n",
      "6\n",
      "Processing is enough, break the loop\n",
      "Outside of loop\n"
     ]
    }
   ],
   "source": [
    "#break statement example\n",
    "n=int(input('Enter a number:'))\n",
    "for i in range(n):\n",
    "    if i==7:\n",
    "        print('Processing is enough, break the loop')\n",
    "        break\n",
    "    print(i)\n",
    "print('Outside of loop')"
   ]
  },
  {
   "cell_type": "code",
   "execution_count": null,
   "id": "55ceb336",
   "metadata": {},
   "outputs": [],
   "source": []
  },
  {
   "cell_type": "code",
   "execution_count": 4,
   "id": "55538405",
   "metadata": {},
   "outputs": [
    {
     "name": "stdout",
     "output_type": "stream",
     "text": [
      "processed item is: 10\n",
      "processed item is: 20\n",
      "processed item is: 30\n",
      "An item cost is 500 or 500 more insurance mandatory, So please take insurance and processed or we can't processed this item\n"
     ]
    }
   ],
   "source": [
    "#Shopping cart example\n",
    "cart=[10,20,30,600,70,80]\n",
    "for item in cart:\n",
    "    if item>500:\n",
    "        print('''An item cost is 500 or 500 more insurance mandatory, So please take insurance and processed or we can't processed this item''')\n",
    "        break\n",
    "    print('processed item is:', item)"
   ]
  },
  {
   "cell_type": "code",
   "execution_count": null,
   "id": "922cc2cc",
   "metadata": {},
   "outputs": [],
   "source": []
  },
  {
   "cell_type": "code",
   "execution_count": 5,
   "id": "d9f4d4e3",
   "metadata": {},
   "outputs": [
    {
     "ename": "SyntaxError",
     "evalue": "'break' outside loop (2603785389.py, line 4)",
     "output_type": "error",
     "traceback": [
      "\u001b[1;36m  Cell \u001b[1;32mIn[5], line 4\u001b[1;36m\u001b[0m\n\u001b[1;33m    break\u001b[0m\n\u001b[1;37m    ^\u001b[0m\n\u001b[1;31mSyntaxError\u001b[0m\u001b[1;31m:\u001b[0m 'break' outside loop\n"
     ]
    }
   ],
   "source": [
    "#Error programm because of for and while loop not there\n",
    "x=10\n",
    "if x>40:\n",
    "    print('Stopping the program execution')\n",
    "    break\n",
    "print('Hello')"
   ]
  },
  {
   "cell_type": "code",
   "execution_count": null,
   "id": "a1019b52",
   "metadata": {},
   "outputs": [],
   "source": []
  },
  {
   "cell_type": "code",
   "execution_count": 8,
   "id": "b6adb605",
   "metadata": {},
   "outputs": [
    {
     "name": "stdout",
     "output_type": "stream",
     "text": [
      "Enter a number:9\n",
      "1\n",
      "3\n",
      "5\n",
      "7\n"
     ]
    }
   ],
   "source": [
    "#continue statement\n",
    "#Odd number\n",
    "n=int(input('Enter a number:'))\n",
    "for i in range(n):\n",
    "    if i%2==0:\n",
    "        continue\n",
    "    print(i)"
   ]
  },
  {
   "cell_type": "code",
   "execution_count": 9,
   "id": "ef735ba9",
   "metadata": {},
   "outputs": [
    {
     "name": "stdout",
     "output_type": "stream",
     "text": [
      "Enter a number:10\n",
      "0\n",
      "2\n",
      "4\n",
      "6\n",
      "8\n"
     ]
    }
   ],
   "source": [
    "#continue statement\n",
    "#even number\n",
    "n=int(input('Enter a number:'))\n",
    "for i in range(n):\n",
    "    if i%2!=0:\n",
    "        continue\n",
    "    print(i)"
   ]
  },
  {
   "cell_type": "code",
   "execution_count": null,
   "id": "a8048a0b",
   "metadata": {},
   "outputs": [],
   "source": []
  },
  {
   "cell_type": "code",
   "execution_count": 10,
   "id": "172caed8",
   "metadata": {},
   "outputs": [
    {
     "name": "stdout",
     "output_type": "stream",
     "text": [
      "processing item: 10\n",
      "processing item: 20\n",
      "processing item: 30\n",
      "Insurance required so just skipping\n",
      "Insurance required so just skipping\n",
      "processing item: 80\n",
      "processing item: 90\n"
     ]
    }
   ],
   "source": [
    "#Shopping cart example:\n",
    "cart=[10,20,30,600,700,80,90]\n",
    "for item in cart:\n",
    "    if item>500:\n",
    "        print('Insurance required so just skipping')\n",
    "        continue\n",
    "    print('processing item:',item)"
   ]
  },
  {
   "cell_type": "code",
   "execution_count": null,
   "id": "8ac84e6f",
   "metadata": {},
   "outputs": [],
   "source": []
  },
  {
   "cell_type": "code",
   "execution_count": 14,
   "id": "b5723ceb",
   "metadata": {},
   "outputs": [
    {
     "name": "stdout",
     "output_type": "stream",
     "text": [
      "100/10 =10.0\n",
      "100/20 =5.0\n",
      "Error How we can divide with zero\n",
      "100/30 =3.3333333333333335\n",
      "100/40 =2.5\n",
      "Error How we can divide with zero\n",
      "100/50 =2.0\n"
     ]
    }
   ],
   "source": [
    "#\n",
    "l=[10,20,0,30,40,0,50]\n",
    "for x in l:\n",
    "    if x==0:\n",
    "        print('Error How we can divide with zero')\n",
    "        continue\n",
    "    print('100/{} ={}'.format(x,100/x))"
   ]
  },
  {
   "cell_type": "code",
   "execution_count": null,
   "id": "c3cf14b6",
   "metadata": {},
   "outputs": [],
   "source": []
  },
  {
   "cell_type": "code",
   "execution_count": 18,
   "id": "2d848f8d",
   "metadata": {},
   "outputs": [
    {
     "name": "stdout",
     "output_type": "stream",
     "text": [
      "1 0\n",
      "2 0\n",
      "2 1\n"
     ]
    }
   ],
   "source": [
    "#Nested loop using break statements\n",
    "for i in range(3):\n",
    "    for j in range(3):\n",
    "        if i==j:\n",
    "            break\n",
    "        print(i,j)"
   ]
  },
  {
   "cell_type": "code",
   "execution_count": null,
   "id": "56b37074",
   "metadata": {},
   "outputs": [],
   "source": []
  },
  {
   "cell_type": "code",
   "execution_count": 19,
   "id": "c349a18f",
   "metadata": {},
   "outputs": [
    {
     "name": "stdout",
     "output_type": "stream",
     "text": [
      "0 1\n",
      "0 2\n",
      "1 0\n",
      "1 2\n",
      "2 0\n",
      "2 1\n"
     ]
    }
   ],
   "source": [
    "#Nested loop using break and continue statements\n",
    "for i in range(3):\n",
    "    for j in range(3):\n",
    "        if i==j:\n",
    "            continue\n",
    "        print(i,j)"
   ]
  },
  {
   "cell_type": "code",
   "execution_count": null,
   "id": "ce693164",
   "metadata": {},
   "outputs": [],
   "source": []
  },
  {
   "cell_type": "code",
   "execution_count": null,
   "id": "93e2dd18",
   "metadata": {},
   "outputs": [],
   "source": []
  },
  {
   "cell_type": "code",
   "execution_count": null,
   "id": "db0cec0e",
   "metadata": {},
   "outputs": [],
   "source": []
  }
 ],
 "metadata": {
  "kernelspec": {
   "display_name": "Python 3 (ipykernel)",
   "language": "python",
   "name": "python3"
  },
  "language_info": {
   "codemirror_mode": {
    "name": "ipython",
    "version": 3
   },
   "file_extension": ".py",
   "mimetype": "text/x-python",
   "name": "python",
   "nbconvert_exporter": "python",
   "pygments_lexer": "ipython3",
   "version": "3.11.5"
  }
 },
 "nbformat": 4,
 "nbformat_minor": 5
}
