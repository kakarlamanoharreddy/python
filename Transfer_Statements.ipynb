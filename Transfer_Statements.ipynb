{
 "cells": [
  {
   "cell_type": "code",
   "execution_count": 1,
   "id": "4e725b51",
   "metadata": {},
   "outputs": [
    {
     "name": "stdout",
     "output_type": "stream",
     "text": [
      "0\n",
      "1\n",
      "2\n",
      "3\n",
      "4\n",
      "5\n",
      "6\n",
      "Processing is enough, break the loop\n",
      "Outside of loop\n"
     ]
    }
   ],
   "source": [
    "#break statement example\n",
    "for i in range(10):\n",
    "    if i==7:\n",
    "        print('Processing is enough, break the loop')\n",
    "        break\n",
    "    print(i)\n",
    "print('Outside of loop')"
   ]
  },
  {
   "cell_type": "code",
   "execution_count": null,
   "id": "89b2ea66",
   "metadata": {},
   "outputs": [],
   "source": []
  },
  {
   "cell_type": "code",
   "execution_count": 3,
   "id": "b4d3dc18",
   "metadata": {},
   "outputs": [
    {
     "name": "stdout",
     "output_type": "stream",
     "text": [
      "Enter a number:8\n",
      "0\n",
      "1\n",
      "2\n",
      "3\n",
      "4\n",
      "5\n",
      "6\n",
      "Processing is enough, break the loop\n",
      "Outside of loop\n"
     ]
    }
   ],
   "source": [
    "#break statement example\n",
    "n=int(input('Enter a number:'))\n",
    "for i in range(n):\n",
    "    if i==7:\n",
    "        print('Processing is enough, break the loop')\n",
    "        break\n",
    "    print(i)\n",
    "print('Outside of loop')"
   ]
  },
  {
   "cell_type": "code",
   "execution_count": null,
   "id": "7e3e9119",
   "metadata": {},
   "outputs": [],
   "source": []
  },
  {
   "cell_type": "code",
   "execution_count": 4,
   "id": "c82340cf",
   "metadata": {},
   "outputs": [
    {
     "name": "stdout",
     "output_type": "stream",
     "text": [
      "processed item is: 10\n",
      "processed item is: 20\n",
      "processed item is: 30\n",
      "An item cost is 500 or 500 more insurance mandatory, So please take insurance and processed or we can't processed this item\n"
     ]
    }
   ],
   "source": [
    "#Shopping cart example\n",
    "cart=[10,20,30,600,70,80]\n",
    "for item in cart:\n",
    "    if item>500:\n",
    "        print('''An item cost is 500 or 500 more insurance mandatory, So please take insurance and processed or we can't processed this item''')\n",
    "        break\n",
    "    print('processed item is:', item)"
   ]
  },
  {
   "cell_type": "code",
   "execution_count": null,
   "id": "ef931744",
   "metadata": {},
   "outputs": [],
   "source": []
  },
  {
   "cell_type": "code",
   "execution_count": 5,
   "id": "a61427a2",
   "metadata": {},
   "outputs": [
    {
     "ename": "SyntaxError",
     "evalue": "'break' outside loop (2603785389.py, line 4)",
     "output_type": "error",
     "traceback": [
      "\u001b[1;36m  Cell \u001b[1;32mIn[5], line 4\u001b[1;36m\u001b[0m\n\u001b[1;33m    break\u001b[0m\n\u001b[1;37m    ^\u001b[0m\n\u001b[1;31mSyntaxError\u001b[0m\u001b[1;31m:\u001b[0m 'break' outside loop\n"
     ]
    }
   ],
   "source": [
    "#Error programm because of for and while loop not there\n",
    "x=10\n",
    "if x>40:\n",
    "    print('Stopping the program execution')\n",
    "    break\n",
    "print('Hello')"
   ]
  },
  {
   "cell_type": "code",
   "execution_count": null,
   "id": "9f70063e",
   "metadata": {},
   "outputs": [],
   "source": []
  },
  {
   "cell_type": "code",
   "execution_count": 8,
   "id": "ebc819ea",
   "metadata": {},
   "outputs": [
    {
     "name": "stdout",
     "output_type": "stream",
     "text": [
      "Enter a number:9\n",
      "1\n",
      "3\n",
      "5\n",
      "7\n"
     ]
    }
   ],
   "source": [
    "#continue statement\n",
    "#Odd number\n",
    "n=int(input('Enter a number:'))\n",
    "for i in range(n):\n",
    "    if i%2==0:\n",
    "        continue\n",
    "    print(i)"
   ]
  },
  {
   "cell_type": "code",
   "execution_count": 9,
   "id": "a35ebd6e",
   "metadata": {},
   "outputs": [
    {
     "name": "stdout",
     "output_type": "stream",
     "text": [
      "Enter a number:10\n",
      "0\n",
      "2\n",
      "4\n",
      "6\n",
      "8\n"
     ]
    }
   ],
   "source": [
    "#continue statement\n",
    "#even number\n",
    "n=int(input('Enter a number:'))\n",
    "for i in range(n):\n",
    "    if i%2!=0:\n",
    "        continue\n",
    "    print(i)"
   ]
  },
  {
   "cell_type": "code",
   "execution_count": null,
   "id": "d1321cae",
   "metadata": {},
   "outputs": [],
   "source": []
  },
  {
   "cell_type": "code",
   "execution_count": 10,
   "id": "9fe3ea24",
   "metadata": {},
   "outputs": [
    {
     "name": "stdout",
     "output_type": "stream",
     "text": [
      "processing item: 10\n",
      "processing item: 20\n",
      "processing item: 30\n",
      "Insurance required so just skipping\n",
      "Insurance required so just skipping\n",
      "processing item: 80\n",
      "processing item: 90\n"
     ]
    }
   ],
   "source": [
    "#Shopping cart example:\n",
    "cart=[10,20,30,600,700,80,90]\n",
    "for item in cart:\n",
    "    if item>500:\n",
    "        print('Insurance required so just skipping')\n",
    "        continue\n",
    "    print('processing item:',item)"
   ]
  },
  {
   "cell_type": "code",
   "execution_count": null,
   "id": "289df781",
   "metadata": {},
   "outputs": [],
   "source": []
  },
  {
   "cell_type": "code",
   "execution_count": 14,
   "id": "6298496f",
   "metadata": {},
   "outputs": [
    {
     "name": "stdout",
     "output_type": "stream",
     "text": [
      "100/10 =10.0\n",
      "100/20 =5.0\n",
      "Error How we can divide with zero\n",
      "100/30 =3.3333333333333335\n",
      "100/40 =2.5\n",
      "Error How we can divide with zero\n",
      "100/50 =2.0\n"
     ]
    }
   ],
   "source": [
    "#\n",
    "l=[10,20,0,30,40,0,50]\n",
    "for x in l:\n",
    "    if x==0:\n",
    "        print('Error How we can divide with zero')\n",
    "        continue\n",
    "    print('100/{} ={}'.format(x,100/x))"
   ]
  },
  {
   "cell_type": "code",
   "execution_count": null,
   "id": "ed36fe83",
   "metadata": {},
   "outputs": [],
   "source": []
  },
  {
   "cell_type": "code",
   "execution_count": 18,
   "id": "bf1cb9fd",
   "metadata": {},
   "outputs": [
    {
     "name": "stdout",
     "output_type": "stream",
     "text": [
      "1 0\n",
      "2 0\n",
      "2 1\n"
     ]
    }
   ],
   "source": [
    "#Nested loop using break statements\n",
    "for i in range(3):\n",
    "    for j in range(3):\n",
    "        if i==j:\n",
    "            break\n",
    "        print(i,j)"
   ]
  },
  {
   "cell_type": "code",
   "execution_count": null,
   "id": "e3c167db",
   "metadata": {},
   "outputs": [],
   "source": []
  },
  {
   "cell_type": "code",
   "execution_count": 19,
   "id": "3b4a220d",
   "metadata": {},
   "outputs": [
    {
     "name": "stdout",
     "output_type": "stream",
     "text": [
      "0 1\n",
      "0 2\n",
      "1 0\n",
      "1 2\n",
      "2 0\n",
      "2 1\n"
     ]
    }
   ],
   "source": [
    "#Nested loop using break and continue statements\n",
    "for i in range(3):\n",
    "    for j in range(3):\n",
    "        if i==j:\n",
    "            continue\n",
    "        print(i,j)"
   ]
  },
  {
   "cell_type": "code",
   "execution_count": null,
   "id": "3b11365e",
   "metadata": {},
   "outputs": [],
   "source": []
  },
  {
   "cell_type": "code",
   "execution_count": 24,
   "id": "79427506",
   "metadata": {},
   "outputs": [
    {
     "name": "stdout",
     "output_type": "stream",
     "text": [
      "Enter a list items:[10,20,60,500,100,1501,12]\n",
      "Processed items: 10\n",
      "Processed items: 20\n",
      "Processed items: 60\n",
      "Processed items: 500\n",
      "Processed items: 100\n",
      "we cannot place this order due to insurance required.\n"
     ]
    }
   ],
   "source": [
    "#for loop with else statement\n",
    "#break statement( Meaningful with break statement)\n",
    "cart=eval(input('Enter a list items:'))\n",
    "for item in cart:\n",
    "    if item>500:\n",
    "        print('we cannot place this order due to insurance required.')\n",
    "        break\n",
    "    print('Processed items:',item)\n",
    "else:\n",
    "    print('Congragualtions, all items processed successfully')"
   ]
  },
  {
   "cell_type": "code",
   "execution_count": null,
   "id": "f1c4acda",
   "metadata": {},
   "outputs": [],
   "source": []
  },
  {
   "cell_type": "code",
   "execution_count": 25,
   "id": "4dc49fc2",
   "metadata": {},
   "outputs": [
    {
     "name": "stdout",
     "output_type": "stream",
     "text": [
      "Enter a list items:[10,2,501,600,20,30]\n",
      "Processed items: 10\n",
      "Processed items: 2\n",
      "we cannot place this order due to insurance required.\n",
      "we cannot place this order due to insurance required.\n",
      "Processed items: 20\n",
      "Processed items: 30\n",
      "Congragualtions, all items processed successfully\n"
     ]
    }
   ],
   "source": [
    "#For loop with else statement\n",
    "#continue statement\n",
    "cart=eval(input('Enter a list items:'))\n",
    "for item in cart:\n",
    "    if item>500:\n",
    "        print('we cannot place this order due to insurance required.')\n",
    "        continue\n",
    "    print('Processed items:',item)\n",
    "else:\n",
    "    print('Congragualtions, all items processed successfully')"
   ]
  },
  {
   "cell_type": "code",
   "execution_count": null,
   "id": "fb584a8d",
   "metadata": {},
   "outputs": [],
   "source": []
  },
  {
   "cell_type": "code",
   "execution_count": 27,
   "id": "2b946f6a",
   "metadata": {},
   "outputs": [],
   "source": [
    "#*******PASS Statement*****\n",
    "def f1():\n",
    "    pass"
   ]
  },
  {
   "cell_type": "code",
   "execution_count": null,
   "id": "e92980aa",
   "metadata": {},
   "outputs": [],
   "source": []
  },
  {
   "cell_type": "code",
   "execution_count": 30,
   "id": "90283fa8",
   "metadata": {},
   "outputs": [
    {
     "name": "stdout",
     "output_type": "stream",
     "text": [
      "Enter Marks:10\n"
     ]
    }
   ],
   "source": [
    "x=int(input('Enter Marks:'))\n",
    "if x>35:\n",
    "    print('success')\n",
    "else:\n",
    "    pass"
   ]
  },
  {
   "cell_type": "code",
   "execution_count": null,
   "id": "5b3d4ff9",
   "metadata": {},
   "outputs": [],
   "source": []
  },
  {
   "cell_type": "code",
   "execution_count": 35,
   "id": "87a7f94a",
   "metadata": {},
   "outputs": [
    {
     "name": "stdout",
     "output_type": "stream",
     "text": [
      "8\n",
      "11\n"
     ]
    }
   ],
   "source": [
    "#Loan interest example \n",
    "from abc import *\n",
    "class loan(ABC):\n",
    "    @abstractmethod\n",
    "    def getInterestRate():\n",
    "        pass\n",
    "class HomeLoan(loan):\n",
    "    def getInterestRate(self):\n",
    "        return 8\n",
    "class VehicleLoan(loan):\n",
    "    def getInterestRate(self):\n",
    "        return 11\n",
    "h=HomeLoan()\n",
    "print(h.getInterestRate())\n",
    "v=VehicleLoan()\n",
    "print(v.getInterestRate())"
   ]
  },
  {
   "cell_type": "code",
   "execution_count": null,
   "id": "9e9f21bb",
   "metadata": {},
   "outputs": [],
   "source": []
  },
  {
   "cell_type": "code",
   "execution_count": 40,
   "id": "c5808546",
   "metadata": {},
   "outputs": [
    {
     "name": "stdout",
     "output_type": "stream",
     "text": [
      "10\n"
     ]
    },
    {
     "ename": "NameError",
     "evalue": "name 'x' is not defined",
     "output_type": "error",
     "traceback": [
      "\u001b[1;31m---------------------------------------------------------------------------\u001b[0m",
      "\u001b[1;31mNameError\u001b[0m                                 Traceback (most recent call last)",
      "Cell \u001b[1;32mIn[40], line 5\u001b[0m\n\u001b[0;32m      3\u001b[0m \u001b[38;5;28mprint\u001b[39m(x)\n\u001b[0;32m      4\u001b[0m \u001b[38;5;28;01mdel\u001b[39;00m(x)\n\u001b[1;32m----> 5\u001b[0m \u001b[38;5;28mprint\u001b[39m(x)\n",
      "\u001b[1;31mNameError\u001b[0m: name 'x' is not defined"
     ]
    }
   ],
   "source": [
    "#del statement\n",
    "x=10\n",
    "print(x)\n",
    "del(x)\n",
    "print(x)"
   ]
  },
  {
   "cell_type": "code",
   "execution_count": 42,
   "id": "0681ee07",
   "metadata": {},
   "outputs": [
    {
     "name": "stdout",
     "output_type": "stream",
     "text": [
      "Manohar\n",
      "Manohar\n"
     ]
    }
   ],
   "source": [
    "#Reference values deleted it does't mean to garbage collections\n",
    "s1='Manohar'\n",
    "s2=s1\n",
    "s3=s2\n",
    "del(s1)\n",
    "print(s2)\n",
    "print(s3)"
   ]
  },
  {
   "cell_type": "code",
   "execution_count": 43,
   "id": "adb25c47",
   "metadata": {},
   "outputs": [
    {
     "ename": "TypeError",
     "evalue": "'str' object doesn't support item deletion",
     "output_type": "error",
     "traceback": [
      "\u001b[1;31m---------------------------------------------------------------------------\u001b[0m",
      "\u001b[1;31mTypeError\u001b[0m                                 Traceback (most recent call last)",
      "Cell \u001b[1;32mIn[43], line 4\u001b[0m\n\u001b[0;32m      2\u001b[0m name\u001b[38;5;241m=\u001b[39m\u001b[38;5;124m'\u001b[39m\u001b[38;5;124mManohar\u001b[39m\u001b[38;5;124m'\u001b[39m\n\u001b[0;32m      3\u001b[0m \u001b[38;5;66;03m#del(name) #It's valid\u001b[39;00m\n\u001b[1;32m----> 4\u001b[0m \u001b[38;5;28;01mdel\u001b[39;00m name[\u001b[38;5;241m0\u001b[39m]\n",
      "\u001b[1;31mTypeError\u001b[0m: 'str' object doesn't support item deletion"
     ]
    }
   ],
   "source": [
    "#del vs immutable objects\n",
    "name='Manohar'\n",
    "#del(name) #It's valid\n",
    "del name[0] #'str' object doesn't support item deletion"
   ]
  },
  {
   "cell_type": "code",
   "execution_count": null,
   "id": "fab94270",
   "metadata": {},
   "outputs": [],
   "source": []
  },
  {
   "cell_type": "code",
   "execution_count": 46,
   "id": "f1c3bbe1",
   "metadata": {},
   "outputs": [
    {
     "name": "stdout",
     "output_type": "stream",
     "text": [
      "None\n"
     ]
    }
   ],
   "source": [
    "#del vs none\n",
    "# x=10\n",
    "# del(x)\n",
    "# print(x)  #Error\n",
    "\n",
    "x=10\n",
    "x=None\n",
    "print(x)"
   ]
  },
  {
   "cell_type": "code",
   "execution_count": null,
   "id": "8c6bcc33",
   "metadata": {},
   "outputs": [],
   "source": []
  },
  {
   "cell_type": "code",
   "execution_count": 51,
   "id": "7ed86cf0",
   "metadata": {},
   "outputs": [
    {
     "name": "stdout",
     "output_type": "stream",
     "text": [
      "Enter any number:23\n",
      "It is prime number\n"
     ]
    }
   ],
   "source": [
    "#WAP to check the given number prime number or not\n",
    "# n=int(input('Enter any number:'))\n",
    "# if n<=1:\n",
    "#     print('It is not prime number')\n",
    "# else:\n",
    "#     is_prime=True\n",
    "#     for i in range(2,n):\n",
    "#         if n%i==0:\n",
    "#             is_prime=False\n",
    "#             break\n",
    "#     if is_prime==True:\n",
    "#         print('It is prime number')\n",
    "#     else:\n",
    "#         print('It is not prime number')\n",
    "\n",
    "\n",
    "#        (OR)\n",
    "\n",
    "\n",
    "n=int(input('Enter any number:'))\n",
    "if n<=1:\n",
    "    print('It is not prime number')\n",
    "else:\n",
    "    is_prime=True\n",
    "    for i in range(2,n//2+1):     #Changing here\n",
    "        if n%i==0:\n",
    "            is_prime=False\n",
    "            break\n",
    "    if is_prime==True:\n",
    "        print('It is prime number')\n",
    "    else:\n",
    "        print('It is not prime number')"
   ]
  },
  {
   "cell_type": "code",
   "execution_count": null,
   "id": "0c142b90",
   "metadata": {},
   "outputs": [],
   "source": []
  },
  {
   "cell_type": "code",
   "execution_count": null,
   "id": "acf1e861",
   "metadata": {},
   "outputs": [],
   "source": [
    "#WAP to generate prime numbers which are lessthan or equal the given number\n",
    "n=int(input('Enter n value:'))\n",
    "n1=2\n",
    "while n1<=n:\n",
    "    is_prime=True\n",
    "    for i in range(2,n1//2+1):\n",
    "        if n1%i==0:\n",
    "            is_prime=False\n",
    "            break\n",
    "    if is_prime==True:\n",
    "        print(n1)\n",
    "    n1=n1+1"
   ]
  },
  {
   "cell_type": "code",
   "execution_count": null,
   "id": "7df2c69e",
   "metadata": {},
   "outputs": [],
   "source": []
  },
  {
   "cell_type": "code",
   "execution_count": null,
   "id": "fe625ec4",
   "metadata": {},
   "outputs": [],
   "source": [
    "#WAP to generate first n prime numbers\n",
    "n=int(input('Enter n value:'))\n",
    "count=0\n",
    "n1=2\n",
    "while True:\n",
    "    is_prime=True\n",
    "    for i in range(2,n1//2+1):\n",
    "        if n1%i==0:\n",
    "            is_prime=False\n",
    "            break\n",
    "        if is_prime==True:\n",
    "            print(n1)\n",
    "            count=count+1\n",
    "        if count==n:\n",
    "            break\n",
    "        n1=n1+1\n"
   ]
  }
 ],
 "metadata": {
  "kernelspec": {
   "display_name": "Python 3 (ipykernel)",
   "language": "python",
   "name": "python3"
  },
  "language_info": {
   "codemirror_mode": {
    "name": "ipython",
    "version": 3
   },
   "file_extension": ".py",
   "mimetype": "text/x-python",
   "name": "python",
   "nbconvert_exporter": "python",
   "pygments_lexer": "ipython3",
   "version": "3.11.5"
  }
 },
 "nbformat": 4,
 "nbformat_minor": 5
}
