{
 "cells": [
  {
   "cell_type": "code",
   "execution_count": 5,
   "id": "a5a9c5c4",
   "metadata": {},
   "outputs": [
    {
     "name": "stdout",
     "output_type": "stream",
     "text": [
      "{100: 'A', 'B': 200, 300: 'C', 'D': 400}\n",
      "{100: 'Manohar', 'B': 200, 300: 'C', 'D': 400}\n"
     ]
    }
   ],
   "source": [
    "#dict datatype:\n",
    "\n",
    "d={100:'A','B':200,300:'C','D':400}\n",
    "print(d)\n",
    "\n",
    "#If you try to add duplicate keys it will override\n",
    "d={100:'A','B':200,300:'C','D':400,100:'Manohar'}      #100:'A' override to 100:'Manohar'\n",
    "print(d)"
   ]
  },
  {
   "cell_type": "code",
   "execution_count": null,
   "id": "c81300eb",
   "metadata": {},
   "outputs": [],
   "source": []
  },
  {
   "cell_type": "code",
   "execution_count": 8,
   "id": "13064728",
   "metadata": {},
   "outputs": [
    {
     "name": "stdout",
     "output_type": "stream",
     "text": [
      "{'A': [10, 20, 30], 'B': 30, 'C': 40, 40: 'Manohar'}\n",
      "*************************************\n",
      "{'A': 100, 'B': 200, 'C': 300}\n"
     ]
    },
    {
     "ename": "ValueError",
     "evalue": "dictionary update sequence element #0 has length 3; 2 is required",
     "output_type": "error",
     "traceback": [
      "\u001b[1;31m---------------------------------------------------------------------------\u001b[0m",
      "\u001b[1;31mValueError\u001b[0m                                Traceback (most recent call last)",
      "Cell \u001b[1;32mIn[8], line 21\u001b[0m\n\u001b[0;32m     17\u001b[0m \u001b[38;5;28mprint\u001b[39m(d)\n\u001b[0;32m     20\u001b[0m l\u001b[38;5;241m=\u001b[39m[(\u001b[38;5;124m'\u001b[39m\u001b[38;5;124mA\u001b[39m\u001b[38;5;124m'\u001b[39m,\u001b[38;5;241m100\u001b[39m,\u001b[38;5;241m200\u001b[39m),(\u001b[38;5;124m'\u001b[39m\u001b[38;5;124mB\u001b[39m\u001b[38;5;124m'\u001b[39m,\u001b[38;5;241m200\u001b[39m),(\u001b[38;5;124m'\u001b[39m\u001b[38;5;124mC\u001b[39m\u001b[38;5;124m'\u001b[39m,\u001b[38;5;241m300\u001b[39m)]\n\u001b[1;32m---> 21\u001b[0m d\u001b[38;5;241m=\u001b[39m\u001b[38;5;28mdict\u001b[39m(l)\n\u001b[0;32m     22\u001b[0m \u001b[38;5;28mprint\u001b[39m(d)\n",
      "\u001b[1;31mValueError\u001b[0m: dictionary update sequence element #0 has length 3; 2 is required"
     ]
    }
   ],
   "source": [
    "#Creation of dict objects:\n",
    "\n",
    "\n",
    "#empty dict\n",
    "d={}\n",
    "d=dict()\n",
    "\n",
    "#2)If you know data already:\n",
    "d={'A':[10,20,30],'B':30,'C':40,40:'Manohar'}\n",
    "print(d)\n",
    "\n",
    "print(\"*************************************\")\n",
    "\n",
    "#3)By using dict():\n",
    "l=[('A',100),('B',200),('C',300)]\n",
    "d=dict(l)\n",
    "print(d)\n",
    "\n",
    "\n",
    "l=[('A',100,200),('B',200),('C',300)]  #error because of internal contain 3 elements\n",
    "d=dict(l)\n",
    "print(d)"
   ]
  },
  {
   "cell_type": "code",
   "execution_count": 11,
   "id": "a814d1a2",
   "metadata": {},
   "outputs": [
    {
     "name": "stdout",
     "output_type": "stream",
     "text": [
      "Enter any Dynamic:{'A':110}\n",
      "{'A': 110}\n"
     ]
    }
   ],
   "source": [
    "#By using dynamic input:\n",
    "d=eval(input('Enter any Dynamic:'))\n",
    "print(d)"
   ]
  },
  {
   "cell_type": "code",
   "execution_count": 13,
   "id": "825292ed",
   "metadata": {},
   "outputs": [
    {
     "name": "stdout",
     "output_type": "stream",
     "text": [
      "Manohar\n",
      "Abhi\n"
     ]
    },
    {
     "ename": "KeyError",
     "evalue": "700",
     "output_type": "error",
     "traceback": [
      "\u001b[1;31m---------------------------------------------------------------------------\u001b[0m",
      "\u001b[1;31mKeyError\u001b[0m                                  Traceback (most recent call last)",
      "Cell \u001b[1;32mIn[13], line 7\u001b[0m\n\u001b[0;32m      5\u001b[0m \u001b[38;5;28mprint\u001b[39m(d[\u001b[38;5;241m100\u001b[39m])   \u001b[38;5;66;03m#Manohar\u001b[39;00m\n\u001b[0;32m      6\u001b[0m \u001b[38;5;28mprint\u001b[39m(d[\u001b[38;5;241m200\u001b[39m])   \u001b[38;5;66;03m#Abhi\u001b[39;00m\n\u001b[1;32m----> 7\u001b[0m \u001b[38;5;28mprint\u001b[39m(d[\u001b[38;5;241m700\u001b[39m])\n",
      "\u001b[1;31mKeyError\u001b[0m: 700"
     ]
    }
   ],
   "source": [
    "#How to access add , update, delete data from the dictionary:\n",
    "\n",
    "\n",
    "d={100:'Manohar',200:'Abhi',300:'Pravali'}\n",
    "print(d[100])   #Manohar\n",
    "print(d[200])   #Abhi\n",
    "print(d[700])   #KeyError[Key name]\n"
   ]
  },
  {
   "cell_type": "code",
   "execution_count": null,
   "id": "998ef38e",
   "metadata": {},
   "outputs": [],
   "source": []
  },
  {
   "cell_type": "code",
   "execution_count": null,
   "id": "22cf126f",
   "metadata": {},
   "outputs": [],
   "source": []
  }
 ],
 "metadata": {
  "kernelspec": {
   "display_name": "Python 3 (ipykernel)",
   "language": "python",
   "name": "python3"
  },
  "language_info": {
   "codemirror_mode": {
    "name": "ipython",
    "version": 3
   },
   "file_extension": ".py",
   "mimetype": "text/x-python",
   "name": "python",
   "nbconvert_exporter": "python",
   "pygments_lexer": "ipython3",
   "version": "3.11.5"
  }
 },
 "nbformat": 4,
 "nbformat_minor": 5
}
