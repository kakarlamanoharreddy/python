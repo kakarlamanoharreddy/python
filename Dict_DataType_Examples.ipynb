{
 "cells": [
  {
   "cell_type": "code",
   "execution_count": 5,
   "id": "a5a9c5c4",
   "metadata": {},
   "outputs": [
    {
     "name": "stdout",
     "output_type": "stream",
     "text": [
      "{100: 'A', 'B': 200, 300: 'C', 'D': 400}\n",
      "{100: 'Manohar', 'B': 200, 300: 'C', 'D': 400}\n"
     ]
    }
   ],
   "source": [
    "#dict datatype:\n",
    "\n",
    "d={100:'A','B':200,300:'C','D':400}\n",
    "print(d)\n",
    "\n",
    "#If you try to add duplicate keys it will override\n",
    "d={100:'A','B':200,300:'C','D':400,100:'Manohar'}      #100:'A' override to 100:'Manohar'\n",
    "print(d)"
   ]
  },
  {
   "cell_type": "code",
   "execution_count": null,
   "id": "c81300eb",
   "metadata": {},
   "outputs": [],
   "source": []
  },
  {
   "cell_type": "code",
   "execution_count": 8,
   "id": "13064728",
   "metadata": {},
   "outputs": [
    {
     "name": "stdout",
     "output_type": "stream",
     "text": [
      "{'A': [10, 20, 30], 'B': 30, 'C': 40, 40: 'Manohar'}\n",
      "*************************************\n",
      "{'A': 100, 'B': 200, 'C': 300}\n"
     ]
    },
    {
     "ename": "ValueError",
     "evalue": "dictionary update sequence element #0 has length 3; 2 is required",
     "output_type": "error",
     "traceback": [
      "\u001b[1;31m---------------------------------------------------------------------------\u001b[0m",
      "\u001b[1;31mValueError\u001b[0m                                Traceback (most recent call last)",
      "Cell \u001b[1;32mIn[8], line 21\u001b[0m\n\u001b[0;32m     17\u001b[0m \u001b[38;5;28mprint\u001b[39m(d)\n\u001b[0;32m     20\u001b[0m l\u001b[38;5;241m=\u001b[39m[(\u001b[38;5;124m'\u001b[39m\u001b[38;5;124mA\u001b[39m\u001b[38;5;124m'\u001b[39m,\u001b[38;5;241m100\u001b[39m,\u001b[38;5;241m200\u001b[39m),(\u001b[38;5;124m'\u001b[39m\u001b[38;5;124mB\u001b[39m\u001b[38;5;124m'\u001b[39m,\u001b[38;5;241m200\u001b[39m),(\u001b[38;5;124m'\u001b[39m\u001b[38;5;124mC\u001b[39m\u001b[38;5;124m'\u001b[39m,\u001b[38;5;241m300\u001b[39m)]\n\u001b[1;32m---> 21\u001b[0m d\u001b[38;5;241m=\u001b[39m\u001b[38;5;28mdict\u001b[39m(l)\n\u001b[0;32m     22\u001b[0m \u001b[38;5;28mprint\u001b[39m(d)\n",
      "\u001b[1;31mValueError\u001b[0m: dictionary update sequence element #0 has length 3; 2 is required"
     ]
    }
   ],
   "source": [
    "#Creation of dict objects:\n",
    "\n",
    "\n",
    "#empty dict\n",
    "d={}\n",
    "d=dict()\n",
    "\n",
    "#2)If you know data already:\n",
    "d={'A':[10,20,30],'B':30,'C':40,40:'Manohar'}\n",
    "print(d)\n",
    "\n",
    "print(\"*************************************\")\n",
    "\n",
    "#3)By using dict():\n",
    "l=[('A',100),('B',200),('C',300)]\n",
    "d=dict(l)\n",
    "print(d)\n",
    "\n",
    "\n",
    "l=[('A',100,200),('B',200),('C',300)]  #error because of internal contain 3 elements\n",
    "d=dict(l)\n",
    "print(d)"
   ]
  },
  {
   "cell_type": "code",
   "execution_count": 11,
   "id": "a814d1a2",
   "metadata": {},
   "outputs": [
    {
     "name": "stdout",
     "output_type": "stream",
     "text": [
      "Enter any Dynamic:{'A':110}\n",
      "{'A': 110}\n"
     ]
    }
   ],
   "source": [
    "#By using dynamic input:\n",
    "d=eval(input('Enter any Dynamic:'))\n",
    "print(d)"
   ]
  },
  {
   "cell_type": "code",
   "execution_count": 13,
   "id": "825292ed",
   "metadata": {},
   "outputs": [
    {
     "name": "stdout",
     "output_type": "stream",
     "text": [
      "Manohar\n",
      "Abhi\n"
     ]
    },
    {
     "ename": "KeyError",
     "evalue": "700",
     "output_type": "error",
     "traceback": [
      "\u001b[1;31m---------------------------------------------------------------------------\u001b[0m",
      "\u001b[1;31mKeyError\u001b[0m                                  Traceback (most recent call last)",
      "Cell \u001b[1;32mIn[13], line 7\u001b[0m\n\u001b[0;32m      5\u001b[0m \u001b[38;5;28mprint\u001b[39m(d[\u001b[38;5;241m100\u001b[39m])   \u001b[38;5;66;03m#Manohar\u001b[39;00m\n\u001b[0;32m      6\u001b[0m \u001b[38;5;28mprint\u001b[39m(d[\u001b[38;5;241m200\u001b[39m])   \u001b[38;5;66;03m#Abhi\u001b[39;00m\n\u001b[1;32m----> 7\u001b[0m \u001b[38;5;28mprint\u001b[39m(d[\u001b[38;5;241m700\u001b[39m])\n",
      "\u001b[1;31mKeyError\u001b[0m: 700"
     ]
    }
   ],
   "source": [
    "#How to access add , update, delete data from the dictionary:\n",
    "\n",
    "\n",
    "d={100:'Manohar',200:'Abhi',300:'Pravali'}\n",
    "print(d[100])   #Manohar\n",
    "print(d[200])   #Abhi\n",
    "print(d[700])   #KeyError[Key name]\n"
   ]
  },
  {
   "cell_type": "code",
   "execution_count": 7,
   "id": "998ef38e",
   "metadata": {},
   "outputs": [
    {
     "name": "stdout",
     "output_type": "stream",
     "text": [
      "Enter key value to find value:10\n",
      "The corresponding value is: Manohar\n"
     ]
    }
   ],
   "source": [
    "#How to access data from the dictionary\n",
    "d={10:'Manohar',20:'Reddy',30:'Kakarla'}\n",
    "key=int(input('Enter key value to find value:'))\n",
    "if key in d:\n",
    "    print('The corresponding value is:',d[key])\n",
    "else:\n",
    "    print('The provided key is not available')"
   ]
  },
  {
   "cell_type": "code",
   "execution_count": null,
   "id": "8d512b24",
   "metadata": {},
   "outputs": [],
   "source": []
  },
  {
   "cell_type": "code",
   "execution_count": 9,
   "id": "a703fd3c",
   "metadata": {},
   "outputs": [
    {
     "name": "stdout",
     "output_type": "stream",
     "text": [
      "{10: 'Manohar', 20: 'Reddy', 30: 'Kakarla', 40: 'Abhi'}\n",
      "{10: 'Manohar', 20: 'Abhi', 30: 'Kakarla', 40: 'Abhi'}\n"
     ]
    }
   ],
   "source": [
    "#How to add/update data in dict\n",
    "d={10:'Manohar',20:'Reddy',30:'Kakarla'}\n",
    "d[40]='Abhi'              #Adding data to the dict\n",
    "print(d)\n",
    "d[20]='Abhi'              #Reddy override to Abhi\n",
    "print(d)"
   ]
  },
  {
   "cell_type": "code",
   "execution_count": null,
   "id": "abe852e1",
   "metadata": {},
   "outputs": [],
   "source": []
  },
  {
   "cell_type": "code",
   "execution_count": 21,
   "id": "22cf126f",
   "metadata": {},
   "outputs": [
    {
     "name": "stdout",
     "output_type": "stream",
     "text": [
      "{10: 'Manohar', 30: 'Kakarla'}\n",
      "{}\n"
     ]
    }
   ],
   "source": [
    "#How to delete data from dict\n",
    "#1) del \n",
    "\n",
    "\n",
    "#del\n",
    "d={10:'Manohar',20:'Reddy',30:'Kakarla'}\n",
    "del d[20]                    #20 key value deleted\n",
    "#del d[40]                    #Key error we will get because of 40 is not available in dict\n",
    "print(d)\n",
    "\n",
    "\n",
    "\n",
    "#multiple key values deleting:\n",
    "d1={10:'Manohar',20:'Reddy',30:'Kakarla',40:'surname'}\n",
    "del d1[20],d1[40]\n",
    "del d1[10],d1[30]\n",
    "del d[100]            #Key error we will get because of 40 is not available in dict\n",
    "print(d1)"
   ]
  },
  {
   "cell_type": "code",
   "execution_count": null,
   "id": "1706027e",
   "metadata": {},
   "outputs": [],
   "source": []
  },
  {
   "cell_type": "code",
   "execution_count": 33,
   "id": "f2a186b7",
   "metadata": {},
   "outputs": [
    {
     "name": "stdout",
     "output_type": "stream",
     "text": [
      "Enter no.of students:4\n",
      "Enter name of student:durga\n",
      "Enter marks of student:100\n",
      "Enter name of student:ravi\n",
      "Enter marks of student:200\n",
      "Enter name of student:shiva\n",
      "Enter marks of student:300\n",
      "Enter name of student:sunny\n",
      "Enter marks of student:400\n",
      "******************************\n",
      "NAME \t\t MARKS\n",
      "******************************\n",
      "durga \t\t 100\n",
      "ravi \t\t 200\n",
      "shiva \t\t 300\n",
      "sunny \t\t 400\n"
     ]
    }
   ],
   "source": [
    "#WAP to enter name and marks into dictionary and display information on the screen\n",
    "n=int(input('Enter no.of students:'))\n",
    "d={}\n",
    "for i in range(n):\n",
    "    name=input('Enter name of student:')\n",
    "    marks=int(input('Enter marks of student:'))\n",
    "    d[name]=marks\n",
    "print('*'*30)\n",
    "print('NAME','\\t\\t','MARKS')\n",
    "print('*'*30)\n",
    "for name in d:\n",
    "    print(name,'\\t\\t',d[name])"
   ]
  },
  {
   "cell_type": "code",
   "execution_count": null,
   "id": "405ada64",
   "metadata": {},
   "outputs": [],
   "source": []
  },
  {
   "cell_type": "code",
   "execution_count": 40,
   "id": "2cbd292e",
   "metadata": {},
   "outputs": [
    {
     "name": "stdout",
     "output_type": "stream",
     "text": [
      "False\n",
      "False\n",
      "True\n",
      "****************************\n",
      "****************************\n",
      "True\n",
      "True\n",
      "True\n",
      "False\n"
     ]
    }
   ],
   "source": [
    "#Mathematical, Equality, Relational and Membership Operators for dict\n",
    "\n",
    "\n",
    "#1)Mathematical Operators (+, *) not applicable for dict\n",
    "d={10:'A',20:'B'}\n",
    "d1={30:'C',40:'D'}\n",
    "#d2=d+d1               #Error unsupported operand type(s) for +: 'dict' and 'dict'\n",
    "#d2=d*3                 #Error unsupported operand type(s) for *: 'dict' and 'dict'\n",
    "\n",
    "\n",
    "#2)Equality Operator (==,!=)  Both key and value should same order is not important\n",
    "d={10:'A',20:'B'}\n",
    "d1={30:'C',40:'D'}\n",
    "d2={40:'E',30:'F'}\n",
    "d3={40:'D',30:'C'}\n",
    "print(d==d1)      #False\n",
    "print(d1==d2)     #False\n",
    "print(d1==d3)     #True\n",
    "\n",
    "print(\"****************************\")\n",
    "\n",
    "#3)Relational Operators(<,<=,>,>=)   not applicable for dict\n",
    "d={10:'A',20:'B'}\n",
    "d1={30:'C',40:'D'}\n",
    "d2={40:'E',30:'F'}\n",
    "d3={40:'D',30:'C'}\n",
    "# print(d<d1)            #Won't support\n",
    "# print(d<=d1)            #Won't support\n",
    "# print(d>d1)            #Won't support\n",
    "# print(d>=d1)            #Won't support\n",
    "\n",
    "print(\"****************************\")\n",
    "\n",
    "#4)Membership Operators:  (in , not in)\n",
    "#Membership Operators are applicable only for keys\n",
    "\n",
    "d={10:'A',20:'B'}\n",
    "d1={30:'C',40:'D'}\n",
    "print(10 in d)    #True\n",
    "print(40 in d1)    #True\n",
    "print(30 not in d)  #True\n",
    "print('C' in d1)    #False            because its value\n"
   ]
  },
  {
   "cell_type": "code",
   "execution_count": null,
   "id": "4c815aa1",
   "metadata": {},
   "outputs": [],
   "source": []
  },
  {
   "cell_type": "code",
   "execution_count": 66,
   "id": "a6215b00",
   "metadata": {},
   "outputs": [
    {
     "name": "stdout",
     "output_type": "stream",
     "text": [
      "3\n",
      "******************************\n",
      "A\n",
      "B\n",
      "None\n",
      "A\n",
      "Abhi\n",
      "******************************\n",
      "{10: 'A', 20: 'B', 30: 'C', 40: 'D'}\n",
      "{10: 'Mano', 20: 'B', 30: 'C', 40: 'D'}\n",
      "******************************\n",
      "10\n",
      "20\n",
      "30\n",
      "******************************\n",
      "A\n",
      "B\n",
      "C\n",
      "dict_values(['A', 'B', 'C'])\n",
      "******************************\n",
      "(10, 'A')\n",
      "(20, 'B')\n",
      "(30, 'C')\n",
      "(40, 'D')\n",
      "dict_items([(10, 'A'), (20, 'B'), (30, 'C'), (40, 'D')])\n",
      "10 : A\n",
      "20 : B\n",
      "30 : C\n",
      "40 : D\n"
     ]
    }
   ],
   "source": [
    "#Important methods and functions for dict():\n",
    "#1)len()          2)get()           3)update()       4)keys()    5)values   6)items()\n",
    "\n",
    "\n",
    "\n",
    "#1)len()\n",
    "d={10:'A',20:'B',30:'C'}\n",
    "print(len(d))\n",
    "\n",
    "print('*'*30)\n",
    "\n",
    "#2)get()\n",
    "#   d.get(key)    ----------->Syntax  if the specified key is not available we will get None\n",
    "#   d.get(key,default_value)    ----------->Syntax \n",
    "d={10:'A',20:'B',30:'C'}\n",
    "print(d.get(10))        #A\n",
    "print(d.get(20))        #B\n",
    "print(d.get(40))        #None\n",
    "print(d.get(10,'Abhi'))        #A\n",
    "print(d.get(40,'Abhi'))        #Abhi\n",
    "\n",
    "print('*'*30)\n",
    "\n",
    "#3)update()\n",
    "d={10:'A',20:'B'}\n",
    "d1={30:'C',40:'D'}\n",
    "d.update(d1)\n",
    "print(d)\n",
    "d={10:'A',20:'B'}\n",
    "d1={30:'C',40:'D',10:'Mano'}       \n",
    "d.update(d1) \n",
    "print(d)           #{10: 'Mano', 20: 'B', 30: 'C', 40: 'D'}  \n",
    "\n",
    "\n",
    "print('*'*30)\n",
    "\n",
    "#4)Keys()\n",
    "d={10:'A',20:'B',30:'C'}\n",
    "for key in d.keys():\n",
    "    print(key)\n",
    "#print(d.keys())\n",
    "\n",
    "\n",
    "print('*'*30)\n",
    "\n",
    "#5)values()\n",
    "d={10:'A',20:'B',30:'C'}\n",
    "for value in d.values():\n",
    "    print(value)\n",
    "print(d.values())\n",
    "\n",
    "print('*'*30)\n",
    "\n",
    "#6)items():\n",
    "d={10:'A',20:'B',30:'C',40:'D'}\n",
    "for item in d.items():\n",
    "    print(item)\n",
    "print(d.items())\n",
    "\n",
    "print('*'*30)\n",
    "\n",
    "d={10:'A',20:'B',30:'C',40:'D'}\n",
    "for k,v in d.items():\n",
    "    print(k,':',v)"
   ]
  },
  {
   "cell_type": "code",
   "execution_count": null,
   "id": "51514779",
   "metadata": {},
   "outputs": [],
   "source": []
  },
  {
   "cell_type": "code",
   "execution_count": 75,
   "id": "fa8c47bc",
   "metadata": {},
   "outputs": [
    {
     "name": "stdout",
     "output_type": "stream",
     "text": [
      "Enter key to get value:100\n",
      "A\n",
      "Enter key to get value:200\n",
      "B\n"
     ]
    }
   ],
   "source": [
    "#WAP to get value based on key and to get key based value:\n",
    "\n",
    "#Method 1\n",
    "d={100:'A',200:'B',300:'C',400:'D'}\n",
    "key=eval(input('Enter key to get value:'))\n",
    "if key in d:\n",
    "    print(d[key]) #print(d.get(key))\n",
    "else: \n",
    "    print('The specified key is not available')\n",
    "    \n",
    "#Method 2    \n",
    "d={100:'A',200:'B',300:'C',400:'D'}\n",
    "key=eval(input('Enter key to get value:'))\n",
    "if key in d:\n",
    "    print(d.get(key))\n",
    "else: \n",
    "    print('The specified key is not available')"
   ]
  },
  {
   "cell_type": "code",
   "execution_count": 11,
   "id": "00021b71",
   "metadata": {},
   "outputs": [
    {
     "name": "stdout",
     "output_type": "stream",
     "text": [
      "Enter value to find key:A\n",
      "The corresponding key is: 100\n",
      "The corresponding key is: 200\n"
     ]
    }
   ],
   "source": [
    "#WAP to get key based value:\n",
    "d={100:'A',200:'A',300:'C',400:'D'}\n",
    "value=input('Enter value to find key:')\n",
    "available=False\n",
    "for k,v in d.items():\n",
    "    if v==value:\n",
    "        print('The corresponding key is:',k)\n",
    "        available=True\n",
    "if available==False:\n",
    "    print('The corresponding value is not found in dictionary')"
   ]
  },
  {
   "cell_type": "code",
   "execution_count": null,
   "id": "820768a4",
   "metadata": {},
   "outputs": [],
   "source": []
  },
  {
   "cell_type": "code",
   "execution_count": 7,
   "id": "ee166cc5",
   "metadata": {},
   "outputs": [
    {
     "name": "stdout",
     "output_type": "stream",
     "text": [
      "C\n",
      "********************************************\n",
      "C\n",
      "{10: 'A', 20: 'B', 40: 'D'}\n",
      "Manohar\n"
     ]
    }
   ],
   "source": [
    "#pop()\n",
    "#d.pop(key)  --->Syntax\n",
    "d={10:'A',20:'B',30:'C',40:'D'}\n",
    "print(d.pop(30))    #C\n",
    "#print(d.pop(70))    #Key error 70\n",
    "\n",
    "print(\"********************************************\")\n",
    "\n",
    "#d.pop(key,default_value())\n",
    "d={10:'A',20:'B',30:'C',40:'D'}\n",
    "print(d.pop(30))  #C\n",
    "print(d)          #{10:'A',20:'B',40:'D'}\n",
    "print(d.pop(70,'Manohar'))  #Manohar"
   ]
  },
  {
   "cell_type": "code",
   "execution_count": 12,
   "id": "62bf80a2",
   "metadata": {},
   "outputs": [
    {
     "name": "stdout",
     "output_type": "stream",
     "text": [
      "(40, 'D')\n",
      "(30, 'C')\n",
      "{10: 'A', 20: 'B'}\n",
      "None\n",
      "{}\n"
     ]
    }
   ],
   "source": [
    "#popitem()  It removes random item\n",
    "d={10:'A',20:'B',30:'C',40:'D'}\n",
    "print(d.popitem())                #(40, 'D')\n",
    "print(d.popitem())                #(30, 'C')\n",
    "print(d)                          #{10: 'A', 20: 'B'}\n",
    "\n",
    "\n",
    "#3)Clear()\n",
    "d={10:'A',20:'B'}\n",
    "print(d.clear())\n",
    "print(d)"
   ]
  },
  {
   "cell_type": "code",
   "execution_count": 16,
   "id": "2cd2a828",
   "metadata": {},
   "outputs": [
    {
     "name": "stdout",
     "output_type": "stream",
     "text": [
      "C\n",
      "{100: 'A', 200: 'B', 300: 'C'}\n",
      "A\n",
      "{100: 'A', 200: 'B', 300: 'C'}\n"
     ]
    }
   ],
   "source": [
    "#4)set_default():\n",
    "d={100:'A',200:'B'}\n",
    "print(d.setdefault(300,'C'))\n",
    "print(d)\n",
    "print(d.setdefault(100,'Manohar'))\n",
    "print(d)"
   ]
  },
  {
   "cell_type": "code",
   "execution_count": 20,
   "id": "c265c4e8",
   "metadata": {},
   "outputs": [
    {
     "name": "stdout",
     "output_type": "stream",
     "text": [
      "{10: 'S', 20: 'D', 30: 'K'}\n",
      "{10: 'S', 20: 'D', 30: 'K'}\n",
      "{10: 'A', 20: 'B'}\n",
      "{10: 'A', 20: 'B'}\n",
      "{10: 'A', 20: 'B', 30: 'C'}\n",
      "{10: 'A', 20: 'B'}\n"
     ]
    }
   ],
   "source": [
    "#5)Alising and cloning\n",
    "d={10:'S',20:'D'}\n",
    "d1=d\n",
    "d[30]='K'\n",
    "print(d)\n",
    "print(d1)\n",
    "\n",
    "#Cloning\n",
    "d={10:'A',20:'B'}\n",
    "d1=d.copy()\n",
    "print(d)\n",
    "print(d1)\n",
    "d[30]='C'\n",
    "print(d)\n",
    "print(d1)"
   ]
  }
 ],
 "metadata": {
  "kernelspec": {
   "display_name": "Python 3 (ipykernel)",
   "language": "python",
   "name": "python3"
  },
  "language_info": {
   "codemirror_mode": {
    "name": "ipython",
    "version": 3
   },
   "file_extension": ".py",
   "mimetype": "text/x-python",
   "name": "python",
   "nbconvert_exporter": "python",
   "pygments_lexer": "ipython3",
   "version": "3.11.5"
  }
 },
 "nbformat": 4,
 "nbformat_minor": 5
}
