{
 "cells": [
  {
   "cell_type": "code",
   "execution_count": 5,
   "id": "a5a9c5c4",
   "metadata": {},
   "outputs": [
    {
     "name": "stdout",
     "output_type": "stream",
     "text": [
      "{100: 'A', 'B': 200, 300: 'C', 'D': 400}\n",
      "{100: 'Manohar', 'B': 200, 300: 'C', 'D': 400}\n"
     ]
    }
   ],
   "source": [
    "#dict datatype:\n",
    "\n",
    "d={100:'A','B':200,300:'C','D':400}\n",
    "print(d)\n",
    "\n",
    "#If you try to add duplicate keys it will override\n",
    "d={100:'A','B':200,300:'C','D':400,100:'Manohar'}      #100:'A' override to 100:'Manohar'\n",
    "print(d)"
   ]
  },
  {
   "cell_type": "code",
   "execution_count": null,
   "id": "c81300eb",
   "metadata": {},
   "outputs": [],
   "source": []
  },
  {
   "cell_type": "code",
   "execution_count": 8,
   "id": "13064728",
   "metadata": {},
   "outputs": [
    {
     "name": "stdout",
     "output_type": "stream",
     "text": [
      "{'A': [10, 20, 30], 'B': 30, 'C': 40, 40: 'Manohar'}\n",
      "*************************************\n",
      "{'A': 100, 'B': 200, 'C': 300}\n"
     ]
    },
    {
     "ename": "ValueError",
     "evalue": "dictionary update sequence element #0 has length 3; 2 is required",
     "output_type": "error",
     "traceback": [
      "\u001b[1;31m---------------------------------------------------------------------------\u001b[0m",
      "\u001b[1;31mValueError\u001b[0m                                Traceback (most recent call last)",
      "Cell \u001b[1;32mIn[8], line 21\u001b[0m\n\u001b[0;32m     17\u001b[0m \u001b[38;5;28mprint\u001b[39m(d)\n\u001b[0;32m     20\u001b[0m l\u001b[38;5;241m=\u001b[39m[(\u001b[38;5;124m'\u001b[39m\u001b[38;5;124mA\u001b[39m\u001b[38;5;124m'\u001b[39m,\u001b[38;5;241m100\u001b[39m,\u001b[38;5;241m200\u001b[39m),(\u001b[38;5;124m'\u001b[39m\u001b[38;5;124mB\u001b[39m\u001b[38;5;124m'\u001b[39m,\u001b[38;5;241m200\u001b[39m),(\u001b[38;5;124m'\u001b[39m\u001b[38;5;124mC\u001b[39m\u001b[38;5;124m'\u001b[39m,\u001b[38;5;241m300\u001b[39m)]\n\u001b[1;32m---> 21\u001b[0m d\u001b[38;5;241m=\u001b[39m\u001b[38;5;28mdict\u001b[39m(l)\n\u001b[0;32m     22\u001b[0m \u001b[38;5;28mprint\u001b[39m(d)\n",
      "\u001b[1;31mValueError\u001b[0m: dictionary update sequence element #0 has length 3; 2 is required"
     ]
    }
   ],
   "source": [
    "#Creation of dict objects:\n",
    "\n",
    "\n",
    "#empty dict\n",
    "d={}\n",
    "d=dict()\n",
    "\n",
    "#2)If you know data already:\n",
    "d={'A':[10,20,30],'B':30,'C':40,40:'Manohar'}\n",
    "print(d)\n",
    "\n",
    "print(\"*************************************\")\n",
    "\n",
    "#3)By using dict():\n",
    "l=[('A',100),('B',200),('C',300)]\n",
    "d=dict(l)\n",
    "print(d)\n",
    "\n",
    "\n",
    "l=[('A',100,200),('B',200),('C',300)]  #error because of internal contain 3 elements\n",
    "d=dict(l)\n",
    "print(d)"
   ]
  },
  {
   "cell_type": "code",
   "execution_count": 11,
   "id": "a814d1a2",
   "metadata": {},
   "outputs": [
    {
     "name": "stdout",
     "output_type": "stream",
     "text": [
      "Enter any Dynamic:{'A':110}\n",
      "{'A': 110}\n"
     ]
    }
   ],
   "source": [
    "#By using dynamic input:\n",
    "d=eval(input('Enter any Dynamic:'))\n",
    "print(d)"
   ]
  },
  {
   "cell_type": "code",
   "execution_count": 13,
   "id": "825292ed",
   "metadata": {},
   "outputs": [
    {
     "name": "stdout",
     "output_type": "stream",
     "text": [
      "Manohar\n",
      "Abhi\n"
     ]
    },
    {
     "ename": "KeyError",
     "evalue": "700",
     "output_type": "error",
     "traceback": [
      "\u001b[1;31m---------------------------------------------------------------------------\u001b[0m",
      "\u001b[1;31mKeyError\u001b[0m                                  Traceback (most recent call last)",
      "Cell \u001b[1;32mIn[13], line 7\u001b[0m\n\u001b[0;32m      5\u001b[0m \u001b[38;5;28mprint\u001b[39m(d[\u001b[38;5;241m100\u001b[39m])   \u001b[38;5;66;03m#Manohar\u001b[39;00m\n\u001b[0;32m      6\u001b[0m \u001b[38;5;28mprint\u001b[39m(d[\u001b[38;5;241m200\u001b[39m])   \u001b[38;5;66;03m#Abhi\u001b[39;00m\n\u001b[1;32m----> 7\u001b[0m \u001b[38;5;28mprint\u001b[39m(d[\u001b[38;5;241m700\u001b[39m])\n",
      "\u001b[1;31mKeyError\u001b[0m: 700"
     ]
    }
   ],
   "source": [
    "#How to access add , update, delete data from the dictionary:\n",
    "\n",
    "\n",
    "d={100:'Manohar',200:'Abhi',300:'Pravali'}\n",
    "print(d[100])   #Manohar\n",
    "print(d[200])   #Abhi\n",
    "print(d[700])   #KeyError[Key name]\n"
   ]
  },
  {
   "cell_type": "code",
   "execution_count": 7,
   "id": "998ef38e",
   "metadata": {},
   "outputs": [
    {
     "name": "stdout",
     "output_type": "stream",
     "text": [
      "Enter key value to find value:10\n",
      "The corresponding value is: Manohar\n"
     ]
    }
   ],
   "source": [
    "#How to access data from the dictionary\n",
    "d={10:'Manohar',20:'Reddy',30:'Kakarla'}\n",
    "key=int(input('Enter key value to find value:'))\n",
    "if key in d:\n",
    "    print('The corresponding value is:',d[key])\n",
    "else:\n",
    "    print('The provided key is not available')"
   ]
  },
  {
   "cell_type": "code",
   "execution_count": null,
   "id": "0eed6a3b",
   "metadata": {},
   "outputs": [],
   "source": []
  },
  {
   "cell_type": "code",
   "execution_count": 9,
   "id": "6e6bab82",
   "metadata": {},
   "outputs": [
    {
     "name": "stdout",
     "output_type": "stream",
     "text": [
      "{10: 'Manohar', 20: 'Reddy', 30: 'Kakarla', 40: 'Abhi'}\n",
      "{10: 'Manohar', 20: 'Abhi', 30: 'Kakarla', 40: 'Abhi'}\n"
     ]
    }
   ],
   "source": [
    "#How to add/update data in dict\n",
    "d={10:'Manohar',20:'Reddy',30:'Kakarla'}\n",
    "d[40]='Abhi'              #Adding data to the dict\n",
    "print(d)\n",
    "d[20]='Abhi'              #Reddy override to Abhi\n",
    "print(d)"
   ]
  },
  {
   "cell_type": "code",
   "execution_count": null,
   "id": "c3900779",
   "metadata": {},
   "outputs": [],
   "source": []
  },
  {
   "cell_type": "code",
   "execution_count": 21,
   "id": "22cf126f",
   "metadata": {},
   "outputs": [
    {
     "name": "stdout",
     "output_type": "stream",
     "text": [
      "{10: 'Manohar', 30: 'Kakarla'}\n",
      "{}\n"
     ]
    }
   ],
   "source": [
    "#How to delete data from dict\n",
    "#1) del \n",
    "\n",
    "\n",
    "#del\n",
    "d={10:'Manohar',20:'Reddy',30:'Kakarla'}\n",
    "del d[20]                    #20 key value deleted\n",
    "#del d[40]                    #Key error we will get because of 40 is not available in dict\n",
    "print(d)\n",
    "\n",
    "\n",
    "\n",
    "#multiple key values deleting:\n",
    "d1={10:'Manohar',20:'Reddy',30:'Kakarla',40:'surname'}\n",
    "del d1[20],d1[40]\n",
    "del d1[10],d1[30]\n",
    "del d[100]            #Key error we will get because of 40 is not available in dict\n",
    "print(d1)"
   ]
  },
  {
   "cell_type": "code",
   "execution_count": null,
   "id": "3cc7bae4",
   "metadata": {},
   "outputs": [],
   "source": []
  },
  {
   "cell_type": "code",
   "execution_count": 33,
   "id": "25f9ba94",
   "metadata": {},
   "outputs": [
    {
     "name": "stdout",
     "output_type": "stream",
     "text": [
      "Enter no.of students:4\n",
      "Enter name of student:durga\n",
      "Enter marks of student:100\n",
      "Enter name of student:ravi\n",
      "Enter marks of student:200\n",
      "Enter name of student:shiva\n",
      "Enter marks of student:300\n",
      "Enter name of student:sunny\n",
      "Enter marks of student:400\n",
      "******************************\n",
      "NAME \t\t MARKS\n",
      "******************************\n",
      "durga \t\t 100\n",
      "ravi \t\t 200\n",
      "shiva \t\t 300\n",
      "sunny \t\t 400\n"
     ]
    }
   ],
   "source": [
    "#WAP to enter name and marks into dictionary and display information on the screen\n",
    "n=int(input('Enter no.of students:'))\n",
    "d={}\n",
    "for i in range(n):\n",
    "    name=input('Enter name of student:')\n",
    "    marks=int(input('Enter marks of student:'))\n",
    "    d[name]=marks\n",
    "print('*'*30)\n",
    "print('NAME','\\t\\t','MARKS')\n",
    "print('*'*30)\n",
    "for name in d:\n",
    "    print(name,'\\t\\t',d[name])"
   ]
  },
  {
   "cell_type": "code",
   "execution_count": null,
   "id": "82ec568b",
   "metadata": {},
   "outputs": [],
   "source": []
  },
  {
   "cell_type": "code",
   "execution_count": 40,
   "id": "a1d62f36",
   "metadata": {},
   "outputs": [
    {
     "name": "stdout",
     "output_type": "stream",
     "text": [
      "False\n",
      "False\n",
      "True\n",
      "****************************\n",
      "****************************\n",
      "True\n",
      "True\n",
      "True\n",
      "False\n"
     ]
    }
   ],
   "source": [
    "#Mathematical, Equality, Relational and Membership Operators for dict\n",
    "\n",
    "\n",
    "#1)Mathematical Operators (+, *) not applicable for dict\n",
    "d={10:'A',20:'B'}\n",
    "d1={30:'C',40:'D'}\n",
    "#d2=d+d1               #Error unsupported operand type(s) for +: 'dict' and 'dict'\n",
    "#d2=d*3                 #Error unsupported operand type(s) for *: 'dict' and 'dict'\n",
    "\n",
    "\n",
    "#2)Equality Operator (==,!=)  Both key and value should same order is not important\n",
    "d={10:'A',20:'B'}\n",
    "d1={30:'C',40:'D'}\n",
    "d2={40:'E',30:'F'}\n",
    "d3={40:'D',30:'C'}\n",
    "print(d==d1)      #False\n",
    "print(d1==d2)     #False\n",
    "print(d1==d3)     #True\n",
    "\n",
    "print(\"****************************\")\n",
    "\n",
    "#3)Relational Operators(<,<=,>,>=)   not applicable for dict\n",
    "d={10:'A',20:'B'}\n",
    "d1={30:'C',40:'D'}\n",
    "d2={40:'E',30:'F'}\n",
    "d3={40:'D',30:'C'}\n",
    "# print(d<d1)            #Won't support\n",
    "# print(d<=d1)            #Won't support\n",
    "# print(d>d1)            #Won't support\n",
    "# print(d>=d1)            #Won't support\n",
    "\n",
    "print(\"****************************\")\n",
    "\n",
    "#4)Membership Operators:  (in , not in)\n",
    "#Membership Operators are applicable only for keys\n",
    "\n",
    "d={10:'A',20:'B'}\n",
    "d1={30:'C',40:'D'}\n",
    "print(10 in d)    #True\n",
    "print(40 in d1)    #True\n",
    "print(30 not in d)  #True\n",
    "print('C' in d1)    #False            because its value\n"
   ]
  },
  {
   "cell_type": "code",
   "execution_count": null,
   "id": "f067c3ea",
   "metadata": {},
   "outputs": [],
   "source": []
  },
  {
   "cell_type": "code",
   "execution_count": null,
   "id": "8fd9085d",
   "metadata": {},
   "outputs": [],
   "source": [
    "#Important methods and functions for dict():\n",
    "#1)len()             2)get()                3)update()\n"
   ]
  },
  {
   "cell_type": "code",
   "execution_count": null,
   "id": "caa019e6",
   "metadata": {},
   "outputs": [],
   "source": []
  }
 ],
 "metadata": {
  "kernelspec": {
   "display_name": "Python 3 (ipykernel)",
   "language": "python",
   "name": "python3"
  },
  "language_info": {
   "codemirror_mode": {
    "name": "ipython",
    "version": 3
   },
   "file_extension": ".py",
   "mimetype": "text/x-python",
   "name": "python",
   "nbconvert_exporter": "python",
   "pygments_lexer": "ipython3",
   "version": "3.11.5"
  }
 },
 "nbformat": 4,
 "nbformat_minor": 5
}
