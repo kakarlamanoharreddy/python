{
 "cells": [
  {
   "cell_type": "code",
   "execution_count": 5,
   "id": "a5a9c5c4",
   "metadata": {},
   "outputs": [
    {
     "name": "stdout",
     "output_type": "stream",
     "text": [
      "{100: 'A', 'B': 200, 300: 'C', 'D': 400}\n",
      "{100: 'Manohar', 'B': 200, 300: 'C', 'D': 400}\n"
     ]
    }
   ],
   "source": [
    "#dict datatype:\n",
    "\n",
    "d={100:'A','B':200,300:'C','D':400}\n",
    "print(d)\n",
    "\n",
    "#If you try to add duplicate keys it will override\n",
    "d={100:'A','B':200,300:'C','D':400,100:'Manohar'}      #100:'A' override to 100:'Manohar'\n",
    "print(d)"
   ]
  },
  {
   "cell_type": "code",
   "execution_count": null,
   "id": "c81300eb",
   "metadata": {},
   "outputs": [],
   "source": []
  },
  {
   "cell_type": "code",
   "execution_count": 8,
   "id": "13064728",
   "metadata": {},
   "outputs": [
    {
     "name": "stdout",
     "output_type": "stream",
     "text": [
      "{'A': [10, 20, 30], 'B': 30, 'C': 40, 40: 'Manohar'}\n",
      "*************************************\n",
      "{'A': 100, 'B': 200, 'C': 300}\n"
     ]
    },
    {
     "ename": "ValueError",
     "evalue": "dictionary update sequence element #0 has length 3; 2 is required",
     "output_type": "error",
     "traceback": [
      "\u001b[1;31m---------------------------------------------------------------------------\u001b[0m",
      "\u001b[1;31mValueError\u001b[0m                                Traceback (most recent call last)",
      "Cell \u001b[1;32mIn[8], line 21\u001b[0m\n\u001b[0;32m     17\u001b[0m \u001b[38;5;28mprint\u001b[39m(d)\n\u001b[0;32m     20\u001b[0m l\u001b[38;5;241m=\u001b[39m[(\u001b[38;5;124m'\u001b[39m\u001b[38;5;124mA\u001b[39m\u001b[38;5;124m'\u001b[39m,\u001b[38;5;241m100\u001b[39m,\u001b[38;5;241m200\u001b[39m),(\u001b[38;5;124m'\u001b[39m\u001b[38;5;124mB\u001b[39m\u001b[38;5;124m'\u001b[39m,\u001b[38;5;241m200\u001b[39m),(\u001b[38;5;124m'\u001b[39m\u001b[38;5;124mC\u001b[39m\u001b[38;5;124m'\u001b[39m,\u001b[38;5;241m300\u001b[39m)]\n\u001b[1;32m---> 21\u001b[0m d\u001b[38;5;241m=\u001b[39m\u001b[38;5;28mdict\u001b[39m(l)\n\u001b[0;32m     22\u001b[0m \u001b[38;5;28mprint\u001b[39m(d)\n",
      "\u001b[1;31mValueError\u001b[0m: dictionary update sequence element #0 has length 3; 2 is required"
     ]
    }
   ],
   "source": [
    "#Creation of dict objects:\n",
    "\n",
    "\n",
    "#empty dict\n",
    "d={}\n",
    "d=dict()\n",
    "\n",
    "#2)If you know data already:\n",
    "d={'A':[10,20,30],'B':30,'C':40,40:'Manohar'}\n",
    "print(d)\n",
    "\n",
    "print(\"*************************************\")\n",
    "\n",
    "#3)By using dict():\n",
    "l=[('A',100),('B',200),('C',300)]\n",
    "d=dict(l)\n",
    "print(d)\n",
    "\n",
    "\n",
    "l=[('A',100,200),('B',200),('C',300)]  #error because of internal contain 3 elements\n",
    "d=dict(l)\n",
    "print(d)"
   ]
  },
  {
   "cell_type": "code",
   "execution_count": 11,
   "id": "a814d1a2",
   "metadata": {},
   "outputs": [
    {
     "name": "stdout",
     "output_type": "stream",
     "text": [
      "Enter any Dynamic:{'A':110}\n",
      "{'A': 110}\n"
     ]
    }
   ],
   "source": [
    "#By using dynamic input:\n",
    "d=eval(input('Enter any Dynamic:'))\n",
    "print(d)"
   ]
  },
  {
   "cell_type": "code",
   "execution_count": 13,
   "id": "825292ed",
   "metadata": {},
   "outputs": [
    {
     "name": "stdout",
     "output_type": "stream",
     "text": [
      "Manohar\n",
      "Abhi\n"
     ]
    },
    {
     "ename": "KeyError",
     "evalue": "700",
     "output_type": "error",
     "traceback": [
      "\u001b[1;31m---------------------------------------------------------------------------\u001b[0m",
      "\u001b[1;31mKeyError\u001b[0m                                  Traceback (most recent call last)",
      "Cell \u001b[1;32mIn[13], line 7\u001b[0m\n\u001b[0;32m      5\u001b[0m \u001b[38;5;28mprint\u001b[39m(d[\u001b[38;5;241m100\u001b[39m])   \u001b[38;5;66;03m#Manohar\u001b[39;00m\n\u001b[0;32m      6\u001b[0m \u001b[38;5;28mprint\u001b[39m(d[\u001b[38;5;241m200\u001b[39m])   \u001b[38;5;66;03m#Abhi\u001b[39;00m\n\u001b[1;32m----> 7\u001b[0m \u001b[38;5;28mprint\u001b[39m(d[\u001b[38;5;241m700\u001b[39m])\n",
      "\u001b[1;31mKeyError\u001b[0m: 700"
     ]
    }
   ],
   "source": [
    "#How to access add , update, delete data from the dictionary:\n",
    "\n",
    "\n",
    "d={100:'Manohar',200:'Abhi',300:'Pravali'}\n",
    "print(d[100])   #Manohar\n",
    "print(d[200])   #Abhi\n",
    "print(d[700])   #KeyError[Key name]\n"
   ]
  },
  {
   "cell_type": "code",
   "execution_count": 7,
   "id": "998ef38e",
   "metadata": {},
   "outputs": [
    {
     "name": "stdout",
     "output_type": "stream",
     "text": [
      "Enter key value to find value:10\n",
      "The corresponding value is: Manohar\n"
     ]
    }
   ],
   "source": [
    "#How to access data from the dictionary\n",
    "d={10:'Manohar',20:'Reddy',30:'Kakarla'}\n",
    "key=int(input('Enter key value to find value:'))\n",
    "if key in d:\n",
    "    print('The corresponding value is:',d[key])\n",
    "else:\n",
    "    print('The provided key is not available')"
   ]
  },
  {
   "cell_type": "code",
   "execution_count": null,
   "id": "8d512b24",
   "metadata": {},
   "outputs": [],
   "source": []
  },
  {
   "cell_type": "code",
   "execution_count": 9,
   "id": "a703fd3c",
   "metadata": {},
   "outputs": [
    {
     "name": "stdout",
     "output_type": "stream",
     "text": [
      "{10: 'Manohar', 20: 'Reddy', 30: 'Kakarla', 40: 'Abhi'}\n",
      "{10: 'Manohar', 20: 'Abhi', 30: 'Kakarla', 40: 'Abhi'}\n"
     ]
    }
   ],
   "source": [
    "#How to add/update data in dict\n",
    "d={10:'Manohar',20:'Reddy',30:'Kakarla'}\n",
    "d[40]='Abhi'              #Adding data to the dict\n",
    "print(d)\n",
    "d[20]='Abhi'              #Reddy override to Abhi\n",
    "print(d)"
   ]
  },
  {
   "cell_type": "code",
   "execution_count": null,
   "id": "abe852e1",
   "metadata": {},
   "outputs": [],
   "source": []
  },
  {
   "cell_type": "code",
   "execution_count": 21,
   "id": "22cf126f",
   "metadata": {},
   "outputs": [
    {
     "name": "stdout",
     "output_type": "stream",
     "text": [
      "{10: 'Manohar', 30: 'Kakarla'}\n",
      "{}\n"
     ]
    }
   ],
   "source": [
    "#How to delete data from dict\n",
    "#1) del \n",
    "\n",
    "\n",
    "#del\n",
    "d={10:'Manohar',20:'Reddy',30:'Kakarla'}\n",
    "del d[20]                    #20 key value deleted\n",
    "#del d[40]                    #Key error we will get because of 40 is not available in dict\n",
    "print(d)\n",
    "\n",
    "\n",
    "\n",
    "#multiple key values deleting:\n",
    "d1={10:'Manohar',20:'Reddy',30:'Kakarla',40:'surname'}\n",
    "del d1[20],d1[40]\n",
    "del d1[10],d1[30]\n",
    "del d[100]            #Key error we will get because of 40 is not available in dict\n",
    "print(d1)"
   ]
  },
  {
   "cell_type": "code",
   "execution_count": null,
   "id": "1706027e",
   "metadata": {},
   "outputs": [],
   "source": []
  },
  {
   "cell_type": "code",
   "execution_count": 33,
   "id": "f2a186b7",
   "metadata": {},
   "outputs": [
    {
     "name": "stdout",
     "output_type": "stream",
     "text": [
      "Enter no.of students:4\n",
      "Enter name of student:durga\n",
      "Enter marks of student:100\n",
      "Enter name of student:ravi\n",
      "Enter marks of student:200\n",
      "Enter name of student:shiva\n",
      "Enter marks of student:300\n",
      "Enter name of student:sunny\n",
      "Enter marks of student:400\n",
      "******************************\n",
      "NAME \t\t MARKS\n",
      "******************************\n",
      "durga \t\t 100\n",
      "ravi \t\t 200\n",
      "shiva \t\t 300\n",
      "sunny \t\t 400\n"
     ]
    }
   ],
   "source": [
    "#WAP to enter name and marks into dictionary and display information on the screen\n",
    "n=int(input('Enter no.of students:'))\n",
    "d={}\n",
    "for i in range(n):\n",
    "    name=input('Enter name of student:')\n",
    "    marks=int(input('Enter marks of student:'))\n",
    "    d[name]=marks\n",
    "print('*'*30)\n",
    "print('NAME','\\t\\t','MARKS')\n",
    "print('*'*30)\n",
    "for name in d:\n",
    "    print(name,'\\t\\t',d[name])"
   ]
  },
  {
   "cell_type": "code",
   "execution_count": null,
   "id": "405ada64",
   "metadata": {},
   "outputs": [],
   "source": []
  },
  {
   "cell_type": "code",
   "execution_count": 40,
   "id": "2cbd292e",
   "metadata": {},
   "outputs": [
    {
     "name": "stdout",
     "output_type": "stream",
     "text": [
      "False\n",
      "False\n",
      "True\n",
      "****************************\n",
      "****************************\n",
      "True\n",
      "True\n",
      "True\n",
      "False\n"
     ]
    }
   ],
   "source": [
    "#Mathematical, Equality, Relational and Membership Operators for dict\n",
    "\n",
    "\n",
    "#1)Mathematical Operators (+, *) not applicable for dict\n",
    "d={10:'A',20:'B'}\n",
    "d1={30:'C',40:'D'}\n",
    "#d2=d+d1               #Error unsupported operand type(s) for +: 'dict' and 'dict'\n",
    "#d2=d*3                 #Error unsupported operand type(s) for *: 'dict' and 'dict'\n",
    "\n",
    "\n",
    "#2)Equality Operator (==,!=)  Both key and value should same order is not important\n",
    "d={10:'A',20:'B'}\n",
    "d1={30:'C',40:'D'}\n",
    "d2={40:'E',30:'F'}\n",
    "d3={40:'D',30:'C'}\n",
    "print(d==d1)      #False\n",
    "print(d1==d2)     #False\n",
    "print(d1==d3)     #True\n",
    "\n",
    "print(\"****************************\")\n",
    "\n",
    "#3)Relational Operators(<,<=,>,>=)   not applicable for dict\n",
    "d={10:'A',20:'B'}\n",
    "d1={30:'C',40:'D'}\n",
    "d2={40:'E',30:'F'}\n",
    "d3={40:'D',30:'C'}\n",
    "# print(d<d1)            #Won't support\n",
    "# print(d<=d1)            #Won't support\n",
    "# print(d>d1)            #Won't support\n",
    "# print(d>=d1)            #Won't support\n",
    "\n",
    "print(\"****************************\")\n",
    "\n",
    "#4)Membership Operators:  (in , not in)\n",
    "#Membership Operators are applicable only for keys\n",
    "\n",
    "d={10:'A',20:'B'}\n",
    "d1={30:'C',40:'D'}\n",
    "print(10 in d)    #True\n",
    "print(40 in d1)    #True\n",
    "print(30 not in d)  #True\n",
    "print('C' in d1)    #False            because its value\n"
   ]
  },
  {
   "cell_type": "code",
   "execution_count": null,
   "id": "4c815aa1",
   "metadata": {},
   "outputs": [],
   "source": []
  },
  {
   "cell_type": "code",
   "execution_count": 66,
   "id": "a6215b00",
   "metadata": {},
   "outputs": [
    {
     "name": "stdout",
     "output_type": "stream",
     "text": [
      "3\n",
      "******************************\n",
      "A\n",
      "B\n",
      "None\n",
      "A\n",
      "Abhi\n",
      "******************************\n",
      "{10: 'A', 20: 'B', 30: 'C', 40: 'D'}\n",
      "{10: 'Mano', 20: 'B', 30: 'C', 40: 'D'}\n",
      "******************************\n",
      "10\n",
      "20\n",
      "30\n",
      "******************************\n",
      "A\n",
      "B\n",
      "C\n",
      "dict_values(['A', 'B', 'C'])\n",
      "******************************\n",
      "(10, 'A')\n",
      "(20, 'B')\n",
      "(30, 'C')\n",
      "(40, 'D')\n",
      "dict_items([(10, 'A'), (20, 'B'), (30, 'C'), (40, 'D')])\n",
      "10 : A\n",
      "20 : B\n",
      "30 : C\n",
      "40 : D\n"
     ]
    }
   ],
   "source": [
    "#Important methods and functions for dict():\n",
    "#1)len()          2)get()           3)update()       4)keys()    5)values   6)items()\n",
    "\n",
    "\n",
    "\n",
    "#1)len()\n",
    "d={10:'A',20:'B',30:'C'}\n",
    "print(len(d))\n",
    "\n",
    "print('*'*30)\n",
    "\n",
    "#2)get()\n",
    "#   d.get(key)    ----------->Syntax  if the specified key is not available we will get None\n",
    "#   d.get(key,default_value)    ----------->Syntax \n",
    "d={10:'A',20:'B',30:'C'}\n",
    "print(d.get(10))        #A\n",
    "print(d.get(20))        #B\n",
    "print(d.get(40))        #None\n",
    "print(d.get(10,'Abhi'))        #A\n",
    "print(d.get(40,'Abhi'))        #Abhi\n",
    "\n",
    "print('*'*30)\n",
    "\n",
    "#3)update()\n",
    "d={10:'A',20:'B'}\n",
    "d1={30:'C',40:'D'}\n",
    "d.update(d1)\n",
    "print(d)\n",
    "d={10:'A',20:'B'}\n",
    "d1={30:'C',40:'D',10:'Mano'}       \n",
    "d.update(d1) \n",
    "print(d)           #{10: 'Mano', 20: 'B', 30: 'C', 40: 'D'}  \n",
    "\n",
    "\n",
    "print('*'*30)\n",
    "\n",
    "#4)Keys()\n",
    "d={10:'A',20:'B',30:'C'}\n",
    "for key in d.keys():\n",
    "    print(key)\n",
    "#print(d.keys())\n",
    "\n",
    "\n",
    "print('*'*30)\n",
    "\n",
    "#5)values()\n",
    "d={10:'A',20:'B',30:'C'}\n",
    "for value in d.values():\n",
    "    print(value)\n",
    "print(d.values())\n",
    "\n",
    "print('*'*30)\n",
    "\n",
    "#6)items():\n",
    "d={10:'A',20:'B',30:'C',40:'D'}\n",
    "for item in d.items():\n",
    "    print(item)\n",
    "print(d.items())\n",
    "\n",
    "print('*'*30)\n",
    "\n",
    "d={10:'A',20:'B',30:'C',40:'D'}\n",
    "for k,v in d.items():\n",
    "    print(k,':',v)"
   ]
  },
  {
   "cell_type": "code",
   "execution_count": null,
   "id": "51514779",
   "metadata": {},
   "outputs": [],
   "source": []
  },
  {
   "cell_type": "code",
   "execution_count": 75,
   "id": "fa8c47bc",
   "metadata": {},
   "outputs": [
    {
     "name": "stdout",
     "output_type": "stream",
     "text": [
      "Enter key to get value:100\n",
      "A\n",
      "Enter key to get value:200\n",
      "B\n"
     ]
    }
   ],
   "source": [
    "#WAP to get value based on key and to get key based value:\n",
    "\n",
    "#Method 1\n",
    "d={100:'A',200:'B',300:'C',400:'D'}\n",
    "key=eval(input('Enter key to get value:'))\n",
    "if key in d:\n",
    "    print(d[key]) #print(d.get(key))\n",
    "else: \n",
    "    print('The specified key is not available')\n",
    "    \n",
    "#Method 2    \n",
    "d={100:'A',200:'B',300:'C',400:'D'}\n",
    "key=eval(input('Enter key to get value:'))\n",
    "if key in d:\n",
    "    print(d.get(key))\n",
    "else: \n",
    "    print('The specified key is not available')"
   ]
  },
  {
   "cell_type": "code",
   "execution_count": 11,
   "id": "00021b71",
   "metadata": {},
   "outputs": [
    {
     "name": "stdout",
     "output_type": "stream",
     "text": [
      "Enter value to find key:A\n",
      "The corresponding key is: 100\n",
      "The corresponding key is: 200\n"
     ]
    }
   ],
   "source": [
    "#WAP to get key based value:\n",
    "d={100:'A',200:'A',300:'C',400:'D'}\n",
    "value=input('Enter value to find key:')\n",
    "available=False\n",
    "for k,v in d.items():\n",
    "    if v==value:\n",
    "        print('The corresponding key is:',k)\n",
    "        available=True\n",
    "if available==False:\n",
    "    print('The corresponding value is not found in dictionary')"
   ]
  },
  {
   "cell_type": "code",
   "execution_count": null,
   "id": "51f7119d",
   "metadata": {},
   "outputs": [],
   "source": []
  },
  {
   "cell_type": "code",
   "execution_count": 7,
   "id": "4da5319b",
   "metadata": {},
   "outputs": [
    {
     "name": "stdout",
     "output_type": "stream",
     "text": [
      "C\n",
      "********************************************\n",
      "C\n",
      "{10: 'A', 20: 'B', 40: 'D'}\n",
      "Manohar\n"
     ]
    }
   ],
   "source": [
    "#pop()\n",
    "#d.pop(key)  --->Syntax\n",
    "d={10:'A',20:'B',30:'C',40:'D'}\n",
    "print(d.pop(30))    #C\n",
    "#print(d.pop(70))    #Key error 70\n",
    "\n",
    "print(\"********************************************\")\n",
    "\n",
    "#d.pop(key,default_value())\n",
    "d={10:'A',20:'B',30:'C',40:'D'}\n",
    "print(d.pop(30))  #C\n",
    "print(d)          #{10:'A',20:'B',40:'D'}\n",
    "print(d.pop(70,'Manohar'))  #Manohar"
   ]
  },
  {
   "cell_type": "code",
   "execution_count": 12,
   "id": "2c604799",
   "metadata": {},
   "outputs": [
    {
     "name": "stdout",
     "output_type": "stream",
     "text": [
      "(40, 'D')\n",
      "(30, 'C')\n",
      "{10: 'A', 20: 'B'}\n",
      "None\n",
      "{}\n"
     ]
    }
   ],
   "source": [
    "#popitem()  It removes random item\n",
    "d={10:'A',20:'B',30:'C',40:'D'}\n",
    "print(d.popitem())                #(40, 'D')\n",
    "print(d.popitem())                #(30, 'C')\n",
    "print(d)                          #{10: 'A', 20: 'B'}\n",
    "\n",
    "\n",
    "#3)Clear()\n",
    "d={10:'A',20:'B'}\n",
    "print(d.clear())\n",
    "print(d)"
   ]
  },
  {
   "cell_type": "code",
   "execution_count": 16,
   "id": "8cf0119d",
   "metadata": {},
   "outputs": [
    {
     "name": "stdout",
     "output_type": "stream",
     "text": [
      "C\n",
      "{100: 'A', 200: 'B', 300: 'C'}\n",
      "A\n",
      "{100: 'A', 200: 'B', 300: 'C'}\n"
     ]
    }
   ],
   "source": [
    "#4)set_default():\n",
    "d={100:'A',200:'B'}\n",
    "print(d.setdefault(300,'C'))\n",
    "print(d)\n",
    "print(d.setdefault(100,'Manohar'))\n",
    "print(d)"
   ]
  },
  {
   "cell_type": "code",
   "execution_count": 20,
   "id": "33a0ba12",
   "metadata": {},
   "outputs": [
    {
     "name": "stdout",
     "output_type": "stream",
     "text": [
      "{10: 'S', 20: 'D', 30: 'K'}\n",
      "{10: 'S', 20: 'D', 30: 'K'}\n",
      "{10: 'A', 20: 'B'}\n",
      "{10: 'A', 20: 'B'}\n",
      "{10: 'A', 20: 'B', 30: 'C'}\n",
      "{10: 'A', 20: 'B'}\n"
     ]
    }
   ],
   "source": [
    "#5)Alising and cloning\n",
    "d={10:'S',20:'D'}\n",
    "d1=d\n",
    "d[30]='K'\n",
    "print(d)\n",
    "print(d1)\n",
    "\n",
    "#Cloning\n",
    "d={10:'A',20:'B'}\n",
    "d1=d.copy()\n",
    "print(d)\n",
    "print(d1)\n",
    "d[30]='C'\n",
    "print(d)\n",
    "print(d1)"
   ]
  },
  {
   "cell_type": "code",
   "execution_count": null,
   "id": "1bccfd5d",
   "metadata": {},
   "outputs": [],
   "source": []
  },
  {
   "cell_type": "code",
   "execution_count": 32,
   "id": "8565ce71",
   "metadata": {},
   "outputs": [
    {
     "name": "stdout",
     "output_type": "stream",
     "text": [
      "Enter dictionay:{'A':10,'V':20}\n",
      "The sum of values is: 30\n"
     ]
    }
   ],
   "source": [
    "#WAP to take dictionary from the keyboard and sum of values\n",
    "\n",
    "#Method 1\n",
    "d=eval(input('Enter dictionay:'))\n",
    "sum=0\n",
    "for item in d.items():\n",
    "    sum=sum+item[1]\n",
    "print('The sum of values is:',sum)\n",
    "    \n",
    "#Method 2\n",
    "d=eval(input('Enter dictionay:'))\n",
    "print('The sum of values is:',sum(d.values()))"
   ]
  },
  {
   "cell_type": "code",
   "execution_count": 45,
   "id": "8dfaa6a8",
   "metadata": {},
   "outputs": [
    {
     "name": "stdout",
     "output_type": "stream",
     "text": [
      "Enter a string:AABB\n",
      "{'A': 2, 'B': 2}\n",
      "Enter a string:AABB\n",
      "A occurs 2 times\n",
      "B occurs 2 times\n"
     ]
    }
   ],
   "source": [
    "#WAP to find no of occurrences of each letter present in the given string\n",
    "#Method 1\n",
    "word=input('Enter a string:')\n",
    "d={}\n",
    "for ch in word:\n",
    "    d[ch]=(d.get(ch,0)+1)\n",
    "print(d)\n",
    "\n",
    "#Method 2:\n",
    "\n",
    "word=input('Enter a string:')\n",
    "d={}\n",
    "for ch in word:\n",
    "    d[ch]=(d.get(ch,0)+1)\n",
    "for k,v in d.items():\n",
    "    print(k,'occurs', v, 'times')"
   ]
  },
  {
   "cell_type": "code",
   "execution_count": null,
   "id": "0bd7a626",
   "metadata": {},
   "outputs": [],
   "source": []
  },
  {
   "cell_type": "code",
   "execution_count": 3,
   "id": "61771b10",
   "metadata": {},
   "outputs": [
    {
     "name": "stdout",
     "output_type": "stream",
     "text": [
      "Enter a string:aauuii\n",
      "{'a': 2, 'u': 2, 'i': 2}\n",
      "Enter a string:aauuii\n",
      "a occurs 2 times\n",
      "i occurs 2 times\n",
      "u occurs 2 times\n"
     ]
    }
   ],
   "source": [
    "#WAP to find numbers of occurances of each vowel present in the given string\n",
    "word=input('Enter a string:')\n",
    "vowels={'a','e','i','o','u'}\n",
    "d={}\n",
    "for ch in word:\n",
    "    if ch in vowels:\n",
    "        d[ch]=d.get(ch,0)+1\n",
    "print(d)\n",
    "\n",
    "#Method 2:\n",
    "word=input('Enter a string:')\n",
    "vowels={'a','e','i','o','u'}\n",
    "d={}\n",
    "for ch in word:\n",
    "    if ch in vowels:\n",
    "        d[ch]=d.get(ch,0)+1\n",
    "for k,v in sorted(d.items()):\n",
    "    print(k,'occurs',v,'times')"
   ]
  },
  {
   "cell_type": "code",
   "execution_count": null,
   "id": "86c3cb8f",
   "metadata": {},
   "outputs": [],
   "source": []
  },
  {
   "cell_type": "code",
   "execution_count": 4,
   "id": "43e2bca7",
   "metadata": {},
   "outputs": [
    {
     "name": "stdout",
     "output_type": "stream",
     "text": [
      "Enter No.of students:4\n",
      "Enter student name:Manohar\n",
      "Enter students marks:100\n",
      "Enter student name:Mahesh\n",
      "Enter students marks:200\n",
      "Enter student name:Abhi\n",
      "Enter students marks:300\n",
      "Enter student name:Pravali\n",
      "Enter students marks:400\n",
      "Student data insertion completed\n",
      "******************************\n",
      "Name \t\t MARKS\n",
      "******************************\n",
      "Manohar \t\t 100\n",
      "Mahesh \t\t 200\n",
      "Abhi \t\t 300\n",
      "Pravali \t\t 400\n",
      "Search Operation started...\n",
      "Enter student name to find marks:Manohar\n",
      "Marks of Manohar are: 100\n",
      "Do you want to find another student marks[yes|no]:yes\n",
      "Enter student name to find marks:Mahesh\n",
      "Marks of Mahesh are: 200\n",
      "Do you want to find another student marks[yes|no]:Yes\n",
      "Enter student name to find marks:Pravali\n",
      "Marks of Pravali are: 400\n",
      "Do you want to find another student marks[yes|no]:no\n",
      "Thaks for using our application\n"
     ]
    }
   ],
   "source": [
    "#WAP to accept student name and marks from the keyboard and create dictionary. Also display student marks by taking student name\n",
    "#as input?\n",
    "n=int(input('Enter No.of students:'))\n",
    "d={}\n",
    "for i in range(n):\n",
    "    name=input('Enter student name:')\n",
    "    marks=int(input('Enter students marks:'))\n",
    "    d[name]=marks\n",
    "print('Student data insertion completed')\n",
    "print('*'*30)\n",
    "print('Name','\\t\\t','MARKS')\n",
    "print('*'*30)\n",
    "for k,v in d.items():\n",
    "    print(k,'\\t\\t',v)\n",
    "print('Search Operation started...')\n",
    "while True:\n",
    "    name=input('Enter student name to find marks:')\n",
    "    marks=d.get(name,-1)\n",
    "    if marks==-1:\n",
    "        print('Student not found')\n",
    "    else:\n",
    "        print('Marks of',name, 'are:',marks)\n",
    "    option=input('Do you want to find another student marks[yes|no]:')\n",
    "    if option.lower()=='no':\n",
    "        break\n",
    "print('Thaks for using our application')"
   ]
  },
  {
   "cell_type": "code",
   "execution_count": null,
   "id": "03f82c06",
   "metadata": {},
   "outputs": [],
   "source": []
  },
  {
   "cell_type": "code",
   "execution_count": null,
   "id": "63f6c6c9",
   "metadata": {},
   "outputs": [],
   "source": []
  },
  {
   "cell_type": "code",
   "execution_count": null,
   "id": "43cfb80a",
   "metadata": {},
   "outputs": [],
   "source": []
  },
  {
   "cell_type": "code",
   "execution_count": null,
   "id": "7ac909ab",
   "metadata": {},
   "outputs": [],
   "source": []
  },
  {
   "cell_type": "code",
   "execution_count": null,
   "id": "6eeb1cd6",
   "metadata": {},
   "outputs": [],
   "source": []
  },
  {
   "cell_type": "code",
   "execution_count": null,
   "id": "f2b29090",
   "metadata": {},
   "outputs": [],
   "source": []
  },
  {
   "cell_type": "code",
   "execution_count": null,
   "id": "c9092963",
   "metadata": {},
   "outputs": [],
   "source": []
  },
  {
   "cell_type": "code",
   "execution_count": null,
   "id": "fbc84f5c",
   "metadata": {},
   "outputs": [],
   "source": []
  },
  {
   "cell_type": "code",
   "execution_count": null,
   "id": "f16ad71e",
   "metadata": {},
   "outputs": [],
   "source": []
  },
  {
   "cell_type": "code",
   "execution_count": 19,
   "id": "12af9c79",
   "metadata": {},
   "outputs": [
    {
     "name": "stdout",
     "output_type": "stream",
     "text": [
      "Manohar\n",
      "30\n",
      "19-Aug-1994\n",
      "Manohar\n",
      "30\n",
      "19-Aug-1994\n"
     ]
    }
   ],
   "source": [
    "#OOPS concept(Object oriented programming system)\n",
    "#Basic class \n",
    "class demo:\n",
    "    name='Manohar'\n",
    "    age=30\n",
    "    dob='19-Aug-1994'\n",
    "s1=demo()\n",
    "print(s1.name)\n",
    "print(s1.age)\n",
    "print(s1.dob)\n",
    "\n",
    "s2=demo()\n",
    "print(s2.name)\n",
    "print(s2.age)\n",
    "print(s2.dob)\n"
   ]
  },
  {
   "cell_type": "code",
   "execution_count": 26,
   "id": "67ca4a86",
   "metadata": {},
   "outputs": [
    {
     "name": "stdout",
     "output_type": "stream",
     "text": [
      "Manohar Male 30 19-Aug-1994\n",
      "Mahesh 24 Male 19-May-2000\n"
     ]
    }
   ],
   "source": [
    "class demo:\n",
    "    univ='USD'\n",
    "    Location='Vermillion'\n",
    "    Dept='CSE'\n",
    "    #Initializing the constructor\n",
    "    def __init__(self,name,age,gender,dob):\n",
    "        self.name=name\n",
    "        self.age=age\n",
    "        self.gender=gender\n",
    "        self.dob=dob\n",
    "s1=demo(name='Manohar',age=30,gender='Male',dob='19-Aug-1994')\n",
    "print(s1.name,s1.gender,s1.age,s1.dob)\n",
    "s2=demo(name='Mahesh',gender='Male',age=24,dob='19-May-2000')\n",
    "print(s2.name,s2.age,s2.gender,s2.dob)\n",
    "\n"
   ]
  },
  {
   "cell_type": "code",
   "execution_count": 31,
   "id": "02373875",
   "metadata": {},
   "outputs": [
    {
     "name": "stdout",
     "output_type": "stream",
     "text": [
      "Enter the name:'M'\n",
      "Enter your age:20\n",
      "Enter your gender:'Ma'\n",
      "Enter your date of birth:'AUg'\n",
      "'M' 20 'Ma' 'AUg'\n",
      "'M' 20 'Ma' 'AUg'\n"
     ]
    }
   ],
   "source": [
    "#run time providing values\n",
    "class demo:\n",
    "    univ='USD'\n",
    "    Location='Vermillion'\n",
    "    Dept='CSE'\n",
    "    def __init__(self,name,age,gender,dob):\n",
    "        self.name=name\n",
    "        self.age=age\n",
    "        self.gender=gender\n",
    "        self.dob=dob\n",
    "name=input('Enter the name:')\n",
    "age=int(input('Enter your age:'))\n",
    "gender=input('Enter your gender:')\n",
    "dob=input('Enter your date of birth:')\n",
    "s1=demo(name,age,gender,dob)\n",
    "s2=demo(name,age,gender,dob)\n",
    "print(s1.name,s1.age,s1.gender,s1.dob)\n",
    "print(s2.name,s2.age,s2.gender,s2.dob)"
   ]
  },
  {
   "cell_type": "code",
   "execution_count": null,
   "id": "3cbdd6ba",
   "metadata": {},
   "outputs": [],
   "source": []
  },
  {
   "cell_type": "code",
   "execution_count": 42,
   "id": "5867b7a0",
   "metadata": {},
   "outputs": [
    {
     "name": "stdout",
     "output_type": "stream",
     "text": [
      "The students are: Pravali ECE 10000\n",
      "The students are: Mahesh CSE 20000\n"
     ]
    }
   ],
   "source": [
    "class test:\n",
    "    univ='USD'\n",
    "    Location='SD'\n",
    "    def __init__(self,name,dept,fee):\n",
    "        self.name=name\n",
    "        self.dept=dept\n",
    "        self.fee=fee\n",
    "t1=test(name='Pravali',dept='ECE',fee=10000)\n",
    "t2=test(name='Mahesh',dept='CSE',fee=20000)\n",
    "print('The students are:',t1.name,t1.dept,t1.fee)\n",
    "print('The students are:',t2.name,t2.dept,t2.fee)"
   ]
  },
  {
   "cell_type": "code",
   "execution_count": null,
   "id": "b7141afd",
   "metadata": {},
   "outputs": [],
   "source": []
  },
  {
   "cell_type": "code",
   "execution_count": null,
   "id": "88a7dcb5",
   "metadata": {},
   "outputs": [],
   "source": []
  },
  {
   "cell_type": "code",
   "execution_count": null,
   "id": "8153c103",
   "metadata": {},
   "outputs": [],
   "source": []
  }
 ],
 "metadata": {
  "kernelspec": {
   "display_name": "Python 3 (ipykernel)",
   "language": "python",
   "name": "python3"
  },
  "language_info": {
   "codemirror_mode": {
    "name": "ipython",
    "version": 3
   },
   "file_extension": ".py",
   "mimetype": "text/x-python",
   "name": "python",
   "nbconvert_exporter": "python",
   "pygments_lexer": "ipython3",
   "version": "3.11.5"
  }
 },
 "nbformat": 4,
 "nbformat_minor": 5
}
