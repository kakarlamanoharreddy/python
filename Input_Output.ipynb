{
 "cells": [
  {
   "cell_type": "code",
   "execution_count": 4,
   "id": "03df315c",
   "metadata": {},
   "outputs": [
    {
     "name": "stdout",
     "output_type": "stream",
     "text": [
      "Enter some value:True\n",
      "<class 'str'>\n",
      "True\n"
     ]
    }
   ],
   "source": [
    "#Input and Output statements\n",
    "\n",
    "x=input(('Enter some value:'))\n",
    "print(type(x))\n",
    "print(x)"
   ]
  },
  {
   "cell_type": "code",
   "execution_count": 12,
   "id": "a7604f85",
   "metadata": {},
   "outputs": [
    {
     "name": "stdout",
     "output_type": "stream",
     "text": [
      "Enter First Number:1\n",
      "Enter Second Number:1\n",
      "The sum of 2 numbers is: 2\n",
      "******************************\n",
      "Enter first number:2\n",
      "Enter second number:2\n",
      "The sum of 2 numbers is: 4\n",
      "******************************\n",
      "Enter first number:1\n",
      "Enter second number:2\n",
      "The sum of 2 values: 3\n"
     ]
    }
   ],
   "source": [
    "#Demo Programm\n",
    "#Sum of 2 numbers programm different methods\n",
    "x=int(input('Enter First Number:'))\n",
    "y=int(input('Enter Second Number:'))\n",
    "print('The sum of 2 numbers is:',x+y)\n",
    "print(\"******************************\")\n",
    "#          or\n",
    "a=input('Enter first number:')\n",
    "b=input('Enter second number:')\n",
    "i=int(a)\n",
    "j=int(b)\n",
    "print('The sum of 2 numbers is:',i+j)\n",
    "\n",
    "print(\"******************************\")\n",
    "#          or\n",
    "print('The sum of 2 values:',int(input('Enter first number:'))+int(input('Enter second number:')))"
   ]
  },
  {
   "cell_type": "code",
   "execution_count": null,
   "id": "7dd5381c",
   "metadata": {},
   "outputs": [],
   "source": []
  },
  {
   "cell_type": "code",
   "execution_count": 21,
   "id": "26119ee8",
   "metadata": {},
   "outputs": [
    {
     "name": "stdout",
     "output_type": "stream",
     "text": [
      "Enter employee no:10\n",
      "Enter employee name:Mano\n",
      "Enter employee salary:50\n",
      "Enter employee address:Hyd\n",
      "Is Employee Marriaed?[True/False]:True\n",
      "please confirm you provided data:\n",
      "Employee No is: 10\n",
      "Employee Name is: Mano\n",
      "Employee salary is: 50.0\n",
      "Employee location is: Hyd\n",
      "Employee Marriaed ?: True\n"
     ]
    }
   ],
   "source": [
    "#Write a programm to read employee data from the keyboard and print the data\n",
    "eno=int(input('Enter employee no:'))\n",
    "ename=input('Enter employee name:')\n",
    "esal=float(input('Enter employee salary:'))\n",
    "eaddr=input('Enter employee address:')\n",
    "marriaed=bool(input('Is Employee Marriaed?[True/False]:'))\n",
    "print('please confirm you provided data:')\n",
    "print('Employee No is:',eno)\n",
    "print('Employee Name is:',ename)\n",
    "print('Employee salary is:',esal)\n",
    "print('Employee location is:',eaddr)\n",
    "print('Employee Marriaed ?:',marriaed)    #If you want to display correct false condition value we need to leave empty string\n",
    "\n",
    "print(\"***********************************************************************************************************************\")\n",
    "#Eval function using instead of bool function to overwrite above problem\n",
    "\n",
    "#Write a programm to read employee data from the keyboard and print the data\n",
    "eno=int(input('Enter employee no:'))\n",
    "ename=input('Enter employee name:')\n",
    "esal=float(input('Enter employee salary:'))\n",
    "eaddr=input('Enter employee address:')\n",
    "marriaed=eval(input('Is Employee Marriaed?[True/False]:'))\n",
    "print('please confirm you provided data:')\n",
    "print('Employee No is:',eno)\n",
    "print('Employee Name is:',ename)\n",
    "print('Employee salary is:',esal)\n",
    "print('Employee location is:',eaddr)\n",
    "print('Employee Marriaed ?:',marriaed)    #If you want to display correct false condition value we need to leave empty string"
   ]
  },
  {
   "cell_type": "code",
   "execution_count": null,
   "id": "f03503ac",
   "metadata": {},
   "outputs": [],
   "source": []
  },
  {
   "cell_type": "code",
   "execution_count": 46,
   "id": "5279568c",
   "metadata": {},
   "outputs": [
    {
     "name": "stdout",
     "output_type": "stream",
     "text": [
      "Enter 2 values:10 20\n",
      "The sum of 2 numbers is: 30\n",
      "*****************************************************\n",
      "Enter 2 values:10,20\n",
      "The sum of 2 numbers is: 30\n",
      "*****************************************************\n",
      "Enter 2 values:Manohar Kakarla\n",
      "The given full name is: Manohar Kakarla\n"
     ]
    }
   ],
   "source": [
    "#list unpacking method\n",
    "# s=input(\"Enter 2 numbers:\")\n",
    "# print(s)    #Single value\n",
    "# l=s.split()   \n",
    "# print(l)   #['10','20']\n",
    "# l1=[int(x) for x in l]\n",
    "# print(l1)  #[10,20]\n",
    "# a,b=l1\n",
    "# print(a)\n",
    "# print(b)\n",
    "# print('The sum of 2 numbers is:',a+b)\n",
    "\n",
    "#Combine above code\n",
    "\n",
    "#How to read multiple values from the keyboard in a single line\n",
    "a,b=[int(x) for x in input('Enter 2 values:').split()]\n",
    "print('The sum of 2 numbers is:',a+b)\n",
    "print(\"*****************************************************\")\n",
    "#Splting values , seperator\n",
    "a,b=[int(x) for x in input('Enter 2 numbers:').split(',')]\n",
    "print('The sum of 2 numbers is:',a+b)\n",
    "print(\"*****************************************************\")\n",
    "#String values providing\n",
    "a,b=[str(x) for x in input('Enter first and last names:').split()]\n",
    "print('The given full name is:',a+\" \"+b)"
   ]
  },
  {
   "cell_type": "code",
   "execution_count": 47,
   "id": "7e8add12",
   "metadata": {},
   "outputs": [
    {
     "name": "stdout",
     "output_type": "stream",
     "text": [
      "Enter 3 numbers:10,20,30\n",
      "The sum of 3 values is: 60.0\n",
      "Thr product of 3 values is: 6000.0\n"
     ]
    }
   ],
   "source": [
    "#Write a programm to read three float values from the keyboard\n",
    "a,b,c=[float(x) for x in input('Enter 3 numbers with , separation:').split(',')]\n",
    "print('The sum of 3 values is:', a+b+c)\n",
    "print('Thr product of 3 values is:',a*b*c)"
   ]
  },
  {
   "cell_type": "code",
   "execution_count": null,
   "id": "c11f3417",
   "metadata": {},
   "outputs": [],
   "source": []
  },
  {
   "cell_type": "code",
   "execution_count": null,
   "id": "af148e9f",
   "metadata": {},
   "outputs": [],
   "source": []
  },
  {
   "cell_type": "code",
   "execution_count": null,
   "id": "668fdb6b",
   "metadata": {},
   "outputs": [],
   "source": []
  },
  {
   "cell_type": "code",
   "execution_count": null,
   "id": "1e2f8532",
   "metadata": {},
   "outputs": [],
   "source": []
  },
  {
   "cell_type": "code",
   "execution_count": null,
   "id": "123a7bb7",
   "metadata": {},
   "outputs": [],
   "source": []
  },
  {
   "cell_type": "code",
   "execution_count": null,
   "id": "0995ac16",
   "metadata": {},
   "outputs": [],
   "source": []
  }
 ],
 "metadata": {
  "kernelspec": {
   "display_name": "Python 3 (ipykernel)",
   "language": "python",
   "name": "python3"
  },
  "language_info": {
   "codemirror_mode": {
    "name": "ipython",
    "version": 3
   },
   "file_extension": ".py",
   "mimetype": "text/x-python",
   "name": "python",
   "nbconvert_exporter": "python",
   "pygments_lexer": "ipython3",
   "version": "3.11.5"
  }
 },
 "nbformat": 4,
 "nbformat_minor": 5
}
