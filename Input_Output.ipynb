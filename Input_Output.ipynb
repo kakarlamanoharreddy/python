{
 "cells": [
  {
   "cell_type": "code",
   "execution_count": 4,
   "id": "03df315c",
   "metadata": {},
   "outputs": [
    {
     "name": "stdout",
     "output_type": "stream",
     "text": [
      "Enter some value:True\n",
      "<class 'str'>\n",
      "True\n"
     ]
    }
   ],
   "source": [
    "#Input and Output statements\n",
    "\n",
    "x=input(('Enter some value:'))\n",
    "print(type(x))\n",
    "print(x)"
   ]
  },
  {
   "cell_type": "code",
   "execution_count": 12,
   "id": "4fafaedf",
   "metadata": {},
   "outputs": [
    {
     "name": "stdout",
     "output_type": "stream",
     "text": [
      "Enter First Number:1\n",
      "Enter Second Number:1\n",
      "The sum of 2 numbers is: 2\n",
      "******************************\n",
      "Enter first number:2\n",
      "Enter second number:2\n",
      "The sum of 2 numbers is: 4\n",
      "******************************\n",
      "Enter first number:1\n",
      "Enter second number:2\n",
      "The sum of 2 values: 3\n"
     ]
    }
   ],
   "source": [
    "#Demo Programm\n",
    "#Sum of 2 numbers programm different methods\n",
    "x=int(input('Enter First Number:'))\n",
    "y=int(input('Enter Second Number:'))\n",
    "print('The sum of 2 numbers is:',x+y)\n",
    "print(\"******************************\")\n",
    "#          or\n",
    "a=input('Enter first number:')\n",
    "b=input('Enter second number:')\n",
    "i=int(a)\n",
    "j=int(b)\n",
    "print('The sum of 2 numbers is:',i+j)\n",
    "\n",
    "print(\"******************************\")\n",
    "#          or\n",
    "print('The sum of 2 values:',int(input('Enter first number:'))+int(input('Enter second number:')))"
   ]
  },
  {
   "cell_type": "code",
   "execution_count": null,
   "id": "5a14a7ad",
   "metadata": {},
   "outputs": [],
   "source": []
  },
  {
   "cell_type": "code",
   "execution_count": 21,
   "id": "f737bba4",
   "metadata": {},
   "outputs": [
    {
     "name": "stdout",
     "output_type": "stream",
     "text": [
      "Enter employee no:10\n",
      "Enter employee name:Mano\n",
      "Enter employee salary:50\n",
      "Enter employee address:Hyd\n",
      "Is Employee Marriaed?[True/False]:True\n",
      "please confirm you provided data:\n",
      "Employee No is: 10\n",
      "Employee Name is: Mano\n",
      "Employee salary is: 50.0\n",
      "Employee location is: Hyd\n",
      "Employee Marriaed ?: True\n"
     ]
    }
   ],
   "source": [
    "#Write a programm to read employee data from the keyboard and print the data\n",
    "eno=int(input('Enter employee no:'))\n",
    "ename=input('Enter employee name:')\n",
    "esal=float(input('Enter employee salary:'))\n",
    "eaddr=input('Enter employee address:')\n",
    "marriaed=bool(input('Is Employee Marriaed?[True/False]:'))\n",
    "print('please confirm you provided data:')\n",
    "print('Employee No is:',eno)\n",
    "print('Employee Name is:',ename)\n",
    "print('Employee salary is:',esal)\n",
    "print('Employee location is:',eaddr)\n",
    "print('Employee Marriaed ?:',marriaed)    #If you want to display correct false condition value we need to leave empty string\n",
    "\n",
    "print(\"***********************************************************************************************************************\")\n",
    "#Eval function using instead of bool function to overwrite above problem\n",
    "\n",
    "#Write a programm to read employee data from the keyboard and print the data\n",
    "eno=int(input('Enter employee no:'))\n",
    "ename=input('Enter employee name:')\n",
    "esal=float(input('Enter employee salary:'))\n",
    "eaddr=input('Enter employee address:')\n",
    "marriaed=eval(input('Is Employee Marriaed?[True/False]:'))\n",
    "print('please confirm you provided data:')\n",
    "print('Employee No is:',eno)\n",
    "print('Employee Name is:',ename)\n",
    "print('Employee salary is:',esal)\n",
    "print('Employee location is:',eaddr)\n",
    "print('Employee Marriaed ?:',marriaed)    #If you want to display correct false condition value we need to leave empty string"
   ]
  },
  {
   "cell_type": "code",
   "execution_count": null,
   "id": "bec0f90a",
   "metadata": {},
   "outputs": [],
   "source": []
  },
  {
   "cell_type": "code",
   "execution_count": 46,
   "id": "0d44236c",
   "metadata": {},
   "outputs": [
    {
     "name": "stdout",
     "output_type": "stream",
     "text": [
      "Enter 2 values:10 20\n",
      "The sum of 2 numbers is: 30\n",
      "*****************************************************\n",
      "Enter 2 values:10,20\n",
      "The sum of 2 numbers is: 30\n",
      "*****************************************************\n",
      "Enter 2 values:Manohar Kakarla\n",
      "The given full name is: Manohar Kakarla\n"
     ]
    }
   ],
   "source": [
    "#list unpacking method\n",
    "# s=input(\"Enter 2 numbers:\")\n",
    "# print(s)    #Single value\n",
    "# l=s.split()   \n",
    "# print(l)   #['10','20']\n",
    "# l1=[int(x) for x in l]\n",
    "# print(l1)  #[10,20]\n",
    "# a,b=l1\n",
    "# print(a)\n",
    "# print(b)\n",
    "# print('The sum of 2 numbers is:',a+b)\n",
    "\n",
    "#Combine above code\n",
    "\n",
    "#How to read multiple values from the keyboard in a single line\n",
    "a,b=[int(x) for x in input('Enter 2 values:').split()]\n",
    "print('The sum of 2 numbers is:',a+b)\n",
    "print(\"*****************************************************\")\n",
    "#Splting values , seperator\n",
    "a,b=[int(x) for x in input('Enter 2 numbers:').split(',')]\n",
    "print('The sum of 2 numbers is:',a+b)\n",
    "print(\"*****************************************************\")\n",
    "#String values providing\n",
    "a,b=[str(x) for x in input('Enter first and last names:').split()]\n",
    "print('The given full name is:',a+\" \"+b)"
   ]
  },
  {
   "cell_type": "code",
   "execution_count": 47,
   "id": "76eee5fc",
   "metadata": {},
   "outputs": [
    {
     "name": "stdout",
     "output_type": "stream",
     "text": [
      "Enter 3 numbers:10,20,30\n",
      "The sum of 3 values is: 60.0\n",
      "Thr product of 3 values is: 6000.0\n"
     ]
    }
   ],
   "source": [
    "#Write a programm to read three float values from the keyboard\n",
    "a,b,c=[float(x) for x in input('Enter 3 numbers with , separation:').split(',')]\n",
    "print('The sum of 3 values is:', a+b+c)\n",
    "print('Thr product of 3 values is:',a*b*c)"
   ]
  },
  {
   "cell_type": "code",
   "execution_count": null,
   "id": "d0575411",
   "metadata": {},
   "outputs": [],
   "source": []
  },
  {
   "cell_type": "code",
   "execution_count": 16,
   "id": "1e7b0696",
   "metadata": {},
   "outputs": [
    {
     "name": "stdout",
     "output_type": "stream",
     "text": [
      "Enter something:10\n",
      "<class 'int'>\n",
      "*******************************************\n",
      "60 <class 'int'>\n"
     ]
    }
   ],
   "source": [
    "#Eval function\n",
    "b= eval(input('Enter something:'))\n",
    "print(type(b))\n",
    "print(\"*******************************************\")\n",
    "#We can perform expression as well with eval function\n",
    "x=eval('10+20+30')\n",
    "print(x,type(x))"
   ]
  },
  {
   "cell_type": "code",
   "execution_count": null,
   "id": "ecd535e0",
   "metadata": {},
   "outputs": [],
   "source": []
  },
  {
   "cell_type": "code",
   "execution_count": 38,
   "id": "96532c65",
   "metadata": {},
   "outputs": [
    {
     "name": "stdout",
     "output_type": "stream",
     "text": [
      "test.py\n",
      "10\n",
      "20\n",
      "<class 'list'>\n"
     ]
    }
   ],
   "source": [
    "#Command line arguments\n",
    "!py test.py 10 20 30  # Calling this program test.py "
   ]
  },
  {
   "cell_type": "code",
   "execution_count": 37,
   "id": "803d9656",
   "metadata": {},
   "outputs": [
    {
     "name": "stdout",
     "output_type": "stream",
     "text": [
      "The no.of command line arguments: 4\n",
      "\n",
      "\n",
      "The list of command line arguments: ['test.py', '10', '20', '30']\n",
      "\n",
      "\n",
      "Command line arguments one by one:\n",
      "\n",
      "test.py\n",
      "10\n",
      "20\n",
      "30\n"
     ]
    }
   ],
   "source": [
    "#Program to print command line arguments information\n",
    "# from sys import *\n",
    "# print('The no.of command line arguments:',len(argv))\n",
    "# print(\"\\n\")\n",
    "# print('The list of command line arguments:',argv)\n",
    "# print(\"\\n\")\n",
    "# print('Command line arguments one by one:\\n')\n",
    "# for x in argv:\n",
    "#     print(x)\n",
    "\n",
    "!py test.py 10 20 30"
   ]
  },
  {
   "cell_type": "code",
   "execution_count": 36,
   "id": "13fcebd5",
   "metadata": {},
   "outputs": [
    {
     "name": "stdout",
     "output_type": "stream",
     "text": [
      "The sum is: 600\n"
     ]
    }
   ],
   "source": [
    "#program to print sum of given numbers provided as command line arguments\n",
    "!py test.py 100 200 300 # Calling this program test.py \n"
   ]
  },
  {
   "cell_type": "code",
   "execution_count": 50,
   "id": "04a37974",
   "metadata": {},
   "outputs": [
    {
     "name": "stdout",
     "output_type": "stream",
     "text": [
      "30\n"
     ]
    }
   ],
   "source": [
    "#!py test.py Manohar Reddy\n",
    "#!py test.py \"Manohar Reddy\"  # Calling this program test.py \n",
    "!py test.py 10 20"
   ]
  },
  {
   "cell_type": "code",
   "execution_count": null,
   "id": "b7cfe456",
   "metadata": {},
   "outputs": [],
   "source": []
  },
  {
   "cell_type": "code",
   "execution_count": 60,
   "id": "06aa906a",
   "metadata": {},
   "outputs": [
    {
     "name": "stdout",
     "output_type": "stream",
     "text": [
      "manohar\n",
      "\n",
      "reddy\n",
      "******************\n",
      "10 20 30 40\n",
      "10,20,30,40\n",
      "10:20:30:40\n"
     ]
    }
   ],
   "source": [
    "#Output Statements\n",
    "#print() without any argument  \n",
    "print('manohar')\n",
    "print()\n",
    "print('reddy')\n",
    "print(\"******************\")\n",
    "a,b,c,d=10,20,30,40\n",
    "print(a,b,c,d)  #10 20 30 40\n",
    "print(a,b,c,d,sep=',')  # with seperator 10,20,30,40 \n",
    "print(a,b,c,d,sep=':')  # with seperator 10:20:30:40 "
   ]
  },
  {
   "cell_type": "code",
   "execution_count": 4,
   "id": "983969bf",
   "metadata": {},
   "outputs": [
    {
     "name": "stdout",
     "output_type": "stream",
     "text": [
      "Manohar\n",
      "Reddy\n",
      "Kakarla\n",
      "**************\n",
      "ManoharReddyKakarla\n",
      "**************\n",
      "Manohar Reddy Kakarla\n"
     ]
    }
   ],
   "source": [
    "#end attribute\n",
    "print('Manohar')\n",
    "print('Reddy')\n",
    "print('Kakarla')\n",
    "print(\"**************\")\n",
    "print(\"Manohar\",end='')\n",
    "print(\"Reddy\",end='')\n",
    "print(\"Kakarla\")\n",
    "print(\"**************\")\n",
    "print(\"Manohar\",end=' ')\n",
    "print(\"Reddy\",end=' ')\n",
    "print(\"Kakarla\")"
   ]
  },
  {
   "cell_type": "code",
   "execution_count": 8,
   "id": "1c2e15e4",
   "metadata": {},
   "outputs": [
    {
     "name": "stdout",
     "output_type": "stream",
     "text": [
      "10:20:30***40:50:60\n",
      "70**80$$90 100\n"
     ]
    }
   ],
   "source": [
    "#sep and end attributes examples\n",
    "print(10,20,30,sep=':',end='***') #excepted output 10:20:30***\n",
    "print(40,50,60,sep=':')  #excepted output 40:50:60\n",
    "print(70,80,sep='**',end='$$') #excepted output 70**80$$\n",
    "print(90,100) #excepted output 90 100"
   ]
  },
  {
   "cell_type": "code",
   "execution_count": 9,
   "id": "9e2e4f34",
   "metadata": {},
   "outputs": [
    {
     "name": "stdout",
     "output_type": "stream",
     "text": [
      "ManoharReddy\n",
      "Manohar Reddy\n"
     ]
    }
   ],
   "source": [
    "print('Manohar'+'Reddy')#ManoharReddy\n",
    "print('Manohar','Reddy')#Manohar Reddy"
   ]
  },
  {
   "cell_type": "code",
   "execution_count": null,
   "id": "797f5925",
   "metadata": {},
   "outputs": [],
   "source": []
  },
  {
   "cell_type": "code",
   "execution_count": 11,
   "id": "8bb1e82d",
   "metadata": {},
   "outputs": [
    {
     "name": "stdout",
     "output_type": "stream",
     "text": [
      "[10, 20, 30, 40]\n",
      "(10, 20, 30, 40)\n"
     ]
    }
   ],
   "source": [
    "#print(object) and with replacement operator\n",
    "l=[10,20,30,40]\n",
    "print(l)\n",
    "t=(10,20,30,40)\n",
    "print(t)"
   ]
  },
  {
   "cell_type": "code",
   "execution_count": 42,
   "id": "e1363876",
   "metadata": {},
   "outputs": [
    {
     "name": "stdout",
     "output_type": "stream",
     "text": [
      "Hello Manohar your salary is 10000 and your friend Abhi is waiting\n",
      "Hello Manohar,your salary is 10000 and your friend Abhi is waiting\n",
      "Hello Manohar,your salary is 10000 and your friend Abhi is waiting\n",
      "Hello Manohar,your salary is 10000 and your friend Abhi is waiting\n"
     ]
    }
   ],
   "source": [
    "#print with replacement operator{} example programm\n",
    "name='Manohar'#Excepted output is Hello Manohar your salary is 10000 and your friend Abhi is waiting\n",
    "salary=10000\n",
    "gf='Abhi'\n",
    "print('Hello',name,'your salary is',salary,'and your friend',gf,'is waiting')\n",
    "\n",
    "    #or\n",
    "#using format method using replacement operator\n",
    "name='Manohar'#Excepted output is Hello Manohar your salary is 10000 and your friend Abhi is waiting\n",
    "salary=10000\n",
    "gf='Abhi'\n",
    "print('Hello {},your salary is {} and your friend {} is waiting'.format(name,salary,gf))\n",
    "\n",
    "#using index method to get the output #Order is important\n",
    "name='Manohar'\n",
    "salary=10000\n",
    "gf='Abhi'\n",
    "print('Hello {0},your salary is {1} and your friend {2} is waiting'.format(name,salary,gf))\n",
    "\n",
    "#4th method keyboard arguments **Order is not important\n",
    "name='Manohar'\n",
    "salary=10000\n",
    "gf='Abhi'\n",
    "print('Hello {n},your salary is {s} and your friend {f} is waiting'.format(n=name,s=salary,f=gf))"
   ]
  },
  {
   "cell_type": "code",
   "execution_count": null,
   "id": "be866488",
   "metadata": {},
   "outputs": [],
   "source": []
  },
  {
   "cell_type": "code",
   "execution_count": 46,
   "id": "50ea93d4",
   "metadata": {},
   "outputs": [
    {
     "name": "stdout",
     "output_type": "stream",
     "text": [
      "a=10,b=20,c=30,d=40\n"
     ]
    }
   ],
   "source": [
    "\n",
    "a,b,c,d=10,20,30,40 #Required output is a=10,b=20,c=30,d=40\n",
    "print('a={},b={},c={},d={}'.format(a,b,c,d))"
   ]
  },
  {
   "cell_type": "code",
   "execution_count": null,
   "id": "a44e7794",
   "metadata": {},
   "outputs": [],
   "source": []
  },
  {
   "cell_type": "code",
   "execution_count": 56,
   "id": "9dfe4b7b",
   "metadata": {},
   "outputs": [
    {
     "name": "stdout",
     "output_type": "stream",
     "text": [
      "a=10,b=20,c=30\n",
      "a and b and c value is 10 20 30\n"
     ]
    }
   ],
   "source": [
    "#print() with formated string\n",
    "#%i     signed decimal value\n",
    "#%d     signed decimal value\n",
    "#%f     float value\n",
    "#s      string,any other object like list,set,tuple...\n",
    "#a=10\n",
    "#print('a value is %i' %a)  #%i value replaced with exact variable\n",
    "\n",
    "a=10\n",
    "b=20\n",
    "c=30\n",
    "print('a=%d,b=%d,c=%d' %(a,b,c))\n",
    "#print('a and b and c value is %i' %a,b,c)"
   ]
  },
  {
   "cell_type": "code",
   "execution_count": null,
   "id": "8b4344ba",
   "metadata": {},
   "outputs": [],
   "source": []
  },
  {
   "cell_type": "code",
   "execution_count": 61,
   "id": "3b3ffce6",
   "metadata": {},
   "outputs": [
    {
     "name": "stdout",
     "output_type": "stream",
     "text": [
      "Hello Manohar your list marks is [10, 20, 30, 40]\n",
      "Hello Manohar Your list marks is:[10, 20, 30, 40]\n"
     ]
    }
   ],
   "source": [
    "name='Manohar'\n",
    "marks=[10,20,30,40]\n",
    "print('Hello {} your list marks is {}'.format(name,marks))  #using replacement operator\n",
    "print('Hello %s Your list marks is:%s' %(name,marks))       #using formated string operator"
   ]
  },
  {
   "cell_type": "code",
   "execution_count": 66,
   "id": "c78f7f2a",
   "metadata": {},
   "outputs": [
    {
     "name": "stdout",
     "output_type": "stream",
     "text": [
      "Price is 80.78945\n",
      "price is 80.789450\n",
      "price is 80.79\n"
     ]
    }
   ],
   "source": [
    "price=80.78945\n",
    "print('Price is {}'.format(price))\n",
    "print('price is %f' %price)\n",
    "print('price is %.2f' %price)   #only taking 2 decimal values"
   ]
  },
  {
   "cell_type": "code",
   "execution_count": null,
   "id": "99cc1c2d",
   "metadata": {},
   "outputs": [],
   "source": []
  }
 ],
 "metadata": {
  "kernelspec": {
   "display_name": "Python 3 (ipykernel)",
   "language": "python",
   "name": "python3"
  },
  "language_info": {
   "codemirror_mode": {
    "name": "ipython",
    "version": 3
   },
   "file_extension": ".py",
   "mimetype": "text/x-python",
   "name": "python",
   "nbconvert_exporter": "python",
   "pygments_lexer": "ipython3",
   "version": "3.11.5"
  }
 },
 "nbformat": 4,
 "nbformat_minor": 5
}
