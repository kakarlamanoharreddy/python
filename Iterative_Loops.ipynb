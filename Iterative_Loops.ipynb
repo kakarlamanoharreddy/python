{
 "cells": [
  {
   "cell_type": "code",
   "execution_count": null,
   "id": "248b9569",
   "metadata": {},
   "outputs": [],
   "source": [
    "#Iterative Loops\n",
    "#for loop and while loop\n"
   ]
  },
  {
   "cell_type": "code",
   "execution_count": 1,
   "id": "69da6de2",
   "metadata": {},
   "outputs": [
    {
     "name": "stdout",
     "output_type": "stream",
     "text": [
      "M\n",
      "a\n",
      "n\n",
      "o\n",
      "h\n",
      "a\n",
      "r\n",
      " \n",
      "R\n",
      "e\n",
      "d\n",
      "d\n",
      "y\n"
     ]
    }
   ],
   "source": [
    "#for loop\n",
    "s='Manohar Reddy'\n",
    "for x in s:\n",
    "    print(x)"
   ]
  },
  {
   "cell_type": "code",
   "execution_count": 6,
   "id": "c5a956fa",
   "metadata": {},
   "outputs": [
    {
     "name": "stdout",
     "output_type": "stream",
     "text": [
      "Enter a name:Abhi\n",
      "The character present at 0 index: A\n",
      "The character present at 1 index: b\n",
      "The character present at 2 index: h\n",
      "The character present at 3 index: i\n"
     ]
    }
   ],
   "source": [
    "#index based values printing\n",
    "#s='Manohar Reddy'\n",
    "s=input('Enter a name:')\n",
    "i=0\n",
    "for x in s:\n",
    "    print('The character present at {} index: {}'.format(i,x))\n",
    "    i +=1"
   ]
  },
  {
   "cell_type": "code",
   "execution_count": 10,
   "id": "40beb85a",
   "metadata": {},
   "outputs": [
    {
     "name": "stdout",
     "output_type": "stream",
     "text": [
      "Hello welcome to for loop practice\n",
      "Hello welcome to for loop practice\n",
      "Hello welcome to for loop practice\n",
      "Hello welcome to for loop practice\n",
      "Hello welcome to for loop practice\n",
      "Hello welcome to for loop practice\n",
      "Hello welcome to for loop practice\n",
      "Hello welcome to for loop practice\n",
      "Hello welcome to for loop practice\n",
      "Hello welcome to for loop practice\n",
      "**********************\n",
      "1\n",
      "2\n",
      "3\n",
      "4\n",
      "5\n",
      "6\n",
      "7\n",
      "8\n",
      "9\n",
      "10\n"
     ]
    }
   ],
   "source": [
    "#print a particular statement 10 times\n",
    "#s=input('Enter some condition')\n",
    "for x in range(10):\n",
    "    print('Hello welcome to for loop practice')\n",
    "print(\"**********************\")\n",
    "for x in range(1,11):\n",
    "    print(x)"
   ]
  },
  {
   "cell_type": "code",
   "execution_count": null,
   "id": "5c6e05c0",
   "metadata": {},
   "outputs": [],
   "source": []
  },
  {
   "cell_type": "code",
   "execution_count": 28,
   "id": "6794c02f",
   "metadata": {},
   "outputs": [
    {
     "name": "stdout",
     "output_type": "stream",
     "text": [
      "1\n",
      "3\n",
      "5\n",
      "7\n",
      "9\n",
      "11\n",
      "13\n",
      "15\n",
      "17\n",
      "19\n",
      "*******************************\n",
      "1\n",
      "3\n",
      "5\n",
      "7\n",
      "9\n",
      "11\n",
      "13\n",
      "15\n",
      "17\n",
      "19\n"
     ]
    }
   ],
   "source": [
    "#To display odd numbers from 0 to 20\n",
    "for x in range(0,21):\n",
    "    if x%2!=0:\n",
    "        print(x)\n",
    "print(\"*******************************\")\n",
    "#or\n",
    "for x in range(1,21,2):\n",
    "    print(x)\n",
    "\n",
    "# n=int(input('Enter a number'))\n",
    "# n1=n%2!=0\n",
    "# print(n1)"
   ]
  },
  {
   "cell_type": "code",
   "execution_count": 30,
   "id": "bec77dec",
   "metadata": {},
   "outputs": [
    {
     "name": "stdout",
     "output_type": "stream",
     "text": [
      "10\n",
      "9\n",
      "8\n",
      "7\n",
      "6\n",
      "5\n",
      "4\n",
      "3\n",
      "2\n",
      "1\n"
     ]
    }
   ],
   "source": [
    "#WAP to display values in descending order\n",
    "for x in range(10,0,-1):\n",
    "    print(x)"
   ]
  },
  {
   "cell_type": "code",
   "execution_count": 45,
   "id": "0924dbe0",
   "metadata": {},
   "outputs": [
    {
     "name": "stdout",
     "output_type": "stream",
     "text": [
      "Enter list values:[10]\n",
      "The sum is: 10\n"
     ]
    }
   ],
   "source": [
    "#to print the sum of numbers in the given list\n",
    "list=eval(input('Enter list values:'))\n",
    "sum=0\n",
    "for x in list:\n",
    "    sum=sum+x\n",
    "print('The sum is:',sum)\n"
   ]
  },
  {
   "cell_type": "code",
   "execution_count": 48,
   "id": "fae699ea",
   "metadata": {},
   "outputs": [
    {
     "name": "stdout",
     "output_type": "stream",
     "text": [
      "Enter list values:[11,22]\n"
     ]
    },
    {
     "ename": "TypeError",
     "evalue": "'int' object is not callable",
     "output_type": "error",
     "traceback": [
      "\u001b[1;31m---------------------------------------------------------------------------\u001b[0m",
      "\u001b[1;31mTypeError\u001b[0m                                 Traceback (most recent call last)",
      "Cell \u001b[1;32mIn[48], line 2\u001b[0m\n\u001b[0;32m      1\u001b[0m \u001b[38;5;28mlist\u001b[39m\u001b[38;5;241m=\u001b[39m\u001b[38;5;28meval\u001b[39m(\u001b[38;5;28minput\u001b[39m(\u001b[38;5;124m'\u001b[39m\u001b[38;5;124mEnter list values:\u001b[39m\u001b[38;5;124m'\u001b[39m))\n\u001b[1;32m----> 2\u001b[0m \u001b[38;5;28mprint\u001b[39m(\u001b[38;5;124m'\u001b[39m\u001b[38;5;124mThe sum is:\u001b[39m\u001b[38;5;124m'\u001b[39m,\u001b[38;5;28msum\u001b[39m(\u001b[38;5;28mlist\u001b[39m))\n",
      "\u001b[1;31mTypeError\u001b[0m: 'int' object is not callable"
     ]
    }
   ],
   "source": [
    "list=eval(input('Enter list values:'))\n",
    "print('The sum is:',sum(list))      #Jupiter notebook is not working online compiler is working issue with jupiter"
   ]
  },
  {
   "cell_type": "code",
   "execution_count": null,
   "id": "e288e6b3",
   "metadata": {},
   "outputs": [],
   "source": []
  },
  {
   "cell_type": "code",
   "execution_count": null,
   "id": "89e47a89",
   "metadata": {},
   "outputs": [],
   "source": []
  },
  {
   "cell_type": "code",
   "execution_count": null,
   "id": "50c4fd54",
   "metadata": {},
   "outputs": [],
   "source": []
  },
  {
   "cell_type": "code",
   "execution_count": null,
   "id": "1d0c2f9b",
   "metadata": {},
   "outputs": [],
   "source": []
  },
  {
   "cell_type": "code",
   "execution_count": null,
   "id": "6bba2eb5",
   "metadata": {},
   "outputs": [],
   "source": []
  },
  {
   "cell_type": "code",
   "execution_count": null,
   "id": "599a99ab",
   "metadata": {},
   "outputs": [],
   "source": []
  }
 ],
 "metadata": {
  "kernelspec": {
   "display_name": "Python 3 (ipykernel)",
   "language": "python",
   "name": "python3"
  },
  "language_info": {
   "codemirror_mode": {
    "name": "ipython",
    "version": 3
   },
   "file_extension": ".py",
   "mimetype": "text/x-python",
   "name": "python",
   "nbconvert_exporter": "python",
   "pygments_lexer": "ipython3",
   "version": "3.11.5"
  }
 },
 "nbformat": 4,
 "nbformat_minor": 5
}
