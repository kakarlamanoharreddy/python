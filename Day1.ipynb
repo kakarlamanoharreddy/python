{
 "cells": [
  {
   "cell_type": "code",
   "execution_count": 2,
   "id": "ab8847a7",
   "metadata": {},
   "outputs": [
    {
     "name": "stdout",
     "output_type": "stream",
     "text": [
      "<class 'str'>\n",
      "<class 'int'>\n"
     ]
    }
   ],
   "source": [
    "a='11dffaa11'\n",
    "print(type(a))\n",
    "a=10\n",
    "print(type(a))"
   ]
  },
  {
   "cell_type": "code",
   "execution_count": 18,
   "id": "b8e37fe3",
   "metadata": {},
   "outputs": [
    {
     "name": "stdout",
     "output_type": "stream",
     "text": [
      "117874\n"
     ]
    }
   ],
   "source": [
    "from random import randint\n",
    "print(randint(0,9),randint(0,9),randint(0,9),randint(0,9),randint(0,9),randint(0,9),sep='')"
   ]
  },
  {
   "cell_type": "code",
   "execution_count": 19,
   "id": "cec953c5",
   "metadata": {},
   "outputs": [
    {
     "name": "stdout",
     "output_type": "stream",
     "text": [
      "664139\n",
      "606352\n",
      "815513\n",
      "213421\n",
      "194372\n",
      "607506\n",
      "116025\n",
      "919877\n",
      "254087\n",
      "450630\n"
     ]
    }
   ],
   "source": [
    "#For 10 OTP's\n",
    "from random import randint\n",
    "for i in range(10):\n",
    "    print(randint(0,9),randint(0,9),randint(0,9),randint(0,9),randint(0,9),randint(0,9),sep='')"
   ]
  },
  {
   "cell_type": "code",
   "execution_count": 2,
   "id": "f175d991",
   "metadata": {},
   "outputs": [
    {
     "name": "stdout",
     "output_type": "stream",
     "text": [
      "Enter a some number1\n",
      "Welcome to USA\n"
     ]
    }
   ],
   "source": [
    "#Practice Activity\n",
    "n=int(input(\"Enter a some number\"))\n",
    "for i in range(n):\n",
    "    print(\"Welcome to USA\")"
   ]
  },
  {
   "cell_type": "code",
   "execution_count": 5,
   "id": "98a21c5d",
   "metadata": {},
   "outputs": [
    {
     "name": "stdout",
     "output_type": "stream",
     "text": [
      "Enter a first number:5\n",
      "Enter a second number5\n",
      "The sum of 2 numbers is: 10\n",
      "The product of 2 number is 25\n"
     ]
    }
   ],
   "source": [
    "#Read 2 numbers from the keyboard and print sum and product of 2 numbers\n",
    "a=int(input(\"Enter a first number:\"))\n",
    "b=int(input(\"Enter a second number\"))\n",
    "print(\"The sum of 2 numbers is:\", a+b)\n",
    "print(\"The product of 2 number is\", a*b)"
   ]
  },
  {
   "cell_type": "code",
   "execution_count": null,
   "id": "a5019447",
   "metadata": {},
   "outputs": [],
   "source": []
  }
 ],
 "metadata": {
  "kernelspec": {
   "display_name": "Python 3 (ipykernel)",
   "language": "python",
   "name": "python3"
  },
  "language_info": {
   "codemirror_mode": {
    "name": "ipython",
    "version": 3
   },
   "file_extension": ".py",
   "mimetype": "text/x-python",
   "name": "python",
   "nbconvert_exporter": "python",
   "pygments_lexer": "ipython3",
   "version": "3.11.5"
  }
 },
 "nbformat": 4,
 "nbformat_minor": 5
}
