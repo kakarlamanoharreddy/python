{
 "cells": [
  {
   "cell_type": "code",
   "execution_count": 2,
   "id": "0ef80940",
   "metadata": {},
   "outputs": [
    {
     "name": "stdout",
     "output_type": "stream",
     "text": [
      "manohar reddy\n"
     ]
    }
   ],
   "source": [
    "#String Operator using Arthimetic Operators\n",
    "\n",
    "s='manohar'+' '+'reddy'\n",
    "print(s)"
   ]
  },
  {
   "cell_type": "code",
   "execution_count": 6,
   "id": "2abbbaf4",
   "metadata": {},
   "outputs": [],
   "source": [
    "s='manohar' + 10\n",
    "print(s)   --We will get type error"
   ]
  },
  {
   "cell_type": "code",
   "execution_count": 7,
   "id": "7b3c8d70",
   "metadata": {},
   "outputs": [
    {
     "name": "stdout",
     "output_type": "stream",
     "text": [
      "ManoharManoharManohar\n"
     ]
    }
   ],
   "source": [
    "#  \"*\" Operator\n",
    "s='Manohar'*3\n",
    "print(s)"
   ]
  },
  {
   "cell_type": "code",
   "execution_count": null,
   "id": "bc3568fb",
   "metadata": {},
   "outputs": [],
   "source": []
  }
 ],
 "metadata": {
  "kernelspec": {
   "display_name": "Python 3 (ipykernel)",
   "language": "python",
   "name": "python3"
  },
  "language_info": {
   "codemirror_mode": {
    "name": "ipython",
    "version": 3
   },
   "file_extension": ".py",
   "mimetype": "text/x-python",
   "name": "python",
   "nbconvert_exporter": "python",
   "pygments_lexer": "ipython3",
   "version": "3.11.5"
  }
 },
 "nbformat": 4,
 "nbformat_minor": 5
}
