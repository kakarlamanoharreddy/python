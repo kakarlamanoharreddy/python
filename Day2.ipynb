{
 "cells": [
  {
   "cell_type": "code",
   "execution_count": 2,
   "id": "183f39cf",
   "metadata": {},
   "outputs": [
    {
     "name": "stdout",
     "output_type": "stream",
     "text": [
      "manohar reddy\n"
     ]
    }
   ],
   "source": [
    "#String Operator using Arthimetic Operators\n",
    "\n",
    "s='manohar'+' '+'reddy'\n",
    "print(s)"
   ]
  },
  {
   "cell_type": "code",
   "execution_count": 6,
   "id": "5b6d0aa2",
   "metadata": {},
   "outputs": [],
   "source": [
    "s='manohar' + 10\n",
    "print(s)   #--We will get type error we can't convert string and int"
   ]
  },
  {
   "cell_type": "code",
   "execution_count": 7,
   "id": "1bdc399b",
   "metadata": {},
   "outputs": [
    {
     "name": "stdout",
     "output_type": "stream",
     "text": [
      "ManoharManoharManohar\n"
     ]
    }
   ],
   "source": [
    "#  \"*\" Operator\n",
    "s='Manohar'*3\n",
    "print(s)"
   ]
  },
  {
   "cell_type": "code",
   "execution_count": 8,
   "id": "d70b6a79",
   "metadata": {},
   "outputs": [
    {
     "name": "stdout",
     "output_type": "stream",
     "text": [
      "ManoharManoharManohar\n"
     ]
    }
   ],
   "source": [
    "s=3*'Manohar'\n",
    "print(s)"
   ]
  },
  {
   "cell_type": "code",
   "execution_count": 12,
   "id": "f62e21d8",
   "metadata": {},
   "outputs": [
    {
     "name": "stdout",
     "output_type": "stream",
     "text": [
      "*************\n",
      "Manohar Reddy\n",
      "*************\n"
     ]
    }
   ],
   "source": [
    "print('*************')\n",
    "print('Manohar Reddy')\n",
    "print('*************')"
   ]
  },
  {
   "cell_type": "code",
   "execution_count": 3,
   "id": "dee75899",
   "metadata": {},
   "outputs": [
    {
     "data": {
      "text/plain": [
       "10.0"
      ]
     },
     "execution_count": 3,
     "metadata": {},
     "output_type": "execute_result"
    }
   ],
   "source": [
    "#Type Casting  --To convert from other data type to int  \n",
    "#a) int() \n",
    "#Float to int\n",
    "float(int(10.989))"
   ]
  },
  {
   "cell_type": "code",
   "execution_count": 19,
   "id": "9739c484",
   "metadata": {},
   "outputs": [
    {
     "ename": "TypeError",
     "evalue": "int() argument must be a string, a bytes-like object or a real number, not 'complex'",
     "output_type": "error",
     "traceback": [
      "\u001b[1;31m---------------------------------------------------------------------------\u001b[0m",
      "\u001b[1;31mTypeError\u001b[0m                                 Traceback (most recent call last)",
      "Cell \u001b[1;32mIn[19], line 1\u001b[0m\n\u001b[1;32m----> 1\u001b[0m \u001b[38;5;28mint\u001b[39m(\u001b[38;5;241m10\u001b[39m\u001b[38;5;241m+\u001b[39m\u001b[38;5;241m20\u001b[39mj)\n",
      "\u001b[1;31mTypeError\u001b[0m: int() argument must be a string, a bytes-like object or a real number, not 'complex'"
     ]
    }
   ],
   "source": [
    "int(10+20j)"
   ]
  },
  {
   "cell_type": "code",
   "execution_count": 21,
   "id": "e19c0869",
   "metadata": {},
   "outputs": [
    {
     "data": {
      "text/plain": [
       "0"
      ]
     },
     "execution_count": 21,
     "metadata": {},
     "output_type": "execute_result"
    }
   ],
   "source": [
    "#Bool to int\n",
    "int(True)\n",
    "int(False)"
   ]
  },
  {
   "cell_type": "code",
   "execution_count": 27,
   "id": "2fd80af2",
   "metadata": {},
   "outputs": [
    {
     "data": {
      "text/plain": [
       "20"
      ]
     },
     "execution_count": 27,
     "metadata": {},
     "output_type": "execute_result"
    }
   ],
   "source": [
    "#String to int\n",
    "#string internally contains only integrated values & Base 10\n",
    "int('20')\n",
    "#int('10.5')  #It will through error"
   ]
  },
  {
   "cell_type": "code",
   "execution_count": null,
   "id": "65e7c4fd",
   "metadata": {},
   "outputs": [],
   "source": []
  },
  {
   "cell_type": "code",
   "execution_count": 4,
   "id": "60fe7bc9",
   "metadata": {},
   "outputs": [
    {
     "data": {
      "text/plain": [
       "15.0"
      ]
     },
     "execution_count": 4,
     "metadata": {},
     "output_type": "execute_result"
    }
   ],
   "source": [
    "#Float Datatype Method\n",
    "#Other Datatype to float Datatype\n",
    "#Float to int\n",
    "float(15)\n",
    "\n",
    "#We can't convert float to complex or complex to float"
   ]
  },
  {
   "cell_type": "code",
   "execution_count": 6,
   "id": "2b1a56c8",
   "metadata": {},
   "outputs": [
    {
     "data": {
      "text/plain": [
       "0.0"
      ]
     },
     "execution_count": 6,
     "metadata": {},
     "output_type": "execute_result"
    }
   ],
   "source": [
    "#Float to Boolean\n",
    "float(True)\n",
    "float(False)"
   ]
  },
  {
   "cell_type": "code",
   "execution_count": 8,
   "id": "d090427b",
   "metadata": {},
   "outputs": [
    {
     "data": {
      "text/plain": [
       "10.6"
      ]
     },
     "execution_count": 8,
     "metadata": {},
     "output_type": "execute_result"
    }
   ],
   "source": [
    "#Float to string\n",
    "float(\"10\")\n",
    "float(\"10.6\")"
   ]
  },
  {
   "cell_type": "code",
   "execution_count": null,
   "id": "7faebdea",
   "metadata": {},
   "outputs": [],
   "source": []
  },
  {
   "cell_type": "code",
   "execution_count": 24,
   "id": "af6be9f8",
   "metadata": {},
   "outputs": [
    {
     "ename": "TypeError",
     "evalue": "complex() can't take second arg if first is a string",
     "output_type": "error",
     "traceback": [
      "\u001b[1;31m---------------------------------------------------------------------------\u001b[0m",
      "\u001b[1;31mTypeError\u001b[0m                                 Traceback (most recent call last)",
      "Cell \u001b[1;32mIn[24], line 16\u001b[0m\n\u001b[0;32m     14\u001b[0m \u001b[38;5;28mcomplex\u001b[39m(\u001b[38;5;28;01mTrue\u001b[39;00m,\u001b[38;5;28;01mFalse\u001b[39;00m)\n\u001b[0;32m     15\u001b[0m \u001b[38;5;28mcomplex\u001b[39m(\u001b[38;5;28;01mFalse\u001b[39;00m,\u001b[38;5;28;01mTrue\u001b[39;00m)\n\u001b[1;32m---> 16\u001b[0m \u001b[38;5;28mcomplex\u001b[39m(\u001b[38;5;124m\"\u001b[39m\u001b[38;5;124m10\u001b[39m\u001b[38;5;124m\"\u001b[39m,\u001b[38;5;124m\"\u001b[39m\u001b[38;5;124m20\u001b[39m\u001b[38;5;124m\"\u001b[39m)   \u001b[38;5;66;03m#If you want to pass real part string and imaginary part can't take string\u001b[39;00m\n\u001b[0;32m     17\u001b[0m \u001b[38;5;28mcomplex\u001b[39m(\u001b[38;5;124m\"\u001b[39m\u001b[38;5;124m10\u001b[39m\u001b[38;5;124m\"\u001b[39m,\u001b[38;5;241m20\u001b[39m)\n\u001b[0;32m     18\u001b[0m \u001b[38;5;28mcomplex\u001b[39m(\u001b[38;5;241m10\u001b[39m,\u001b[38;5;124m\"\u001b[39m\u001b[38;5;124m20\u001b[39m\u001b[38;5;124m\"\u001b[39m)\n",
      "\u001b[1;31mTypeError\u001b[0m: complex() can't take second arg if first is a string"
     ]
    }
   ],
   "source": [
    "#Other type to complex datatype\n",
    "#Complex to int datatype\n",
    "#Form 1 Method:\n",
    "complex(110)\n",
    "complex(10.6)\n",
    "complex(True)\n",
    "complex(False)\n",
    "complex(\"10\")\n",
    "complex(\"10.5\")\n",
    "\n",
    "#Form 2 Method:\n",
    "complex(10,10)\n",
    "complex(10.5,20.5)\n",
    "complex(True,False)\n",
    "complex(False,True)\n",
    "complex(\"10\",\"20\")    #If you want to pass real part string and imaginary part can't take string\n",
    "complex(\"10\",20)      #If you want to pass real part string and imaginary part can't take string\n",
    "complex(10,\"20\")      #If you want to pass real part string and imaginary part can't take string"
   ]
  },
  {
   "cell_type": "code",
   "execution_count": 14,
   "id": "c1a704c4",
   "metadata": {},
   "outputs": [
    {
     "data": {
      "text/plain": [
       "False"
      ]
     },
     "execution_count": 14,
     "metadata": {},
     "output_type": "execute_result"
    }
   ],
   "source": [
    "#Datatype Conversion Bool to other datatypes\n",
    "#Bool to int\n",
    "bool(10)\n",
    "bool(0)\n",
    "bool(10.00)\n",
    "bool(\"10.0\")\n",
    "bool(10+20j)\n",
    "bool(1J)\n",
    "bool('True')\n",
    "bool('False')\n",
    "bool('yes')\n",
    "bool('No')\n",
    "bool('')   #--Empty string always show false remaining all are true conditions"
   ]
  },
  {
   "cell_type": "code",
   "execution_count": null,
   "id": "7ef02847",
   "metadata": {},
   "outputs": [],
   "source": []
  },
  {
   "cell_type": "code",
   "execution_count": 19,
   "id": "2d45c465",
   "metadata": {},
   "outputs": [
    {
     "data": {
      "text/plain": [
       "'False'"
      ]
     },
     "execution_count": 19,
     "metadata": {},
     "output_type": "execute_result"
    }
   ],
   "source": [
    "#Datatype Conversion str to other datatypes\n",
    "#str to int\n",
    "str(0)\n",
    "str(10.0)\n",
    "str(10+20J)\n",
    "str(True)\n",
    "str(False)"
   ]
  },
  {
   "cell_type": "code",
   "execution_count": null,
   "id": "c0b70117",
   "metadata": {},
   "outputs": [],
   "source": []
  },
  {
   "cell_type": "code",
   "execution_count": 21,
   "id": "801d9278",
   "metadata": {},
   "outputs": [
    {
     "name": "stdout",
     "output_type": "stream",
     "text": [
      "140718247875656\n",
      "140718247875688\n"
     ]
    }
   ],
   "source": [
    "#Fundamental Datatypes vs Immuteable\n",
    "x=10\n",
    "print(id(x))\n",
    "x=x+1\n",
    "print(id(x))"
   ]
  },
  {
   "cell_type": "code",
   "execution_count": 23,
   "id": "831fb0b0",
   "metadata": {},
   "outputs": [
    {
     "name": "stdout",
     "output_type": "stream",
     "text": [
      "140718247875656\n",
      "140718247875656\n",
      "10\n",
      "11\n",
      "140718247875656\n",
      "140718247875688\n"
     ]
    }
   ],
   "source": [
    "x=10\n",
    "y=x\n",
    "print(id(x))\n",
    "print(id(y))\n",
    "y=y+1\n",
    "print(x)\n",
    "print(y)\n",
    "print(id(x))\n",
    "print(id(y))"
   ]
  },
  {
   "cell_type": "code",
   "execution_count": null,
   "id": "89929033",
   "metadata": {},
   "outputs": [],
   "source": []
  },
  {
   "cell_type": "code",
   "execution_count": null,
   "id": "ad30dad6",
   "metadata": {},
   "outputs": [],
   "source": []
  },
  {
   "cell_type": "code",
   "execution_count": null,
   "id": "0b4026c3",
   "metadata": {},
   "outputs": [],
   "source": []
  },
  {
   "cell_type": "code",
   "execution_count": null,
   "id": "138ed009",
   "metadata": {},
   "outputs": [],
   "source": []
  }
 ],
 "metadata": {
  "kernelspec": {
   "display_name": "Python 3 (ipykernel)",
   "language": "python",
   "name": "python3"
  },
  "language_info": {
   "codemirror_mode": {
    "name": "ipython",
    "version": 3
   },
   "file_extension": ".py",
   "mimetype": "text/x-python",
   "name": "python",
   "nbconvert_exporter": "python",
   "pygments_lexer": "ipython3",
   "version": "3.11.5"
  }
 },
 "nbformat": 4,
 "nbformat_minor": 5
}
