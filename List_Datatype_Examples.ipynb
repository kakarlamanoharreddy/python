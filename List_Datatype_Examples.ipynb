{
 "cells": [
  {
   "cell_type": "code",
   "execution_count": 24,
   "id": "ece0c1ee",
   "metadata": {},
   "outputs": [
    {
     "name": "stdout",
     "output_type": "stream",
     "text": [
      "<class 'list'>\n",
      "[]\n"
     ]
    }
   ],
   "source": [
    "l=[]\n",
    "print(type(l))\n",
    "print(l)"
   ]
  },
  {
   "cell_type": "code",
   "execution_count": 25,
   "id": "514e44e4",
   "metadata": {},
   "outputs": [
    {
     "name": "stdout",
     "output_type": "stream",
     "text": [
      "[10, 20, 30, 40]\n"
     ]
    }
   ],
   "source": [
    "#If we know data already\n",
    "l=[10,20,30,40]\n",
    "print(l)"
   ]
  },
  {
   "cell_type": "code",
   "execution_count": 26,
   "id": "8654513a",
   "metadata": {},
   "outputs": [
    {
     "name": "stdout",
     "output_type": "stream",
     "text": [
      "enter a list:[10,20]\n",
      "[10, 20]\n"
     ]
    }
   ],
   "source": [
    "#Manually we are providing values     Dynamically \n",
    "l=eval(input('enter a list:'))\n",
    "print(l)"
   ]
  },
  {
   "cell_type": "code",
   "execution_count": 27,
   "id": "8696bc1f",
   "metadata": {},
   "outputs": [
    {
     "name": "stdout",
     "output_type": "stream",
     "text": [
      "<class 'list'>\n",
      "['M', 'a', 'n', 'o', 'h', 'a', 'r']\n",
      "[0, 2, 4, 6, 8]\n"
     ]
    }
   ],
   "source": [
    "#by using list()\n",
    "s=list('Manohar')   #str value\n",
    "s1=list(s)          #converting to list\n",
    "print(type(s))      #type checking\n",
    "print(s)            #display the result\n",
    "\n",
    "#method 2\n",
    "l=list(range(0,10,2))\n",
    "print(l)"
   ]
  },
  {
   "cell_type": "code",
   "execution_count": 28,
   "id": "4ad1295f",
   "metadata": {},
   "outputs": [
    {
     "name": "stdout",
     "output_type": "stream",
     "text": [
      "['Manohar', 'Reddy', 'Kakarla']\n"
     ]
    }
   ],
   "source": [
    "#split()\n",
    "s='Manohar Reddy Kakarla'\n",
    "s1=s.split()\n",
    "print(s1)"
   ]
  },
  {
   "cell_type": "code",
   "execution_count": null,
   "id": "56bbc9ad",
   "metadata": {},
   "outputs": [],
   "source": []
  },
  {
   "cell_type": "code",
   "execution_count": 1,
   "id": "40259a72",
   "metadata": {},
   "outputs": [
    {
     "data": {
      "text/plain": [
       "50"
      ]
     },
     "execution_count": 1,
     "metadata": {},
     "output_type": "execute_result"
    }
   ],
   "source": [
    "#Accessing data using list\n",
    "#using index\n",
    "#using slice operator\n",
    "l=[10,20,30,50]\n",
    "l[0]      #10\n",
    "l[-1]     #50\n",
    "#l[100]    #out of index error"
   ]
  },
  {
   "cell_type": "code",
   "execution_count": 2,
   "id": "01bf340f",
   "metadata": {},
   "outputs": [
    {
     "name": "stdout",
     "output_type": "stream",
     "text": [
      "[30, 40, 50, 60, 70]\n",
      "[30, 50, 70]\n",
      "[50, 70, 90]\n",
      "[90, 70, 50]\n",
      "[50, 60, 70, 80, 90, 100]\n",
      "[]\n",
      "[10, 20, 30, 40, 50, 60, 70, 80, 90, 100]\n",
      "[100, 90, 80, 70, 60, 50, 40, 30, 20, 10]\n"
     ]
    }
   ],
   "source": [
    "#using slice operator\n",
    "#list = l[begin:end:step]\n",
    "#+ve =>Forward direction => begin to end-1\n",
    "#-ve =>Backward direction => begin to end+1\n",
    "\n",
    "\n",
    "l=[10,20,30,40,50,60,70,80,90,100]\n",
    "print(l[2:7])    #30,40,50,60,70\n",
    "print(l[2:7:2])  #30,50,70\n",
    "print(l[4::2])   #50,70,90\n",
    "print(l[8:2:-2]) #90,70,50\n",
    "print(l[4:100])  #50,60,70,80,90,100\n",
    "print(l[4:0:2])  #[]\n",
    "print(l[::1])    #[10,20,30,40,50,60,70,80,90,100]\n",
    "print(l[::-1])   #[100,90,80,70,60,50,40,30,20,10]"
   ]
  },
  {
   "cell_type": "code",
   "execution_count": null,
   "id": "6df5710d",
   "metadata": {},
   "outputs": [],
   "source": [
    "#Traversing elements list and applications\n"
   ]
  },
  {
   "cell_type": "code",
   "execution_count": null,
   "id": "095eaba8",
   "metadata": {},
   "outputs": [],
   "source": []
  },
  {
   "cell_type": "code",
   "execution_count": null,
   "id": "7990eff2",
   "metadata": {},
   "outputs": [],
   "source": []
  },
  {
   "cell_type": "code",
   "execution_count": null,
   "id": "dee7de62",
   "metadata": {},
   "outputs": [],
   "source": []
  },
  {
   "cell_type": "code",
   "execution_count": null,
   "id": "7311ad20",
   "metadata": {},
   "outputs": [],
   "source": []
  }
 ],
 "metadata": {
  "kernelspec": {
   "display_name": "Python 3 (ipykernel)",
   "language": "python",
   "name": "python3"
  },
  "language_info": {
   "codemirror_mode": {
    "name": "ipython",
    "version": 3
   },
   "file_extension": ".py",
   "mimetype": "text/x-python",
   "name": "python",
   "nbconvert_exporter": "python",
   "pygments_lexer": "ipython3",
   "version": "3.11.5"
  }
 },
 "nbformat": 4,
 "nbformat_minor": 5
}
