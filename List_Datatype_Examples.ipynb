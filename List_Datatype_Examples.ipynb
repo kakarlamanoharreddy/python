{
 "cells": [
  {
   "cell_type": "code",
   "execution_count": 24,
   "id": "ece0c1ee",
   "metadata": {},
   "outputs": [
    {
     "name": "stdout",
     "output_type": "stream",
     "text": [
      "<class 'list'>\n",
      "[]\n"
     ]
    }
   ],
   "source": [
    "l=[]\n",
    "print(type(l))\n",
    "print(l)"
   ]
  },
  {
   "cell_type": "code",
   "execution_count": 25,
   "id": "514e44e4",
   "metadata": {},
   "outputs": [
    {
     "name": "stdout",
     "output_type": "stream",
     "text": [
      "[10, 20, 30, 40]\n"
     ]
    }
   ],
   "source": [
    "#If we know data already\n",
    "l=[10,20,30,40]\n",
    "print(l)"
   ]
  },
  {
   "cell_type": "code",
   "execution_count": 26,
   "id": "8654513a",
   "metadata": {},
   "outputs": [
    {
     "name": "stdout",
     "output_type": "stream",
     "text": [
      "enter a list:[10,20]\n",
      "[10, 20]\n"
     ]
    }
   ],
   "source": [
    "#Manually we are providing values     Dynamically \n",
    "l=eval(input('enter a list:'))\n",
    "print(l)"
   ]
  },
  {
   "cell_type": "code",
   "execution_count": 27,
   "id": "8696bc1f",
   "metadata": {},
   "outputs": [
    {
     "name": "stdout",
     "output_type": "stream",
     "text": [
      "<class 'list'>\n",
      "['M', 'a', 'n', 'o', 'h', 'a', 'r']\n",
      "[0, 2, 4, 6, 8]\n"
     ]
    }
   ],
   "source": [
    "#by using list()\n",
    "s=list('Manohar')   #str value\n",
    "s1=list(s)          #converting to list\n",
    "print(type(s))      #type checking\n",
    "print(s)            #display the result\n",
    "\n",
    "#method 2\n",
    "l=list(range(0,10,2))\n",
    "print(l)"
   ]
  },
  {
   "cell_type": "code",
   "execution_count": 28,
   "id": "4ad1295f",
   "metadata": {},
   "outputs": [
    {
     "name": "stdout",
     "output_type": "stream",
     "text": [
      "['Manohar', 'Reddy', 'Kakarla']\n"
     ]
    }
   ],
   "source": [
    "#split()\n",
    "s='Manohar Reddy Kakarla'\n",
    "s1=s.split()\n",
    "print(s1)"
   ]
  },
  {
   "cell_type": "code",
   "execution_count": null,
   "id": "56bbc9ad",
   "metadata": {},
   "outputs": [],
   "source": []
  },
  {
   "cell_type": "code",
   "execution_count": 1,
   "id": "40259a72",
   "metadata": {},
   "outputs": [
    {
     "data": {
      "text/plain": [
       "50"
      ]
     },
     "execution_count": 1,
     "metadata": {},
     "output_type": "execute_result"
    }
   ],
   "source": [
    "#Accessing data using list\n",
    "#using index\n",
    "#using slice operator\n",
    "l=[10,20,30,50]\n",
    "l[0]      #10\n",
    "l[-1]     #50\n",
    "#l[100]    #out of index error"
   ]
  },
  {
   "cell_type": "code",
   "execution_count": 2,
   "id": "01bf340f",
   "metadata": {},
   "outputs": [
    {
     "name": "stdout",
     "output_type": "stream",
     "text": [
      "[30, 40, 50, 60, 70]\n",
      "[30, 50, 70]\n",
      "[50, 70, 90]\n",
      "[90, 70, 50]\n",
      "[50, 60, 70, 80, 90, 100]\n",
      "[]\n",
      "[10, 20, 30, 40, 50, 60, 70, 80, 90, 100]\n",
      "[100, 90, 80, 70, 60, 50, 40, 30, 20, 10]\n"
     ]
    }
   ],
   "source": [
    "#using slice operator\n",
    "#list = l[begin:end:step]\n",
    "#+ve =>Forward direction => begin to end-1\n",
    "#-ve =>Backward direction => begin to end+1\n",
    "\n",
    "\n",
    "l=[10,20,30,40,50,60,70,80,90,100]\n",
    "print(l[2:7])    #30,40,50,60,70\n",
    "print(l[2:7:2])  #30,50,70\n",
    "print(l[4::2])   #50,70,90\n",
    "print(l[8:2:-2]) #90,70,50\n",
    "print(l[4:100])  #50,60,70,80,90,100\n",
    "print(l[4:0:2])  #[]\n",
    "print(l[::1])    #[10,20,30,40,50,60,70,80,90,100]\n",
    "print(l[::-1])   #[100,90,80,70,60,50,40,30,20,10]"
   ]
  },
  {
   "cell_type": "code",
   "execution_count": 10,
   "id": "6df5710d",
   "metadata": {},
   "outputs": [
    {
     "name": "stdout",
     "output_type": "stream",
     "text": [
      "10\n",
      "20\n",
      "30\n",
      "40\n",
      "50\n",
      "60\n",
      "70\n",
      "80\n",
      "90\n",
      "100\n"
     ]
    }
   ],
   "source": [
    "#Traversing elements list and applications\n",
    "# By using while loop\n",
    "l=[10,20,30,40,50,60,70,80,90,100]\n",
    "i=0\n",
    "while i< len(l):\n",
    "    print(l[i])\n",
    "    i=i+1"
   ]
  },
  {
   "cell_type": "code",
   "execution_count": 14,
   "id": "095eaba8",
   "metadata": {},
   "outputs": [
    {
     "name": "stdout",
     "output_type": "stream",
     "text": [
      "10\n",
      "20\n",
      "30\n",
      "40\n",
      "50\n",
      "60\n",
      "70\n",
      "80\n",
      "90\n",
      "100\n"
     ]
    }
   ],
   "source": [
    "#Traversing elements list and applications\n",
    "# By using for loop\n",
    "l=[10,20,30,40,50,60,70,80,90,100]\n",
    "for i in range(10):\n",
    "    print(l[i])\n",
    "    i=i+1"
   ]
  },
  {
   "cell_type": "code",
   "execution_count": 45,
   "id": "7990eff2",
   "metadata": {},
   "outputs": [
    {
     "name": "stdout",
     "output_type": "stream",
     "text": [
      "The number is Even: 0\n",
      "The number is Odd: 1\n",
      "The number is Even: 2\n",
      "The number is Odd: 3\n",
      "The number is Even: 4\n",
      "The number is Odd: 5\n",
      "The number is Even: 6\n",
      "The number is Odd: 7\n",
      "The number is Even: 8\n",
      "The number is Odd: 9\n",
      "The number is Even: 10\n"
     ]
    }
   ],
   "source": [
    "#Print only even numbers\n",
    "# By using for loop\n",
    "l=[0,1,2,3,4,5,6,7,8,9,10]\n",
    "for x in l:\n",
    "    if x%2==0:\n",
    "        print('The number is Even:',x)\n",
    "    else:\n",
    "        print('The number is Odd:',x)"
   ]
  },
  {
   "cell_type": "code",
   "execution_count": 1,
   "id": "7311ad20",
   "metadata": {},
   "outputs": [
    {
     "name": "stdout",
     "output_type": "stream",
     "text": [
      "The element present at positive index 0 and at negative index -6 is 10\n",
      "The element present at positive index 1 and at negative index -5 is 20\n",
      "The element present at positive index 2 and at negative index -4 is 30\n",
      "The element present at positive index 3 and at negative index -3 is 40\n",
      "The element present at positive index 4 and at negative index -2 is 50\n",
      "The element present at positive index 5 and at negative index -1 is 60\n"
     ]
    }
   ],
   "source": [
    "#To print elements of list index wise\n",
    "l=[10,20,30,40,50,60]\n",
    "i=0\n",
    "while i<len(l):\n",
    "    print('The element present at positive index {} and at negative index {} is {}'.format(i,i-len(l),l[i]))\n",
    "    i=i+1"
   ]
  },
  {
   "cell_type": "code",
   "execution_count": null,
   "id": "4a0f6b37",
   "metadata": {},
   "outputs": [],
   "source": []
  },
  {
   "cell_type": "code",
   "execution_count": 2,
   "id": "dc6b4879",
   "metadata": {},
   "outputs": [
    {
     "name": "stdout",
     "output_type": "stream",
     "text": [
      "[10, 20, 30, 30, 40, 50]\n"
     ]
    }
   ],
   "source": [
    "#Mathematical Operators for list\n",
    "#Concatnation Operator(+)  and Repetition Operator(*)\n",
    "\n",
    "\n",
    "\n",
    "#Concatnation Operator (+):\n",
    "l1=[10,20,30]\n",
    "l2=[30,40,50]\n",
    "l3=l1+l2        #[10,20,30,30,40,50]\n",
    "print(l3)"
   ]
  },
  {
   "cell_type": "code",
   "execution_count": 3,
   "id": "68c0f3fe",
   "metadata": {},
   "outputs": [
    {
     "ename": "TypeError",
     "evalue": "can only concatenate list (not \"int\") to list",
     "output_type": "error",
     "traceback": [
      "\u001b[1;31m---------------------------------------------------------------------------\u001b[0m",
      "\u001b[1;31mTypeError\u001b[0m                                 Traceback (most recent call last)",
      "Cell \u001b[1;32mIn[3], line 2\u001b[0m\n\u001b[0;32m      1\u001b[0m l1\u001b[38;5;241m=\u001b[39m[\u001b[38;5;241m10\u001b[39m,\u001b[38;5;241m20\u001b[39m,\u001b[38;5;241m30\u001b[39m]\n\u001b[1;32m----> 2\u001b[0m l2\u001b[38;5;241m=\u001b[39ml1\u001b[38;5;241m+\u001b[39m\u001b[38;5;241m40\u001b[39m\n\u001b[0;32m      3\u001b[0m \u001b[38;5;28mprint\u001b[39m(l2)\n",
      "\u001b[1;31mTypeError\u001b[0m: can only concatenate list (not \"int\") to list"
     ]
    }
   ],
   "source": [
    "l1=[10,20,30]\n",
    "l2=l1+40      #We can't concatnate list and other type we will get error\n",
    "print(l2)"
   ]
  },
  {
   "cell_type": "code",
   "execution_count": 4,
   "id": "28a47335",
   "metadata": {},
   "outputs": [
    {
     "name": "stdout",
     "output_type": "stream",
     "text": [
      "[10, 20, 30, 40]\n"
     ]
    }
   ],
   "source": [
    "l1=[10,20,30]\n",
    "l2=l1+[40] \n",
    "print(l2)"
   ]
  },
  {
   "cell_type": "code",
   "execution_count": null,
   "id": "a48cc364",
   "metadata": {},
   "outputs": [],
   "source": []
  },
  {
   "cell_type": "code",
   "execution_count": 7,
   "id": "47691c24",
   "metadata": {},
   "outputs": [
    {
     "name": "stdout",
     "output_type": "stream",
     "text": [
      "[10, 20, 10, 20]\n",
      "[10, 20, 10, 20]\n"
     ]
    }
   ],
   "source": [
    "#Repetition Operator(*)\n",
    "l1=[10,20]\n",
    "l2=l1*2     #One arugment should be list another arugment should be int\n",
    "print(l2)\n",
    "\n",
    "#Repetition Operator\n",
    "l1=[10,20]\n",
    "l2=2*l1     #One arugment should be list another arugment should be int\n",
    "print(l2)\n",
    "\n",
    "\n",
    "#Repetition Operator\n",
    "l1=[10,20]\n",
    "l2=l1*l1     #Error\n",
    "print(l2)"
   ]
  },
  {
   "cell_type": "code",
   "execution_count": 8,
   "id": "a55d8b84",
   "metadata": {},
   "outputs": [
    {
     "name": "stdout",
     "output_type": "stream",
     "text": [
      "[10, 20, 30, 40, 10, 20, 30, 40, 10, 20, 30, 40]\n"
     ]
    }
   ],
   "source": [
    "#\n",
    "l1=[10,20]\n",
    "l2=[30,40]\n",
    "l3=l1+l2  #[10,20,30,40]\n",
    "l4=l3*3  #[10,20,30,40,10,20,30,40,10,20,30,40]\n",
    "print(l4)"
   ]
  },
  {
   "cell_type": "code",
   "execution_count": null,
   "id": "a16b608d",
   "metadata": {},
   "outputs": [],
   "source": []
  },
  {
   "cell_type": "code",
   "execution_count": 10,
   "id": "8078150c",
   "metadata": {},
   "outputs": [
    {
     "name": "stdout",
     "output_type": "stream",
     "text": [
      "True\n",
      "False\n",
      "False\n",
      "True\n"
     ]
    }
   ],
   "source": [
    "#Equality Operators for list datatype\n",
    "#   ==,  !=\n",
    "l1=['Dog','Cat','Rat']\n",
    "l2=['Dog','Cat','Rat']\n",
    "l3=['DOG','CAT','RAT']\n",
    "l4=['Cat','Rat','Dog']\n",
    "print(l1==l2)\n",
    "print(l1==l3)\n",
    "print(l1==l4)\n",
    "print(l1!=l4)"
   ]
  },
  {
   "cell_type": "code",
   "execution_count": 13,
   "id": "f2884c1b",
   "metadata": {},
   "outputs": [
    {
     "name": "stdout",
     "output_type": "stream",
     "text": [
      "False\n",
      "False\n",
      "True\n",
      "True\n"
     ]
    }
   ],
   "source": [
    "#Relational Operators using list operator\n",
    "l1=[10,20,30,40]\n",
    "l2=[10,20]\n",
    "print(l1<l2)\n",
    "print(l1<=l2)\n",
    "print(l1>l2)\n",
    "print(l1>=l2)"
   ]
  },
  {
   "cell_type": "code",
   "execution_count": 11,
   "id": "f717f913",
   "metadata": {},
   "outputs": [
    {
     "name": "stdout",
     "output_type": "stream",
     "text": [
      "True\n",
      "True\n",
      "False\n",
      "False\n"
     ]
    }
   ],
   "source": [
    "#Relational Operators using list operator\n",
    "l1=[10,20,30,40]\n",
    "l2=[10,20,30,40,50,60]\n",
    "print(l1<l2)\n",
    "print(l1<=l2)\n",
    "print(l1>l2)\n",
    "print(l1>=l2)"
   ]
  },
  {
   "cell_type": "code",
   "execution_count": 16,
   "id": "4d8730a3",
   "metadata": {},
   "outputs": [
    {
     "name": "stdout",
     "output_type": "stream",
     "text": [
      "False\n",
      "False\n",
      "True\n",
      "True\n"
     ]
    }
   ],
   "source": [
    "l1=['Manohar','Reddy']\n",
    "l2=[\"Abhinav\",\"Reddy\"]\n",
    "print(l1<l2)\n",
    "print(l1<=l2)\n",
    "print(l1>l2)\n",
    "print(l1>=l2)"
   ]
  },
  {
   "cell_type": "code",
   "execution_count": 17,
   "id": "67e79388",
   "metadata": {},
   "outputs": [
    {
     "name": "stdout",
     "output_type": "stream",
     "text": [
      "False\n",
      "False\n",
      "True\n",
      "True\n"
     ]
    }
   ],
   "source": [
    "l1=['Manohar Reddy']\n",
    "l2=[\"Abhinav Reddy\"]\n",
    "print(l1<l2)\n",
    "print(l1<=l2)\n",
    "print(l1>l2)\n",
    "print(l1>=l2)"
   ]
  },
  {
   "cell_type": "code",
   "execution_count": null,
   "id": "996cf4ab",
   "metadata": {},
   "outputs": [],
   "source": []
  },
  {
   "cell_type": "code",
   "execution_count": 18,
   "id": "d1f2dcaa",
   "metadata": {},
   "outputs": [
    {
     "name": "stdout",
     "output_type": "stream",
     "text": [
      "True\n",
      "True\n",
      "False\n"
     ]
    }
   ],
   "source": [
    "#membership Operators for list datatype\n",
    "l1=[10,20,30]\n",
    "print(10 in l1)\n",
    "print(100 not in l1)\n",
    "print(100 in l1)"
   ]
  },
  {
   "cell_type": "code",
   "execution_count": null,
   "id": "c7ebe138",
   "metadata": {},
   "outputs": [],
   "source": []
  },
  {
   "cell_type": "code",
   "execution_count": null,
   "id": "959e8d8a",
   "metadata": {},
   "outputs": [],
   "source": []
  },
  {
   "cell_type": "code",
   "execution_count": null,
   "id": "17052c5a",
   "metadata": {},
   "outputs": [],
   "source": []
  },
  {
   "cell_type": "code",
   "execution_count": null,
   "id": "bd20b42c",
   "metadata": {},
   "outputs": [],
   "source": []
  }
 ],
 "metadata": {
  "kernelspec": {
   "display_name": "Python 3 (ipykernel)",
   "language": "python",
   "name": "python3"
  },
  "language_info": {
   "codemirror_mode": {
    "name": "ipython",
    "version": 3
   },
   "file_extension": ".py",
   "mimetype": "text/x-python",
   "name": "python",
   "nbconvert_exporter": "python",
   "pygments_lexer": "ipython3",
   "version": "3.11.5"
  }
 },
 "nbformat": 4,
 "nbformat_minor": 5
}
