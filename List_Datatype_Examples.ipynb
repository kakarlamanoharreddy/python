{
 "cells": [
  {
   "cell_type": "code",
   "execution_count": 24,
   "id": "ece0c1ee",
   "metadata": {},
   "outputs": [
    {
     "name": "stdout",
     "output_type": "stream",
     "text": [
      "<class 'list'>\n",
      "[]\n"
     ]
    }
   ],
   "source": [
    "l=[]\n",
    "print(type(l))\n",
    "print(l)"
   ]
  },
  {
   "cell_type": "code",
   "execution_count": 25,
   "id": "514e44e4",
   "metadata": {},
   "outputs": [
    {
     "name": "stdout",
     "output_type": "stream",
     "text": [
      "[10, 20, 30, 40]\n"
     ]
    }
   ],
   "source": [
    "#If we know data already\n",
    "l=[10,20,30,40]\n",
    "print(l)"
   ]
  },
  {
   "cell_type": "code",
   "execution_count": 26,
   "id": "8654513a",
   "metadata": {},
   "outputs": [
    {
     "name": "stdout",
     "output_type": "stream",
     "text": [
      "enter a list:[10,20]\n",
      "[10, 20]\n"
     ]
    }
   ],
   "source": [
    "#Manually we are providing values     Dynamically \n",
    "l=eval(input('enter a list:'))\n",
    "print(l)"
   ]
  },
  {
   "cell_type": "code",
   "execution_count": 27,
   "id": "8696bc1f",
   "metadata": {},
   "outputs": [
    {
     "name": "stdout",
     "output_type": "stream",
     "text": [
      "<class 'list'>\n",
      "['M', 'a', 'n', 'o', 'h', 'a', 'r']\n",
      "[0, 2, 4, 6, 8]\n"
     ]
    }
   ],
   "source": [
    "#by using list()\n",
    "s=list('Manohar')   #str value\n",
    "s1=list(s)          #converting to list\n",
    "print(type(s))      #type checking\n",
    "print(s)            #display the result\n",
    "\n",
    "#method 2\n",
    "l=list(range(0,10,2))\n",
    "print(l)"
   ]
  },
  {
   "cell_type": "code",
   "execution_count": 28,
   "id": "4ad1295f",
   "metadata": {},
   "outputs": [
    {
     "name": "stdout",
     "output_type": "stream",
     "text": [
      "['Manohar', 'Reddy', 'Kakarla']\n"
     ]
    }
   ],
   "source": [
    "#split()\n",
    "s='Manohar Reddy Kakarla'\n",
    "s1=s.split()\n",
    "print(s1)"
   ]
  },
  {
   "cell_type": "code",
   "execution_count": null,
   "id": "56bbc9ad",
   "metadata": {},
   "outputs": [],
   "source": []
  },
  {
   "cell_type": "code",
   "execution_count": 1,
   "id": "40259a72",
   "metadata": {},
   "outputs": [
    {
     "data": {
      "text/plain": [
       "50"
      ]
     },
     "execution_count": 1,
     "metadata": {},
     "output_type": "execute_result"
    }
   ],
   "source": [
    "#Accessing data using list\n",
    "#using index\n",
    "#using slice operator\n",
    "l=[10,20,30,50]\n",
    "l[0]      #10\n",
    "l[-1]     #50\n",
    "#l[100]    #out of index error"
   ]
  },
  {
   "cell_type": "code",
   "execution_count": 2,
   "id": "01bf340f",
   "metadata": {},
   "outputs": [
    {
     "name": "stdout",
     "output_type": "stream",
     "text": [
      "[30, 40, 50, 60, 70]\n",
      "[30, 50, 70]\n",
      "[50, 70, 90]\n",
      "[90, 70, 50]\n",
      "[50, 60, 70, 80, 90, 100]\n",
      "[]\n",
      "[10, 20, 30, 40, 50, 60, 70, 80, 90, 100]\n",
      "[100, 90, 80, 70, 60, 50, 40, 30, 20, 10]\n"
     ]
    }
   ],
   "source": [
    "#using slice operator\n",
    "#list = l[begin:end:step]\n",
    "#+ve =>Forward direction => begin to end-1\n",
    "#-ve =>Backward direction => begin to end+1\n",
    "\n",
    "\n",
    "l=[10,20,30,40,50,60,70,80,90,100]\n",
    "print(l[2:7])    #30,40,50,60,70\n",
    "print(l[2:7:2])  #30,50,70\n",
    "print(l[4::2])   #50,70,90\n",
    "print(l[8:2:-2]) #90,70,50\n",
    "print(l[4:100])  #50,60,70,80,90,100\n",
    "print(l[4:0:2])  #[]\n",
    "print(l[::1])    #[10,20,30,40,50,60,70,80,90,100]\n",
    "print(l[::-1])   #[100,90,80,70,60,50,40,30,20,10]"
   ]
  },
  {
   "cell_type": "code",
   "execution_count": 10,
   "id": "6df5710d",
   "metadata": {},
   "outputs": [
    {
     "name": "stdout",
     "output_type": "stream",
     "text": [
      "10\n",
      "20\n",
      "30\n",
      "40\n",
      "50\n",
      "60\n",
      "70\n",
      "80\n",
      "90\n",
      "100\n"
     ]
    }
   ],
   "source": [
    "#Traversing elements list and applications\n",
    "# By using while loop\n",
    "l=[10,20,30,40,50,60,70,80,90,100]\n",
    "i=0\n",
    "while i< len(l):\n",
    "    print(l[i])\n",
    "    i=i+1"
   ]
  },
  {
   "cell_type": "code",
   "execution_count": 14,
   "id": "095eaba8",
   "metadata": {},
   "outputs": [
    {
     "name": "stdout",
     "output_type": "stream",
     "text": [
      "10\n",
      "20\n",
      "30\n",
      "40\n",
      "50\n",
      "60\n",
      "70\n",
      "80\n",
      "90\n",
      "100\n"
     ]
    }
   ],
   "source": [
    "#Traversing elements list and applications\n",
    "# By using for loop\n",
    "l=[10,20,30,40,50,60,70,80,90,100]\n",
    "for i in range(10):\n",
    "    print(l[i])\n",
    "    i=i+1"
   ]
  },
  {
   "cell_type": "code",
   "execution_count": 45,
   "id": "7990eff2",
   "metadata": {},
   "outputs": [
    {
     "name": "stdout",
     "output_type": "stream",
     "text": [
      "The number is Even: 0\n",
      "The number is Odd: 1\n",
      "The number is Even: 2\n",
      "The number is Odd: 3\n",
      "The number is Even: 4\n",
      "The number is Odd: 5\n",
      "The number is Even: 6\n",
      "The number is Odd: 7\n",
      "The number is Even: 8\n",
      "The number is Odd: 9\n",
      "The number is Even: 10\n"
     ]
    }
   ],
   "source": [
    "#Print only even numbers\n",
    "# By using for loop\n",
    "l=[0,1,2,3,4,5,6,7,8,9,10]\n",
    "for x in l:\n",
    "    if x%2==0:\n",
    "        print('The number is Even:',x)\n",
    "    else:\n",
    "        print('The number is Odd:',x)"
   ]
  },
  {
   "cell_type": "code",
   "execution_count": 1,
   "id": "7311ad20",
   "metadata": {},
   "outputs": [
    {
     "name": "stdout",
     "output_type": "stream",
     "text": [
      "The element present at positive index 0 and at negative index -6 is 10\n",
      "The element present at positive index 1 and at negative index -5 is 20\n",
      "The element present at positive index 2 and at negative index -4 is 30\n",
      "The element present at positive index 3 and at negative index -3 is 40\n",
      "The element present at positive index 4 and at negative index -2 is 50\n",
      "The element present at positive index 5 and at negative index -1 is 60\n"
     ]
    }
   ],
   "source": [
    "#To print elements of list index wise\n",
    "l=[10,20,30,40,50,60]\n",
    "i=0\n",
    "while i<len(l):\n",
    "    print('The element present at positive index {} and at negative index {} is {}'.format(i,i-len(l),l[i]))\n",
    "    i=i+1"
   ]
  },
  {
   "cell_type": "code",
   "execution_count": null,
   "id": "62745e2b",
   "metadata": {},
   "outputs": [],
   "source": []
  },
  {
   "cell_type": "code",
   "execution_count": 2,
   "id": "6d9bf7ce",
   "metadata": {},
   "outputs": [
    {
     "name": "stdout",
     "output_type": "stream",
     "text": [
      "[10, 20, 30, 30, 40, 50]\n"
     ]
    }
   ],
   "source": [
    "#Mathematical Operators for list\n",
    "#Concatnation Operator(+)  and Repetition Operator(*)\n",
    "\n",
    "\n",
    "\n",
    "#Concatnation Operator (+):\n",
    "l1=[10,20,30]\n",
    "l2=[30,40,50]\n",
    "l3=l1+l2        #[10,20,30,30,40,50]\n",
    "print(l3)"
   ]
  },
  {
   "cell_type": "code",
   "execution_count": 3,
   "id": "9976f964",
   "metadata": {},
   "outputs": [
    {
     "ename": "TypeError",
     "evalue": "can only concatenate list (not \"int\") to list",
     "output_type": "error",
     "traceback": [
      "\u001b[1;31m---------------------------------------------------------------------------\u001b[0m",
      "\u001b[1;31mTypeError\u001b[0m                                 Traceback (most recent call last)",
      "Cell \u001b[1;32mIn[3], line 2\u001b[0m\n\u001b[0;32m      1\u001b[0m l1\u001b[38;5;241m=\u001b[39m[\u001b[38;5;241m10\u001b[39m,\u001b[38;5;241m20\u001b[39m,\u001b[38;5;241m30\u001b[39m]\n\u001b[1;32m----> 2\u001b[0m l2\u001b[38;5;241m=\u001b[39ml1\u001b[38;5;241m+\u001b[39m\u001b[38;5;241m40\u001b[39m\n\u001b[0;32m      3\u001b[0m \u001b[38;5;28mprint\u001b[39m(l2)\n",
      "\u001b[1;31mTypeError\u001b[0m: can only concatenate list (not \"int\") to list"
     ]
    }
   ],
   "source": [
    "l1=[10,20,30]\n",
    "l2=l1+40      #We can't concatnate list and other type we will get error\n",
    "print(l2)"
   ]
  },
  {
   "cell_type": "code",
   "execution_count": 4,
   "id": "335124ad",
   "metadata": {},
   "outputs": [
    {
     "name": "stdout",
     "output_type": "stream",
     "text": [
      "[10, 20, 30, 40]\n"
     ]
    }
   ],
   "source": [
    "l1=[10,20,30]\n",
    "l2=l1+[40] \n",
    "print(l2)"
   ]
  },
  {
   "cell_type": "code",
   "execution_count": null,
   "id": "7e895833",
   "metadata": {},
   "outputs": [],
   "source": []
  },
  {
   "cell_type": "code",
   "execution_count": 7,
   "id": "6811157f",
   "metadata": {},
   "outputs": [
    {
     "name": "stdout",
     "output_type": "stream",
     "text": [
      "[10, 20, 10, 20]\n",
      "[10, 20, 10, 20]\n"
     ]
    }
   ],
   "source": [
    "#Repetition Operator(*)\n",
    "l1=[10,20]\n",
    "l2=l1*2     #One arugment should be list another arugment should be int\n",
    "print(l2)\n",
    "\n",
    "#Repetition Operator\n",
    "l1=[10,20]\n",
    "l2=2*l1     #One arugment should be list another arugment should be int\n",
    "print(l2)\n",
    "\n",
    "\n",
    "#Repetition Operator\n",
    "l1=[10,20]\n",
    "l2=l1*l1     #Error\n",
    "print(l2)"
   ]
  },
  {
   "cell_type": "code",
   "execution_count": 8,
   "id": "6a1c3de2",
   "metadata": {},
   "outputs": [
    {
     "name": "stdout",
     "output_type": "stream",
     "text": [
      "[10, 20, 30, 40, 10, 20, 30, 40, 10, 20, 30, 40]\n"
     ]
    }
   ],
   "source": [
    "#\n",
    "l1=[10,20]\n",
    "l2=[30,40]\n",
    "l3=l1+l2  #[10,20,30,40]\n",
    "l4=l3*3  #[10,20,30,40,10,20,30,40,10,20,30,40]\n",
    "print(l4)"
   ]
  },
  {
   "cell_type": "code",
   "execution_count": null,
   "id": "7d2f1186",
   "metadata": {},
   "outputs": [],
   "source": []
  },
  {
   "cell_type": "code",
   "execution_count": 10,
   "id": "bd54441c",
   "metadata": {},
   "outputs": [
    {
     "name": "stdout",
     "output_type": "stream",
     "text": [
      "True\n",
      "False\n",
      "False\n",
      "True\n"
     ]
    }
   ],
   "source": [
    "#Equality Operators for list datatype\n",
    "#   ==,  !=\n",
    "l1=['Dog','Cat','Rat']\n",
    "l2=['Dog','Cat','Rat']\n",
    "l3=['DOG','CAT','RAT']\n",
    "l4=['Cat','Rat','Dog']\n",
    "print(l1==l2)\n",
    "print(l1==l3)\n",
    "print(l1==l4)\n",
    "print(l1!=l4)"
   ]
  },
  {
   "cell_type": "code",
   "execution_count": 13,
   "id": "78d2a499",
   "metadata": {},
   "outputs": [
    {
     "name": "stdout",
     "output_type": "stream",
     "text": [
      "False\n",
      "False\n",
      "True\n",
      "True\n"
     ]
    }
   ],
   "source": [
    "#Relational Operators using list operator\n",
    "l1=[10,20,30,40]\n",
    "l2=[10,20]\n",
    "print(l1<l2)\n",
    "print(l1<=l2)\n",
    "print(l1>l2)\n",
    "print(l1>=l2)"
   ]
  },
  {
   "cell_type": "code",
   "execution_count": 11,
   "id": "9a01a8d9",
   "metadata": {},
   "outputs": [
    {
     "name": "stdout",
     "output_type": "stream",
     "text": [
      "True\n",
      "True\n",
      "False\n",
      "False\n"
     ]
    }
   ],
   "source": [
    "#Relational Operators using list operator\n",
    "l1=[10,20,30,40]\n",
    "l2=[10,20,30,40,50,60]\n",
    "print(l1<l2)\n",
    "print(l1<=l2)\n",
    "print(l1>l2)\n",
    "print(l1>=l2)"
   ]
  },
  {
   "cell_type": "code",
   "execution_count": 16,
   "id": "16055756",
   "metadata": {},
   "outputs": [
    {
     "name": "stdout",
     "output_type": "stream",
     "text": [
      "False\n",
      "False\n",
      "True\n",
      "True\n"
     ]
    }
   ],
   "source": [
    "l1=['Manohar','Reddy']\n",
    "l2=[\"Abhinav\",\"Reddy\"]\n",
    "print(l1<l2)\n",
    "print(l1<=l2)\n",
    "print(l1>l2)\n",
    "print(l1>=l2)"
   ]
  },
  {
   "cell_type": "code",
   "execution_count": 17,
   "id": "0af02ae1",
   "metadata": {},
   "outputs": [
    {
     "name": "stdout",
     "output_type": "stream",
     "text": [
      "False\n",
      "False\n",
      "True\n",
      "True\n"
     ]
    }
   ],
   "source": [
    "l1=['Manohar Reddy']\n",
    "l2=[\"Abhinav Reddy\"]\n",
    "print(l1<l2)\n",
    "print(l1<=l2)\n",
    "print(l1>l2)\n",
    "print(l1>=l2)"
   ]
  },
  {
   "cell_type": "code",
   "execution_count": null,
   "id": "7a6d0d43",
   "metadata": {},
   "outputs": [],
   "source": []
  },
  {
   "cell_type": "code",
   "execution_count": 18,
   "id": "6c400094",
   "metadata": {},
   "outputs": [
    {
     "name": "stdout",
     "output_type": "stream",
     "text": [
      "True\n",
      "True\n",
      "False\n"
     ]
    }
   ],
   "source": [
    "#membership Operators for list datatype\n",
    "l1=[10,20,30]\n",
    "print(10 in l1)\n",
    "print(100 not in l1)\n",
    "print(100 in l1)"
   ]
  },
  {
   "cell_type": "code",
   "execution_count": null,
   "id": "9fc7c43e",
   "metadata": {},
   "outputs": [],
   "source": []
  },
  {
   "cell_type": "code",
   "execution_count": 33,
   "id": "5432feec",
   "metadata": {},
   "outputs": [
    {
     "name": "stdout",
     "output_type": "stream",
     "text": [
      "The length is: 4\n",
      "The length of 10 value is: 2\n",
      "The length of 20 value is: 3\n",
      "The length of 100 value is: 0\n",
      "The index first position is: 0\n",
      "The index first position is: 1\n"
     ]
    }
   ],
   "source": [
    "#Important Methods and Functions for list: len() and count() and index()\n",
    "#len()\n",
    "#count()\n",
    "#index()\n",
    "\n",
    "\n",
    "\n",
    "#len()\n",
    "l=[10,20,30,40]\n",
    "print('The length is:',len(l))\n",
    "\n",
    "\n",
    "#count()\n",
    "l=[10,20,30,40,10,20,60,20,70]\n",
    "print('The length of 10 value is:',l.count(10))\n",
    "print('The length of 20 value is:',l.count(20))\n",
    "print('The length of 100 value is:',l.count(100))\n",
    "\n",
    "\n",
    "#index():    It returns index place of first occurrenaces\n",
    "l=[1,2,1,2,3,4]\n",
    "print('The index first position is:',l.index(1))  #0 # index first position value it will display\n",
    "print('The index first position is:',l.index(2)) #1\n",
    "print('The index first position is:',l.index(5)) #5 is not available so we will get error\n"
   ]
  },
  {
   "cell_type": "code",
   "execution_count": 36,
   "id": "83d45b85",
   "metadata": {},
   "outputs": [
    {
     "name": "stdout",
     "output_type": "stream",
     "text": [
      "Enter a character:10\n",
      "10  Not available in the list\n"
     ]
    }
   ],
   "source": [
    "#\n",
    "l=[1,2,2,2,3,3]\n",
    "x=int(input('Enter a character:'))\n",
    "if x in l:\n",
    "    print('{} present at index {}'.format(x,l.index(x)))\n",
    "else:\n",
    "    print(x, ' Not available in the list')"
   ]
  },
  {
   "cell_type": "code",
   "execution_count": 44,
   "id": "9445159c",
   "metadata": {},
   "outputs": [
    {
     "name": "stdout",
     "output_type": "stream",
     "text": [
      "[10, 20, 30, 40, 50, 60, 70, 80, 90, 100]\n"
     ]
    }
   ],
   "source": [
    "#Manipulating elements of list\n",
    "# 1) append()         2)insert()      3)extend()\n",
    "\n",
    "\n",
    "#append():\n",
    "#WAP To Add elements from 1 to 100 which are divisible by 10 to the list\n",
    "\n",
    "l=[]\n",
    "for x in range(1,101):\n",
    "    if x%10==0:\n",
    "        l.append(x)\n",
    "print(l)"
   ]
  },
  {
   "cell_type": "code",
   "execution_count": 47,
   "id": "1aa37d64",
   "metadata": {},
   "outputs": [
    {
     "name": "stdout",
     "output_type": "stream",
     "text": [
      "[0, 10, 'Abhi', 20, 30, 'Mano', 'Pravali']\n"
     ]
    }
   ],
   "source": [
    "#insert():\n",
    "l=[10,20,30,'Mano']\n",
    "l.insert(1,'Abhi')\n",
    "l.insert(100,'Pravali')\n",
    "l.insert(-100,0)\n",
    "print(l)"
   ]
  },
  {
   "cell_type": "code",
   "execution_count": 48,
   "id": "80e66555",
   "metadata": {},
   "outputs": [
    {
     "name": "stdout",
     "output_type": "stream",
     "text": [
      "['Sweet', 'Mixture', 'Pickel']\n",
      "['Rice', 'Curry', 'Sambar']\n",
      "['Sweet', 'Mixture', 'Pickel', 'Rice', 'Curry', 'Sambar']\n"
     ]
    }
   ],
   "source": [
    "#extend()\n",
    "#To add all elements of given sequence to the list\n",
    "#syntax     l1.extend(l2)\n",
    "\n",
    "\n",
    "order1=['Sweet','Mixture','Pickel']\n",
    "order2=['Rice','Curry','Sambar']\n",
    "print(order1)\n",
    "print(order2)\n",
    "order1.extend(order2)\n",
    "print(order1)"
   ]
  },
  {
   "cell_type": "code",
   "execution_count": 51,
   "id": "126b8e69",
   "metadata": {},
   "outputs": [
    {
     "name": "stdout",
     "output_type": "stream",
     "text": [
      "[10, 20, 30, [40, 50]]\n",
      "4\n",
      "[10, 20, 30, 40, 50]\n",
      "5\n"
     ]
    }
   ],
   "source": [
    "#some examples\n",
    "l1=[10,20,30]\n",
    "l2=[40,50]\n",
    "l1.append(l2)\n",
    "print(l1)\n",
    "print(len(l1))\n",
    "\n",
    "#using extend instead of append\n",
    "l1=[10,20,30]\n",
    "l2=[40,50]\n",
    "l1.extend(l2)\n",
    "print(l1)\n",
    "print(len(l1))"
   ]
  },
  {
   "cell_type": "code",
   "execution_count": 56,
   "id": "8b2699cf",
   "metadata": {},
   "outputs": [
    {
     "name": "stdout",
     "output_type": "stream",
     "text": [
      "[10, 20, 30, 'ABC']\n",
      "4\n",
      "[10, 20, 30, 'A', 'B', 'C']\n",
      "6\n"
     ]
    }
   ],
   "source": [
    "#Eg2:\n",
    "l1=[10,20,30]\n",
    "l1.append('ABC')  #appending string [10,20,30,'ABC']   \n",
    "print(l1)\n",
    "print(len(l1))\n",
    "\n",
    "\n",
    "#using extend instead of append\n",
    "l1=[10,20,30]\n",
    "l1.extend('ABC')  #appending string [10,20,30,'A','B','C']   \n",
    "print(l1)\n",
    "print(len(l1))"
   ]
  },
  {
   "cell_type": "code",
   "execution_count": null,
   "id": "a9027717",
   "metadata": {},
   "outputs": [],
   "source": []
  },
  {
   "cell_type": "code",
   "execution_count": 65,
   "id": "ad43dc93",
   "metadata": {},
   "outputs": [
    {
     "name": "stdout",
     "output_type": "stream",
     "text": [
      "[10, 20, 10, 20]\n",
      "[20, 10, 20]\n",
      "[20, 10, 20]\n"
     ]
    }
   ],
   "source": [
    "#Removing elements at the particular list we have three methods\n",
    "# 1) remove()    2) pop()     3)clear()\n",
    "\n",
    "\n",
    "\n",
    "\n",
    "#  remove() \n",
    "#it we have multiple same elements it will remove first occurances only and specified value is not available we will get error\n",
    "\n",
    "l=[10,20,10,40,20]\n",
    "l.remove(40)       #only one value is their so it will deleted\n",
    "print(l)\n",
    "l.remove(10)       #first occurance only deleted\n",
    "print(l)\n",
    "#l.remove(100)     # we will get value error\n",
    "#print(l)"
   ]
  },
  {
   "cell_type": "code",
   "execution_count": 69,
   "id": "03bb2ce4",
   "metadata": {},
   "outputs": [
    {
     "name": "stdout",
     "output_type": "stream",
     "text": [
      "Before removal: [1, 2, 3, 4, 5, 6]\n",
      "Enter a character to removal:100\n",
      "100 Not present in the list\n"
     ]
    }
   ],
   "source": [
    "#Eg\n",
    "l=[1,2,3,4,5,6]\n",
    "print('Before removal:',l)\n",
    "x=int(input('Enter a character to removal:'))\n",
    "if x in l:\n",
    "    l.remove(x)\n",
    "    print('After removal:',l)\n",
    "else:\n",
    "    print(x,'Not present in the list')"
   ]
  },
  {
   "cell_type": "code",
   "execution_count": null,
   "id": "50f195dd",
   "metadata": {},
   "outputs": [],
   "source": []
  },
  {
   "cell_type": "code",
   "execution_count": 1,
   "id": "6b4a2c83",
   "metadata": {},
   "outputs": [
    {
     "name": "stdout",
     "output_type": "stream",
     "text": [
      "Enter element to remove character:1\n",
      "After removal: [2, 3, 3, 2, 4]\n"
     ]
    }
   ],
   "source": [
    "#How to remove all occurances?\n",
    "l=[1,1,1,1,2,3,3,2,4]\n",
    "x=int(input('Enter element to remove character:'))\n",
    "while True:\n",
    "    if x in l:\n",
    "        l.remove(x)\n",
    "    else:\n",
    "        break\n",
    "print('After removal:',l)"
   ]
  },
  {
   "cell_type": "code",
   "execution_count": 9,
   "id": "60fea868",
   "metadata": {},
   "outputs": [
    {
     "name": "stdout",
     "output_type": "stream",
     "text": [
      "40\n",
      "[10, 20, 30]\n",
      "30\n",
      "20\n",
      "10\n"
     ]
    },
    {
     "ename": "IndexError",
     "evalue": "pop from empty list",
     "output_type": "error",
     "traceback": [
      "\u001b[1;31m---------------------------------------------------------------------------\u001b[0m",
      "\u001b[1;31mIndexError\u001b[0m                                Traceback (most recent call last)",
      "Cell \u001b[1;32mIn[9], line 12\u001b[0m\n\u001b[0;32m     10\u001b[0m \u001b[38;5;28mprint\u001b[39m(l\u001b[38;5;241m.\u001b[39mpop())  \u001b[38;5;66;03m#20\u001b[39;00m\n\u001b[0;32m     11\u001b[0m \u001b[38;5;28mprint\u001b[39m(l\u001b[38;5;241m.\u001b[39mpop())  \u001b[38;5;66;03m#10\u001b[39;00m\n\u001b[1;32m---> 12\u001b[0m \u001b[38;5;28mprint\u001b[39m(l\u001b[38;5;241m.\u001b[39mpop())\n\u001b[0;32m     13\u001b[0m \u001b[38;5;28mprint\u001b[39m(l)\n",
      "\u001b[1;31mIndexError\u001b[0m: pop from empty list"
     ]
    }
   ],
   "source": [
    "#pop()\n",
    "#Default function is it will remove end of the element.\n",
    "\n",
    "\n",
    "#eg1:\n",
    "l=[10,20,30,40]\n",
    "print(l.pop())   #40\n",
    "print(l)      #[10,20,30]\n",
    "print(l.pop())  #30\n",
    "print(l.pop())  #20\n",
    "print(l.pop())  #10\n",
    "print(l.pop())  # No values are present in list so we will get index error \n",
    "print(l)        #[]"
   ]
  },
  {
   "cell_type": "code",
   "execution_count": 12,
   "id": "05fcef09",
   "metadata": {},
   "outputs": [
    {
     "name": "stdout",
     "output_type": "stream",
     "text": [
      "20\n",
      "[10, 30, 40]\n"
     ]
    },
    {
     "ename": "IndexError",
     "evalue": "pop index out of range",
     "output_type": "error",
     "traceback": [
      "\u001b[1;31m---------------------------------------------------------------------------\u001b[0m",
      "\u001b[1;31mIndexError\u001b[0m                                Traceback (most recent call last)",
      "Cell \u001b[1;32mIn[12], line 7\u001b[0m\n\u001b[0;32m      5\u001b[0m \u001b[38;5;28mprint\u001b[39m(l\u001b[38;5;241m.\u001b[39mpop(\u001b[38;5;241m1\u001b[39m))   \u001b[38;5;66;03m#removed 20\u001b[39;00m\n\u001b[0;32m      6\u001b[0m \u001b[38;5;28mprint\u001b[39m(l)          \u001b[38;5;66;03m#[10,30,40]\u001b[39;00m\n\u001b[1;32m----> 7\u001b[0m \u001b[38;5;28mprint\u001b[39m(l\u001b[38;5;241m.\u001b[39mpop(\u001b[38;5;241m10\u001b[39m))\n",
      "\u001b[1;31mIndexError\u001b[0m: pop index out of range"
     ]
    }
   ],
   "source": [
    "#Removing elements at particular index level we can use pop() only\n",
    "#syntax     pop(index)\n",
    "\n",
    "l=[10,20,30,40]\n",
    "print(l.pop(1))   #removed 20\n",
    "print(l)          #[10,30,40]\n",
    "print(l.pop(10))   #pop index out of range error"
   ]
  },
  {
   "cell_type": "code",
   "execution_count": null,
   "id": "a97d81c4",
   "metadata": {},
   "outputs": [],
   "source": []
  },
  {
   "cell_type": "code",
   "execution_count": 16,
   "id": "7aea371e",
   "metadata": {},
   "outputs": [
    {
     "name": "stdout",
     "output_type": "stream",
     "text": [
      "[]\n",
      "None\n"
     ]
    }
   ],
   "source": [
    "#clear() \n",
    "# to clear all elements to use clear() method\n",
    "\n",
    "#eg1:\n",
    "l=[10,20,30,40]\n",
    "l.clear()\n",
    "#l.clear()\n",
    "print(l)\n",
    "print(l.clear())"
   ]
  },
  {
   "cell_type": "code",
   "execution_count": null,
   "id": "1cbe58c6",
   "metadata": {},
   "outputs": [],
   "source": []
  },
  {
   "cell_type": "code",
   "execution_count": 23,
   "id": "80dc4385",
   "metadata": {},
   "outputs": [
    {
     "name": "stdout",
     "output_type": "stream",
     "text": [
      "Before reverse: [10, 20, 30]\n",
      "After reverse: [30, 20, 10]\n",
      "*****************************\n",
      "<class 'list_reverseiterator'>\n",
      "<class 'list'>\n",
      "[40, 30, 20, 10]\n",
      "r\n",
      "a\n",
      "h\n",
      "o\n",
      "n\n",
      "a\n",
      "M\n"
     ]
    }
   ],
   "source": [
    "#Ordering Elements to the list\n",
    "#1) reverse()\n",
    "#2) reversed()\n",
    "\n",
    "\n",
    "\n",
    "#1) reverse()\n",
    "l=[10,20,30]\n",
    "print('Before reverse:',l)\n",
    "l.reverse()\n",
    "print('After reverse:',l)\n",
    "\n",
    "print(\"*****************************\")\n",
    "\n",
    "#reversed()  #it is python build in function it will use all other objects as well for ex list,tuple,set,dict\n",
    "l=[10,20,30,40]\n",
    "l1=reversed(l)\n",
    "print(type(l1))   # <class 'list_reverseiterator'>\n",
    "l2=list(l1)\n",
    "print(type(l2))\n",
    "print(l2)\n",
    "\n",
    "\n",
    "s='Manohar'\n",
    "r=reversed(s)\n",
    "for x in r:\n",
    "    print(x)"
   ]
  },
  {
   "cell_type": "code",
   "execution_count": null,
   "id": "8ea90fdd",
   "metadata": {},
   "outputs": [],
   "source": []
  },
  {
   "cell_type": "code",
   "execution_count": 28,
   "id": "652e8ee7",
   "metadata": {},
   "outputs": [
    {
     "name": "stdout",
     "output_type": "stream",
     "text": [
      "Before sorting: [20, 5, 10, 0, 30, 35, 11, 7, 8, 2, 1]\n",
      "After sorting: [0, 1, 2, 5, 7, 8, 10, 11, 20, 30, 35]\n",
      "***************************\n",
      "Before  sorting: ['Banana', 'Apple', 'Dog', 'CAT']\n",
      "After sorting: ['Apple', 'Banana', 'CAT', 'Dog']\n"
     ]
    }
   ],
   "source": [
    "#Ordering Elements to the list\n",
    "#1) sort()\n",
    "#2) sorted()\n",
    "\n",
    "\n",
    "\n",
    "#sort()\n",
    "#numbers is Ascending Order\n",
    "#strings is Alphabetical order\n",
    "\n",
    "#Eg1:\n",
    "l=[20,5,10,0,30,35,11,7,8,2,1]\n",
    "print('Before sorting:',l)\n",
    "l.sort()\n",
    "print('After sorting:',l)\n",
    "\n",
    "print(\"***************************\")\n",
    "#Eg2:\n",
    "l=['Banana','Apple','Dog','Cat']\n",
    "print('Before  sorting:',l)\n",
    "l.sort()\n",
    "print('After sorting:',l)"
   ]
  },
  {
   "cell_type": "code",
   "execution_count": null,
   "id": "0dc0e6da",
   "metadata": {},
   "outputs": [],
   "source": []
  },
  {
   "cell_type": "code",
   "execution_count": 34,
   "id": "e1020ed5",
   "metadata": {},
   "outputs": [
    {
     "name": "stdout",
     "output_type": "stream",
     "text": [
      "[20, 15, 10, 5, 0]\n",
      "***********\n",
      "Before sorting: ['Manohar', 'Reddy', 'Kakarla']\n",
      "After sorting: ['Reddy', 'Manohar', 'Kakarla']\n"
     ]
    }
   ],
   "source": [
    "#decending order \n",
    "l=[20,5,15,0,10]\n",
    "l.sort(reverse=True)\n",
    "print(l)\n",
    "\n",
    "print(\"***********\")\n",
    "s=['Manohar','Reddy','Kakarla']\n",
    "print('Before sorting:',s)\n",
    "s.sort(reverse=True)\n",
    "print('After sorting:',s)"
   ]
  },
  {
   "cell_type": "code",
   "execution_count": 35,
   "id": "2ade76cd",
   "metadata": {},
   "outputs": [
    {
     "name": "stdout",
     "output_type": "stream",
     "text": [
      "[10, 30, 50, 40]\n",
      "[10, 30, 40, 50]\n"
     ]
    }
   ],
   "source": [
    "#sorted()\n",
    "#Python inbuild function we can use tuple, list, set, dict etc..\n",
    "l1=[10,30,50,40]\n",
    "l2=sorted(l1)\n",
    "print(l1)       #[10,30,50,40]\n",
    "print(l2)       #[10,30,40,50]"
   ]
  },
  {
   "cell_type": "code",
   "execution_count": null,
   "id": "d4ab1203",
   "metadata": {},
   "outputs": [],
   "source": []
  },
  {
   "cell_type": "code",
   "execution_count": 39,
   "id": "70bad34c",
   "metadata": {},
   "outputs": [
    {
     "name": "stdout",
     "output_type": "stream",
     "text": [
      "[10, 7777, 30, 40]\n",
      "[10, 7777, 30, 40]\n",
      "True\n"
     ]
    }
   ],
   "source": [
    "#Aliasing & Cloning of list objects\n",
    "\n",
    "\n",
    "#Aliasing\n",
    "\n",
    "l1=[10,20,30,40]\n",
    "l2=l1\n",
    "l1[1]=7777\n",
    "print(l1)\n",
    "print(l2)\n",
    "print(l1 is l2)"
   ]
  },
  {
   "cell_type": "code",
   "execution_count": 42,
   "id": "a4a83a68",
   "metadata": {},
   "outputs": [
    {
     "name": "stdout",
     "output_type": "stream",
     "text": [
      "2784272254848\n",
      "2784272152448\n",
      "l1 list: [10, 7777, 30, 40]\n",
      "l2 list: [10, 20, 30, 40]\n"
     ]
    }
   ],
   "source": [
    "#Cloning\n",
    "#1)slice operator       2)copy() Method\n",
    "\n",
    "#using slice Operator\n",
    "l1=[10,20,30,40]\n",
    "l2=l1[::]\n",
    "print(id(l1))\n",
    "print(id(l2))\n",
    "l1[1]=7777\n",
    "print('l1 list:',l1)\n",
    "print('l2 list:',l2)"
   ]
  },
  {
   "cell_type": "code",
   "execution_count": 44,
   "id": "45767073",
   "metadata": {},
   "outputs": [
    {
     "name": "stdout",
     "output_type": "stream",
     "text": [
      "2784272242688\n",
      "2784271280640\n",
      "l1 list : [10, 7777, 30, 40]\n",
      "l2 list : [10, 20, 30, 40]\n"
     ]
    }
   ],
   "source": [
    "#using copy() Method\n",
    "l1=[10,20,30,40]\n",
    "l2=l1.copy()\n",
    "print(id(l1))\n",
    "print(id(l2))\n",
    "l1[1]=7777\n",
    "print('l1 list :',l1)\n",
    "print('l2 list :',l2)"
   ]
  },
  {
   "cell_type": "code",
   "execution_count": null,
   "id": "fb6a8bf9",
   "metadata": {},
   "outputs": [],
   "source": []
  },
  {
   "cell_type": "code",
   "execution_count": 45,
   "id": "520cea6b",
   "metadata": {},
   "outputs": [
    {
     "name": "stdout",
     "output_type": "stream",
     "text": [
      "10\n",
      "20\n",
      "[30, 40]\n",
      "30\n",
      "40\n"
     ]
    }
   ],
   "source": [
    "#Nested List\n",
    "\n",
    "#how to declare nested list\n",
    "l=[10,20,[30,40]]\n",
    "print(l[0])\n",
    "print(l[1])\n",
    "print(l[2])\n",
    "\n",
    "#Accessing Nedted list of elements\n",
    "print(l[2][0])\n",
    "print(l[2][1])"
   ]
  },
  {
   "cell_type": "code",
   "execution_count": 48,
   "id": "8c601cbc",
   "metadata": {},
   "outputs": [
    {
     "name": "stdout",
     "output_type": "stream",
     "text": [
      "Elements row wise\n",
      "[10, 20, 30]\n",
      "[40, 50, 60]\n",
      "[70, 80, 90]\n",
      "Elements in Matrix style:\n",
      "10 20 30 \n",
      "40 50 60 \n",
      "70 80 90 \n"
     ]
    }
   ],
   "source": [
    "#Nested list as Matrix\n",
    "\n",
    "l=[[10,20,30],[40,50,60],[70,80,90]]\n",
    "print('Elements row wise')\n",
    "for x in l:\n",
    "    print(x)\n",
    "print('Elements in Matrix style:')\n",
    "for x in l:\n",
    "    for y in x:\n",
    "        print(y,end=' ')\n",
    "    print()\n",
    "\n"
   ]
  },
  {
   "cell_type": "code",
   "execution_count": null,
   "id": "99009d28",
   "metadata": {},
   "outputs": [],
   "source": []
  },
  {
   "cell_type": "code",
   "execution_count": 50,
   "id": "e78a3994",
   "metadata": {},
   "outputs": [
    {
     "name": "stdout",
     "output_type": "stream",
     "text": [
      "[1, 2, 3, 4, 5, 6, 7, 8, 9, 10]\n",
      "[1, 2, 3, 4, 5, 6, 7, 8, 9, 10]\n"
     ]
    }
   ],
   "source": [
    "#List Comprehension   #bit important\n",
    "\n",
    "\n",
    "#normal way:\n",
    "\n",
    "l=[]\n",
    "for i in range(1,11):\n",
    "    l.append(i)\n",
    "print(l)\n",
    "\n",
    "\n",
    "#Comprehension way easy way\n",
    "\n",
    "l=[x for x in range(1,11)]\n",
    "print(l)"
   ]
  },
  {
   "cell_type": "code",
   "execution_count": 51,
   "id": "b900e2d0",
   "metadata": {},
   "outputs": [
    {
     "name": "stdout",
     "output_type": "stream",
     "text": [
      "[1, 4, 9, 16, 25, 36, 49, 64, 81, 100]\n"
     ]
    }
   ],
   "source": [
    "#Create of list sequence values from 1 to 10?\n",
    "#Excepted Output    [1,4,9,16,25,36,49,64,81,100]\n",
    "\n",
    "l=[x*x for x in range(1,11)]\n",
    "print(l)"
   ]
  },
  {
   "cell_type": "code",
   "execution_count": 55,
   "id": "17ea125d",
   "metadata": {},
   "outputs": [
    {
     "name": "stdout",
     "output_type": "stream",
     "text": [
      "[2, 4, 8, 16, 32]\n"
     ]
    }
   ],
   "source": [
    "##WAP to find power value from 1 to 5 sequnece values?\n",
    "l=[2**x for x in range(1,6)]\n",
    "print(l)"
   ]
  },
  {
   "cell_type": "code",
   "execution_count": 59,
   "id": "00740211",
   "metadata": {},
   "outputs": [
    {
     "name": "stdout",
     "output_type": "stream",
     "text": [
      "[10, 20, 30, 40, 50, 60, 70, 80, 90, 100]\n"
     ]
    }
   ],
   "source": [
    "#WAP to print vales which are divisible by 10 .\n",
    "\n",
    "l=[x for x in range(1,101) if x%10==0]\n",
    "print(l)"
   ]
  },
  {
   "cell_type": "code",
   "execution_count": 65,
   "id": "e67013a5",
   "metadata": {},
   "outputs": [
    {
     "name": "stdout",
     "output_type": "stream",
     "text": [
      "[10, 20]\n",
      "***********************\n",
      "[30, 40]\n"
     ]
    }
   ],
   "source": [
    "l1=[10,20,30,40]\n",
    "l2=[30,40,50,60]\n",
    "#create a list with elements present in l1 and not present l2\n",
    "l3=[x for x in l1 if x not in l2]\n",
    "print(l3)\n",
    "\n",
    "print(\"***********************\")\n",
    "#create a list with elements present in both present l1 and l2\n",
    "l1=[10,20,30,40]\n",
    "l2=[30,40,50,60]\n",
    "l3=[x for x in l1 if x in l2]\n",
    "print(l3)"
   ]
  },
  {
   "cell_type": "code",
   "execution_count": 69,
   "id": "34cf9682",
   "metadata": {},
   "outputs": [
    {
     "name": "stdout",
     "output_type": "stream",
     "text": [
      "['M', 'R', 'K']\n",
      "['Ma', 'Re', 'Ka']\n"
     ]
    }
   ],
   "source": [
    "#create a new list only first letter from every word\n",
    "l=['Manohar','Reddy','Kakarla']\n",
    "l1=[word[0] for word in l]\n",
    "l2=[word[0:2] for word in l]\n",
    "print(l1)\n",
    "print(l2)"
   ]
  },
  {
   "cell_type": "code",
   "execution_count": 73,
   "id": "d76ac39e",
   "metadata": {},
   "outputs": [
    {
     "name": "stdout",
     "output_type": "stream",
     "text": [
      "[['THE', 3], ['QUICK', 5], ['BROWN', 5], ['FOX', 3], ['JUMPS', 5], ['OVER', 4], ['THE', 3], ['LAZY', 4], ['DOG', 3]]\n"
     ]
    }
   ],
   "source": [
    "s='the quick brown fox jumps over the lazy dog'\n",
    "words=s.split()\n",
    "s2=[[word.upper(),len(word)] for word in words]\n",
    "print(s2)"
   ]
  },
  {
   "cell_type": "code",
   "execution_count": null,
   "id": "77601316",
   "metadata": {},
   "outputs": [],
   "source": []
  },
  {
   "cell_type": "code",
   "execution_count": 112,
   "id": "e7b9ddfd",
   "metadata": {},
   "outputs": [
    {
     "name": "stdout",
     "output_type": "stream",
     "text": [
      "Enter any word to search for vowels:durgasoftware\n",
      "['u', 'a', 'o', 'e']\n",
      "The No.of unique values: 4\n"
     ]
    }
   ],
   "source": [
    "#WAP to find unique vowels present in the given word?\n",
    "\n",
    "vowels=['a','e','i','o','u']\n",
    "word=input('Enter any word to search for vowels:')\n",
    "result=[]\n",
    "for ch in word:\n",
    "    if ch in vowels:\n",
    "        if ch not in result:\n",
    "            result.append(ch)\n",
    "print(result)\n",
    "print('The No.of unique values:',len(result))"
   ]
  },
  {
   "cell_type": "code",
   "execution_count": 113,
   "id": "6a7dc957",
   "metadata": {},
   "outputs": [
    {
     "name": "stdout",
     "output_type": "stream",
     "text": [
      "Enter any word to search for vowels:durgasoftware\n",
      "['a', 'e', 'o', 'u']\n",
      "The No.of unique values: 4\n"
     ]
    }
   ],
   "source": [
    "#Method 2\n",
    "\n",
    "vowels=['a','e','i','o','u']\n",
    "word=input('Enter any word to search for vowels:')\n",
    "result=[]\n",
    "for ch in vowels:\n",
    "    if ch in word:\n",
    "        result.append(ch)\n",
    "print(result)\n",
    "print('The No.of unique values:',len(result))"
   ]
  },
  {
   "cell_type": "code",
   "execution_count": 114,
   "id": "11e63ddb",
   "metadata": {},
   "outputs": [
    {
     "name": "stdout",
     "output_type": "stream",
     "text": [
      "Enter any word to search for vowels:durgasoftware\n",
      "['a', 'e', 'o', 'u']\n",
      "The No.of unique values: 4\n"
     ]
    }
   ],
   "source": [
    "#comprehension method\n",
    "vowels=['a','e','i','o','u']\n",
    "word=input('Enter any word to search for vowels:')\n",
    "result = [ch for ch in vowels if ch in word]\n",
    "print(result)\n",
    "print('The No.of unique values:',len(result))"
   ]
  },
  {
   "cell_type": "code",
   "execution_count": null,
   "id": "3b7877e0",
   "metadata": {},
   "outputs": [],
   "source": []
  }
 ],
 "metadata": {
  "kernelspec": {
   "display_name": "Python 3 (ipykernel)",
   "language": "python",
   "name": "python3"
  },
  "language_info": {
   "codemirror_mode": {
    "name": "ipython",
    "version": 3
   },
   "file_extension": ".py",
   "mimetype": "text/x-python",
   "name": "python",
   "nbconvert_exporter": "python",
   "pygments_lexer": "ipython3",
   "version": "3.11.5"
  }
 },
 "nbformat": 4,
 "nbformat_minor": 5
}
