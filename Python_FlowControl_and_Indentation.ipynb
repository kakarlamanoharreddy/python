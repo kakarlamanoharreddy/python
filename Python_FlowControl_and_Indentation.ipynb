{
 "cells": [
  {
   "cell_type": "code",
   "execution_count": null,
   "id": "d8812982",
   "metadata": {},
   "outputs": [],
   "source": [
    "#Python Indentation\n",
    "#Python Indentation\n",
    "if 10<20:\n",
    "    print('a is less than b')\n",
    "print('end program')"
   ]
  },
  {
   "cell_type": "code",
   "execution_count": null,
   "id": "180be483",
   "metadata": {},
   "outputs": [],
   "source": []
  },
  {
   "cell_type": "code",
   "execution_count": null,
   "id": "1fb6dd32",
   "metadata": {},
   "outputs": [],
   "source": [
    "#if statement\n",
    "#Write a program to read name from the keyboard \n",
    "name=input('Enter a name:')\n",
    "if name=='Manohar':\n",
    "    print('Hello', name,'Good evening')\n",
    "print('How are you!!!')"
   ]
  },
  {
   "cell_type": "code",
   "execution_count": null,
   "id": "d098e032",
   "metadata": {},
   "outputs": [],
   "source": []
  },
  {
   "cell_type": "code",
   "execution_count": null,
   "id": "558e114b",
   "metadata": {},
   "outputs": [],
   "source": [
    "#if-else statement\n",
    "#Write a program to read name from the keyboard \n",
    "name=input('Enter a name:')\n",
    "if name=='Manohar':\n",
    "    print('Hello Manohar Good Evening')\n",
    "else:\n",
    "    print('Hello Guest Good Evening')\n",
    "print('How are you!!!')"
   ]
  },
  {
   "cell_type": "code",
   "execution_count": null,
   "id": "cc189416",
   "metadata": {},
   "outputs": [],
   "source": []
  },
  {
   "cell_type": "code",
   "execution_count": null,
   "id": "c5cb9fba",
   "metadata": {},
   "outputs": [],
   "source": [
    "#if-elif-else\n",
    "#Write a program to read name from the keyboard \n",
    "brand=input('Enter your favourite brand:')\n",
    "if brand=='KF':\n",
    "    print('It is children brand')\n",
    "elif brand=='KO':\n",
    "    print('It is too light')\n",
    "elif brand=='RC':\n",
    "    print('It is not that much kick')\n",
    "elif brand=='FO':\n",
    "    print('Buy one get one free')\n",
    "else:\n",
    "    print('Other brands are not recommened')"
   ]
  },
  {
   "cell_type": "code",
   "execution_count": null,
   "id": "1979ee2c",
   "metadata": {},
   "outputs": [],
   "source": []
  },
  {
   "cell_type": "code",
   "execution_count": null,
   "id": "7a680d3b",
   "metadata": {},
   "outputs": [],
   "source": [
    "#FInding biggest number\n",
    "a=int(input('Enter a first number'))\n",
    "b=int(input('Enter a second number'))\n",
    "if a>b:\n",
    "    print('Biggest number is',a)\n",
    "else:\n",
    "    print('Biggest number is',b)\n",
    "print(\"*****************************\")\n",
    "#Finding samllest number\n",
    "a=int(input('Enter a first number'))\n",
    "b=int(input('Enter a second number'))\n",
    "if a<b:\n",
    "    print('smallest number is',a)\n",
    "else:\n",
    "    print('smallest number is',b)"
   ]
  },
  {
   "cell_type": "code",
   "execution_count": null,
   "id": "64742779",
   "metadata": {},
   "outputs": [],
   "source": []
  },
  {
   "cell_type": "code",
   "execution_count": null,
   "id": "93411847",
   "metadata": {},
   "outputs": [],
   "source": [
    "#finding smallest and biggest number by using if-elif-else statement\n",
    "#Write a program to find of 2 biggest numbers?\n",
    "a=int(input('Enter a first number:'))\n",
    "b=int(input('Enter a second number:'))\n",
    "c=int(input('Enter a third number:'))\n",
    "if a>b and a>c:\n",
    "    print('Biggest number is:',a)\n",
    "elif b>c:\n",
    "    print('Biggest number is:',b)\n",
    "else:\n",
    "    print('Biggest number is:',c)\n",
    "print(\"******************************************\")  \n",
    "#Finding smallest number\n",
    "a=int(input('Enter a first number:'))\n",
    "b=int(input('Enter a second number:'))\n",
    "c=int(input('Enter a third number:'))\n",
    "if a<b and a<c:\n",
    "    print('Biggest number is:',a)\n",
    "elif b<c:\n",
    "    print('Biggest number is:',b)\n",
    "else:\n",
    "    print('Biggest number is:',c)\n",
    "\n",
    "\n",
    "\n",
    "# elif a<b and b<c:\n",
    "#     print('Biggest number is',b)\n",
    "# elif a>b and a>c:\n",
    "#     print('Biggest number is',a)\n",
    "# else:"
   ]
  },
  {
   "cell_type": "code",
   "execution_count": null,
   "id": "9e93915a",
   "metadata": {},
   "outputs": [],
   "source": []
  },
  {
   "cell_type": "code",
   "execution_count": null,
   "id": "a3067a19",
   "metadata": {},
   "outputs": [],
   "source": [
    "#Write a program whether the given is in between 1 and 100 or not?\n",
    "a=int(input('Enter some number:'))\n",
    "if a>=1 and a<=100:\n",
    "    print('The number {} is in between 1 to 100'.format(a))\n",
    "else:\n",
    "    print('The number {} is not in between 1 to 100'.format(a))"
   ]
  },
  {
   "cell_type": "code",
   "execution_count": null,
   "id": "2a7b63c2",
   "metadata": {},
   "outputs": [],
   "source": []
  },
  {
   "cell_type": "code",
   "execution_count": null,
   "id": "561c765e",
   "metadata": {},
   "outputs": [],
   "source": [
    "#Digits to words conversion program\n",
    "#WAP a single digit number from the keyboard and print its value in english word?\n",
    "n=int(input('Enter a number between 0 to 9:'))\n",
    "if n==0:\n",
    "    print('Zero')\n",
    "elif n==1:\n",
    "    print('One')\n",
    "elif n==2:\n",
    "    print('Two')\n",
    "elif n==3:\n",
    "    print('Three')\n",
    "elif n==4:\n",
    "    print('Four')\n",
    "elif n==5:\n",
    "    print('Five')\n",
    "elif n==6:\n",
    "    print('Six')\n",
    "elif n==7:\n",
    "    print('Seven')\n",
    "elif n==8:\n",
    "    print('Eight')\n",
    "elif n==9:\n",
    "    print('Nine')\n",
    "else:\n",
    "    print('Please enter a digit from 0 to 9 only')\n",
    "#            or\n",
    "\n",
    "n=int(input('Enter a digit between 0 to 9'))\n",
    "words=['zero','one','two','three','four','five','six','seven','eight','nine']\n",
    "print(words[n])"
   ]
  },
  {
   "cell_type": "code",
   "execution_count": null,
   "id": "e6dae6c7",
   "metadata": {},
   "outputs": [],
   "source": []
  },
  {
   "cell_type": "code",
   "execution_count": null,
   "id": "b4b72351",
   "metadata": {},
   "outputs": [],
   "source": [
    "#WAP a single digit number from the keyboard and print its value in english word 0 to 99\n",
    "\n",
    "words_upto_19=['','One','Two','Three','Four','Five','Six','Seven','Eight','Nine','Ten','Eleven','Twelve','Thrirteen','Fourteen','Fifteen','Sixteen','Seventeen','Eighteen','Nineteen']\n",
    "words_for_tens=['','','Twenty','Thirty','Fourty','Fifty','Sixty','Seventy','Eighty','Ninety']\n",
    "n=int(input('Enter a number from 1 to 99:'))\n",
    "output=''\n",
    "if n==0:\n",
    "    output='Zero'\n",
    "elif n<=19:\n",
    "    output=words_upto_19[n]\n",
    "elif n<=99:\n",
    "    output=words_for_tens[n//10]+\" \"+words_upto_19[n%10]\n",
    "else:\n",
    "    print('Please enter a number between 0 to 99 only')\n",
    "print(output)\n"
   ]
  },
  {
   "cell_type": "code",
   "execution_count": null,
   "id": "daba2da0",
   "metadata": {},
   "outputs": [],
   "source": []
  },
  {
   "cell_type": "code",
   "execution_count": null,
   "id": "88fdf1d4",
   "metadata": {},
   "outputs": [],
   "source": []
  },
  {
   "cell_type": "code",
   "execution_count": null,
   "id": "327e29bb",
   "metadata": {},
   "outputs": [],
   "source": []
  },
  {
   "cell_type": "code",
   "execution_count": null,
   "id": "f12519f6",
   "metadata": {},
   "outputs": [],
   "source": []
  },
  {
   "cell_type": "code",
   "execution_count": null,
   "id": "36993329",
   "metadata": {},
   "outputs": [],
   "source": []
  }
 ],
 "metadata": {
  "kernelspec": {
   "display_name": "Python 3 (ipykernel)",
   "language": "python",
   "name": "python3"
  },
  "language_info": {
   "codemirror_mode": {
    "name": "ipython",
    "version": 3
   },
   "file_extension": ".py",
   "mimetype": "text/x-python",
   "name": "python",
   "nbconvert_exporter": "python",
   "pygments_lexer": "ipython3",
   "version": "3.11.5"
  }
 },
 "nbformat": 4,
 "nbformat_minor": 5
}
