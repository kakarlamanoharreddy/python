{
 "cells": [
  {
   "cell_type": "code",
   "execution_count": 33,
   "id": "168cdbbd",
   "metadata": {},
   "outputs": [
    {
     "name": "stdout",
     "output_type": "stream",
     "text": [
      "888\n",
      "999\n",
      "The sum: 30\n",
      "The product is: 200\n"
     ]
    }
   ],
   "source": [
    "#Python Modules\n",
    "import pythonmodule\n",
    "print(pythonmodule.x)\n",
    "print(pythonmodule.y)\n",
    "pythonmodule.add(10,20)\n",
    "pythonmodule.product(10,20)"
   ]
  },
  {
   "cell_type": "code",
   "execution_count": 3,
   "id": "bb6a3187",
   "metadata": {},
   "outputs": [
    {
     "name": "stdout",
     "output_type": "stream",
     "text": [
      "888\n",
      "999\n",
      "The sum: 30\n",
      "The product is: 200\n"
     ]
    },
    {
     "ename": "NameError",
     "evalue": "name 'pythonmodule' is not defined",
     "output_type": "error",
     "traceback": [
      "\u001b[1;31m---------------------------------------------------------------------------\u001b[0m",
      "\u001b[1;31mNameError\u001b[0m                                 Traceback (most recent call last)",
      "Cell \u001b[1;32mIn[3], line 7\u001b[0m\n\u001b[0;32m      5\u001b[0m pm\u001b[38;5;241m.\u001b[39madd(\u001b[38;5;241m10\u001b[39m,\u001b[38;5;241m20\u001b[39m)\n\u001b[0;32m      6\u001b[0m pm\u001b[38;5;241m.\u001b[39mproduct(\u001b[38;5;241m10\u001b[39m,\u001b[38;5;241m20\u001b[39m)\n\u001b[1;32m----> 7\u001b[0m pythonmodule\u001b[38;5;241m.\u001b[39madd(\u001b[38;5;241m1\u001b[39m,\u001b[38;5;241m2\u001b[39m)\n",
      "\u001b[1;31mNameError\u001b[0m: name 'pythonmodule' is not defined"
     ]
    }
   ],
   "source": [
    "#Module Aliasing\n",
    "import pythonmodule as pm\n",
    "print(pm.x)\n",
    "print(pm.y)\n",
    "pm.add(10,20)\n",
    "pm.product(10,20)\n",
    "pythonmodule.add(1,2) #Error"
   ]
  },
  {
   "cell_type": "code",
   "execution_count": 6,
   "id": "6ec90b66",
   "metadata": {},
   "outputs": [
    {
     "name": "stdout",
     "output_type": "stream",
     "text": [
      "888\n",
      "999\n",
      "The sum: 30\n",
      "The product is: 200\n",
      "888\n",
      "999\n",
      "The sum: 30\n",
      "The product is: 200\n"
     ]
    }
   ],
   "source": [
    "#from....import\n",
    "#without module name using\n",
    "from pythonmodule import *\n",
    "print(x)\n",
    "print(y)\n",
    "add(10,20)\n",
    "product(10,20)\n",
    "\n",
    "#     OR\n",
    "\n",
    "#from....import\n",
    "#without module name using\n",
    "from pythonmodule import x,y,add,product\n",
    "print(x)\n",
    "print(y)\n",
    "add(10,20)\n",
    "product(10,20)"
   ]
  },
  {
   "cell_type": "code",
   "execution_count": 1,
   "id": "2cf1cca1",
   "metadata": {},
   "outputs": [
    {
     "name": "stdout",
     "output_type": "stream",
     "text": [
      "The sum: 30\n",
      "The product is: 200\n"
     ]
    },
    {
     "ename": "NameError",
     "evalue": "name 'add' is not defined",
     "output_type": "error",
     "traceback": [
      "\u001b[1;31m---------------------------------------------------------------------------\u001b[0m",
      "\u001b[1;31mNameError\u001b[0m                                 Traceback (most recent call last)",
      "Cell \u001b[1;32mIn[1], line 6\u001b[0m\n\u001b[0;32m      4\u001b[0m a(\u001b[38;5;241m10\u001b[39m,\u001b[38;5;241m20\u001b[39m)\n\u001b[0;32m      5\u001b[0m p(\u001b[38;5;241m10\u001b[39m,\u001b[38;5;241m20\u001b[39m)\n\u001b[1;32m----> 6\u001b[0m add(\u001b[38;5;241m10\u001b[39m,\u001b[38;5;241m20\u001b[39m)\n",
      "\u001b[1;31mNameError\u001b[0m: name 'add' is not defined"
     ]
    }
   ],
   "source": [
    "#Member Aliasaing and various possibilites of import statement\n",
    "#Member Aliasaing\n",
    "from pythonmodule import add as a,product as p\n",
    "a(10,20)\n",
    "p(10,20)\n",
    "add(10,20)  #Error"
   ]
  },
  {
   "cell_type": "code",
   "execution_count": 8,
   "id": "42040bf3",
   "metadata": {},
   "outputs": [
    {
     "name": "stdout",
     "output_type": "stream",
     "text": [
      "module2 add function\n",
      "The sum is: 30\n",
      "****************************************\n",
      "module1 add function\n",
      "The sum is: 30\n",
      "****************************************\n",
      "module1 add function\n",
      "The sum is: 30\n",
      "module2 add function\n",
      "The sum is: 30\n",
      "****************************************\n",
      "module1 add function\n",
      "The sum is: 30\n",
      "module2 add function\n",
      "The sum is: 30\n"
     ]
    }
   ],
   "source": [
    "from module1 import *\n",
    "from module2 import *\n",
    "add(10,20)\n",
    "\n",
    "print('****************************************')\n",
    "\n",
    "from module2 import *\n",
    "from module1 import *\n",
    "add(10,20)\n",
    "\n",
    "print('****************************************')\n",
    "\n",
    "#both module calling\n",
    "#Method 1\n",
    "import module1\n",
    "import module2\n",
    "module1.add(10,20)\n",
    "module2.add(10,20)\n",
    "\n",
    "print('****************************************')\n",
    "\n",
    "#Method 2\n",
    "from module1 import add as a1\n",
    "from module2 import add as a2\n",
    "a1(10,20)\n",
    "a2(10,20)\n"
   ]
  },
  {
   "cell_type": "code",
   "execution_count": 15,
   "id": "069291e6",
   "metadata": {},
   "outputs": [
    {
     "name": "stdout",
     "output_type": "stream",
     "text": [
      "The sum is: 30\n",
      "Enter into slepping state\n",
      "Just wakeup....trying to use module again\n",
      "The product is: 200\n",
      "******************************************************************\n",
      "The sum is: 30\n",
      "Enter into slepping state\n",
      "Just wakeup....trying to use module again\n",
      "The product is: 200\n"
     ]
    }
   ],
   "source": [
    "#Module Reloading\n",
    "import time\n",
    "import module1\n",
    "module1.add(10,20)\n",
    "print('Enter into slepping state')\n",
    "time.sleep(5)\n",
    "print('Just wakeup....trying to use module again')\n",
    "import module1\n",
    "module1.product(10,20)   #Error we will get module1 is not refershed\n",
    "\n",
    "print('******************************************************************')\n",
    "\n",
    "from imp import reload\n",
    "import time\n",
    "import module1\n",
    "module1.add(10,20)\n",
    "print('Enter into slepping state')\n",
    "time.sleep(5)\n",
    "reload(module1)\n",
    "print('Just wakeup....trying to use module again')\n",
    "import module1\n",
    "module1.product(10,20)"
   ]
  },
  {
   "cell_type": "code",
   "execution_count": 20,
   "id": "67079d46",
   "metadata": {},
   "outputs": [
    {
     "name": "stdout",
     "output_type": "stream",
     "text": [
      "['In', 'Out', '_', '__', '___', '__builtin__', '__builtins__', '__doc__', '__loader__', '__name__', '__package__', '__spec__', '_dh', '_i', '_i1', '_i10', '_i11', '_i12', '_i13', '_i14', '_i15', '_i16', '_i17', '_i18', '_i19', '_i2', '_i20', '_i3', '_i4', '_i5', '_i6', '_i7', '_i8', '_i9', '_ih', '_ii', '_iii', '_oh', 'a', 'a1', 'a2', 'add', 'exit', 'get_ipython', 'module1', 'module2', 'open', 'p', 'pm', 'product', 'quit', 'reload', 'time', 'x', 'y']\n"
     ]
    }
   ],
   "source": [
    "#diff b/w dir() and help():\n",
    "x=888\n",
    "y=999\n",
    "def add(a,b):\n",
    "    print('The sum:',(a+b))\n",
    "def product(a,b):\n",
    "    print('The product is:',(a*b))\n",
    "print(dir())\n",
    "\n",
    "#dir():\n",
    "# import pythonmodule as pm\n",
    "# print(pm.x)\n",
    "# print(pm.y)\n",
    "# pm.add(10,20)\n",
    "# pm.product(10,20)"
   ]
  },
  {
   "cell_type": "code",
   "execution_count": 16,
   "id": "9296e60d",
   "metadata": {},
   "outputs": [
    {
     "name": "stdout",
     "output_type": "stream",
     "text": [
      "['__doc__', '__loader__', '__name__', '__package__', '__spec__', 'acos', 'acosh', 'asin', 'asinh', 'atan', 'atan2', 'atanh', 'cbrt', 'ceil', 'comb', 'copysign', 'cos', 'cosh', 'degrees', 'dist', 'e', 'erf', 'erfc', 'exp', 'exp2', 'expm1', 'fabs', 'factorial', 'floor', 'fmod', 'frexp', 'fsum', 'gamma', 'gcd', 'hypot', 'inf', 'isclose', 'isfinite', 'isinf', 'isnan', 'isqrt', 'lcm', 'ldexp', 'lgamma', 'log', 'log10', 'log1p', 'log2', 'modf', 'nan', 'nextafter', 'perm', 'pi', 'pow', 'prod', 'radians', 'remainder', 'sin', 'sinh', 'sqrt', 'tan', 'tanh', 'tau', 'trunc', 'ulp']\n",
      "************************************************\n"
     ]
    }
   ],
   "source": [
    "import math\n",
    "print(dir(math))\n",
    "print('************************************************')\n",
    "import math\n",
    "#help(math)"
   ]
  },
  {
   "cell_type": "code",
   "execution_count": null,
   "id": "387592b1",
   "metadata": {},
   "outputs": [],
   "source": []
  },
  {
   "cell_type": "code",
   "execution_count": 2,
   "id": "93920f8c",
   "metadata": {},
   "outputs": [
    {
     "ename": "NameError",
     "evalue": "name '__file__' is not defined",
     "output_type": "error",
     "traceback": [
      "\u001b[1;31m---------------------------------------------------------------------------\u001b[0m",
      "\u001b[1;31mNameError\u001b[0m                                 Traceback (most recent call last)",
      "Cell \u001b[1;32mIn[2], line 2\u001b[0m\n\u001b[0;32m      1\u001b[0m \u001b[38;5;28;01mimport\u001b[39;00m \u001b[38;5;21;01mos\u001b[39;00m \n\u001b[1;32m----> 2\u001b[0m \u001b[38;5;28mprint\u001b[39m(\u001b[38;5;124m'\u001b[39m\u001b[38;5;124mFile name:\u001b[39m\u001b[38;5;124m'\u001b[39m,os\u001b[38;5;241m.\u001b[39mpath\u001b[38;5;241m.\u001b[39mabspath(\u001b[38;5;18m__file__\u001b[39m))\n",
      "\u001b[1;31mNameError\u001b[0m: name '__file__' is not defined"
     ]
    }
   ],
   "source": [
    "import os \n",
    "print('File name:',__file__)  #We will get filename\n",
    "print('Complete Absolute File path:',os.path.abspath(__file__))  #full path\n",
    "print('Directory name:',os.path.dirname(os.path.abspath(__file__))) #Directory"
   ]
  },
  {
   "cell_type": "code",
   "execution_count": 3,
   "id": "b8abdda1",
   "metadata": {},
   "outputs": [
    {
     "name": "stdout",
     "output_type": "stream",
     "text": [
      "__main__\n"
     ]
    }
   ],
   "source": [
    "print(__name__)"
   ]
  },
  {
   "cell_type": "code",
   "execution_count": 8,
   "id": "dd3fbe1b",
   "metadata": {},
   "outputs": [
    {
     "name": "stdout",
     "output_type": "stream",
     "text": [
      "f1 execution....\n",
      "f2 execution....\n",
      "f3 execution....\n"
     ]
    }
   ],
   "source": [
    "def f1():\n",
    "    print('f1 execution....')\n",
    "def f2():\n",
    "    print('f2 execution....')\n",
    "def f3():\n",
    "    print('f3 execution....')\n",
    "if __name__=='__main__':\n",
    "    f1()\n",
    "    f2()\n",
    "    f3()"
   ]
  },
  {
   "cell_type": "code",
   "execution_count": 11,
   "id": "c95ead53",
   "metadata": {},
   "outputs": [
    {
     "name": "stdout",
     "output_type": "stream",
     "text": [
      "I will execute my functions based on my requirement\n",
      "f1 execution....\n",
      "f2 execution....\n"
     ]
    }
   ],
   "source": [
    "import module\n",
    "print('I will execute my functions based on my requirement')\n",
    "module.f1()\n",
    "module.f2()"
   ]
  },
  {
   "cell_type": "code",
   "execution_count": null,
   "id": "f24f4107",
   "metadata": {},
   "outputs": [],
   "source": []
  },
  {
   "cell_type": "code",
   "execution_count": 17,
   "id": "6613ea9f",
   "metadata": {},
   "outputs": [
    {
     "name": "stdout",
     "output_type": "stream",
     "text": [
      "24\n",
      "2.0\n",
      "10.5\n",
      "10.5\n",
      "11\n",
      "10\n"
     ]
    }
   ],
   "source": [
    "#Working with math module\n",
    "import math\n",
    "#print(dir(math))\n",
    "#help(math)\n",
    "\n",
    "from math import *\n",
    "print(factorial(4))  #24\n",
    "print(sqrt(4))       #2.0\n",
    "print(fabs(-10.5))   #10.5\n",
    "print(fabs(10.5))   #10.5\n",
    "print(ceil(10.5))   #11\n",
    "print(floor(10.5))  #10"
   ]
  },
  {
   "cell_type": "code",
   "execution_count": 19,
   "id": "c73317d3",
   "metadata": {},
   "outputs": [
    {
     "name": "stdout",
     "output_type": "stream",
     "text": [
      "Enter radius of the circle5\n",
      "Area of circle is: 78.53981633974483\n",
      "Enter radius of the circle5\n",
      "Area of circle is: 78.53981633974483\n"
     ]
    }
   ],
   "source": [
    "from math import *\n",
    "r=int(input('Enter radius of the circle'))\n",
    "area=pi * r ** 2\n",
    "print('Area of circle is:',area)\n",
    "\n",
    "#       OR\n",
    "from math import *\n",
    "r=int(input('Enter radius of the circle'))\n",
    "area=pi * pow(r,2)\n",
    "print('Area of circle is:',area)"
   ]
  },
  {
   "cell_type": "code",
   "execution_count": null,
   "id": "cd7f1d48",
   "metadata": {},
   "outputs": [],
   "source": []
  },
  {
   "cell_type": "code",
   "execution_count": 21,
   "id": "4b9d7316",
   "metadata": {},
   "outputs": [
    {
     "name": "stdout",
     "output_type": "stream",
     "text": [
      "12\n"
     ]
    }
   ],
   "source": [
    "from math import *\n",
    "print(floor(fabs(-12.893)))"
   ]
  },
  {
   "cell_type": "code",
   "execution_count": 45,
   "id": "80b95ca7",
   "metadata": {},
   "outputs": [
    {
     "name": "stdout",
     "output_type": "stream",
     "text": [
      "0.1601679897948063\n",
      "0.522524907975564\n",
      "0.3002455982480188\n",
      "0.3084014757478495\n",
      "0.8293576786994996\n",
      "0.4956808234311474\n",
      "0.848011792485533\n",
      "0.23706496448716874\n",
      "0.8325026687740907\n",
      "*************END****************************\n",
      "9.60213424591333\n",
      "*****************************************\n",
      "7.103298646622907\n",
      "6.258345909953392\n",
      "5.166918185665614\n",
      "7.197599977438684\n",
      "7.569279435972684\n",
      "7.448229957965487\n",
      "9.61073552347356\n",
      "6.791580079070489\n",
      "6.102432456616995\n",
      "************END*****************************\n",
      "10\n",
      "**********************************\n",
      "9\n",
      "1\n",
      "2\n",
      "2\n",
      "4\n",
      "1\n",
      "9\n",
      "10\n",
      "9\n",
      "10\n",
      "4\n",
      "************END*****************************\n",
      "4\n",
      "**********************************\n",
      "2\n",
      "1\n",
      "1\n",
      "1\n",
      "0\n",
      "3\n",
      "4\n",
      "0\n",
      "4\n",
      "4\n",
      "**********************************\n",
      "3\n",
      "7\n",
      "7\n",
      "1\n",
      "5\n",
      "7\n",
      "7\n",
      "7\n",
      "1\n",
      "5\n"
     ]
    }
   ],
   "source": [
    "#random () and uniform()\n",
    "\n",
    "\n",
    "#random():\n",
    "from random import *\n",
    "for i in range(1,10):\n",
    "    print(random())\n",
    "print('*************END****************************')\n",
    "#uniform()\n",
    "from random import *\n",
    "print(uniform(5,10))\n",
    "print('*****************************************')\n",
    "from random import *\n",
    "for i in range(1,10):\n",
    "    print(uniform(5,10))\n",
    "\n",
    "print('************END*****************************')\n",
    "\n",
    "\n",
    "#randint():\n",
    "from random import *\n",
    "print(randint(5,10))\n",
    "\n",
    "print('**********************************')\n",
    "\n",
    "from random import *\n",
    "for i in range(11):\n",
    "    print(randint(1,10))\n",
    "\n",
    "print('************END*****************************')\n",
    "\n",
    "#randrange():\n",
    "from random import *\n",
    "print(randrange(5))\n",
    "print('**********************************')\n",
    "from random import *\n",
    "for i in range(10):\n",
    "    print(randrange(5))\n",
    "print('**********************************')\n",
    "from random import *\n",
    "for i in range(1,11):\n",
    "    print(randrange(1,11,2))"
   ]
  },
  {
   "cell_type": "code",
   "execution_count": 57,
   "id": "cf43fdc0",
   "metadata": {},
   "outputs": [
    {
     "name": "stdout",
     "output_type": "stream",
     "text": [
      "Apple\n"
     ]
    }
   ],
   "source": [
    "#choice() function:\n",
    "from random import *\n",
    "fruits=['Apple','Banana','Orange','Mango']\n",
    "print(choice(fruits))"
   ]
  },
  {
   "cell_type": "code",
   "execution_count": 62,
   "id": "5bf213a9",
   "metadata": {},
   "outputs": [
    {
     "name": "stdout",
     "output_type": "stream",
     "text": [
      "595002\n",
      "**********************\n",
      "586366\n",
      "119480\n",
      "464904\n",
      "447542\n",
      "169148\n",
      "982818\n",
      "123455\n",
      "514961\n",
      "112297\n",
      "862691\n",
      "**********************\n",
      "352761\n"
     ]
    }
   ],
   "source": [
    "#programms to generate Randon OTP's and password\n",
    "from random import *\n",
    "print(randint(0,9),randint(0,9),randint(0,9),randint(0,9),randint(0,9),randint(0,9),sep='')\n",
    "#10 otps generating\n",
    "print('**********************')\n",
    "from random import *\n",
    "for i in range(10):\n",
    "    print(randint(0,9),randint(0,9),randint(0,9),randint(0,9),randint(0,9),randint(0,9),sep='')\n",
    "\n",
    "print('**********************')\n",
    "#Method 2:\n",
    "from random import *\n",
    "otp=''\n",
    "for i in range(6):\n",
    "    otp=otp+str(randint(0,9))\n",
    "print(otp)\n"
   ]
  },
  {
   "cell_type": "code",
   "execution_count": 67,
   "id": "a52b11a9",
   "metadata": {},
   "outputs": [
    {
     "name": "stdout",
     "output_type": "stream",
     "text": [
      "H3S2C2\n",
      "c0h9r3\n"
     ]
    }
   ],
   "source": [
    "#WAP to generate random password of 6 length where 1,3,5 characters are alphabets symbols and 2,4,6 characters are digits?\n",
    "from random import *\n",
    "alphbets='ABCDEFGHILKLMNOPQRSTUVWXYZ'\n",
    "digits='0123456789'\n",
    "print(choice(alphbets),choice(digits),choice(alphbets),choice(digits),choice(alphbets)\n",
    ",choice(digits),sep='')\n",
    "\n",
    "from random import *\n",
    "alphbets='abcdefghijklmnopqrstuvwxyz'\n",
    "digits='0123456789'\n",
    "print(choice(alphbets),choice(digits),choice(alphbets),choice(digits),choice(alphbets)\n",
    ",choice(digits),sep='')\n"
   ]
  },
  {
   "cell_type": "code",
   "execution_count": null,
   "id": "12cdc99e",
   "metadata": {},
   "outputs": [],
   "source": []
  },
  {
   "cell_type": "code",
   "execution_count": 33,
   "id": "6822ee21",
   "metadata": {},
   "outputs": [
    {
     "name": "stdout",
     "output_type": "stream",
     "text": [
      "Employee Name: Jsigvuvhi\n",
      "Employee Number: e-0183\n",
      "Employee Salary:34320.46\n",
      "Employee city: Pune\n",
      "Employee Mobile Number: 9812883012\n",
      "Employee Designation: Project Manager\n"
     ]
    }
   ],
   "source": [
    "#program to generate Fake employee data for database testing ?\n",
    "from random import *\n",
    "alphabets='abcdefghijklmnopqrstuvwxyz'\n",
    "digits='0123456789'\n",
    "cities=['Hyderabad','Chennai','Bangalore','Pune','Delhi','Mumbai']\n",
    "designations=['Software Engineer','Senior Software engineer','Team Lead','Project Lead','Project Manager']\n",
    "def get_fake_name():\n",
    "    name=choice(alphabets).upper()\n",
    "    n=randint(2,9)\n",
    "    for i in range(n):\n",
    "        name=name+choice(alphabets)\n",
    "    return name\n",
    "#print(get_fake_name())\n",
    "\n",
    "def get_fake_eno():\n",
    "    eno='e-'\n",
    "    for i in range(4):\n",
    "        eno=eno+choice(digits)\n",
    "    return eno\n",
    "#print(get_fake_eno())\n",
    "\n",
    "def get_fake_salary():\n",
    "    esal=uniform(10000,50000)\n",
    "    return esal\n",
    "#print(get_fake_salary())\n",
    "\n",
    "\n",
    "def get_emp_city():\n",
    "    emp_city=choice(cities)\n",
    "    return emp_city\n",
    "#print(get_emp_city())\n",
    "\n",
    "def get_emp_mobno():\n",
    "    emp_mobno=choice('6789')\n",
    "    for i in range(9):\n",
    "        emp_mobno=emp_mobno+choice(digits)\n",
    "    return emp_mobno\n",
    "#print(get_emp_mobno())\n",
    "\n",
    "def get_fake_designation():\n",
    "    designation=choice(designations)\n",
    "    return designation\n",
    "#print(emp_fake_designation())\n",
    "\n",
    "def get_fake_emp_data():\n",
    "    print('Employee Name:',get_fake_name())\n",
    "    print('Employee Number:',get_fake_eno())\n",
    "    print('Employee Salary:{:.2f}'.format(get_fake_salary()))\n",
    "    print('Employee city:',get_emp_city())\n",
    "    print('Employee Mobile Number:',get_emp_mobno())\n",
    "    print('Employee Designation:',get_fake_designation())\n",
    "\n",
    "get_fake_emp_data()\n",
    "print('************************')"
   ]
  },
  {
   "cell_type": "code",
   "execution_count": null,
   "id": "3d271540",
   "metadata": {},
   "outputs": [],
   "source": []
  },
  {
   "cell_type": "code",
   "execution_count": null,
   "id": "19821955",
   "metadata": {},
   "outputs": [],
   "source": []
  }
 ],
 "metadata": {
  "kernelspec": {
   "display_name": "Python 3 (ipykernel)",
   "language": "python",
   "name": "python3"
  },
  "language_info": {
   "codemirror_mode": {
    "name": "ipython",
    "version": 3
   },
   "file_extension": ".py",
   "mimetype": "text/x-python",
   "name": "python",
   "nbconvert_exporter": "python",
   "pygments_lexer": "ipython3",
   "version": "3.11.5"
  }
 },
 "nbformat": 4,
 "nbformat_minor": 5
}
