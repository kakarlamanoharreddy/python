{
 "cells": [
  {
   "cell_type": "code",
   "execution_count": 2,
   "id": "ed4284b5",
   "metadata": {},
   "outputs": [
    {
     "name": "stdout",
     "output_type": "stream",
     "text": [
      "The sum is: 30\n",
      "The difference is: 10\n",
      "The product is: 200\n",
      "The sum is: 300\n",
      "The difference is: 100\n",
      "The product is: 20000\n",
      "The sum is: 3000\n",
      "The difference is: 1000\n",
      "The product is: 2000000\n"
     ]
    }
   ],
   "source": [
    "#Need of functions and advantages:\n",
    "\n",
    "\n",
    "#Functions\n",
    "#calculate function\n",
    "def calculate(a,b):\n",
    "    print('The sum is:', a+b)\n",
    "    print('The difference is:', a-b)\n",
    "    print('The product is:', a*b)\n",
    "calculate(20,10)\n",
    "calculate(200,100)\n",
    "calculate(2000,1000)"
   ]
  },
  {
   "cell_type": "code",
   "execution_count": 10,
   "id": "6e2cc921",
   "metadata": {},
   "outputs": [
    {
     "name": "stdout",
     "output_type": "stream",
     "text": [
      "Hello Friends, Good Evening!!!\n",
      "Hello Friends, Good Evening!!!\n",
      "Hello Friends, Good Evening!!!\n"
     ]
    }
   ],
   "source": [
    "#Types of functions and syntax to define user Define functions\n",
    "#1) Built-in functions or predefined functions\n",
    "#1)id()  2)type()  3)print()  4)input()  5)eval()\n",
    "\n",
    "#2) User Defined Functions or Customized Functions:\n",
    "#def function_name(parameters):\n",
    "\n",
    "\n",
    "\n",
    "#WAP to print wish message\n",
    "def wish():\n",
    "    print('Hello Friends, Good Evening!!!')\n",
    "wish()\n",
    "wish()\n",
    "wish()"
   ]
  },
  {
   "cell_type": "code",
   "execution_count": 14,
   "id": "f393d5be",
   "metadata": {},
   "outputs": [
    {
     "name": "stdout",
     "output_type": "stream",
     "text": [
      "Hello Manohar Good Evening\n",
      "Hello Abhi Good Evening\n"
     ]
    }
   ],
   "source": [
    "#Functions Parameters and Demo Programs\n",
    "\n",
    "#Write a function to take name of the student as input and print wish message by name?\n",
    "def wish1(name):\n",
    "    print('Hello',name,'Good Evening')\n",
    "wish1('Manohar')\n",
    "wish1('Abhi')"
   ]
  },
  {
   "cell_type": "code",
   "execution_count": 25,
   "id": "c8c039d9",
   "metadata": {},
   "outputs": [
    {
     "name": "stdout",
     "output_type": "stream",
     "text": [
      "The square of 10 is:100\n"
     ]
    }
   ],
   "source": [
    "#write a function to take a number as input and print its square value?\n",
    "def square(num):\n",
    "    output=num*num\n",
    "    print('The square of {} is:{}'.format(num,output))\n",
    "square(10)"
   ]
  },
  {
   "cell_type": "code",
   "execution_count": 23,
   "id": "815f8dbf",
   "metadata": {},
   "outputs": [
    {
     "name": "stdout",
     "output_type": "stream",
     "text": [
      "The square value is: 100\n"
     ]
    }
   ],
   "source": [
    "#write a function to take a number as input and print its square value?\n",
    "def square1(num):\n",
    "    output=num*num\n",
    "    print('The square value is:',output)\n",
    "square1(10)"
   ]
  },
  {
   "cell_type": "code",
   "execution_count": 40,
   "id": "cd7d233d",
   "metadata": {},
   "outputs": [
    {
     "name": "stdout",
     "output_type": "stream",
     "text": [
      "The sum of value is: 30\n",
      "The sum of value is: 300\n"
     ]
    },
    {
     "data": {
      "text/plain": [
       "30"
      ]
     },
     "execution_count": 40,
     "metadata": {},
     "output_type": "execute_result"
    }
   ],
   "source": [
    "def add(a,b):\n",
    "    sum=a+b\n",
    "    return sum\n",
    "result=add(10,20)\n",
    "print('The sum of value is:',result)\n",
    "print('The sum of value is:',add(100,200))\n",
    "add(10,20)    #Empty result"
   ]
  },
  {
   "cell_type": "code",
   "execution_count": 41,
   "id": "b9b942d8",
   "metadata": {},
   "outputs": [
    {
     "name": "stdout",
     "output_type": "stream",
     "text": [
      "Hello\n",
      "The Return value is: None\n"
     ]
    }
   ],
   "source": [
    "def f1():\n",
    "    print('Hello')\n",
    "x=f1()\n",
    "print('The Return value is:',x)"
   ]
  },
  {
   "cell_type": "code",
   "execution_count": 45,
   "id": "46664029",
   "metadata": {},
   "outputs": [
    {
     "name": "stdout",
     "output_type": "stream",
     "text": [
      "The factioral of 3 is: 6\n"
     ]
    }
   ],
   "source": [
    "#WAF to find factorial of given positive int value?\n",
    "def factioral(num):\n",
    "    result=1\n",
    "    while num>=1:\n",
    "        result = result * num\n",
    "        num=num-1\n",
    "    return result\n",
    "print('The factioral of 3 is:',factioral(3))"
   ]
  },
  {
   "cell_type": "code",
   "execution_count": 47,
   "id": "e5c58e38",
   "metadata": {},
   "outputs": [
    {
     "name": "stdout",
     "output_type": "stream",
     "text": [
      "The factioral of 1 is: 1\n",
      "The factioral of 2 is: 2\n",
      "The factioral of 3 is: 6\n",
      "The factioral of 4 is: 24\n",
      "The factioral of 5 is: 120\n"
     ]
    }
   ],
   "source": [
    "#WAF to find factorial of given positive int value? multiple values finding\n",
    "def factioral(num):\n",
    "    result=1\n",
    "    while num>=1:\n",
    "        result = result * num\n",
    "        num=num-1\n",
    "    return result\n",
    "for i in range(1,6):\n",
    "    print('The factioral of', i ,'is:',factioral(i))"
   ]
  },
  {
   "cell_type": "code",
   "execution_count": 4,
   "id": "cbcd8be5",
   "metadata": {},
   "outputs": [
    {
     "name": "stdout",
     "output_type": "stream",
     "text": [
      "The sum is: 30\n",
      "The substraction is: 10\n"
     ]
    }
   ],
   "source": [
    "#Returing multiple values from a functions\n",
    "def sum_sub(a,b):\n",
    "    sum=a+b\n",
    "    sub=a-b\n",
    "    return sum,sub\n",
    "x,y=sum_sub(20,10)\n",
    "print('The sum is:',x)\n",
    "print('The substraction is:',y)"
   ]
  },
  {
   "cell_type": "code",
   "execution_count": 12,
   "id": "7a603d60",
   "metadata": {},
   "outputs": [
    {
     "name": "stdout",
     "output_type": "stream",
     "text": [
      "<class 'tuple'>\n",
      "(30, 10, 200, 2.0)\n",
      "The results are:\n",
      "30\n",
      "10\n",
      "200\n",
      "2.0\n"
     ]
    }
   ],
   "source": [
    "def calc(a,b):\n",
    "    sum=a+b\n",
    "    sub=a-b\n",
    "    mul=a*b\n",
    "    div=a/b\n",
    "    return sum,sub,mul,div\n",
    "t=calc(20,10)\n",
    "print(type(t))       #tuple\n",
    "print(t)\n",
    "#printing all results\n",
    "print('The results are:')\n",
    "for x in t:\n",
    "    print(x)"
   ]
  },
  {
   "cell_type": "code",
   "execution_count": 6,
   "id": "9976c9b2",
   "metadata": {},
   "outputs": [
    {
     "name": "stdout",
     "output_type": "stream",
     "text": [
      "The diff is: 10\n",
      "The sub value is: 100\n",
      "The Diff is: 10\n",
      "The Diff is: 10\n",
      "The Diff is: 10\n"
     ]
    }
   ],
   "source": [
    "#Type of arguments : Position Arguments\n",
    "#1) Positional Arguments 2)Keyword Arguments  3) default Arguments  4)Variable length Arguments\n",
    "\n",
    "#1)Positional Arguments\n",
    "\n",
    "def sum1(a,b):\n",
    "    print('The diff is:',a-b)\n",
    "sum1(20,10)\n",
    "\n",
    "#2)Keyword Arguments\n",
    "def sub(a,b):\n",
    "    print('The sub value is:',a-b)\n",
    "sub(a=200,b=100)  #  or   sub(b=100,a=200) \n",
    "\n",
    "def sub(a,b):\n",
    "    print('The Diff is:',a-b)\n",
    "sub(20,10)\n",
    "sub(a=20,b=10)\n",
    "sub(20,b=10)\n",
    "#sub(a=20,10)"
   ]
  },
  {
   "cell_type": "code",
   "execution_count": 7,
   "id": "423adea0",
   "metadata": {},
   "outputs": [
    {
     "name": "stdout",
     "output_type": "stream",
     "text": [
      "Hello Manohar Good Evening\n",
      "Hello Guest Good Evening\n"
     ]
    }
   ],
   "source": [
    "#Default Argument\n",
    "def wish(name='Guest'):\n",
    "    print('Hello',name,'Good Evening')\n",
    "wish('Manohar')\n",
    "wish()"
   ]
  },
  {
   "cell_type": "code",
   "execution_count": 1,
   "id": "ec0e4d0a",
   "metadata": {},
   "outputs": [
    {
     "name": "stdout",
     "output_type": "stream",
     "text": [
      "variable length argument\n",
      "variable length argument\n",
      "variable length argument\n"
     ]
    }
   ],
   "source": [
    "#Variable length Object\n",
    "def f1(*n):\n",
    "    print('variable length argument')\n",
    "f1()\n",
    "f1(10)\n",
    "f1(10,100)"
   ]
  },
  {
   "cell_type": "code",
   "execution_count": 5,
   "id": "a3fe69fb",
   "metadata": {},
   "outputs": [
    {
     "name": "stdout",
     "output_type": "stream",
     "text": [
      "The sum is: 0\n",
      "The sum is: 10\n",
      "The sum is: 30\n",
      "The sum is: 100\n"
     ]
    }
   ],
   "source": [
    "#WAP sum of multiple values\n",
    "def sum(*n):\n",
    "    total=0\n",
    "    for x in n:\n",
    "        total=total+x\n",
    "    print('The sum is:',total)\n",
    "sum()\n",
    "sum(10)\n",
    "sum(10,20)\n",
    "sum(10,20,30,40)"
   ]
  },
  {
   "cell_type": "code",
   "execution_count": 7,
   "id": "feee74e8",
   "metadata": {},
   "outputs": [
    {
     "name": "stdout",
     "output_type": "stream",
     "text": [
      "(10, 20)\n",
      "((10, 20, 30), (40, 50, 60))\n"
     ]
    }
   ],
   "source": [
    "def f1(*n):\n",
    "    print(n)\n",
    "f1(10,20)\n",
    "f1((10,20,30),(40,50,60))"
   ]
  },
  {
   "cell_type": "code",
   "execution_count": 6,
   "id": "fc8a344e",
   "metadata": {},
   "outputs": [
    {
     "name": "stdout",
     "output_type": "stream",
     "text": [
      "10\n",
      "(100, 200, 300)\n",
      "400\n",
      "(100, 200)\n",
      "400\n"
     ]
    }
   ],
   "source": [
    "#Important conclusion about variable length Arguments\n",
    "def f1(x,*y):\n",
    "    print(x)\n",
    "    for y1 in y:\n",
    "        print(y1)\n",
    "f1(10)\n",
    "#f1(10,20,30,40)\n",
    "\n",
    "\n",
    "#Important conclusion about variable length Arguments\n",
    "def f(*x,y):\n",
    "    print(x)\n",
    "    print(y)\n",
    "#f(100,200,300,400)  #Error\n",
    "f(100,200,300,y=400) \n",
    "f(100,200,y=400) "
   ]
  },
  {
   "cell_type": "code",
   "execution_count": 7,
   "id": "da5bed81",
   "metadata": {},
   "outputs": [
    {
     "ename": "SyntaxError",
     "evalue": "* argument may appear only once (1566142279.py, line 1)",
     "output_type": "error",
     "traceback": [
      "\u001b[1;36m  Cell \u001b[1;32mIn[7], line 1\u001b[1;36m\u001b[0m\n\u001b[1;33m    def f2(*x,*y):\u001b[0m\n\u001b[1;37m              ^\u001b[0m\n\u001b[1;31mSyntaxError\u001b[0m\u001b[1;31m:\u001b[0m * argument may appear only once\n"
     ]
    }
   ],
   "source": [
    "def f2(*x,*y):\n",
    "    print(x)\n",
    "    print(y)\n",
    "f2(10,20,30,40)  #argument may appear only once"
   ]
  },
  {
   "cell_type": "code",
   "execution_count": null,
   "id": "dfd46dba",
   "metadata": {},
   "outputs": [],
   "source": []
  },
  {
   "cell_type": "code",
   "execution_count": 13,
   "id": "cc6734fa",
   "metadata": {},
   "outputs": [
    {
     "ename": "SyntaxError",
     "evalue": "arguments cannot follow var-keyword argument (3566243446.py, line 29)",
     "output_type": "error",
     "traceback": [
      "\u001b[1;36m  Cell \u001b[1;32mIn[13], line 29\u001b[1;36m\u001b[0m\n\u001b[1;33m    def f1(**kwargs,*args):\u001b[0m\n\u001b[1;37m                    ^\u001b[0m\n\u001b[1;31mSyntaxError\u001b[0m\u001b[1;31m:\u001b[0m arguments cannot follow var-keyword argument\n"
     ]
    }
   ],
   "source": [
    "#Difference between *args vs **kwargs\n",
    "\n",
    "#*args()\n",
    "def f1(*n):\n",
    "    print(n)\n",
    "f1()\n",
    "f1(10)\n",
    "f1(10,20,30,40)\n",
    "\n",
    "print(\"*************************\")\n",
    "\n",
    "#**kwargs\n",
    "def f1(**kwargs):\n",
    "    print(kwargs)\n",
    "f1()\n",
    "f1(name='Abhi',rollno=100)\n",
    "f1(A=10,B=20,C=30,D=40)\n",
    "\n",
    "print(\"*************************\")\n",
    "\n",
    "def f1(*args,**kwargs):\n",
    "    print(args)\n",
    "    print(kwargs)     #tuple (10,20)\n",
    "f1(10,20,A=30,B=40)   #dict {'A'=30,'B'=40}\n",
    "\n",
    "print(\"*************************\")\n",
    "\n",
    "#Error \n",
    "def f1(**kwargs,*args):\n",
    "    print(args)\n",
    "    print(kwargs)\n",
    "f1(A=10,B=20,30,40)  #Error after kwargs we can't take positional arguments\n"
   ]
  },
  {
   "cell_type": "code",
   "execution_count": 24,
   "id": "21552755",
   "metadata": {},
   "outputs": [
    {
     "name": "stdout",
     "output_type": "stream",
     "text": [
      "3 2 4 8\n",
      "10 20 30 40\n",
      "25 50 4 100\n",
      "3 4 4 2\n"
     ]
    },
    {
     "ename": "TypeError",
     "evalue": "f() got an unexpected keyword argument 'arg5'",
     "output_type": "error",
     "traceback": [
      "\u001b[1;31m---------------------------------------------------------------------------\u001b[0m",
      "\u001b[1;31mTypeError\u001b[0m                                 Traceback (most recent call last)",
      "Cell \u001b[1;32mIn[24], line 11\u001b[0m\n\u001b[0;32m      7\u001b[0m f(arg4\u001b[38;5;241m=\u001b[39m\u001b[38;5;241m2\u001b[39m,arg1\u001b[38;5;241m=\u001b[39m\u001b[38;5;241m3\u001b[39m,arg2\u001b[38;5;241m=\u001b[39m\u001b[38;5;241m4\u001b[39m)  \u001b[38;5;66;03m#3 4 4 2\u001b[39;00m\n\u001b[0;32m      8\u001b[0m \u001b[38;5;66;03m#f()    #Error f() missing 2 required positional arguments: 'arg1' and 'arg2'\u001b[39;00m\n\u001b[0;32m      9\u001b[0m \u001b[38;5;66;03m#f(arg3=10,arg4=20,30,40)  #Error positional argument follows keyword argument\u001b[39;00m\n\u001b[0;32m     10\u001b[0m \u001b[38;5;66;03m#f(4,5,arg2=6)  #Error f() got multiple values for argument 'arg2'\u001b[39;00m\n\u001b[1;32m---> 11\u001b[0m f(\u001b[38;5;241m4\u001b[39m,\u001b[38;5;241m5\u001b[39m,arg3\u001b[38;5;241m=\u001b[39m\u001b[38;5;241m5\u001b[39m,arg5\u001b[38;5;241m=\u001b[39m\u001b[38;5;241m6\u001b[39m)\n",
      "\u001b[1;31mTypeError\u001b[0m: f() got an unexpected keyword argument 'arg5'"
     ]
    }
   ],
   "source": [
    "#Types of arguments: Case study\n",
    "def f(arg1,arg2,arg3=4,arg4=8):\n",
    "    print(arg1,arg2,arg3,arg4)\n",
    "f(3,2)  # 3 2 4 8\n",
    "f(10,20,30,40)   #10 20 30 40\n",
    "f(25,50,arg4=100)   #25 50 4 100\n",
    "f(arg4=2,arg1=3,arg2=4)  #3 4 4 2\n",
    "#f()    #Error f() missing 2 required positional arguments: 'arg1' and 'arg2'\n",
    "#f(arg3=10,arg4=20,30,40)  #Error positional argument follows keyword argument\n",
    "#f(4,5,arg2=6)  #Error f() got multiple values for argument 'arg2'\n",
    "#f(4,5,arg3=5,arg5=6)  #Error f() got an unexpected keyword argument 'arg5'"
   ]
  },
  {
   "cell_type": "code",
   "execution_count": 29,
   "id": "53c9ad09",
   "metadata": {},
   "outputs": [
    {
     "name": "stdout",
     "output_type": "stream",
     "text": [
      "10\n",
      "10\n",
      "*************************\n",
      "10\n"
     ]
    }
   ],
   "source": [
    "#Types of variables: Global and Local\n",
    "#1)Global Variable   2)Local Variable\n",
    "\n",
    "#1)Global Variable\n",
    "a=10\n",
    "def f1():\n",
    "    print(a)\n",
    "    \n",
    "def f2():\n",
    "    print(a)\n",
    "f1()  #10\n",
    "f2()  #10\n",
    "\n",
    "print(\"*************************\")\n",
    "\n",
    "#2)Local Variable\n",
    "def f1():\n",
    "    a=20\n",
    "    print(a)\n",
    "def f2():\n",
    "    print(a)\n",
    "f1()\n",
    "f2()  #name 'a' is not defined"
   ]
  },
  {
   "cell_type": "code",
   "execution_count": 41,
   "id": "710e6d84",
   "metadata": {},
   "outputs": [
    {
     "name": "stdout",
     "output_type": "stream",
     "text": [
      "20\n",
      "10\n",
      "*****************************\n",
      "20\n",
      "20\n"
     ]
    }
   ],
   "source": [
    "#Need a Global Keyword\n",
    "a=10\n",
    "def f1():\n",
    "    a=20\n",
    "    print(a)\n",
    "def f2():\n",
    "    print(a)\n",
    "f1()  #Local Variable 20\n",
    "f2()  #Global Variable 10\n",
    "\n",
    "print(\"*****************************\")\n",
    "\n",
    "a=10\n",
    "def f1():\n",
    "    global a   #To bring global variable to the function for the required modification\n",
    "    a=20       #It is not treated as local variable it will consider as global variable\n",
    "    print(a)\n",
    "def f2():\n",
    "    print(a)\n",
    "\n",
    "f1()  #Global Variable 20\n",
    "f2()  #Global Variable 20"
   ]
  },
  {
   "cell_type": "code",
   "execution_count": 48,
   "id": "02f3e847",
   "metadata": {},
   "outputs": [
    {
     "name": "stdout",
     "output_type": "stream",
     "text": [
      "777\n",
      "999\n"
     ]
    }
   ],
   "source": [
    "#Important conclusion about global keyword\n",
    "# a=777\n",
    "# def f1():\n",
    "#     print(a)\n",
    "#     global a\n",
    "#     a=999\n",
    "#     print(a)\n",
    "#f1()   # Error Before global variable declaration we can't use that variable in function\n",
    "\n",
    "a=777\n",
    "def f1():\n",
    "    global a\n",
    "    print(a)  #777\n",
    "    a=999\n",
    "    print(a) #999\n",
    "f1()"
   ]
  },
  {
   "cell_type": "code",
   "execution_count": null,
   "id": "f4d2d19e",
   "metadata": {},
   "outputs": [],
   "source": []
  },
  {
   "cell_type": "code",
   "execution_count": 11,
   "id": "0f100d7f",
   "metadata": {},
   "outputs": [
    {
     "name": "stdout",
     "output_type": "stream",
     "text": [
      "999\n",
      "888\n",
      "888\n"
     ]
    }
   ],
   "source": [
    "a=888\n",
    "def f1():\n",
    "    a=999\n",
    "    print(a)   #999 local variable \n",
    "    print(globals().get('a'))  #global variable\n",
    "    print(globals()['a'])    #global variable\n",
    "f1()"
   ]
  },
  {
   "cell_type": "code",
   "execution_count": 3,
   "id": "ec3f5a9f",
   "metadata": {},
   "outputs": [
    {
     "name": "stdout",
     "output_type": "stream",
     "text": [
      "The factorial is 3 is 6\n"
     ]
    },
    {
     "data": {
      "text/plain": [
       "24"
      ]
     },
     "execution_count": 3,
     "metadata": {},
     "output_type": "execute_result"
    }
   ],
   "source": [
    "#Recursive Functions introduction and demo program\n",
    "#A function itself call function is called recursive function\n",
    "# We can solve complex problems\n",
    "# Length of code will de decreased(consise code)\n",
    "\n",
    "\n",
    "#Factorial program with recursion:\n",
    "def factorial(n):\n",
    "    if n==0:\n",
    "        result=1\n",
    "    else:\n",
    "        result = n * factorial(n-1)\n",
    "    return result\n",
    "print('The factorial is 3 is',factorial(3))\n",
    "factorial(4)"
   ]
  },
  {
   "cell_type": "code",
   "execution_count": 2,
   "id": "22842cb6",
   "metadata": {},
   "outputs": [
    {
     "name": "stdout",
     "output_type": "stream",
     "text": [
      "The Factorial of 0 is 1\n",
      "The Factorial of 1 is 1\n",
      "The Factorial of 2 is 2\n",
      "The Factorial of 3 is 6\n",
      "The Factorial of 4 is 24\n",
      "The Factorial of 5 is 120\n",
      "The Factorial of 6 is 720\n",
      "The Factorial of 7 is 5040\n",
      "The Factorial of 8 is 40320\n",
      "The Factorial of 9 is 362880\n"
     ]
    }
   ],
   "source": [
    "#Factorial program with recursion:\n",
    "def factorial(n):\n",
    "    if n==0:\n",
    "        result=1\n",
    "    else:\n",
    "        result = n * factorial(n-1)\n",
    "    return result\n",
    "for i in range(10):\n",
    "    print('The Factorial of {} is {}'.format(i,factorial(i)))\n",
    "# print('The factorial is 3 is',factorial(3))\n",
    "# factorial(4)"
   ]
  },
  {
   "cell_type": "code",
   "execution_count": null,
   "id": "ea2d32bc",
   "metadata": {},
   "outputs": [],
   "source": []
  },
  {
   "cell_type": "code",
   "execution_count": 4,
   "id": "b7a485ad",
   "metadata": {},
   "outputs": [
    {
     "name": "stdout",
     "output_type": "stream",
     "text": [
      "The Square values of 1 is 1\n",
      "The Square values of 2 is 4\n",
      "The Square values of 3 is 9\n",
      "The Square values of 4 is 16\n",
      "The Square values of 5 is 25\n",
      "The Square values of 6 is 36\n",
      "The Square values of 7 is 49\n",
      "The Square values of 8 is 64\n",
      "The Square values of 9 is 81\n",
      "The Square values of 10 is 100\n"
     ]
    }
   ],
   "source": [
    "#Anonymous Functions\n",
    "# s=lambda n:n*n\n",
    "# print(s(4))\n",
    "\n",
    "s=lambda n:n*n\n",
    "for i in range(1,11):\n",
    "    print('The Square values of {} is {}'.format(i,s(i)))"
   ]
  },
  {
   "cell_type": "code",
   "execution_count": 5,
   "id": "dcee6a1e",
   "metadata": {},
   "outputs": [
    {
     "name": "stdout",
     "output_type": "stream",
     "text": [
      "30\n",
      "300\n"
     ]
    }
   ],
   "source": [
    "#Lambda Function to find sum of 2 given numbers\n",
    "s=lambda a,b:a+b\n",
    "print(s(10,20))\n",
    "print(s(100,200))"
   ]
  },
  {
   "cell_type": "code",
   "execution_count": 13,
   "id": "08ae5016",
   "metadata": {},
   "outputs": [
    {
     "name": "stdout",
     "output_type": "stream",
     "text": [
      "200\n"
     ]
    }
   ],
   "source": [
    "#Lambda function to find biggest of given number\n",
    "bigger=lambda a,b:a if a>b else b\n",
    "print(bigger(10,20))\n",
    "print(bigger(200,100))\n",
    "print(bigger(-10,-20))\n",
    "\n",
    "#       (OR)\n",
    "\n",
    "bigger=lambda a,b,c:a if a>b and a>c else b if b>c else c\n",
    "print(bigger(10,20,200))"
   ]
  },
  {
   "cell_type": "code",
   "execution_count": null,
   "id": "a57dde7f",
   "metadata": {},
   "outputs": [],
   "source": [
    "#Function as argument to another functions\n",
    "#filter(function,sequence)\n",
    "#map(function,sequence)\n",
    "#reduce(function,sequence)"
   ]
  },
  {
   "cell_type": "code",
   "execution_count": null,
   "id": "e420a729",
   "metadata": {},
   "outputs": [],
   "source": []
  },
  {
   "cell_type": "code",
   "execution_count": 16,
   "id": "1a09a405",
   "metadata": {},
   "outputs": [
    {
     "name": "stdout",
     "output_type": "stream",
     "text": [
      "[0, 2, 4, 6, 8, 10]\n"
     ]
    }
   ],
   "source": [
    "#Shorter code by using filter() function\n",
    "#Filter without function\n",
    "l=[0,1,2,3,4,5,6,7,8,9,10]\n",
    "def isEven(n):\n",
    "    if n%2==0:\n",
    "        return True\n",
    "    else:\n",
    "        return False\n",
    "l1=[]\n",
    "for n in l:\n",
    "    if isEven(n)==True:\n",
    "        l1.append(n)\n",
    "print(l1)\n"
   ]
  },
  {
   "cell_type": "code",
   "execution_count": 23,
   "id": "43f3c556",
   "metadata": {},
   "outputs": [
    {
     "name": "stdout",
     "output_type": "stream",
     "text": [
      "[0, 2, 4, 6, 8, 10]\n",
      "[0, 2, 4, 6, 8, 10]\n"
     ]
    }
   ],
   "source": [
    "#with filter function\n",
    "l=[0,1,2,3,4,5,6,7,8,9,10]\n",
    "def isEven(n):\n",
    "    if n%2==0:\n",
    "        return True\n",
    "    else:\n",
    "        return False\n",
    "l1=list(filter(isEven,l))\n",
    "print(l1)\n",
    "\n",
    "#filter with lambda function\n",
    "l=[0,1,2,3,4,5,6,7,8,9,10]\n",
    "l1=list(filter(lambda n:n%2==0,l))\n",
    "print(l1)"
   ]
  },
  {
   "cell_type": "code",
   "execution_count": 28,
   "id": "3e6e80ae",
   "metadata": {},
   "outputs": [
    {
     "name": "stdout",
     "output_type": "stream",
     "text": [
      "[0, 2, 4, 6, 8, 10]\n",
      "[1, 3, 5, 7, 9]\n",
      "[3, 9]\n"
     ]
    }
   ],
   "source": [
    "l=[0,1,2,3,4,5,6,7,8,9,10]\n",
    "even=list(filter(lambda n:n%2==0,l))\n",
    "print(even)\n",
    "odd=list(filter(lambda n: n%2!=0,l))\n",
    "print(odd)\n",
    "#the numbers which are divisiable by 3 and odd\n",
    "nby3odd=list(filter(lambda n: n%3==0 and n%2!=0,l))\n",
    "print(nby3odd)"
   ]
  },
  {
   "cell_type": "code",
   "execution_count": 47,
   "id": "a831aaa3",
   "metadata": {},
   "outputs": [
    {
     "name": "stdout",
     "output_type": "stream",
     "text": [
      "['Manohar', 'Mahesh', 'Mahi']\n",
      "['Pravallika']\n",
      "['Manohar', 'Anhinav']\n"
     ]
    }
   ],
   "source": [
    "#Example 2\n",
    "Names=['Manohar','Mahesh','Mahi','Anhinav','Anji','Pravallika',]\n",
    "startwithM=list(filter(lambda N: N[0]=='M',Names))\n",
    "print(startwithM)\n",
    "#Name Length divisible by 5\n",
    "lengthof5=list(filter(lambda name: len(name)%5==0,Names))\n",
    "print(lengthof5)\n",
    "#name length is odd\n",
    "odd = list(filter(lambda name: len(name)%2!=0,Names))\n",
    "print(odd)"
   ]
  },
  {
   "cell_type": "code",
   "execution_count": 1,
   "id": "0c74c567",
   "metadata": {},
   "outputs": [
    {
     "name": "stdout",
     "output_type": "stream",
     "text": [
      "[1, 4, 9, 16, 25]\n"
     ]
    }
   ],
   "source": [
    "#Map function Theory and demo programms\n",
    "l=[1,2,3,4,5]\n",
    "def squareIT(n):\n",
    "    return n*n\n",
    "l1=list(map(squareIT,l))\n",
    "print(l1)"
   ]
  },
  {
   "cell_type": "code",
   "execution_count": 7,
   "id": "30d1dd18",
   "metadata": {},
   "outputs": [
    {
     "name": "stdout",
     "output_type": "stream",
     "text": [
      "[1, 4, 9, 16, 25]\n",
      "[6, 14, 24, 36, 50]\n",
      "[6, 14, 24, 36, 50]\n",
      "[6, 14, 24, 36, 55]\n"
     ]
    }
   ],
   "source": [
    "#with lambda function\n",
    "l=[1,2,3,4,5]\n",
    "l1=list(map(lambda n:n*n,l))\n",
    "print(l1)\n",
    "\n",
    "#multiple function using map function\n",
    "l1=[1,2,3,4,5]\n",
    "l2=[6,7,8,9,10]\n",
    "l3=list(map(lambda x,y:x*y,l1,l2))\n",
    "print(l3)\n",
    "\n",
    "#multiple function using map function\n",
    "l1=[1,2,3,4,5,7,8,9,10]\n",
    "l2=[6,7,8,9,10]\n",
    "l3=list(map(lambda x,y:x*y,l1,l2))\n",
    "print(l3)\n",
    "\n",
    "#multiple function using map function\n",
    "l1=[1,2,3,4,5]\n",
    "l2=[6,7,8,9,11,12,13]\n",
    "l3=list(map(lambda x,y:x*y,l1,l2))\n",
    "print(l3)"
   ]
  },
  {
   "cell_type": "code",
   "execution_count": 9,
   "id": "81bfe9c5",
   "metadata": {},
   "outputs": [
    {
     "name": "stdout",
     "output_type": "stream",
     "text": [
      "21\n"
     ]
    }
   ],
   "source": [
    "from functools import reduce\n",
    "#reduce() function\n",
    "l=[1,2,3,4,5,6]\n",
    "result=reduce(lambda x,y:x+y,l)\n",
    "print(result)"
   ]
  },
  {
   "cell_type": "code",
   "execution_count": 10,
   "id": "76f7174a",
   "metadata": {},
   "outputs": [
    {
     "name": "stdout",
     "output_type": "stream",
     "text": [
      "5050\n"
     ]
    }
   ],
   "source": [
    "#find a sum of first 100 numbers by using reduce () function?\n",
    "from functools import reduce\n",
    "sum_of_100_numbers=reduce(lambda x,y:x+y, range(1,101))\n",
    "print(sum_of_100_numbers)"
   ]
  },
  {
   "cell_type": "code",
   "execution_count": null,
   "id": "5c02cad5",
   "metadata": {},
   "outputs": [],
   "source": []
  },
  {
   "cell_type": "code",
   "execution_count": null,
   "id": "972ed80f",
   "metadata": {},
   "outputs": [],
   "source": []
  },
  {
   "cell_type": "code",
   "execution_count": null,
   "id": "50c70d11",
   "metadata": {},
   "outputs": [],
   "source": []
  }
 ],
 "metadata": {
  "kernelspec": {
   "display_name": "Python 3 (ipykernel)",
   "language": "python",
   "name": "python3"
  },
  "language_info": {
   "codemirror_mode": {
    "name": "ipython",
    "version": 3
   },
   "file_extension": ".py",
   "mimetype": "text/x-python",
   "name": "python",
   "nbconvert_exporter": "python",
   "pygments_lexer": "ipython3",
   "version": "3.11.5"
  }
 },
 "nbformat": 4,
 "nbformat_minor": 5
}
