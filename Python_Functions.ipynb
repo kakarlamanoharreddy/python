{
 "cells": [
  {
   "cell_type": "code",
   "execution_count": 2,
   "id": "ed4284b5",
   "metadata": {},
   "outputs": [
    {
     "name": "stdout",
     "output_type": "stream",
     "text": [
      "The sum is: 30\n",
      "The difference is: 10\n",
      "The product is: 200\n",
      "The sum is: 300\n",
      "The difference is: 100\n",
      "The product is: 20000\n",
      "The sum is: 3000\n",
      "The difference is: 1000\n",
      "The product is: 2000000\n"
     ]
    }
   ],
   "source": [
    "#Need of functions and advantages:\n",
    "\n",
    "\n",
    "#Functions\n",
    "#calculate function\n",
    "def calculate(a,b):\n",
    "    print('The sum is:', a+b)\n",
    "    print('The difference is:', a-b)\n",
    "    print('The product is:', a*b)\n",
    "calculate(20,10)\n",
    "calculate(200,100)\n",
    "calculate(2000,1000)"
   ]
  },
  {
   "cell_type": "code",
   "execution_count": 10,
   "id": "6e2cc921",
   "metadata": {},
   "outputs": [
    {
     "name": "stdout",
     "output_type": "stream",
     "text": [
      "Hello Friends, Good Evening!!!\n",
      "Hello Friends, Good Evening!!!\n",
      "Hello Friends, Good Evening!!!\n"
     ]
    }
   ],
   "source": [
    "#Types of functions and syntax to define user Define functions\n",
    "#1) Built-in functions or predefined functions\n",
    "#1)id()  2)type()  3)print()  4)input()  5)eval()\n",
    "\n",
    "#2) User Defined Functions or Customized Functions:\n",
    "#def function_name(parameters):\n",
    "\n",
    "\n",
    "\n",
    "#WAP to print wish message\n",
    "def wish():\n",
    "    print('Hello Friends, Good Evening!!!')\n",
    "wish()\n",
    "wish()\n",
    "wish()"
   ]
  },
  {
   "cell_type": "code",
   "execution_count": 14,
   "id": "f393d5be",
   "metadata": {},
   "outputs": [
    {
     "name": "stdout",
     "output_type": "stream",
     "text": [
      "Hello Manohar Good Evening\n",
      "Hello Abhi Good Evening\n"
     ]
    }
   ],
   "source": [
    "#Functions Parameters and Demo Programs\n",
    "\n",
    "#Write a function to take name of the student as input and print wish message by name?\n",
    "def wish1(name):\n",
    "    print('Hello',name,'Good Evening')\n",
    "wish1('Manohar')\n",
    "wish1('Abhi')"
   ]
  },
  {
   "cell_type": "code",
   "execution_count": 25,
   "id": "c8c039d9",
   "metadata": {},
   "outputs": [
    {
     "name": "stdout",
     "output_type": "stream",
     "text": [
      "The square of 10 is:100\n"
     ]
    }
   ],
   "source": [
    "#write a function to take a number as input and print its square value?\n",
    "def square(num):\n",
    "    output=num*num\n",
    "    print('The square of {} is:{}'.format(num,output))\n",
    "square(10)"
   ]
  },
  {
   "cell_type": "code",
   "execution_count": 23,
   "id": "815f8dbf",
   "metadata": {},
   "outputs": [
    {
     "name": "stdout",
     "output_type": "stream",
     "text": [
      "The square value is: 100\n"
     ]
    }
   ],
   "source": [
    "#write a function to take a number as input and print its square value?\n",
    "def square1(num):\n",
    "    output=num*num\n",
    "    print('The square value is:',output)\n",
    "square1(10)"
   ]
  },
  {
   "cell_type": "code",
   "execution_count": 40,
   "id": "cd7d233d",
   "metadata": {},
   "outputs": [
    {
     "name": "stdout",
     "output_type": "stream",
     "text": [
      "The sum of value is: 30\n",
      "The sum of value is: 300\n"
     ]
    },
    {
     "data": {
      "text/plain": [
       "30"
      ]
     },
     "execution_count": 40,
     "metadata": {},
     "output_type": "execute_result"
    }
   ],
   "source": [
    "def add(a,b):\n",
    "    sum=a+b\n",
    "    return sum\n",
    "result=add(10,20)\n",
    "print('The sum of value is:',result)\n",
    "print('The sum of value is:',add(100,200))\n",
    "add(10,20)    #Empty result"
   ]
  },
  {
   "cell_type": "code",
   "execution_count": 41,
   "id": "b9b942d8",
   "metadata": {},
   "outputs": [
    {
     "name": "stdout",
     "output_type": "stream",
     "text": [
      "Hello\n",
      "The Return value is: None\n"
     ]
    }
   ],
   "source": [
    "def f1():\n",
    "    print('Hello')\n",
    "x=f1()\n",
    "print('The Return value is:',x)"
   ]
  },
  {
   "cell_type": "code",
   "execution_count": 45,
   "id": "46664029",
   "metadata": {},
   "outputs": [
    {
     "name": "stdout",
     "output_type": "stream",
     "text": [
      "The factioral of 3 is: 6\n"
     ]
    }
   ],
   "source": [
    "#WAF to find factorial of given positive int value?\n",
    "def factioral(num):\n",
    "    result=1\n",
    "    while num>=1:\n",
    "        result = result * num\n",
    "        num=num-1\n",
    "    return result\n",
    "print('The factioral of 3 is:',factioral(3))"
   ]
  },
  {
   "cell_type": "code",
   "execution_count": 47,
   "id": "e5c58e38",
   "metadata": {},
   "outputs": [
    {
     "name": "stdout",
     "output_type": "stream",
     "text": [
      "The factioral of 1 is: 1\n",
      "The factioral of 2 is: 2\n",
      "The factioral of 3 is: 6\n",
      "The factioral of 4 is: 24\n",
      "The factioral of 5 is: 120\n"
     ]
    }
   ],
   "source": [
    "#WAF to find factorial of given positive int value? multiple values finding\n",
    "def factioral(num):\n",
    "    result=1\n",
    "    while num>=1:\n",
    "        result = result * num\n",
    "        num=num-1\n",
    "    return result\n",
    "for i in range(1,6):\n",
    "    print('The factioral of', i ,'is:',factioral(i))"
   ]
  },
  {
   "cell_type": "code",
   "execution_count": 4,
   "id": "cbcd8be5",
   "metadata": {},
   "outputs": [
    {
     "name": "stdout",
     "output_type": "stream",
     "text": [
      "The sum is: 30\n",
      "The substraction is: 10\n"
     ]
    }
   ],
   "source": [
    "#Returing multiple values from a functions\n",
    "def sum_sub(a,b):\n",
    "    sum=a+b\n",
    "    sub=a-b\n",
    "    return sum,sub\n",
    "x,y=sum_sub(20,10)\n",
    "print('The sum is:',x)\n",
    "print('The substraction is:',y)"
   ]
  },
  {
   "cell_type": "code",
   "execution_count": 12,
   "id": "7a603d60",
   "metadata": {},
   "outputs": [
    {
     "name": "stdout",
     "output_type": "stream",
     "text": [
      "<class 'tuple'>\n",
      "(30, 10, 200, 2.0)\n",
      "The results are:\n",
      "30\n",
      "10\n",
      "200\n",
      "2.0\n"
     ]
    }
   ],
   "source": [
    "def calc(a,b):\n",
    "    sum=a+b\n",
    "    sub=a-b\n",
    "    mul=a*b\n",
    "    div=a/b\n",
    "    return sum,sub,mul,div\n",
    "t=calc(20,10)\n",
    "print(type(t))       #tuple\n",
    "print(t)\n",
    "#printing all results\n",
    "print('The results are:')\n",
    "for x in t:\n",
    "    print(x)"
   ]
  },
  {
   "cell_type": "code",
   "execution_count": 6,
   "id": "9976c9b2",
   "metadata": {},
   "outputs": [
    {
     "name": "stdout",
     "output_type": "stream",
     "text": [
      "The diff is: 10\n",
      "The sub value is: 100\n",
      "The Diff is: 10\n",
      "The Diff is: 10\n",
      "The Diff is: 10\n"
     ]
    }
   ],
   "source": [
    "#Type of arguments : Position Arguments\n",
    "#1) Positional Arguments 2)Keyword Arguments  3) default Arguments  4)Variable length Arguments\n",
    "\n",
    "#1)Positional Arguments\n",
    "\n",
    "def sum1(a,b):\n",
    "    print('The diff is:',a-b)\n",
    "sum1(20,10)\n",
    "\n",
    "#2)Keyword Arguments\n",
    "def sub(a,b):\n",
    "    print('The sub value is:',a-b)\n",
    "sub(a=200,b=100)  #  or   sub(b=100,a=200) \n",
    "\n",
    "def sub(a,b):\n",
    "    print('The Diff is:',a-b)\n",
    "sub(20,10)\n",
    "sub(a=20,b=10)\n",
    "sub(20,b=10)\n",
    "#sub(a=20,10)"
   ]
  },
  {
   "cell_type": "code",
   "execution_count": 7,
   "id": "423adea0",
   "metadata": {},
   "outputs": [
    {
     "name": "stdout",
     "output_type": "stream",
     "text": [
      "Hello Manohar Good Evening\n",
      "Hello Guest Good Evening\n"
     ]
    }
   ],
   "source": [
    "#Default Argument\n",
    "def wish(name='Guest'):\n",
    "    print('Hello',name,'Good Evening')\n",
    "wish('Manohar')\n",
    "wish()"
   ]
  },
  {
   "cell_type": "code",
   "execution_count": 1,
   "id": "ec0e4d0a",
   "metadata": {},
   "outputs": [
    {
     "name": "stdout",
     "output_type": "stream",
     "text": [
      "variable length argument\n",
      "variable length argument\n",
      "variable length argument\n"
     ]
    }
   ],
   "source": [
    "#Variable length Object\n",
    "def f1(*n):\n",
    "    print('variable length argument')\n",
    "f1()\n",
    "f1(10)\n",
    "f1(10,100)"
   ]
  },
  {
   "cell_type": "code",
   "execution_count": 5,
   "id": "a3fe69fb",
   "metadata": {},
   "outputs": [
    {
     "name": "stdout",
     "output_type": "stream",
     "text": [
      "The sum is: 0\n",
      "The sum is: 10\n",
      "The sum is: 30\n",
      "The sum is: 100\n"
     ]
    }
   ],
   "source": [
    "#WAP sum of multiple values\n",
    "def sum(*n):\n",
    "    total=0\n",
    "    for x in n:\n",
    "        total=total+x\n",
    "    print('The sum is:',total)\n",
    "sum()\n",
    "sum(10)\n",
    "sum(10,20)\n",
    "sum(10,20,30,40)"
   ]
  },
  {
   "cell_type": "code",
   "execution_count": 7,
   "id": "99451dcd",
   "metadata": {},
   "outputs": [
    {
     "name": "stdout",
     "output_type": "stream",
     "text": [
      "(10, 20)\n",
      "((10, 20, 30), (40, 50, 60))\n"
     ]
    }
   ],
   "source": [
    "def f1(*n):\n",
    "    print(n)\n",
    "f1(10,20)\n",
    "f1((10,20,30),(40,50,60))"
   ]
  },
  {
   "cell_type": "code",
   "execution_count": 11,
   "id": "b6ea7dea",
   "metadata": {},
   "outputs": [
    {
     "name": "stdout",
     "output_type": "stream",
     "text": [
      "10\n"
     ]
    }
   ],
   "source": [
    "#Important conclusion about variable length Arguments\n",
    "def f1(x,*y):\n",
    "    print(x)\n",
    "    for y1 in y:\n",
    "        print(y1)\n",
    "f1(10)\n",
    "#f1(10,20,30,40)"
   ]
  },
  {
   "cell_type": "code",
   "execution_count": null,
   "id": "8b1787d1",
   "metadata": {},
   "outputs": [],
   "source": []
  }
 ],
 "metadata": {
  "kernelspec": {
   "display_name": "Python 3 (ipykernel)",
   "language": "python",
   "name": "python3"
  },
  "language_info": {
   "codemirror_mode": {
    "name": "ipython",
    "version": 3
   },
   "file_extension": ".py",
   "mimetype": "text/x-python",
   "name": "python",
   "nbconvert_exporter": "python",
   "pygments_lexer": "ipython3",
   "version": "3.11.5"
  }
 },
 "nbformat": 4,
 "nbformat_minor": 5
}
